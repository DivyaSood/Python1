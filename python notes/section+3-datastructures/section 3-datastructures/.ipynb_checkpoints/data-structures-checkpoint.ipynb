{
 "cells": [
  {
   "cell_type": "code",
   "execution_count": null,
   "metadata": {
    "collapsed": false
   },
   "outputs": [],
   "source": [
    "'''\n",
    "Data Structures\n",
    "\n",
    "1. List\n",
    "2. Dictionary\n",
    "3. tuples\n",
    "4. sets\n",
    "5. strings\n",
    "6. slicing lists and tuples\n",
    "7. List comprehension\n",
    "https://docs.python.org/2/tutorial/datastructures.html\n",
    "'''    \n"
   ]
  },
  {
   "cell_type": "code",
   "execution_count": 1,
   "metadata": {
    "collapsed": false
   },
   "outputs": [
    {
     "name": "stdout",
     "output_type": "stream",
     "text": [
      "[1, 2, 'CA', [3, 4]]\n"
     ]
    }
   ],
   "source": [
    "'''\n",
    "Syntax for list is n = [item1, item2, item3].  The items can be any \n",
    "Python object. The index of the list starts from zero\n",
    "'''\n",
    "mylist = [1,2,\"CA\",[3,4]]  \n",
    "# mylist is a collection of numbers, string and a list\n",
    "print mylist\n"
   ]
  },
  {
   "cell_type": "code",
   "execution_count": 2,
   "metadata": {
    "collapsed": false
   },
   "outputs": [
    {
     "name": "stdout",
     "output_type": "stream",
     "text": [
      "1\n"
     ]
    }
   ],
   "source": [
    "print mylist[0] # this returns the first element in mylist\n"
   ]
  },
  {
   "cell_type": "code",
   "execution_count": 3,
   "metadata": {
    "collapsed": false
   },
   "outputs": [
    {
     "name": "stdout",
     "output_type": "stream",
     "text": [
      "CA\n",
      "[3, 4]\n"
     ]
    }
   ],
   "source": [
    "print mylist[-2] # this returns the last but one element in mylist\n",
    "print mylist[-1]#this return the last element in my list"
   ]
  },
  {
   "cell_type": "code",
   "execution_count": 4,
   "metadata": {
    "collapsed": false
   },
   "outputs": [
    {
     "name": "stdout",
     "output_type": "stream",
     "text": [
      "[3, 4]\n",
      "3\n",
      "3\n",
      "3\n",
      "3\n"
     ]
    }
   ],
   "source": [
    "print mylist[-1]\n",
    "print mylist[-1][-2]\n",
    "print mylist[-1][0]\n",
    "print mylist[3][0]\n",
    "print mylist[3][-2]\n"
   ]
  },
  {
   "cell_type": "code",
   "execution_count": 5,
   "metadata": {
    "collapsed": false
   },
   "outputs": [
    {
     "name": "stdout",
     "output_type": "stream",
     "text": [
      "[1, 2]\n"
     ]
    }
   ],
   "source": [
    "# mylist[a:b] will return elements with index starting from a up to b-1. \n",
    "# This process is called Slicing\n",
    "c= mylist[0:2]\n",
    "print c\n"
   ]
  },
  {
   "cell_type": "code",
   "execution_count": 6,
   "metadata": {
    "collapsed": false
   },
   "outputs": [
    {
     "name": "stdout",
     "output_type": "stream",
     "text": [
      "4\n"
     ]
    }
   ],
   "source": [
    "print mylist[-1][1] #this is used to get elements from a list of list\n"
   ]
  },
  {
   "cell_type": "code",
   "execution_count": 7,
   "metadata": {
    "collapsed": false
   },
   "outputs": [
    {
     "name": "stdout",
     "output_type": "stream",
     "text": [
      "[1, 2, 'CA', [3, 4], 3.14]\n"
     ]
    }
   ],
   "source": [
    "# append will add a value to the end of the list\n",
    "mylist.append(3.14) \n",
    "print mylist\n"
   ]
  },
  {
   "cell_type": "code",
   "execution_count": 5,
   "metadata": {
    "collapsed": false
   },
   "outputs": [
    {
     "ename": "NameError",
     "evalue": "name 'mylist' is not defined",
     "output_type": "error",
     "traceback": [
      "\u001b[1;31m---------------------------------------------------------------------------\u001b[0m",
      "\u001b[1;31mNameError\u001b[0m                                 Traceback (most recent call last)",
      "\u001b[1;32m<ipython-input-5-4b5c1e0cd932>\u001b[0m in \u001b[0;36m<module>\u001b[1;34m()\u001b[0m\n\u001b[0;32m      1\u001b[0m \u001b[1;31m# Pop removes an element at the given index\u001b[0m\u001b[1;33m\u001b[0m\u001b[1;33m\u001b[0m\u001b[0m\n\u001b[1;32m----> 2\u001b[1;33m \u001b[0md\u001b[0m \u001b[1;33m=\u001b[0m \u001b[0mmylist\u001b[0m\u001b[1;33m.\u001b[0m\u001b[0mpop\u001b[0m\u001b[1;33m(\u001b[0m\u001b[1;36m2\u001b[0m\u001b[1;33m)\u001b[0m\u001b[1;33m\u001b[0m\u001b[0m\n\u001b[0m\u001b[0;32m      3\u001b[0m \u001b[1;32mprint\u001b[0m \u001b[0md\u001b[0m\u001b[1;33m\u001b[0m\u001b[0m\n\u001b[0;32m      4\u001b[0m \u001b[1;33m\u001b[0m\u001b[0m\n\u001b[0;32m      5\u001b[0m \u001b[1;32mprint\u001b[0m \u001b[0mmylist\u001b[0m\u001b[1;33m[\u001b[0m\u001b[1;36m2\u001b[0m\u001b[1;33m]\u001b[0m\u001b[1;33m.\u001b[0m\u001b[0mpop\u001b[0m\u001b[1;33m(\u001b[0m\u001b[1;36m2\u001b[0m\u001b[1;33m)\u001b[0m\u001b[1;33m\u001b[0m\u001b[0m\n",
      "\u001b[1;31mNameError\u001b[0m: name 'mylist' is not defined"
     ]
    }
   ],
   "source": [
    "# Pop removes an element at the given index\n",
    "d = mylist.pop(2)\n",
    "print d\n",
    "\n",
    "print mylist[2].pop(2)\n",
    "print mylist"
   ]
  },
  {
   "cell_type": "code",
   "execution_count": 10,
   "metadata": {
    "collapsed": false
   },
   "outputs": [
    {
     "name": "stdout",
     "output_type": "stream",
     "text": [
      "[1, 2, 'MN', 3.14]\n"
     ]
    }
   ],
   "source": [
    "# Insert adds an element at the given index\n",
    "mylist.insert(2,\"MN\")\n",
    "print mylist\n"
   ]
  },
  {
   "cell_type": "code",
   "execution_count": 11,
   "metadata": {
    "collapsed": false
   },
   "outputs": [
    {
     "name": "stdout",
     "output_type": "stream",
     "text": [
      "2\n"
     ]
    }
   ],
   "source": [
    "print mylist[1]\n"
   ]
  },
  {
   "cell_type": "code",
   "execution_count": 13,
   "metadata": {
    "collapsed": false
   },
   "outputs": [
    {
     "name": "stdout",
     "output_type": "stream",
     "text": [
      "[1, 2, 2.4, 5, '0', '3', '3a', 'c', 'couple']\n",
      "[1, 2, 2.4, 5, '0', '3', '3a', 'c', 'couple']\n"
     ]
    }
   ],
   "source": [
    "mylist = ['couple','3','3a',1,5,2,2.4,'c','0'] # note '3' is a string\n",
    "mylist.sort()#sort()is an inline function that works on mylist and\n",
    "#assignment and sort can't be done in a single\n",
    "a= mylist\n",
    "# print a, mylist\n",
    "print a \n",
    "print mylist \n"
   ]
  },
  {
   "cell_type": "code",
   "execution_count": 14,
   "metadata": {
    "collapsed": false
   },
   "outputs": [
    {
     "name": "stdout",
     "output_type": "stream",
     "text": [
      "['couple', 'c', '3a', '3', '0', 5, 2.4, 2, 1]\n"
     ]
    }
   ],
   "source": [
    "'''\n",
    "sort() function will sort the list in ascending order. \n",
    "If reverse = True is specified then it will sort the list on \n",
    "descending order\n",
    "'''\n",
    "mylist.sort(reverse=True)\n",
    "print mylist\n"
   ]
  },
  {
   "cell_type": "code",
   "execution_count": 15,
   "metadata": {
    "collapsed": false
   },
   "outputs": [
    {
     "name": "stdout",
     "output_type": "stream",
     "text": [
      "[[5, 2], [10, 3]]\n"
     ]
    }
   ],
   "source": [
    "'''\n",
    "for list of lists, sort command sorts the lists with respect to the first \n",
    "element in the lists\n",
    "'''\n",
    "a = [[10,3],[5,2]]#it will not do inner sorting\n",
    "a.sort()\n",
    "print a\n"
   ]
  },
  {
   "cell_type": "code",
   "execution_count": 16,
   "metadata": {
    "collapsed": false
   },
   "outputs": [
    {
     "name": "stdout",
     "output_type": "stream",
     "text": [
      "['abate', 'aplle']\n"
     ]
    }
   ],
   "source": [
    "a = ['aplle', 'abate']#it will not do inner sorting\n",
    "a.sort()\n",
    "print a\n"
   ]
  },
  {
   "cell_type": "code",
   "execution_count": 17,
   "metadata": {
    "collapsed": false
   },
   "outputs": [
    {
     "name": "stdout",
     "output_type": "stream",
     "text": [
      "[['dog', 'cat'], ['q', 'a']]\n"
     ]
    }
   ],
   "source": [
    "b = [['q', 'a'], ['dog','cat']]\n",
    "b.sort()\n",
    "print b\n"
   ]
  },
  {
   "cell_type": "code",
   "execution_count": 4,
   "metadata": {
    "collapsed": false
   },
   "outputs": [
    {
     "name": "stdout",
     "output_type": "stream",
     "text": [
      "[2, 3, 2, 5, 6, 6, 6]\n",
      "['apple', 'cat', 'cat', 'sat']\n"
     ]
    },
    {
     "data": {
      "text/plain": [
       "'\\ncount will return the frequency of occurance of a particular value \\nin the list\\n'"
      ]
     },
     "execution_count": 4,
     "metadata": {},
     "output_type": "execute_result"
    }
   ],
   "source": [
    "mylist = [2,3,2,5,6,6,6]\n",
    "mylist.count(3) \n",
    "m = ['apple', 'cat', 'cat', 'sat']\n",
    "m.count('cat')\n",
    "print mylist\n",
    "print m\n",
    "\n",
    "'''\n",
    "count will return the frequency of occurance of a particular value \n",
    "in the list\n",
    "'''\n"
   ]
  },
  {
   "cell_type": "code",
   "execution_count": null,
   "metadata": {
    "collapsed": true
   },
   "outputs": [],
   "source": [
    "'''\n",
    "In-class activity if list1 =[9,8,7,4]\n",
    "1)insert 3 at the index 2\n",
    "2)pop the number 7\n",
    "3)append 'Python and 2.7 and your first name at the end of the list as separate \n",
    "elements\n",
    "4)sort the list\n",
    "after every operation print the list\n",
    "'''"
   ]
  },
  {
   "cell_type": "code",
   "execution_count": 24,
   "metadata": {
    "collapsed": false
   },
   "outputs": [
    {
     "name": "stdout",
     "output_type": "stream",
     "text": [
      "[9, 8, 3, 7, 4]\n"
     ]
    }
   ],
   "source": [
    "mylist =[9,8,7,4]\n",
    "mylist.insert(2,3)\n",
    "print mylist\n"
   ]
  },
  {
   "cell_type": "code",
   "execution_count": 25,
   "metadata": {
    "collapsed": false
   },
   "outputs": [
    {
     "name": "stdout",
     "output_type": "stream",
     "text": [
      "4\n",
      "[9, 8, 7]\n"
     ]
    }
   ],
   "source": [
    "mylist =[9,8,7,4]\n",
    "print mylist.pop(3)\n",
    "print mylist"
   ]
  },
  {
   "cell_type": "code",
   "execution_count": 27,
   "metadata": {
    "collapsed": false
   },
   "outputs": [
    {
     "name": "stdout",
     "output_type": "stream",
     "text": [
      "[9, 8, 7, 4, 'python', '2.7', 'divya']\n"
     ]
    }
   ],
   "source": [
    "mylist =[9,8,7,4]\n",
    "mylist.append('python')\n",
    "\n",
    "mylist.append('2.7')\n",
    "\n",
    "mylist.append('divya')\n",
    "print mylist"
   ]
  },
  {
   "cell_type": "code",
   "execution_count": 30,
   "metadata": {
    "collapsed": false
   },
   "outputs": [
    {
     "name": "stdout",
     "output_type": "stream",
     "text": [
      "[4, 7, 8, 9]\n"
     ]
    }
   ],
   "source": [
    "mylist =[9,8,7,4]\n",
    "mylist.sort()\n",
    "print mylist\n"
   ]
  },
  {
   "cell_type": "code",
   "execution_count": 29,
   "metadata": {
    "collapsed": false
   },
   "outputs": [
    {
     "name": "stdout",
     "output_type": "stream",
     "text": [
      "set([8, 9, 4, 7]) <type 'set'>\n",
      "[8, 9, 4, 7]\n"
     ]
    }
   ],
   "source": [
    "newlist = set(mylist)\n",
    "print newlist, type(newlist)\n",
    "newlist = list(set(mylist))\n",
    "print newlist\n"
   ]
  },
  {
   "cell_type": "code",
   "execution_count": 31,
   "metadata": {
    "collapsed": false
   },
   "outputs": [
    {
     "name": "stdout",
     "output_type": "stream",
     "text": [
      "[1, 2, 3, 4, 5, 6]\n"
     ]
    }
   ],
   "source": [
    "# EXTEND METHOD\n",
    "mylist = [1,2,3]\n",
    "newl = [4,5,6]\n",
    "#mylist.append(newl)\n",
    "mylist.extend(newl)\n",
    "print mylist\n"
   ]
  },
  {
   "cell_type": "code",
   "execution_count": 32,
   "metadata": {
    "collapsed": false
   },
   "outputs": [
    {
     "name": "stdout",
     "output_type": "stream",
     "text": [
      "[1, 2, 3, 4, 5, 6]\n",
      "[1, 2, 3, 4, 5, 6]\n"
     ]
    }
   ],
   "source": [
    "mylist = [1,2,3]\n",
    "bylist = mylist\n",
    "mylist.extend([4,5,6])\n",
    "print mylist\n",
    "print bylist\n",
    "#print \"mylist extend\",mylist_copy1\n",
    "#print mylist,len(mylist)\n"
   ]
  },
  {
   "cell_type": "code",
   "execution_count": 33,
   "metadata": {
    "collapsed": false
   },
   "outputs": [
    {
     "name": "stdout",
     "output_type": "stream",
     "text": [
      "[1, 2, 3]\n",
      "[1, 2, 3]\n",
      "[1, 2, 3, [4, 5, 6]] 4\n",
      "[1, 2, 3, [4, 5, 6]] 4\n"
     ]
    }
   ],
   "source": [
    "mylist = [1,2,3]\n",
    "mylist_copy = mylist\n",
    "print mylist\n",
    "print mylist_copy\n",
    "mylist_copy.append([4,5,6])\n",
    "#print \"mylist append\",mylist_copy\n",
    "print mylist,len(mylist)\n",
    "print mylist_copy,len(mylist_copy)\n",
    "# len(object) will return the number of items of an object\n"
   ]
  },
  {
   "cell_type": "code",
   "execution_count": null,
   "metadata": {
    "collapsed": false
   },
   "outputs": [],
   "source": [
    "'''\n",
    "Note 1: mylist.append([4,5,6]) will add this list to the end of mylist. \n",
    "Whereas mylist.extend([4,5,6]) will add values 4, 5 and 6 to mylist.\n",
    "\n",
    "Note 2: mylist_copy1 is a copy of mylist. Any changes to mylist_copy1 \n",
    "will also affect mylist because the copy we made is a shallow copy.\n",
    "'''\n"
   ]
  },
  {
   "cell_type": "code",
   "execution_count": 34,
   "metadata": {
    "collapsed": false
   },
   "outputs": [
    {
     "name": "stdout",
     "output_type": "stream",
     "text": [
      "[3, 5, 9]\n",
      "[5, 9, 3, [11, 2, 3]]\n"
     ]
    }
   ],
   "source": [
    "#### DEEP COPY\n",
    "mylist = [5,9,3]\n",
    "mylist_copy2 = mylist[:]#deep copy of my list\n",
    "mylist_copy2.append([11,2,3])\n",
    "mylist.sort()\n",
    "#mylist_copy2.sort()\n",
    "print mylist\n",
    "print mylist_copy2\n",
    "#print \"mylist append\", mylist_copy2\n",
    "#print mylist, len(mylist)\n"
   ]
  },
  {
   "cell_type": "code",
   "execution_count": null,
   "metadata": {
    "collapsed": false
   },
   "outputs": [],
   "source": [
    "'''\n",
    "Note: mylist_copy2 is a deep copy of mylist so any changes to mylist_copy2 \n",
    "will not affect mylist and vice versa.\n",
    "'''\n"
   ]
  },
  {
   "cell_type": "code",
   "execution_count": null,
   "metadata": {
    "collapsed": true
   },
   "outputs": [],
   "source": [
    "'''\n",
    "In-class activity:\n",
    "if lista =['apricot','jam']\n",
    "use extend function to add 'jelly' to lista\n",
    "'''"
   ]
  },
  {
   "cell_type": "code",
   "execution_count": 39,
   "metadata": {
    "collapsed": false
   },
   "outputs": [
    {
     "name": "stdout",
     "output_type": "stream",
     "text": [
      "['apricot', 'jam', 'jelly']\n"
     ]
    }
   ],
   "source": [
    "lista = ['apricot','jam']\n",
    "newa = ['jelly']\n",
    "lista.extend(newa)\n",
    "print lista\n"
   ]
  },
  {
   "cell_type": "raw",
   "metadata": {},
   "source": [
    "# filter(), map(), and reduce()"
   ]
  },
  {
   "cell_type": "code",
   "execution_count": 17,
   "metadata": {
    "collapsed": false
   },
   "outputs": [
    {
     "name": "stdout",
     "output_type": "stream",
     "text": [
      "3\n",
      "5\n",
      "7\n",
      "9\n"
     ]
    }
   ],
   "source": [
    "for i in range(2,10):\n",
    "    if i%2!=0:\n",
    "        print i"
   ]
  },
  {
   "cell_type": "code",
   "execution_count": 16,
   "metadata": {
    "collapsed": false
   },
   "outputs": [
    {
     "name": "stdout",
     "output_type": "stream",
     "text": [
      "[2, 3, 4, 5, 6, 7, 8, 9]\n",
      "[3, 5, 7, 9]\n"
     ]
    }
   ],
   "source": [
    "# Get all odd numbers between 2 and 10\n",
    "a = range(2,10)\n",
    "print a\n",
    "\n",
    "def f(x): \n",
    "    return x % 2 != 0\n",
    "\n",
    "b = filter(f, a) \n",
    "'''\n",
    "filter command takes two inputs one is a function and other one is \n",
    "iterable filter returns a list of values that satisfies the condition, \n",
    "in this case it returns all the values between 2 and 9 that \n",
    "are NOT divisible by 2. \n",
    "'''\n",
    "print b"
   ]
  },
  {
   "cell_type": "code",
   "execution_count": 20,
   "metadata": {
    "collapsed": false
   },
   "outputs": [
    {
     "name": "stdout",
     "output_type": "stream",
     "text": [
      "[0, 1, 2, 3, 4, 5, 6, 7, 8, 9, 10, 11, 12, 13, 14, 15, 16, 17, 18, 19, 20, 21, 22, 23, 24, 25, 26, 27, 28, 29, 30, 31, 32, 33, 34, 35, 36, 37, 38, 39, 40, 41, 42, 43, 44, 45, 46, 47, 48, 49, 50, 51, 52, 53, 54, 55, 56, 57, 58, 59, 60, 61, 62, 63, 64, 65, 66, 67, 68, 69, 70, 71, 72, 73, 74, 75, 76, 77, 78, 79, 80, 81, 82, 83, 84, 85, 86, 87, 88, 89, 90, 91, 92, 93, 94, 95, 96, 97, 98, 99]\n",
      "[0, 15, 30, 45, 60, 75, 90]\n"
     ]
    }
   ],
   "source": [
    "a= range(0,100)\n",
    "print a\n",
    "def f(x):\n",
    "    return x%3==0 and x%5==0\n",
    "b=filter(f,a)\n",
    "print b"
   ]
  },
  {
   "cell_type": "code",
   "execution_count": 21,
   "metadata": {
    "collapsed": false
   },
   "outputs": [
    {
     "name": "stdout",
     "output_type": "stream",
     "text": [
      "[3, 5, 7, 9]\n"
     ]
    }
   ],
   "source": [
    "# Get all odd numbers between 2 and 10 using LAMBDA FUNCTIONS\n",
    "a = range(2,10)\n",
    "b = filter(lambda x:x%2!=0, a) \n",
    "'''\n",
    "We replaced the function f with a lambda function \n",
    "(also known as anonymous function). The lambda function needs to \n",
    "be read as follows. The x to the left of the : is the argument to \n",
    "the function. The expression x%2!=0 to the right of : is the \n",
    "operation being performed inside the function and also the value \n",
    "being returned by the function.\n",
    "'''\n",
    "print b"
   ]
  },
  {
   "cell_type": "code",
   "execution_count": 22,
   "metadata": {
    "collapsed": false
   },
   "outputs": [
    {
     "name": "stdout",
     "output_type": "stream",
     "text": [
      "[1, 4, 9, 16]\n"
     ]
    },
    {
     "data": {
      "text/plain": [
       "'\\nmap command takes a function and iterable(s). In this case one input is \\nthe function and other input is the values. Map returns a list which is the \\noutput of the function. In this case it returns the squares of the values \\nfrom 1 to 4. Map takes a set of values and returns another set of values \\nbased on the function.\\n'"
      ]
     },
     "execution_count": 22,
     "metadata": {},
     "output_type": "execute_result"
    }
   ],
   "source": [
    "def squared(x): \n",
    "    return x*x\n",
    "\n",
    "print map(squared, range(1, 5)) \n",
    "'''\n",
    "map command takes a function and iterable(s). In this case one input is \n",
    "the function and other input is the values. Map returns a list which is the \n",
    "output of the function. In this case it returns the squares of the values \n",
    "from 1 to 4. Map takes a set of values and returns another set of values \n",
    "based on the function.\n",
    "'''"
   ]
  },
  {
   "cell_type": "code",
   "execution_count": 23,
   "metadata": {
    "collapsed": false
   },
   "outputs": [
    {
     "name": "stdout",
     "output_type": "stream",
     "text": [
      "[1, 4, 9, 16]\n"
     ]
    }
   ],
   "source": [
    "'''\n",
    "LAMBDA function - anonymous functions\n",
    "lambda (input1, input2) : output\n",
    "An equivalent function is the squared function list above\n",
    "'''\n",
    "print map(lambda x:x*x, range(1, 5)) "
   ]
  },
  {
   "cell_type": "code",
   "execution_count": 1,
   "metadata": {
    "collapsed": false
   },
   "outputs": [
    {
     "name": "stdout",
     "output_type": "stream",
     "text": [
      "[1, 4, 9, 16]\n"
     ]
    }
   ],
   "source": [
    "# You can also give a name to the lambda function\n",
    "lambdasq = lambda x:x*x\n",
    "print map(lambdasq, range(1, 5)) "
   ]
  },
  {
   "cell_type": "code",
   "execution_count": 24,
   "metadata": {
    "collapsed": false
   },
   "outputs": [
    {
     "name": "stdout",
     "output_type": "stream",
     "text": [
      "[5, 7, 9]\n"
     ]
    }
   ],
   "source": [
    "a = [1,2,3]\n",
    "b = [4,5,6]\n",
    "def add(a1, b1): \n",
    "    return a1+b1\n",
    "print map(add,a,b)\n",
    "# here map takes two lists and adds them"
   ]
  },
  {
   "cell_type": "code",
   "execution_count": 4,
   "metadata": {
    "collapsed": false
   },
   "outputs": [
    {
     "name": "stdout",
     "output_type": "stream",
     "text": [
      "8\n"
     ]
    }
   ],
   "source": [
    "# Reduce operation is used to shrink an iterable to a single value\n",
    "# Find the sum of all elements in a list\n",
    "a = [1,2,5]\n",
    "print reduce(lambda x,y: x+y, a)"
   ]
  },
  {
   "cell_type": "code",
   "execution_count": 6,
   "metadata": {
    "collapsed": false
   },
   "outputs": [
    {
     "name": "stdout",
     "output_type": "stream",
     "text": [
      "10\n"
     ]
    }
   ],
   "source": [
    "a = [1,2,5]\n",
    "print reduce(lambda x,y: x*y , a)"
   ]
  },
  {
   "cell_type": "code",
   "execution_count": null,
   "metadata": {
    "collapsed": false
   },
   "outputs": [],
   "source": [
    "## LIST COMPREHENSION #improve to speed of the programme"
   ]
  },
  {
   "cell_type": "code",
   "execution_count": 2,
   "metadata": {
    "collapsed": false
   },
   "outputs": [
    {
     "name": "stdout",
     "output_type": "stream",
     "text": [
      "[0, 1, 4, 9, 16, 25, 36, 49, 64, 81]\n"
     ]
    }
   ],
   "source": [
    "# traditional method\n",
    "squares = []\n",
    "for x in range(10):\n",
    "    squares.append(x**2)\n",
    "print squares"
   ]
  },
  {
   "cell_type": "code",
   "execution_count": 8,
   "metadata": {
    "collapsed": false
   },
   "outputs": [
    {
     "name": "stdout",
     "output_type": "stream",
     "text": [
      "[0, 1, 4, 9, 16, 25, 36, 49, 64, 81]\n"
     ]
    }
   ],
   "source": [
    "# smart method using list comprehension #important use this list comprehensive when it is asked to use it.\n",
    "squares = [x**2 for x in range(10)]\n",
    "print squares"
   ]
  },
  {
   "cell_type": "code",
   "execution_count": 15,
   "metadata": {
    "collapsed": false
   },
   "outputs": [
    {
     "name": "stdout",
     "output_type": "stream",
     "text": [
      "[0, 15, 30, 45, 60, 75, 90]\n"
     ]
    }
   ],
   "source": [
    "multiples = [i for i in range(99)if i%3==0 and i% 5==0]\n",
    "print multiples"
   ]
  },
  {
   "cell_type": "code",
   "execution_count": 11,
   "metadata": {
    "collapsed": false
   },
   "outputs": [
    {
     "name": "stdout",
     "output_type": "stream",
     "text": [
      "[(2, 1), (3, 1), (4, 3), (4, 1)]\n"
     ]
    },
    {
     "data": {
      "text/plain": [
       "'\\n(2,1),(3,1),(4,3),(4,1)\\n\\n'"
      ]
     },
     "execution_count": 11,
     "metadata": {},
     "output_type": "execute_result"
    }
   ],
   "source": [
    "# an elaborate example of list comprehension which combines two lists and \n",
    "# returns a list of tuples\n",
    "combined = [(x, y) for x in [1,2,3,4] for y in [3,1,4] if x != y and x>y]\n",
    "print combined\n",
    "\n",
    "'''\n",
    "(2,1),(3,1),(4,3),(4,1)\n",
    "\n",
    "'''"
   ]
  },
  {
   "cell_type": "code",
   "execution_count": null,
   "metadata": {
    "collapsed": false
   },
   "outputs": [],
   "source": [
    "'''\n",
    "Tuple is a collection of immutable Python elements. That means we cannot \n",
    "delete, add or modify elements in a tuple. The syntax for a tuple is \n",
    "a = (item1,item2,item3,).  \n",
    "'''"
   ]
  },
  {
   "cell_type": "code",
   "execution_count": 11,
   "metadata": {
    "collapsed": false
   },
   "outputs": [
    {
     "name": "stdout",
     "output_type": "stream",
     "text": [
      "(1, 2, 'String')\n"
     ]
    }
   ],
   "source": [
    "T1 = 1,2,'String'\n",
    "# Here Python will automatically assumes T1 is a tuple\n",
    "print T1 "
   ]
  },
  {
   "cell_type": "code",
   "execution_count": 12,
   "metadata": {
    "collapsed": false
   },
   "outputs": [
    {
     "name": "stdout",
     "output_type": "stream",
     "text": [
      "()\n"
     ]
    }
   ],
   "source": [
    "emptyTuple = ()\n",
    "print emptyTuple"
   ]
  },
  {
   "cell_type": "code",
   "execution_count": 13,
   "metadata": {
    "collapsed": false
   },
   "outputs": [
    {
     "name": "stdout",
     "output_type": "stream",
     "text": [
      "(1,) <type 'tuple'>\n"
     ]
    }
   ],
   "source": [
    "T2 = (1,)\n",
    "# without the comma, T2 will be of type integer and not tuple\n",
    "print T2,type(T2)"
   ]
  },
  {
   "cell_type": "code",
   "execution_count": 14,
   "metadata": {
    "collapsed": false
   },
   "outputs": [
    {
     "ename": "TypeError",
     "evalue": "can only concatenate tuple (not \"int\") to tuple",
     "output_type": "error",
     "traceback": [
      "\u001b[1;31m---------------------------------------------------------------------------\u001b[0m",
      "\u001b[1;31mTypeError\u001b[0m                                 Traceback (most recent call last)",
      "\u001b[1;32m<ipython-input-14-a5e1b7b39f47>\u001b[0m in \u001b[0;36m<module>\u001b[1;34m()\u001b[0m\n\u001b[1;32m----> 1\u001b[1;33m \u001b[0mT2\u001b[0m \u001b[1;33m=\u001b[0m \u001b[0mT2\u001b[0m\u001b[1;33m+\u001b[0m\u001b[1;36m1\u001b[0m \u001b[1;31m# Not allowed, as tuple cannot be modified\u001b[0m\u001b[1;33m\u001b[0m\u001b[0m\n\u001b[0m\u001b[0;32m      2\u001b[0m \u001b[1;32mprint\u001b[0m \u001b[0mT2\u001b[0m\u001b[1;33m,\u001b[0m\u001b[0mtype\u001b[0m\u001b[1;33m(\u001b[0m\u001b[0mT2\u001b[0m\u001b[1;33m)\u001b[0m\u001b[1;33m\u001b[0m\u001b[0m\n",
      "\u001b[1;31mTypeError\u001b[0m: can only concatenate tuple (not \"int\") to tuple"
     ]
    }
   ],
   "source": [
    "T2 = T2+1 # Not allowed, as tuple cannot be modified\n",
    "print T2,type(T2)"
   ]
  },
  {
   "cell_type": "code",
   "execution_count": 15,
   "metadata": {
    "collapsed": false
   },
   "outputs": [
    {
     "name": "stdout",
     "output_type": "stream",
     "text": [
      "((1, 2, 'String'), (1,))\n",
      "(1, 2, 'String')\n",
      "2\n"
     ]
    }
   ],
   "source": [
    "T3 = T1,T2 # T3 is a tuple of tuples\n",
    "print T3\n",
    "print T3[0]\n",
    "print T3[0][1] \n",
    "# 0 index indicates the first tuple and 1 index indicates the \n",
    "# second element in the first tuple"
   ]
  },
  {
   "cell_type": "code",
   "execution_count": 16,
   "metadata": {
    "collapsed": false
   },
   "outputs": [
    {
     "ename": "TypeError",
     "evalue": "'tuple' object does not support item assignment",
     "output_type": "error",
     "traceback": [
      "\u001b[1;31m---------------------------------------------------------------------------\u001b[0m",
      "\u001b[1;31mTypeError\u001b[0m                                 Traceback (most recent call last)",
      "\u001b[1;32m<ipython-input-16-743d8e7d66b8>\u001b[0m in \u001b[0;36m<module>\u001b[1;34m()\u001b[0m\n\u001b[1;32m----> 1\u001b[1;33m \u001b[0mT3\u001b[0m\u001b[1;33m[\u001b[0m\u001b[1;36m0\u001b[0m\u001b[1;33m]\u001b[0m\u001b[1;33m[\u001b[0m\u001b[1;36m0\u001b[0m\u001b[1;33m]\u001b[0m\u001b[1;33m=\u001b[0m\u001b[1;36m2\u001b[0m \u001b[1;31m# New values cannot be assigned\u001b[0m\u001b[1;33m\u001b[0m\u001b[0m\n\u001b[0m",
      "\u001b[1;31mTypeError\u001b[0m: 'tuple' object does not support item assignment"
     ]
    }
   ],
   "source": [
    "T3[0][0]=2 # New values cannot be assigned"
   ]
  },
  {
   "cell_type": "code",
   "execution_count": 17,
   "metadata": {
    "collapsed": false
   },
   "outputs": [
    {
     "name": "stdout",
     "output_type": "stream",
     "text": [
      "[1, 4, 9]\n"
     ]
    }
   ],
   "source": [
    "t  = (1,2,3)\n",
    "def squared(x): \n",
    "    return x*x\n",
    "print map(squared, t) \n",
    "# map operation on a tuple. This returns a list. Note map function always \n",
    "# returns a list, even if the input is not a list. "
   ]
  },
  {
   "cell_type": "code",
   "execution_count": 24,
   "metadata": {
    "collapsed": false
   },
   "outputs": [
    {
     "name": "stdout",
     "output_type": "stream",
     "text": [
      "(1, 2, 3) <type 'tuple'>\n",
      "[1, 2, 3] <type 'tuple'>\n",
      "(1, 2, 3) <type 'tuple'>\n"
     ]
    }
   ],
   "source": [
    "t  = (1,2,3)\n",
    "print t,type(t)\n",
    "\n",
    "l = list(t)\n",
    "print l,type(t)\n",
    "\n",
    "t2 = tuple(l)\n",
    "print t2, type(t2)\n"
   ]
  },
  {
   "cell_type": "code",
   "execution_count": 25,
   "metadata": {
    "collapsed": false
   },
   "outputs": [
    {
     "name": "stdout",
     "output_type": "stream",
     "text": [
      "()\n"
     ]
    }
   ],
   "source": [
    "B = (1,) # B is a tuple with one element\n",
    "B = (1,2,) # a new tuple named B is created which has two elements\n",
    "B = () # a new tuple named B is created with no elements\n",
    "print B"
   ]
  },
  {
   "cell_type": "code",
   "execution_count": 26,
   "metadata": {
    "collapsed": false
   },
   "outputs": [
    {
     "name": "stdout",
     "output_type": "stream",
     "text": [
      "(2, 4, 5, 8, 10, 11, 'CA', 'MN', 'TX')\n"
     ]
    }
   ],
   "source": [
    "A = (2,4,5,8,10,11)\n",
    "B = ('CA', 'MN', 'TX')\n",
    "C = A + B # + operation concatenates the tuples\n",
    "print C"
   ]
  },
  {
   "cell_type": "code",
   "execution_count": 27,
   "metadata": {
    "collapsed": false
   },
   "outputs": [
    {
     "name": "stdout",
     "output_type": "stream",
     "text": [
      "6\n",
      "TX\n",
      "CA\n"
     ]
    }
   ],
   "source": [
    "# Basic tuple operations\n",
    "print len(A) \n",
    "print max(B)\n",
    "print min(B)"
   ]
  },
  {
   "cell_type": "code",
   "execution_count": 28,
   "metadata": {
    "collapsed": false
   },
   "outputs": [
    {
     "name": "stdout",
     "output_type": "stream",
     "text": [
      "('Hello', 'Hello', 'Hello', 'Hello')\n"
     ]
    }
   ],
   "source": [
    "# Basic tuple operations\n",
    "H = ('Hello',)\n",
    "print H*4 # * means repetition"
   ]
  },
  {
   "cell_type": "code",
   "execution_count": null,
   "metadata": {
    "collapsed": false
   },
   "outputs": [],
   "source": [
    "'''\n",
    "Inclass activity: Consider the tuple t1 = (2,4,8). \n",
    "1. Try to modify the first element of the tuple to 5. \n",
    "2. Convert the tuple into a list and append the number 5 to the list\n",
    "3. Use extend to add [1,4,5] to the list\n",
    "4. Pop the third item from the list and then print the list.\n",
    "5. Convert it back into a tuple. \n",
    "'''"
   ]
  },
  {
   "cell_type": "code",
   "execution_count": 32,
   "metadata": {
    "collapsed": false
   },
   "outputs": [
    {
     "name": "stdout",
     "output_type": "stream",
     "text": [
      "[5, 4, 8]\n"
     ]
    }
   ],
   "source": [
    "\n",
    "t = (2,4,8)\n",
    "lst = list(t)\n",
    "lst[0] = 5\n",
    "t = tuple(lst)\n",
    "print list(t)\n",
    "\n",
    "\n"
   ]
  },
  {
   "cell_type": "code",
   "execution_count": 38,
   "metadata": {
    "collapsed": false
   },
   "outputs": [
    {
     "name": "stdout",
     "output_type": "stream",
     "text": [
      "[2, 4, 8, 1, 5, 5]\n"
     ]
    }
   ],
   "source": [
    "lista = [2,4,8]\n",
    "newa = [1,5,5]\n",
    "lista.extend(newa)\n",
    "print lista\n"
   ]
  },
  {
   "cell_type": "code",
   "execution_count": 36,
   "metadata": {
    "collapsed": false
   },
   "outputs": [
    {
     "name": "stdout",
     "output_type": "stream",
     "text": [
      "8\n",
      "[2, 4, 1, 5, 5]\n"
     ]
    }
   ],
   "source": [
    "mylist =[2,4,8,1,5,5]\n",
    "print mylist.pop(2)\n",
    "print mylist"
   ]
  },
  {
   "cell_type": "code",
   "execution_count": null,
   "metadata": {
    "collapsed": false
   },
   "outputs": [],
   "source": [
    "'''\n",
    "Another useful data type built into Python is the dictionary \n",
    "(see Mapping Types — dict). Dictionaries are sometimes found in other \n",
    "languages as “associative memories” or “associative arrays”. Unlike \n",
    "sequences, which are indexed by a range of numbers, dictionaries are \n",
    "indexed by keys, which can be any immutable type; strings and numbers can \n",
    "always be keys. Tuples can be used as keys if they contain only strings, \n",
    "numbers, or tuples; if a tuple contains any mutable object either directly \n",
    "or indirectly, it cannot be used as a key. You can’t use lists as keys, \n",
    "since lists can be modified in place using index assignments, slice \n",
    "assignments, or methods like append() and extend(). \n",
    "https://docs.python.org/2/tutorial/datastructures.html#tuples-and-sequences\n",
    "'''"
   ]
  },
  {
   "cell_type": "code",
   "execution_count": 39,
   "metadata": {
    "collapsed": false
   },
   "outputs": [
    {
     "name": "stdout",
     "output_type": "stream",
     "text": [
      "{}\n"
     ]
    }
   ],
   "source": [
    "ziploc = {}\n",
    "print ziploc"
   ]
  },
  {
   "cell_type": "code",
   "execution_count": 42,
   "metadata": {
    "collapsed": false
   },
   "outputs": [
    {
     "name": "stdout",
     "output_type": "stream",
     "text": [
      "Santa Clara\n"
     ]
    }
   ],
   "source": [
    "\n",
    "ziploc['95117'] = 'Santa Clara'\n",
    "print ziploc['95117']\n"
   ]
  },
  {
   "cell_type": "code",
   "execution_count": 43,
   "metadata": {
    "collapsed": false
   },
   "outputs": [
    {
     "name": "stdout",
     "output_type": "stream",
     "text": [
      "{'95054': 'Santa Clara', '95117': 'Santa Clara'}\n"
     ]
    }
   ],
   "source": [
    "ziploc['95054'] = 'Santa Clara'\n",
    "print ziploc"
   ]
  },
  {
   "cell_type": "code",
   "execution_count": null,
   "metadata": {
    "collapsed": true
   },
   "outputs": [],
   "source": [
    "\n",
    "'''\n",
    "In class activity create a dictionary with course no. as a key and a course tittle as a value. \n",
    "print the dictionary\n",
    "'''\n"
   ]
  },
  {
   "cell_type": "code",
   "execution_count": 57,
   "metadata": {
    "collapsed": false
   },
   "outputs": [
    {
     "name": "stdout",
     "output_type": "stream",
     "text": [
      "{3067: 'PYTHON'}\n"
     ]
    }
   ],
   "source": [
    "course= {}\n",
    "course[3067] = 'PYTHON'\n",
    "print course\n"
   ]
  },
  {
   "cell_type": "code",
   "execution_count": 62,
   "metadata": {
    "collapsed": false
   },
   "outputs": [
    {
     "name": "stdout",
     "output_type": "stream",
     "text": [
      "{'95117': 'San Jose', '95014': 'Cupertino', '94086': 'Sunnyvale'}\n",
      "['95117', '95014', '94086']\n",
      "('95117', '95014', '94086')\n",
      "['San Jose', 'Cupertino', 'Sunnyvale']\n"
     ]
    }
   ],
   "source": [
    "# syntax for a dictionary is dict = {'key1': 'value1', 'key2': 'value2'}\n",
    "# dict is a key-value pair\n",
    "ziploc = {'95117': 'San Jose','94086':'Sunnyvale','95014': 'Cupertino'}\n",
    "# in this example for key 95117, San Jose is the value, \n",
    "# for key 94086, Sunnyvale is the value\n",
    "print ziploc\n",
    "print ziploc.keys()\n",
    "print tuple(ziploc.keys())\n",
    "print ziploc.values()"
   ]
  },
  {
   "cell_type": "code",
   "execution_count": 1,
   "metadata": {
    "collapsed": false
   },
   "outputs": [
    {
     "name": "stdout",
     "output_type": "stream",
     "text": [
      "set(['turtle', 'bat', 'zebra', 'cat'])\n"
     ]
    }
   ],
   "source": [
    "mylist = {'bat', 'cat', 'bat', 'zebra', 'turtle', 'cat', 'bat', 'bat', 'zebra'}\n",
    "print mylist "
   ]
  },
  {
   "cell_type": "code",
   "execution_count": 32,
   "metadata": {
    "collapsed": false
   },
   "outputs": [
    {
     "ename": "SyntaxError",
     "evalue": "can't assign to function call (<ipython-input-32-680187ee9571>, line 4)",
     "output_type": "error",
     "traceback": [
      "\u001b[1;36m  File \u001b[1;32m\"<ipython-input-32-680187ee9571>\"\u001b[1;36m, line \u001b[1;32m4\u001b[0m\n\u001b[1;33m    dict(bat)='cat'\u001b[0m\n\u001b[1;31mSyntaxError\u001b[0m\u001b[1;31m:\u001b[0m can't assign to function call\n"
     ]
    }
   ],
   "source": [
    "mylist=['bat', 'cat', 'bat', 'zebra', 'turtle', 'cat', 'bat', 'bat', 'zebra']\n",
    "print mylist\n",
    "dict= {}\n",
    "dict(bat)='cat'\n",
    "print dict\n"
   ]
  },
  {
   "cell_type": "code",
   "execution_count": 27,
   "metadata": {
    "collapsed": false
   },
   "outputs": [
    {
     "name": "stdout",
     "output_type": "stream",
     "text": [
      "turtle"
     ]
    },
    {
     "ename": "NameError",
     "evalue": "name 'ziploc' is not defined",
     "output_type": "error",
     "traceback": [
      "\u001b[1;31m---------------------------------------------------------------------------\u001b[0m",
      "\u001b[1;31mNameError\u001b[0m                                 Traceback (most recent call last)",
      "\u001b[1;32m<ipython-input-27-6bbf4085a036>\u001b[0m in \u001b[0;36m<module>\u001b[1;34m()\u001b[0m\n\u001b[0;32m      1\u001b[0m \u001b[1;32mfor\u001b[0m \u001b[0mkeys\u001b[0m \u001b[1;32min\u001b[0m \u001b[0mmylist\u001b[0m\u001b[1;33m:\u001b[0m\u001b[1;33m\u001b[0m\u001b[0m\n\u001b[1;32m----> 2\u001b[1;33m     \u001b[1;32mprint\u001b[0m \u001b[0mkeys\u001b[0m\u001b[1;33m,\u001b[0m\u001b[0mziploc\u001b[0m\u001b[1;33m[\u001b[0m\u001b[0mkeys\u001b[0m\u001b[1;33m]\u001b[0m\u001b[1;33m\u001b[0m\u001b[0m\n\u001b[0m",
      "\u001b[1;31mNameError\u001b[0m: name 'ziploc' is not defined"
     ]
    }
   ],
   "source": [
    "for keys in mylist:  \n",
    "    print keys,ziploc[keys]"
   ]
  },
  {
   "cell_type": "code",
   "execution_count": 63,
   "metadata": {
    "collapsed": false
   },
   "outputs": [
    {
     "name": "stdout",
     "output_type": "stream",
     "text": [
      "95117 San Jose\n",
      "95014 Cupertino\n",
      "94086 Sunnyvale\n"
     ]
    }
   ],
   "source": [
    "for keys in ziploc:\n",
    "    print keys,ziploc[keys]"
   ]
  },
  {
   "cell_type": "code",
   "execution_count": 64,
   "metadata": {
    "collapsed": false
   },
   "outputs": [
    {
     "name": "stdout",
     "output_type": "stream",
     "text": [
      "95117 San Jose\n",
      "95014 Cupertino\n",
      "94086 Sunnyvale\n"
     ]
    }
   ],
   "source": [
    "for keys,value in ziploc.iteritems(): # Use .items() for version 3.0+\n",
    "    print keys,value"
   ]
  },
  {
   "cell_type": "code",
   "execution_count": 65,
   "metadata": {
    "collapsed": false
   },
   "outputs": [
    {
     "ename": "KeyError",
     "evalue": "'55421'",
     "output_type": "error",
     "traceback": [
      "\u001b[1;31m---------------------------------------------------------------------------\u001b[0m",
      "\u001b[1;31mKeyError\u001b[0m                                  Traceback (most recent call last)",
      "\u001b[1;32m<ipython-input-65-13c81c81fd2e>\u001b[0m in \u001b[0;36m<module>\u001b[1;34m()\u001b[0m\n\u001b[1;32m----> 1\u001b[1;33m \u001b[1;32mprint\u001b[0m \u001b[0mziploc\u001b[0m\u001b[1;33m[\u001b[0m\u001b[1;34m'55421'\u001b[0m\u001b[1;33m]\u001b[0m \u001b[1;31m# Not allowed, as the dictionary does not have key 55421\u001b[0m\u001b[1;33m\u001b[0m\u001b[0m\n\u001b[0m",
      "\u001b[1;31mKeyError\u001b[0m: '55421'"
     ]
    }
   ],
   "source": [
    "print ziploc['55421'] # Not allowed, as the dictionary does not have key 55421"
   ]
  },
  {
   "cell_type": "code",
   "execution_count": 67,
   "metadata": {
    "collapsed": false
   },
   "outputs": [
    {
     "name": "stdout",
     "output_type": "stream",
     "text": [
      "True\n"
     ]
    }
   ],
   "source": [
    "exists = False\n",
    "for k,v in ziploc.iteritems():\n",
    "    if k == '95117':\n",
    "        exists = True\n",
    "        break\n",
    "print exists"
   ]
  },
  {
   "cell_type": "code",
   "execution_count": 66,
   "metadata": {
    "collapsed": false
   },
   "outputs": [
    {
     "data": {
      "text/plain": [
       "False"
      ]
     },
     "execution_count": 66,
     "metadata": {},
     "output_type": "execute_result"
    }
   ],
   "source": [
    "'55421' in ziploc"
   ]
  },
  {
   "cell_type": "code",
   "execution_count": 68,
   "metadata": {
    "collapsed": false
   },
   "outputs": [
    {
     "data": {
      "text/plain": [
       "[('95117', 'San Jose'), ('95014', 'Cupertino'), ('94086', 'Sunnyvale')]"
      ]
     },
     "execution_count": 68,
     "metadata": {},
     "output_type": "execute_result"
    }
   ],
   "source": [
    "ziploc.items() # dict.items() returns a list of (key,value) tuple pairs\n"
   ]
  },
  {
   "cell_type": "code",
   "execution_count": null,
   "metadata": {
    "collapsed": false
   },
   "outputs": [],
   "source": [
    "ziploc.clear() # removes all the elements of the dictionary\n",
    "print ziploc"
   ]
  },
  {
   "cell_type": "code",
   "execution_count": 69,
   "metadata": {
    "collapsed": false
   },
   "outputs": [
    {
     "name": "stdout",
     "output_type": "stream",
     "text": [
      "{0: 0, 1: 1, 2: 4, 3: 9, 4: 16}\n"
     ]
    }
   ],
   "source": [
    "squared = {x: x**2 for x in range(5)}\n",
    "# we are using dictionary comprehension \n",
    "print squared"
   ]
  },
  {
   "cell_type": "code",
   "execution_count": 73,
   "metadata": {
    "collapsed": false
   },
   "outputs": [
    {
     "name": "stdout",
     "output_type": "stream",
     "text": [
      "1\n"
     ]
    }
   ],
   "source": [
    "mylist = [2,3,2,5,6,6,6]\n",
    "print mylist.count(3) "
   ]
  },
  {
   "cell_type": "code",
   "execution_count": 74,
   "metadata": {
    "collapsed": false
   },
   "outputs": [
    {
     "name": "stdout",
     "output_type": "stream",
     "text": [
      "{'a': 1, 'c': 1, 'b': 2, 'e': 1, 'd': 2, 'g': 2, 'f': 3}\n"
     ]
    }
   ],
   "source": [
    "d = dict(a=1, b=2, e=1, d=2, c=1, g=2, f=3)\n",
    "print d\n"
   ]
  },
  {
   "cell_type": "code",
   "execution_count": 75,
   "metadata": {
    "collapsed": false
   },
   "outputs": [
    {
     "name": "stdout",
     "output_type": "stream",
     "text": [
      "('a', 1)\n",
      "('c', 1)\n",
      "('b', 2)\n",
      "('e', 1)\n",
      "('d', 2)\n",
      "('g', 2)\n",
      "('f', 3)\n"
     ]
    }
   ],
   "source": [
    "for items in d.iteritems():\n",
    "    print items"
   ]
  },
  {
   "cell_type": "code",
   "execution_count": 71,
   "metadata": {
    "collapsed": false
   },
   "outputs": [
    {
     "name": "stdout",
     "output_type": "stream",
     "text": [
      "{1: 1, 2: 1, 4: 1, 5: 2}\n"
     ]
    }
   ],
   "source": [
    "countdict = {}\n",
    "for items in mylist:\n",
    "   #print items\n",
    "    countdict[items] = mylist.count(items)\n",
    "print countdict"
   ]
  },
  {
   "cell_type": "code",
   "execution_count": 35,
   "metadata": {
    "collapsed": false
   },
   "outputs": [
    {
     "name": "stdout",
     "output_type": "stream",
     "text": [
      "{'turtle': 1, 'bat': 4, 'zebra': 2, 'cat': 2}\n"
     ]
    }
   ],
   "source": [
    "Animals=['bat', 'cat', 'bat', 'zebra', 'turtle', 'cat', 'bat', 'bat', 'zebra']#given list\n",
    "countdict = {}\n",
    "for items in Animals:\n",
    "    countdict[items]= Animals.count(items)\n",
    "print countdict"
   ]
  },
  {
   "cell_type": "code",
   "execution_count": 76,
   "metadata": {
    "collapsed": false
   },
   "outputs": [
    {
     "name": "stdout",
     "output_type": "stream",
     "text": [
      "a 1\n",
      "c 1\n",
      "b 2\n",
      "e 1\n",
      "d 2\n",
      "g 2\n",
      "f 3\n"
     ]
    }
   ],
   "source": [
    "for i,j in d.iteritems():\n",
    "    print i,j"
   ]
  },
  {
   "cell_type": "code",
   "execution_count": null,
   "metadata": {
    "collapsed": false
   },
   "outputs": [],
   "source": [
    "'''\n",
    "Set - is a unordered collection of unique items\n",
    "'''"
   ]
  },
  {
   "cell_type": "code",
   "execution_count": 78,
   "metadata": {
    "collapsed": false
   },
   "outputs": [
    {
     "name": "stdout",
     "output_type": "stream",
     "text": [
      "['tomatoes', 'eggplant', 'cucumber', 'eggplant']\n",
      "set(['cucumber', 'eggplant', 'tomatoes'])\n"
     ]
    }
   ],
   "source": [
    "vegetables = ['tomatoes','eggplant','cucumber','eggplant'] # A list\n",
    "vegetables_set = set(vegetables)\n",
    "# set command returns only unique items\n",
    "print vegetables\n",
    "print vegetables_set"
   ]
  },
  {
   "cell_type": "code",
   "execution_count": 81,
   "metadata": {
    "collapsed": false
   },
   "outputs": [
    {
     "name": "stdout",
     "output_type": "stream",
     "text": [
      "tomatoes\n"
     ]
    }
   ],
   "source": [
    "a = list(vegetables_set)\n",
    "# vegetables_set[0] # Not allowed as set cannot be indexed. You can iterate \n",
    "# through them.\n",
    "print a[2]"
   ]
  },
  {
   "cell_type": "code",
   "execution_count": 82,
   "metadata": {
    "collapsed": false
   },
   "outputs": [
    {
     "name": "stdout",
     "output_type": "stream",
     "text": [
      "tomatoes\n",
      "eggplant\n",
      "cucumber\n",
      "eggplant\n"
     ]
    }
   ],
   "source": [
    "for items in vegetables:\n",
    "    print items "
   ]
  },
  {
   "cell_type": "code",
   "execution_count": 83,
   "metadata": {
    "collapsed": false
   },
   "outputs": [
    {
     "name": "stdout",
     "output_type": "stream",
     "text": [
      "cucumber\n",
      "eggplant\n",
      "tomatoes\n"
     ]
    }
   ],
   "source": [
    "for items in vegetables_set:\n",
    "    print items "
   ]
  },
  {
   "cell_type": "code",
   "execution_count": 84,
   "metadata": {
    "collapsed": false
   },
   "outputs": [
    {
     "name": "stdout",
     "output_type": "stream",
     "text": [
      "False\n"
     ]
    }
   ],
   "source": [
    "print 'Cucumber' in vegetables_set \n",
    "# the above statement checks whether Cucumber is in vegetables_set"
   ]
  },
  {
   "cell_type": "code",
   "execution_count": 85,
   "metadata": {
    "collapsed": false
   },
   "outputs": [
    {
     "name": "stdout",
     "output_type": "stream",
     "text": [
      "['cucumber', 'eggplant', 'tomatoes']\n"
     ]
    }
   ],
   "source": [
    "finallistofveg = list(vegetables_set)\n",
    "print finallistofveg"
   ]
  },
  {
   "cell_type": "code",
   "execution_count": 87,
   "metadata": {
    "collapsed": false
   },
   "outputs": [
    {
     "name": "stdout",
     "output_type": "stream",
     "text": [
      "<type 'list'> [1, 1, 4, 5, 7]\n",
      "[1, 4, 5, 7]\n",
      "[1, 4, 5, 7]\n"
     ]
    }
   ],
   "source": [
    "a = [1,1,4,5,7]\n",
    "print type(a), a\n",
    "b = set(a)\n",
    "c = list(b)\n",
    "print c\n",
    "\n",
    "print list(set(a))"
   ]
  },
  {
   "cell_type": "code",
   "execution_count": null,
   "metadata": {
    "collapsed": false
   },
   "outputs": [],
   "source": [
    "'''\n",
    "From https://docs.python.org/2/library/sets.html, you can obtain a list \n",
    "of all operators that can be applied to sets\n",
    "len(s): cardinality of set s\n",
    "x in s: tests x for membership in s\n",
    "x not in s: tests x for non-membership in s\n",
    "s.issubset(t): <= t: test whether every element in s is in t\n",
    "s.issuperset(t): s >= t: test whether every element in t is in s\n",
    "s.union(t): s | t : new set with elements from both s and t\n",
    "s.intersection(t): s & t : new set with elements common to s and t\n",
    "s.difference(t): s - t : new set with elements in s but not in t\n",
    "s.symmetric_difference(t) : s ^ t : new set with elements in either \n",
    "                            s or t but not both\n",
    "s.copy(): new set with a shallow copy of s\n",
    "'''"
   ]
  },
  {
   "cell_type": "code",
   "execution_count": 88,
   "metadata": {
    "collapsed": false
   },
   "outputs": [
    {
     "name": "stdout",
     "output_type": "stream",
     "text": [
      "set([1, 2, 3, 76, 45])\n",
      "set([2, 3, 45])\n",
      "set([1, 2, 3, 76, 45])\n",
      "set([2, 3, 45])\n",
      "set([1, 76])\n",
      "True\n",
      "False\n"
     ]
    }
   ],
   "source": [
    "list1 = [1,2,3,45,76]\n",
    "list2 = [2,3,45]\n",
    "set1 = set(list1)\n",
    "set2 = set(list2)\n",
    "print set1\n",
    "print set2\n",
    "\n",
    "print set1.union(set2)\n",
    "print set1.intersection(set2)\n",
    "print set1.difference(set2)\n",
    "print 1 in set1 # Check if an element exists in a set using in keyword\n",
    "print set1.issubset(set2) "
   ]
  },
  {
   "cell_type": "code",
   "execution_count": 90,
   "metadata": {
    "collapsed": false
   },
   "outputs": [
    {
     "name": "stdout",
     "output_type": "stream",
     "text": [
      "[2, 3, 2, 5, 6, 6, 6]\n",
      "2\n",
      "3\n",
      "5\n",
      "6\n",
      "{2: 2, 3: 1, 5: 1, 6: 3}\n"
     ]
    }
   ],
   "source": [
    "countdict = {}\n",
    "print mylist\n",
    "uniqlist = list(set(mylist))\n",
    "for items in uniqlist:\n",
    "    print items\n",
    "    countdict[items] = mylist.count(items)\n",
    "print countdict"
   ]
  },
  {
   "cell_type": "code",
   "execution_count": 91,
   "metadata": {
    "collapsed": false
   },
   "outputs": [
    {
     "name": "stdout",
     "output_type": "stream",
     "text": [
      "{2: 2, 3: 1, 5: 7, 6: 3}\n"
     ]
    }
   ],
   "source": [
    "countdict[5] =7\n",
    "print countdict"
   ]
  },
  {
   "cell_type": "code",
   "execution_count": null,
   "metadata": {
    "collapsed": true
   },
   "outputs": [],
   "source": [
    "countdict."
   ]
  },
  {
   "cell_type": "code",
   "execution_count": null,
   "metadata": {
    "collapsed": true
   },
   "outputs": [],
   "source": []
  }
 ],
 "metadata": {
  "kernelspec": {
   "display_name": "Python 2",
   "language": "python",
   "name": "python2"
  },
  "language_info": {
   "codemirror_mode": {
    "name": "ipython",
    "version": 2
   },
   "file_extension": ".py",
   "mimetype": "text/x-python",
   "name": "python",
   "nbconvert_exporter": "python",
   "pygments_lexer": "ipython2",
   "version": "2.7.11"
  }
 },
 "nbformat": 4,
 "nbformat_minor": 0
}
