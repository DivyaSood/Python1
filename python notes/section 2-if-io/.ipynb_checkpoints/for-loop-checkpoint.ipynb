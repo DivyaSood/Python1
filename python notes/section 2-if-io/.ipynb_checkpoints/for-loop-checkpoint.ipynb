{
 "cells": [
  {
   "cell_type": "code",
   "execution_count": null,
   "metadata": {
    "collapsed": false
   },
   "outputs": [],
   "source": [
    "'''\n",
    "Basic statements\n",
    "1. if-else\n",
    "2. while\n",
    "3. for\n",
    "4. for with range and xrange\n",
    "'''"
   ]
  },
  {
   "cell_type": "code",
   "execution_count": 3,
   "metadata": {
    "collapsed": false
   },
   "outputs": [
    {
     "name": "stdout",
     "output_type": "stream",
     "text": [
      "Please enter your choice (1 or 2): 0\n",
      "Zero\n"
     ]
    }
   ],
   "source": [
    "# Syntax of if-else\n",
    "# if statement a:\n",
    "#    execute statement(s) that are under this block\n",
    "# else:\n",
    "#    execute statement(s) that are under this block\n",
    "\n",
    "x = int(raw_input(\"Please enter your choice (1 or 2): \"))\n",
    "if x < 0:\n",
    "    print 'Negative number not allowed'\n",
    "elif x == 0:\n",
    "    print \"Zero\"\n",
    "elif x == 1:\n",
    "    print 'One'\n",
    "elif x == 2:\n",
    "    print 'Two'\n",
    "else:\n",
    "    print 'Number more than 2 is not allowed'"
   ]
  },
  {
   "cell_type": "code",
   "execution_count": null,
   "metadata": {
    "collapsed": false
   },
   "outputs": [],
   "source": [
    "'''\n",
    "Truthiness in Python\n",
    "\n",
    "https://www.udacity.com/wiki/cs258/truthiness-in-python\n",
    "\n",
    "https://docs.python.org/release/2.5.2/lib/truth.html\n",
    "\n",
    "'''"
   ]
  },
  {
   "cell_type": "code",
   "execution_count": 31,
   "metadata": {
    "collapsed": false
   },
   "outputs": [
    {
     "name": "stdout",
     "output_type": "stream",
     "text": [
      "No value\n"
     ]
    }
   ],
   "source": [
    "a = []\n",
    "if a == []:\n",
    "    print \"No value\""
   ]
  },
  {
   "cell_type": "code",
   "execution_count": 32,
   "metadata": {
    "collapsed": false
   },
   "outputs": [
    {
     "name": "stdout",
     "output_type": "stream",
     "text": [
      "No value\n"
     ]
    }
   ],
   "source": [
    "a = []\n",
    "\n",
    "if a:\n",
    "    print a[0]\n",
    "    print \"Value\"\n",
    "else:\n",
    "    print \"No value\""
   ]
  },
  {
   "cell_type": "code",
   "execution_count": 33,
   "metadata": {
    "collapsed": false
   },
   "outputs": [
    {
     "name": "stdout",
     "output_type": "stream",
     "text": [
      "has value\n"
     ]
    }
   ],
   "source": [
    "a = [1]\n",
    "if a:\n",
    "    print \"has value\"\n",
    "else:\n",
    "    print \"no value\""
   ]
  },
  {
   "cell_type": "code",
   "execution_count": 34,
   "metadata": {
    "collapsed": false
   },
   "outputs": [
    {
     "name": "stdout",
     "output_type": "stream",
     "text": [
      "No value\n"
     ]
    }
   ],
   "source": [
    "a = {}\n",
    "if a == {}:\n",
    "    print \"No value\""
   ]
  },
  {
   "cell_type": "code",
   "execution_count": 41,
   "metadata": {
    "collapsed": false
   },
   "outputs": [
    {
     "name": "stdout",
     "output_type": "stream",
     "text": [
      "False\n",
      "True\n",
      "True\n"
     ]
    }
   ],
   "source": [
    "f1 =0.0\n",
    "print bool(f1)\n",
    "f2=12.1\n",
    "print bool(f2)\n",
    "f3=-20.5\n",
    "print bool(f3)"
   ]
  },
  {
   "cell_type": "code",
   "execution_count": 4,
   "metadata": {
    "collapsed": false
   },
   "outputs": [
    {
     "name": "stdout",
     "output_type": "stream",
     "text": [
      "apple\n",
      "grapes\n",
      "peach\n"
     ]
    }
   ],
   "source": [
    "# Syntax of the for statement\n",
    "# for each_item in something:\n",
    "#     execute statement(s) that are under this block\n",
    "fruits= ['apple', 'grapes', 'peach']\n",
    "for f in fruits:\n",
    "    print f"
   ]
  },
  {
   "cell_type": "code",
   "execution_count": 1,
   "metadata": {
    "collapsed": false
   },
   "outputs": [
    {
     "name": "stdout",
     "output_type": "stream",
     "text": [
      "3\n",
      "4\n",
      "5\n"
     ]
    }
   ],
   "source": [
    "numbers=[3,4,5]\n",
    "for n in numbers:\n",
    "    print n"
   ]
  },
  {
   "cell_type": "code",
   "execution_count": 5,
   "metadata": {
    "collapsed": false
   },
   "outputs": [
    {
     "name": "stdout",
     "output_type": "stream",
     "text": [
      "[0, 1, 2, 3, 4]\n",
      "0 3\n",
      "1 4\n",
      "2 5\n"
     ]
    }
   ],
   "source": [
    "print range(5)\n",
    "for n in range(len(numbers)):\n",
    "    print n,numbers[n]"
   ]
  },
  {
   "cell_type": "code",
   "execution_count": 6,
   "metadata": {
    "collapsed": false
   },
   "outputs": [
    {
     "name": "stdout",
     "output_type": "stream",
     "text": [
      "[0, 1, 2, 3, 4]\n",
      "0 apple\n",
      "1 grapes\n",
      "2 peach\n"
     ]
    }
   ],
   "source": [
    "# range returns a list of values\n",
    "# range(n) will return a list of values from 0 to n-1\n",
    "print range(5)\n",
    "for i in range(len(fruits)):\n",
    "    print i,fruits[i]\n",
    "    #in this case , len() will give you the lenth of the fruits which is 3"
   ]
  },
  {
   "cell_type": "code",
   "execution_count": 9,
   "metadata": {
    "collapsed": false
   },
   "outputs": [
    {
     "ename": "SyntaxError",
     "evalue": "invalid syntax (<ipython-input-9-3416a4d33b91>, line 6)",
     "output_type": "error",
     "traceback": [
      "\u001b[1;36m  File \u001b[1;32m\"<ipython-input-9-3416a4d33b91>\"\u001b[1;36m, line \u001b[1;32m6\u001b[0m\n\u001b[1;33m    if i=='grapes'\u001b[0m\n\u001b[1;37m                  ^\u001b[0m\n\u001b[1;31mSyntaxError\u001b[0m\u001b[1;31m:\u001b[0m invalid syntax\n"
     ]
    }
   ],
   "source": [
    "# range returns a list of values\n",
    "# range(n) will return a list of values from 0 to n-1\n",
    "print range(5)\n",
    "for i in range(len(fruits)):\n",
    "    print i,fruits[i]\n",
    "    if i=='grapes'\n",
    "    print i()\n",
    "    \n",
    "    #in this case , len() will give you the lenth of the fruits which is 3"
   ]
  },
  {
   "cell_type": "code",
   "execution_count": 6,
   "metadata": {
    "collapsed": false
   },
   "outputs": [
    {
     "name": "stdout",
     "output_type": "stream",
     "text": [
      "[0, 1, 2, 3, 4]\n"
     ]
    },
    {
     "ename": "NameError",
     "evalue": "name 'fruits' is not defined",
     "output_type": "error",
     "traceback": [
      "\u001b[1;31m---------------------------------------------------------------------------\u001b[0m",
      "\u001b[1;31mNameError\u001b[0m                                 Traceback (most recent call last)",
      "\u001b[1;32m<ipython-input-6-8c9d47650441>\u001b[0m in \u001b[0;36m<module>\u001b[1;34m()\u001b[0m\n\u001b[0;32m      3\u001b[0m \u001b[1;32mprint\u001b[0m \u001b[0mrange\u001b[0m\u001b[1;33m(\u001b[0m\u001b[1;36m5\u001b[0m\u001b[1;33m)\u001b[0m\u001b[1;33m\u001b[0m\u001b[0m\n\u001b[0;32m      4\u001b[0m \u001b[1;33m\u001b[0m\u001b[0m\n\u001b[1;32m----> 5\u001b[1;33m \u001b[1;32mfor\u001b[0m \u001b[0mi\u001b[0m \u001b[1;32min\u001b[0m \u001b[0mrange\u001b[0m\u001b[1;33m(\u001b[0m\u001b[0mlen\u001b[0m\u001b[1;33m(\u001b[0m\u001b[0mfruits\u001b[0m\u001b[1;33m)\u001b[0m\u001b[1;33m)\u001b[0m\u001b[1;33m:\u001b[0m\u001b[1;33m\u001b[0m\u001b[0m\n\u001b[0m\u001b[0;32m      6\u001b[0m     \u001b[1;32mprint\u001b[0m \u001b[0mi\u001b[0m\u001b[1;33m,\u001b[0m\u001b[0mfruits\u001b[0m\u001b[1;33m[\u001b[0m\u001b[0mi\u001b[0m\u001b[1;33m]\u001b[0m\u001b[1;33m\u001b[0m\u001b[0m\n",
      "\u001b[1;31mNameError\u001b[0m: name 'fruits' is not defined"
     ]
    }
   ],
   "source": [
    "# range returns a list of values\n",
    "# range(n) will return a list of values from 0 to n-1\n",
    "print range(5)\n",
    "\n",
    "for i in range(len(fruits)):\n",
    "    print i,fruits[i]\n",
    "    "
   ]
  },
  {
   "cell_type": "code",
   "execution_count": 7,
   "metadata": {
    "collapsed": false
   },
   "outputs": [
    {
     "name": "stdout",
     "output_type": "stream",
     "text": [
      "[2, 3, 4, 5, 6, 7, 8]\n"
     ]
    }
   ],
   "source": [
    "# range(n1,n2) will return a list from n1 to n2-1\n",
    "print range(2,9)"
   ]
  },
  {
   "cell_type": "code",
   "execution_count": 8,
   "metadata": {
    "collapsed": false
   },
   "outputs": [
    {
     "name": "stdout",
     "output_type": "stream",
     "text": [
      "[2, 5, 8]\n"
     ]
    }
   ],
   "source": [
    "# range(n1,n2,incr) will return a list from n1 to n2-1 in steps of incr\n",
    "print range(2,9,3)"
   ]
  },
  {
   "cell_type": "code",
   "execution_count": 10,
   "metadata": {
    "collapsed": false
   },
   "outputs": [
    {
     "name": "stdout",
     "output_type": "stream",
     "text": [
      "0 apple\n",
      "1 grapes\n",
      "2 peach\n"
     ]
    }
   ],
   "source": [
    "# xrange creates an object with an iterator that returns the value on \n",
    "# demand. The demand is in the loop\n",
    "for i in xrange(len(fruits)):\n",
    "    print i, fruits[i]"
   ]
  },
  {
   "cell_type": "code",
   "execution_count": null,
   "metadata": {
    "collapsed": true
   },
   "outputs": [],
   "source": []
  },
  {
   "cell_type": "code",
   "execution_count": 11,
   "metadata": {
    "collapsed": false
   },
   "outputs": [
    {
     "name": "stdout",
     "output_type": "stream",
     "text": [
      "dogs\n",
      "\n",
      "frogs\n",
      "\n",
      "\n",
      "bogs\n",
      "\n",
      "logs\n",
      "\n",
      "\n",
      "\n",
      "lots\n"
     ]
    }
   ],
   "source": [
    "# f is a filehandler\n",
    "f = open('python_list.txt')\n",
    "# readlines reads one line at a time from the file\n",
    "# Syntax filehandle.readlines()\n",
    "for line in f.readlines():\n",
    "    print line.strip() \n",
    "    # strip removes newline, carriage return, space etc at the beginning and at the end of the line\n",
    "f.close()"
   ]
  },
  {
   "cell_type": "code",
   "execution_count": 12,
   "metadata": {
    "collapsed": false
   },
   "outputs": [
    {
     "name": "stdout",
     "output_type": "stream",
     "text": [
      "dogs\n",
      "frogs\n",
      "bogs\n",
      "logs\n",
      "lots\n"
     ]
    }
   ],
   "source": [
    "# f is a filehandler\n",
    "f = open('python_list.txt')\n",
    "# readlines reads one line at a time from the file\n",
    "# Syntax filehandle.readlines()\n",
    "for line in f.readlines():\n",
    "    cleanedline = line.strip() \n",
    "    if cleanedline:\n",
    "        print cleanedline\n",
    "    # strip removes newline, carriage return, space etc at the beginning and at the end of the line\n",
    "f.close()"
   ]
  },
  {
   "cell_type": "code",
   "execution_count": 13,
   "metadata": {
    "collapsed": false
   },
   "outputs": [
    {
     "data": {
      "text/plain": [
       "'the    life  is    good'"
      ]
     },
     "execution_count": 13,
     "metadata": {},
     "output_type": "execute_result"
    }
   ],
   "source": [
    "'the    life  is    good   '.strip(' ')#strip works at the end and in the begnning only"
   ]
  },
  {
   "cell_type": "code",
   "execution_count": 14,
   "metadata": {
    "collapsed": false
   },
   "outputs": [
    {
     "data": {
      "text/plain": [
       "'the    life  is    good   '"
      ]
     },
     "execution_count": 14,
     "metadata": {},
     "output_type": "execute_result"
    }
   ],
   "source": [
    "';the    life  is    good   '.strip(';')"
   ]
  },
  {
   "cell_type": "code",
   "execution_count": 17,
   "metadata": {
    "collapsed": false
   },
   "outputs": [
    {
     "data": {
      "text/plain": [
       "'the    life  is    good   '"
      ]
     },
     "execution_count": 17,
     "metadata": {},
     "output_type": "execute_result"
    }
   ],
   "source": [
    "';the    life  is    good   '.strip(';')\n"
   ]
  },
  {
   "cell_type": "code",
   "execution_count": 18,
   "metadata": {
    "collapsed": false
   },
   "outputs": [
    {
     "name": "stdout",
     "output_type": "stream",
     "text": [
      "first fruit 1 grapes\n",
      "second fruit 2 peach\n"
     ]
    }
   ],
   "source": [
    "for i in range(len(fruits)):\n",
    "   if i == 1:\n",
    "        print \"first fruit\",i, fruits[i]\n",
    "   elif i == 2:\n",
    "        print \"second fruit\",i, fruits[i] \n",
    "   elif i == 3:\n",
    "        pass "
   ]
  },
  {
   "cell_type": "code",
   "execution_count": 19,
   "metadata": {
    "collapsed": false
   },
   "outputs": [
    {
     "name": "stdout",
     "output_type": "stream",
     "text": [
      "[0, 1, 2, 3, 4]\n"
     ]
    }
   ],
   "source": [
    "a = range(5)\n",
    "print a"
   ]
  },
  {
   "cell_type": "code",
   "execution_count": 20,
   "metadata": {
    "collapsed": false
   },
   "outputs": [
    {
     "name": "stdout",
     "output_type": "stream",
     "text": [
      "0\n",
      "1\n",
      "2\n",
      "3\n",
      "4\n"
     ]
    }
   ],
   "source": [
    "a = range(5)\n",
    "for i in a:\n",
    "    print i"
   ]
  },
  {
   "cell_type": "code",
   "execution_count": 21,
   "metadata": {
    "collapsed": false
   },
   "outputs": [
    {
     "name": "stdout",
     "output_type": "stream",
     "text": [
      "0\n",
      "1\n",
      "2\n",
      "3\n",
      "4\n"
     ]
    }
   ],
   "source": [
    "a = range(5)\n",
    "count = 0\n",
    "# Syntax of While\n",
    "# while something is true:\n",
    "#     execute statement(s) that are under this block \n",
    "while True:\n",
    "    print a[count]\n",
    "    count = count+1\n",
    "    if count == len(a):\n",
    "        break # this statement breaks out of the loop"
   ]
  },
  {
   "cell_type": "code",
   "execution_count": 22,
   "metadata": {
    "collapsed": false
   },
   "outputs": [
    {
     "name": "stdout",
     "output_type": "stream",
     "text": [
      "22 is not a multiple of 3\n",
      "23 is not a multiple of 3\n",
      "24 is the first multiple of 3\n"
     ]
    }
   ],
   "source": [
    "for n in range(22, 30):\n",
    "    if n % 3 == 0:\n",
    "        print n, 'is the first multiple of 3'\n",
    "        break\n",
    "    else:\n",
    "        print n, 'is not a multiple of 3'"
   ]
  },
  {
   "cell_type": "code",
   "execution_count": 23,
   "metadata": {
    "collapsed": false
   },
   "outputs": [
    {
     "name": "stdout",
     "output_type": "stream",
     "text": [
      "22 is not a multiple of 4\n",
      "23 is not a multiple of 4\n",
      "24 is a multiple of 4\n",
      "25 is not a multiple of 4\n",
      "26 is not a multiple of 4\n",
      "27 is not a multiple of 4\n",
      "28 is a multiple of 4\n",
      "29 is not a multiple of 4\n"
     ]
    }
   ],
   "source": [
    "for n in range(22, 30):\n",
    "    if n % 4 == 0:\n",
    "        print n, 'is a multiple of 4'\n",
    "        continue\n",
    "        print 'after'\n",
    "    else:\n",
    "        print n, 'is not a multiple of 4'"
   ]
  },
  {
   "cell_type": "code",
   "execution_count": 24,
   "metadata": {
    "collapsed": false
   },
   "outputs": [
    {
     "name": "stdout",
     "output_type": "stream",
     "text": [
      "120 4\n"
     ]
    }
   ],
   "source": [
    "a = 1\n",
    "for i in range(5):\n",
    "    a *= (i+1)#a=a*(i+1)\n",
    "print a,i"
   ]
  },
  {
   "cell_type": "code",
   "execution_count": 25,
   "metadata": {
    "collapsed": false
   },
   "outputs": [
    {
     "ename": "NameError",
     "evalue": "name 'item' is not defined",
     "output_type": "error",
     "traceback": [
      "\u001b[1;31m---------------------------------------------------------------------------\u001b[0m",
      "\u001b[1;31mNameError\u001b[0m                                 Traceback (most recent call last)",
      "\u001b[1;32m<ipython-input-25-5a76e659a616>\u001b[0m in \u001b[0;36m<module>\u001b[1;34m()\u001b[0m\n\u001b[0;32m      2\u001b[0m     \u001b[1;32mpass\u001b[0m \u001b[1;31m# this statement will do nothing\u001b[0m\u001b[1;33m\u001b[0m\u001b[0m\n\u001b[0;32m      3\u001b[0m \u001b[1;33m\u001b[0m\u001b[0m\n\u001b[1;32m----> 4\u001b[1;33m \u001b[1;32mprint\u001b[0m \u001b[0mitem\u001b[0m \u001b[1;31m# Will give NameError. Why?\u001b[0m\u001b[1;33m\u001b[0m\u001b[0m\n\u001b[0m",
      "\u001b[1;31mNameError\u001b[0m: name 'item' is not defined"
     ]
    }
   ],
   "source": [
    "for item in []:\n",
    "    pass # this statement will do nothing  \n",
    "\n",
    "print item # Will give NameError. Why? #item is not the list it is value in a list"
   ]
  },
  {
   "cell_type": "code",
   "execution_count": null,
   "metadata": {
    "collapsed": true
   },
   "outputs": [],
   "source": [
    "for item in []:\n",
    "    pass # this statement will do nothing  \n",
    "\n",
    "print item # the last value of loop leaks out"
   ]
  },
  {
   "cell_type": "code",
   "execution_count": 26,
   "metadata": {
    "collapsed": false
   },
   "outputs": [
    {
     "name": "stdout",
     "output_type": "stream",
     "text": [
      "1\n"
     ]
    }
   ],
   "source": [
    "for item in [1]:\n",
    "    pass \n",
    "print item"
   ]
  },
  {
   "cell_type": "code",
   "execution_count": 29,
   "metadata": {
    "collapsed": false
   },
   "outputs": [
    {
     "name": "stdout",
     "output_type": "stream",
     "text": [
      "[1, 3, 6, -2, -1, 5, 8]\n"
     ]
    }
   ],
   "source": [
    "some_list = [1, 3, 6, -2, -1,5, 8]\n",
    "print some_list"
   ]
  },
  {
   "cell_type": "code",
   "execution_count": 30,
   "metadata": {
    "collapsed": false
   },
   "outputs": [
    {
     "name": "stdout",
     "output_type": "stream",
     "text": [
      "-2\n"
     ]
    }
   ],
   "source": [
    "for items in some_list:\n",
    "    if items < 0:\n",
    "        # we are iterating through some_list until we hit the first negative number\n",
    "        print items\n",
    "        break"
   ]
  },
  {
   "cell_type": "code",
   "execution_count": 66,
   "metadata": {
    "collapsed": false
   },
   "outputs": [
    {
     "name": "stdout",
     "output_type": "stream",
     "text": [
      "please enter a name:j\n",
      "('u entered :', 'j')\n",
      "please enter a name:divya\n",
      "('u entered :', 'divya')\n",
      "please enter a name:q\n",
      "you choose to exit\n"
     ]
    }
   ],
   "source": [
    "'''\n",
    "Inclass activity:\n",
    "Write a code that will take name from the user until the user decides to \n",
    "quit by entering q or Q. Also perform a check to see whether the user \n",
    "entered anything. If the user didn't enter anything, ask them to \n",
    "enter a name. \n",
    "'''\n",
    "\n",
    "while True:\n",
    "    urname =raw_input('please enter a name:')\n",
    "    if urname == 'q' or urname == 'Q':\n",
    "        print \"you choose to exit\"\n",
    "        break\n",
    "    elif urname==' ':\n",
    "        print(\"please enter a valid name\")\n",
    "    else:\n",
    "        print(\"u entered :\",urname)\n",
    "                    \n"
   ]
  },
  {
   "cell_type": "code",
   "execution_count": null,
   "metadata": {
    "collapsed": true
   },
   "outputs": [],
   "source": []
  },
  {
   "cell_type": "code",
   "execution_count": null,
   "metadata": {
    "collapsed": true
   },
   "outputs": [],
   "source": []
  }
 ],
 "metadata": {
  "kernelspec": {
   "display_name": "Python 2",
   "language": "python",
   "name": "python2"
  },
  "language_info": {
   "codemirror_mode": {
    "name": "ipython",
    "version": 2
   },
   "file_extension": ".py",
   "mimetype": "text/x-python",
   "name": "python",
   "nbconvert_exporter": "python",
   "pygments_lexer": "ipython2",
   "version": "2.7.11"
  }
 },
 "nbformat": 4,
 "nbformat_minor": 0
}
