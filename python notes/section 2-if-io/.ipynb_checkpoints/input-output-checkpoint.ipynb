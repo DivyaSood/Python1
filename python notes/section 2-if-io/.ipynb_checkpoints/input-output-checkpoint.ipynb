{
 "cells": [
  {
   "cell_type": "code",
   "execution_count": 7,
   "metadata": {
    "collapsed": false,
    "deletable": true,
    "editable": true
   },
   "outputs": [
    {
     "data": {
      "text/plain": [
       "'\\nInput and output functions\\n\\n1. stdout using print\\n2. formatted printing\\n3. stdin using \\n\\n'"
      ]
     },
     "execution_count": 7,
     "metadata": {},
     "output_type": "execute_result"
    }
   ],
   "source": [
    "'''\n",
    "Input and output functions\n",
    "\n",
    "1. stdout using print\n",
    "2. formatted printing\n",
    "3. stdin using \n",
    "\n",
    "'''"
   ]
  },
  {
   "cell_type": "code",
   "execution_count": 8,
   "metadata": {
    "collapsed": false,
    "deletable": true,
    "editable": true
   },
   "outputs": [
    {
     "name": "stdout",
     "output_type": "stream",
     "text": [
      "4\n"
     ]
    }
   ],
   "source": [
    "a = 4\n",
    "print a # a simple print statement "
   ]
  },
  {
   "cell_type": "code",
   "execution_count": 9,
   "metadata": {
    "collapsed": false,
    "deletable": true,
    "editable": true
   },
   "outputs": [
    {
     "name": "stdout",
     "output_type": "stream",
     "text": [
      "the value of a is:  4\n"
     ]
    }
   ],
   "source": [
    "print 'the value of a is: ',a \n",
    "#note that there is no %d inside the string so we don't have % before a"
   ]
  },
  {
   "cell_type": "code",
   "execution_count": 10,
   "metadata": {
    "collapsed": false,
    "deletable": true,
    "editable": true
   },
   "outputs": [
    {
     "name": "stdout",
     "output_type": "stream",
     "text": [
      "the value of a is 4\n"
     ]
    }
   ],
   "source": [
    "print 'the value of a is %d' %a\n",
    "#note that since there is %d inside the string, so we have % before a"
   ]
  },
  {
   "cell_type": "code",
   "execution_count": 4,
   "metadata": {
    "collapsed": false,
    "deletable": true,
    "editable": true
   },
   "outputs": [
    {
     "data": {
      "text/plain": [
       "'0000000314'"
      ]
     },
     "execution_count": 4,
     "metadata": {},
     "output_type": "execute_result"
    }
   ],
   "source": [
    "# number.zfill(n) will put zeros so that the \n",
    "# total number of digits in the number is n \n",
    "# if the number has a negative in front then the negative sign \n",
    "# is also accounted for.\n",
    "'314'.zfill(10)\n"
   ]
  },
  {
   "cell_type": "code",
   "execution_count": 12,
   "metadata": {
    "collapsed": false,
    "deletable": true,
    "editable": true
   },
   "outputs": [
    {
     "name": "stdout",
     "output_type": "stream",
     "text": [
      "-000003.14\n"
     ]
    }
   ],
   "source": [
    "print'-3.14'.zfill(10)"
   ]
  },
  {
   "cell_type": "code",
   "execution_count": 13,
   "metadata": {
    "collapsed": false,
    "deletable": true,
    "editable": true
   },
   "outputs": [
    {
     "name": "stdout",
     "output_type": "stream",
     "text": [
      "san jose and santa clara\n"
     ]
    }
   ],
   "source": [
    "# formatted printing\n",
    "print '{0} and {1}'.format('san jose','santa clara')"
   ]
  },
  {
   "cell_type": "code",
   "execution_count": 9,
   "metadata": {
    "collapsed": false,
    "deletable": true,
    "editable": true
   },
   "outputs": [
    {
     "name": "stdout",
     "output_type": "stream",
     "text": [
      "a and b\n"
     ]
    }
   ],
   "source": [
    "a= 'sanjose'\n",
    "b= 'santaclara'\n",
    "print '{0} and {1}'.format('a','b')"
   ]
  },
  {
   "cell_type": "code",
   "execution_count": 15,
   "metadata": {
    "collapsed": false,
    "deletable": true,
    "editable": true
   },
   "outputs": [
    {
     "ename": "IndexError",
     "evalue": "tuple index out of range",
     "output_type": "error",
     "traceback": [
      "\u001b[1;31m---------------------------------------------------------------------------\u001b[0m",
      "\u001b[1;31mIndexError\u001b[0m                                Traceback (most recent call last)",
      "\u001b[1;32m<ipython-input-15-13858709dcc6>\u001b[0m in \u001b[0;36m<module>\u001b[1;34m()\u001b[0m\n\u001b[1;32m----> 1\u001b[1;33m \u001b[1;32mprint\u001b[0m \u001b[1;34m'{0} and {1}'\u001b[0m\u001b[1;33m.\u001b[0m\u001b[0mformat\u001b[0m\u001b[1;33m(\u001b[0m\u001b[1;34m'san jose'\u001b[0m\u001b[1;33m)\u001b[0m \u001b[1;31m# fails as we need to provide two values\u001b[0m\u001b[1;33m\u001b[0m\u001b[0m\n\u001b[0m",
      "\u001b[1;31mIndexError\u001b[0m: tuple index out of range"
     ]
    }
   ],
   "source": [
    " print '{0} and {1}'.format('san jose') # fails as we need to provide two values"
   ]
  },
  {
   "cell_type": "code",
   "execution_count": 16,
   "metadata": {
    "collapsed": false,
    "deletable": true,
    "editable": true
   },
   "outputs": [
    {
     "name": "stdout",
     "output_type": "stream",
     "text": [
      "san jose\n"
     ]
    }
   ],
   "source": [
    " print '{0}'.format('san jose','santa clara') \n",
    "# the first value in the list will be printed"
   ]
  },
  {
   "cell_type": "code",
   "execution_count": 17,
   "metadata": {
    "collapsed": false,
    "deletable": true,
    "editable": true
   },
   "outputs": [
    {
     "name": "stdout",
     "output_type": "stream",
     "text": [
      "San jose and Sacramento\n"
     ]
    }
   ],
   "source": [
    " print '{nearcity} and {farcity}'.format(farcity='Sacramento',nearcity='San jose')"
   ]
  },
  {
   "cell_type": "code",
   "execution_count": 18,
   "metadata": {
    "collapsed": false,
    "deletable": true,
    "editable": true
   },
   "outputs": [
    {
     "name": "stdout",
     "output_type": "stream",
     "text": [
      "PI = 3.14159\n"
     ]
    }
   ],
   "source": [
    "import math \n",
    "print 'PI = %0.5f'%(math.pi) # The () is optional for one input"
   ]
  },
  {
   "cell_type": "code",
   "execution_count": 19,
   "metadata": {
    "collapsed": false,
    "deletable": true,
    "editable": true
   },
   "outputs": [
    {
     "name": "stdout",
     "output_type": "stream",
     "text": [
      "a =3\n"
     ]
    }
   ],
   "source": [
    "a=3.76\n",
    "print 'a =%d'%a#print only the integer value"
   ]
  },
  {
   "cell_type": "code",
   "execution_count": 4,
   "metadata": {
    "collapsed": false,
    "deletable": true,
    "editable": true
   },
   "outputs": [
    {
     "name": "stdout",
     "output_type": "stream",
     "text": [
      "a = 5 3\n"
     ]
    }
   ],
   "source": [
    "a = 5\n",
    "b = 3.25\n",
    "print 'a = %d %d' %(a,b)"
   ]
  },
  {
   "cell_type": "code",
   "execution_count": 3,
   "metadata": {
    "collapsed": false,
    "deletable": true,
    "editable": true
   },
   "outputs": [
    {
     "name": "stdout",
     "output_type": "stream",
     "text": [
      "a = 005 b = 3.25 c = 5.6\n"
     ]
    }
   ],
   "source": [
    "a = 5\n",
    "b = 3.25\n",
    "c = '5.6'#c is a string\n",
    "print 'a = %03d b = %0.2f c = %s' %(a,b,c)"
   ]
  },
  {
   "cell_type": "code",
   "execution_count": 22,
   "metadata": {
    "collapsed": false,
    "deletable": true,
    "editable": true
   },
   "outputs": [
    {
     "data": {
      "text/plain": [
       "float"
      ]
     },
     "execution_count": 22,
     "metadata": {},
     "output_type": "execute_result"
    }
   ],
   "source": [
    "a = 5.0\n",
    "type(a)"
   ]
  },
  {
   "cell_type": "code",
   "execution_count": 5,
   "metadata": {
    "collapsed": false,
    "deletable": true,
    "editable": true
   },
   "outputs": [
    {
     "data": {
      "text/plain": [
       "int"
      ]
     },
     "execution_count": 5,
     "metadata": {},
     "output_type": "execute_result"
    }
   ],
   "source": [
    "b =3\n",
    "type(b)"
   ]
  },
  {
   "cell_type": "code",
   "execution_count": null,
   "metadata": {
    "collapsed": true,
    "deletable": true,
    "editable": true
   },
   "outputs": [],
   "source": []
  },
  {
   "cell_type": "code",
   "execution_count": 6,
   "metadata": {
    "collapsed": false,
    "deletable": true,
    "editable": true
   },
   "outputs": [
    {
     "name": "stdout",
     "output_type": "stream",
     "text": [
      "<open file 'python_list.txt', mode 'r' at 0x1048aef60>\n",
      "dogs00000011111111\r\n",
      "\n",
      "\r\n",
      "\n",
      "  frogs\r\n",
      "\n",
      "                      bogs\r\n",
      "\n",
      "\r\n",
      "\n",
      "     logs     lots\r\n",
      "\n",
      "\r\n",
      "\n",
      "\r\n",
      "\n",
      "\r\n",
      "\n",
      "lots\r\n",
      "\n"
     ]
    }
   ],
   "source": [
    "f = open('python_list.txt')\n",
    "print f\n",
    "for line in f.readlines():\n",
    "    print line.strip(\"10\")\n",
    "f.close()"
   ]
  },
  {
   "cell_type": "code",
   "execution_count": 24,
   "metadata": {
    "collapsed": false,
    "deletable": true,
    "editable": true
   },
   "outputs": [
    {
     "name": "stdout",
     "output_type": "stream",
     "text": [
      "<open file 'python_list.txt', mode 'r' at 0x032BC6A8>\n",
      "dogs00000011111111\n",
      "\n",
      "frogs\n",
      "bogs\n",
      "\n",
      "logs     lots\n",
      "\n",
      "\n",
      "\n",
      "lots\n"
     ]
    }
   ],
   "source": [
    "# Try change the path of the file()\n",
    "f = open('python_list.txt')\n",
    "print f\n",
    "for line in f.readlines():\n",
    "    print line.strip()\n",
    "f.close()"
   ]
  },
  {
   "cell_type": "code",
   "execution_count": 25,
   "metadata": {
    "collapsed": false,
    "deletable": true,
    "editable": true
   },
   "outputs": [
    {
     "name": "stdout",
     "output_type": "stream",
     "text": [
      "Enter a name : divya\n",
      "divya\n"
     ]
    }
   ],
   "source": [
    "'''\n",
    "raw_input() gets input from the command line.\n",
    "In this example, we are getting the input from the user and assigning it \n",
    "to variable s.\n",
    "'''\n",
    "s = raw_input('Enter a name : ')\n",
    "print s"
   ]
  },
  {
   "cell_type": "code",
   "execution_count": 26,
   "metadata": {
    "collapsed": false,
    "deletable": true,
    "editable": true
   },
   "outputs": [
    {
     "name": "stdout",
     "output_type": "stream",
     "text": [
      "Enter a name : divya\n",
      "divya <type 'str'>\n"
     ]
    }
   ],
   "source": [
    "'''\n",
    "raw_input() gets input from the command line.\n",
    "In this example, we are getting the input from the user and assigning it \n",
    "to variable s.\n",
    "'''\n",
    "s = raw_input('Enter a name : ')\n",
    "print s, type(s)"
   ]
  },
  {
   "cell_type": "code",
   "execution_count": 13,
   "metadata": {
    "collapsed": false,
    "deletable": true,
    "editable": true
   },
   "outputs": [
    {
     "name": "stdout",
     "output_type": "stream",
     "text": [
      "Enter a height. :1234\n",
      "1234 <type 'str'>\n"
     ]
    }
   ],
   "source": [
    "'''\n",
    "raw_input() gets input from the command line.\n",
    "In this example, we are getting the input from the user and assigning it \n",
    "to variable s.\n",
    "'''\n",
    "s = raw_input('Enter a height. :' )\n",
    "print s, type(s)"
   ]
  },
  {
   "cell_type": "code",
   "execution_count": null,
   "metadata": {
    "collapsed": true,
    "deletable": true,
    "editable": true
   },
   "outputs": [],
   "source": [
    "'''\n",
    "In-class activity: Ask the user to input an integer.\n",
    "Print the value and its type. If type is not integer, type cast it to integer\n",
    "'''"
   ]
  },
  {
   "cell_type": "code",
   "execution_count": 28,
   "metadata": {
    "collapsed": false,
    "deletable": true,
    "editable": true
   },
   "outputs": [
    {
     "name": "stdout",
     "output_type": "stream",
     "text": [
      "please enter an integer1234\n",
      "1234 <type 'int'>\n"
     ]
    }
   ],
   "source": [
    "int1 = int(raw_input('please enter an integer'))\n",
    "print int1, type(int1)"
   ]
  },
  {
   "cell_type": "code",
   "execution_count": 29,
   "metadata": {
    "collapsed": false,
    "deletable": true,
    "editable": true
   },
   "outputs": [
    {
     "name": "stdout",
     "output_type": "stream",
     "text": [
      "please enter an integer1234\n",
      "1234\n",
      "<type 'int'>\n"
     ]
    }
   ],
   "source": [
    "int1 = raw_input('please enter an integer')\n",
    "#since we know int1 will be of type string\n",
    "int1 = int(int1)\n",
    "print int1\n",
    "print type(int1)"
   ]
  },
  {
   "cell_type": "code",
   "execution_count": 30,
   "metadata": {
    "collapsed": false,
    "deletable": true,
    "editable": true
   },
   "outputs": [
    {
     "name": "stdout",
     "output_type": "stream",
     "text": [
      "1234\n",
      "<type 'int'>\n",
      "175\n"
     ]
    }
   ],
   "source": [
    "print int1; print type(int1); print 175"
   ]
  },
  {
   "cell_type": "code",
   "execution_count": 31,
   "metadata": {
    "collapsed": false,
    "deletable": true,
    "editable": true
   },
   "outputs": [
    {
     "name": "stdout",
     "output_type": "stream",
     "text": [
      "r2\n"
     ]
    }
   ],
   "source": [
    "a = 'r'\n",
    "b = str(2)\n",
    "print a+b#string concatenation"
   ]
  },
  {
   "cell_type": "code",
   "execution_count": 32,
   "metadata": {
    "collapsed": false,
    "deletable": true,
    "editable": true
   },
   "outputs": [
    {
     "name": "stdout",
     "output_type": "stream",
     "text": [
      "r 2\n"
     ]
    }
   ],
   "source": [
    "a = 'r'\n",
    "b = str(2)\n",
    "print a,b"
   ]
  },
  {
   "cell_type": "code",
   "execution_count": null,
   "metadata": {
    "collapsed": false,
    "deletable": true,
    "editable": true
   },
   "outputs": [],
   "source": [
    "'''\n",
    "Inclass activity: Can you insert a space between r and 2? If yes, then implement it. \n",
    "'''\n"
   ]
  },
  {
   "cell_type": "code",
   "execution_count": 33,
   "metadata": {
    "collapsed": false,
    "deletable": true,
    "editable": true
   },
   "outputs": [
    {
     "name": "stdout",
     "output_type": "stream",
     "text": [
      "r 2\n"
     ]
    }
   ],
   "source": [
    "a= 'r'\n",
    "b= str(2)\n",
    "print a,b"
   ]
  },
  {
   "cell_type": "code",
   "execution_count": 7,
   "metadata": {
    "collapsed": false,
    "deletable": true,
    "editable": true
   },
   "outputs": [
    {
     "name": "stdout",
     "output_type": "stream",
     "text": [
      "abc\n",
      "xyz \n",
      "i234\n",
      "divya\n",
      "himanshu\n",
      "\n"
     ]
    }
   ],
   "source": [
    "'''\n",
    "Inclass activity: Create a txt file and write names of 10 states and close the file. Then open the file\n",
    "and print each list\n",
    "'''\n",
    "f=open('C:\\Users\\hello\\Desktop\\div.txt','w')\n",
    "f.write (\"abc\\n\")\n",
    "f.write(\"xyz \\n\")\n",
    "f.write(\"i234\\n\")\n",
    "f.write(\"divya\\n\")\n",
    "f.write(\"himanshu\\n\")\n",
    "f.close()\n",
    "e=open('C:\\Users\\hello\\Desktop\\div.txt','r')\n",
    "print e.read()\n"
   ]
  },
  {
   "cell_type": "code",
   "execution_count": 8,
   "metadata": {
    "collapsed": false
   },
   "outputs": [
    {
     "name": "stdout",
     "output_type": "stream",
     "text": [
      "yes\n",
      "love \n",
      "hero\n",
      "ektha\n",
      "kapish\n",
      "Rakesh\n",
      "\n"
     ]
    }
   ],
   "source": [
    "f=open('C:\\Users\\hello\\Desktop\\div.txt','w')\n",
    "f.write (\"yes\\n\")\n",
    "f.write(\"love \\n\")\n",
    "f.write(\"hero\\n\")\n",
    "f.write(\"ektha\\n\")\n",
    "f.write(\"kapish\\n\")\n",
    "f.write(\"Rakesh\\n\")\n",
    "f.close()\n",
    "e=open('C:\\Users\\hello\\Desktop\\div.txt','r')\n",
    "print e.read()"
   ]
  },
  {
   "cell_type": "code",
   "execution_count": 9,
   "metadata": {
    "collapsed": false
   },
   "outputs": [
    {
     "name": "stdout",
     "output_type": "stream",
     "text": [
      "yes\n",
      "love \n",
      "hero\n",
      "ektha\n",
      "kapish\n",
      "Rakesh\n",
      "\n"
     ]
    }
   ],
   "source": [
    "f=open('C:\\Users\\hello\\Desktop\\helloworld.txt','w')\n",
    "f.write (\"himanshu\\n\")\n",
    "f.write(\"divya \\n\")\n",
    "f.write(\"ektha\\n\")\n",
    "f.write(\"kapish\\n\")\n",
    "f.write(\"rakesh\\n\")\n",
    "f.close()\n",
    "e=open('C:\\Users\\hello\\Desktop\\div.txt','r')\n",
    "print e.read()"
   ]
  },
  {
   "cell_type": "code",
   "execution_count": 35,
   "metadata": {
    "collapsed": false,
    "deletable": true,
    "editable": true
   },
   "outputs": [
    {
     "name": "stdout",
     "output_type": "stream",
     "text": [
      "abc\n",
      "xyz \n",
      "i234\n",
      "divya\n",
      "himanshu\n",
      "anil\n",
      "pajam\n",
      "\n"
     ]
    }
   ],
   "source": [
    "f=open('C:\\Users\\hello\\Desktop\\div.txt','a')#to make changes to exsiting file use append\n",
    "f.write(\"anil\\n\")\n",
    "f.write(\"pajam\\n\")\n",
    "f.close()\n",
    "e=open('C:\\Users\\hello\\Desktop\\div.txt','r')\n",
    "print e.read()"
   ]
  },
  {
   "cell_type": "code",
   "execution_count": null,
   "metadata": {
    "collapsed": true
   },
   "outputs": [],
   "source": []
  },
  {
   "cell_type": "code",
   "execution_count": null,
   "metadata": {
    "collapsed": true,
    "deletable": true,
    "editable": true
   },
   "outputs": [],
   "source": []
  }
 ],
 "metadata": {
  "kernelspec": {
   "display_name": "Python 2",
   "language": "python",
   "name": "python2"
  },
  "language_info": {
   "codemirror_mode": {
    "name": "ipython",
    "version": 2
   },
   "file_extension": ".py",
   "mimetype": "text/x-python",
   "name": "python",
   "nbconvert_exporter": "python",
   "pygments_lexer": "ipython2",
   "version": "2.7.13"
  }
 },
 "nbformat": 4,
 "nbformat_minor": 0
}
