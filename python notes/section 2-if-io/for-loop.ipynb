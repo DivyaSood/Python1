{
 "cells": [
  {
   "cell_type": "code",
   "execution_count": null,
   "metadata": {
    "collapsed": false,
    "deletable": true,
    "editable": true
   },
   "outputs": [],
   "source": [
    "'''\n",
    "Basic statements\n",
    "1. if-else\n",
    "2. while\n",
    "3. for\n",
    "4. for with range and xrange\n",
    "'''"
   ]
  },
  {
   "cell_type": "code",
   "execution_count": 1,
   "metadata": {
    "collapsed": false,
    "deletable": true,
    "editable": true
   },
   "outputs": [
    {
     "name": "stdout",
     "output_type": "stream",
     "text": [
      "Please enter your choice (1 or 2): 1\n",
      "One\n"
     ]
    }
   ],
   "source": [
    "# Syntax of if-else\n",
    "# if statement a:\n",
    "#    execute statement(s) that are under this block\n",
    "# else:\n",
    "#    execute statement(s) that are under this block\n",
    "\n",
    "x = int(raw_input(\"Please enter your choice (1 or 2): \"))\n",
    "if x < 0:\n",
    "    print 'Negative number not allowed'\n",
    "elif x == 0:\n",
    "    print \"Zero\"\n",
    "elif x == 1:\n",
    "    print 'One'\n",
    "elif x == 2:\n",
    "    print 'Two'\n",
    "else:\n",
    "    print 'Number more than 2 is not allowed'"
   ]
  },
  {
   "cell_type": "code",
   "execution_count": 3,
   "metadata": {
    "collapsed": false,
    "deletable": true,
    "editable": true
   },
   "outputs": [
    {
     "name": "stdout",
     "output_type": "stream",
     "text": [
      "Please enter the number between (0 0r 2): 2\n",
      "Two\n"
     ]
    }
   ],
   "source": [
    "x=int(raw_input(\"Please enter the number between (0 0r 2): \"))\n",
    "if x < 0:\n",
    "    print \"Not allowed\"\n",
    "elif x==0:\n",
    "    print \"Zero\"\n",
    "elif x==1:\n",
    "    print \"One\"\n",
    "elif x==2:\n",
    "    print \"Two\"\n",
    "else:\n",
    "    print \"Number notallowed\""
   ]
  },
  {
   "cell_type": "code",
   "execution_count": null,
   "metadata": {
    "collapsed": false,
    "deletable": true,
    "editable": true
   },
   "outputs": [],
   "source": [
    "'''\n",
    "Truthiness in Python\n",
    "\n",
    "https://www.udacity.com/wiki/cs258/truthiness-in-python\n",
    "\n",
    "https://docs.python.org/release/2.5.2/lib/truth.html\n",
    "\n",
    "'''"
   ]
  },
  {
   "cell_type": "code",
   "execution_count": 2,
   "metadata": {
    "collapsed": false,
    "deletable": true,
    "editable": true
   },
   "outputs": [
    {
     "name": "stdout",
     "output_type": "stream",
     "text": [
      "No value\n"
     ]
    }
   ],
   "source": [
    "a = []\n",
    "if a == []:\n",
    "    print \"No value\""
   ]
  },
  {
   "cell_type": "code",
   "execution_count": 5,
   "metadata": {
    "collapsed": false,
    "deletable": true,
    "editable": true
   },
   "outputs": [
    {
     "name": "stdout",
     "output_type": "stream",
     "text": [
      "No value\n"
     ]
    }
   ],
   "source": [
    "a = []\n",
    "\n",
    "if a:\n",
    "    print a\n",
    "    print \"Value\"\n",
    "else:\n",
    "    print \"No value\""
   ]
  },
  {
   "cell_type": "code",
   "execution_count": 6,
   "metadata": {
    "collapsed": false,
    "deletable": true,
    "editable": true
   },
   "outputs": [
    {
     "name": "stdout",
     "output_type": "stream",
     "text": [
      "has value\n"
     ]
    }
   ],
   "source": [
    "a = [1]\n",
    "if a:\n",
    "    print \"has value\"\n",
    "else:\n",
    "    print \"no value\""
   ]
  },
  {
   "cell_type": "code",
   "execution_count": 12,
   "metadata": {
    "collapsed": false,
    "deletable": true,
    "editable": true
   },
   "outputs": [
    {
     "name": "stdout",
     "output_type": "stream",
     "text": [
      "entered some value : \n",
      "No value\n"
     ]
    }
   ],
   "source": [
    "a= (raw_input(\"entered some value : \"))\n",
    "if a :\n",
    "    print \"value has added\",a\n",
    "else:\n",
    "    print \"No value\""
   ]
  },
  {
   "cell_type": "code",
   "execution_count": null,
   "metadata": {
    "collapsed": true,
    "deletable": true,
    "editable": true
   },
   "outputs": [],
   "source": []
  },
  {
   "cell_type": "code",
   "execution_count": 7,
   "metadata": {
    "collapsed": false,
    "deletable": true,
    "editable": true
   },
   "outputs": [
    {
     "name": "stdout",
     "output_type": "stream",
     "text": [
      "No value\n"
     ]
    }
   ],
   "source": [
    "a = {}\n",
    "if a == {}:\n",
    "    print \"No value\""
   ]
  },
  {
   "cell_type": "code",
   "execution_count": 8,
   "metadata": {
    "collapsed": false,
    "deletable": true,
    "editable": true
   },
   "outputs": [
    {
     "name": "stdout",
     "output_type": "stream",
     "text": [
      "False\n",
      "True\n",
      "True\n"
     ]
    }
   ],
   "source": [
    "f1 =0.0\n",
    "print bool(f1)\n",
    "f2=12.1\n",
    "print bool(f2)\n",
    "f3=-20.5\n",
    "print bool(f3)"
   ]
  },
  {
   "cell_type": "code",
   "execution_count": 31,
   "metadata": {
    "collapsed": false,
    "deletable": true,
    "editable": true
   },
   "outputs": [
    {
     "name": "stdout",
     "output_type": "stream",
     "text": [
      "apple\n",
      "grapes\n",
      "peach\n"
     ]
    }
   ],
   "source": [
    "# Syntax of the for statement\n",
    "# for each_item in something:\n",
    "#     execute statement(s) that are under this block\n",
    "fruits= ['apple', 'grapes', 'peach']\n",
    "for f in fruits:\n",
    "    print f"
   ]
  },
  {
   "cell_type": "code",
   "execution_count": 13,
   "metadata": {
    "collapsed": false,
    "deletable": true,
    "editable": true
   },
   "outputs": [
    {
     "name": "stdout",
     "output_type": "stream",
     "text": [
      "Himanshu\n",
      "Divya\n",
      "Kid\n"
     ]
    }
   ],
   "source": [
    "family= ['Himanshu','Divya','Kid']\n",
    "for f in family:\n",
    "    print f\n",
    "    "
   ]
  },
  {
   "cell_type": "code",
   "execution_count": 15,
   "metadata": {
    "collapsed": false,
    "deletable": true,
    "editable": true
   },
   "outputs": [
    {
     "name": "stdout",
     "output_type": "stream",
     "text": [
      "1\n",
      "2\n",
      "3\n",
      "4\n",
      "5\n",
      "6\n",
      "78\n"
     ]
    }
   ],
   "source": [
    "Numbers=[1,2,3,4,5,6,78]\n",
    "for n in Numbers:\n",
    "    print n\n",
    "    "
   ]
  },
  {
   "cell_type": "code",
   "execution_count": 10,
   "metadata": {
    "collapsed": false,
    "deletable": true,
    "editable": true
   },
   "outputs": [
    {
     "name": "stdout",
     "output_type": "stream",
     "text": [
      "3\n",
      "4\n",
      "5\n"
     ]
    }
   ],
   "source": [
    "numbers=[3,4,5]\n",
    "for n in numbers:\n",
    "    print n"
   ]
  },
  {
   "cell_type": "code",
   "execution_count": 11,
   "metadata": {
    "collapsed": false,
    "deletable": true,
    "editable": true
   },
   "outputs": [
    {
     "name": "stdout",
     "output_type": "stream",
     "text": [
      "[0, 1, 2, 3, 4]\n",
      "0 3\n",
      "1 4\n",
      "2 5\n"
     ]
    }
   ],
   "source": [
    "print range(5)\n",
    "for n in range(len(numbers)):\n",
    "    print n,numbers[n]"
   ]
  },
  {
   "cell_type": "code",
   "execution_count": 28,
   "metadata": {
    "collapsed": false,
    "deletable": true,
    "editable": true
   },
   "outputs": [
    {
     "name": "stdout",
     "output_type": "stream",
     "text": [
      "0\n",
      "1\n",
      "2\n",
      "3\n",
      "4\n"
     ]
    }
   ],
   "source": [
    "#range(5)\n",
    "for n in range(5):\n",
    "    print n\n",
    "#for n in range(len(numbers)):\n",
    "    #print numbers[n]\n",
    "               "
   ]
  },
  {
   "cell_type": "code",
   "execution_count": 34,
   "metadata": {
    "collapsed": false,
    "deletable": true,
    "editable": true
   },
   "outputs": [
    {
     "name": "stdout",
     "output_type": "stream",
     "text": [
      "[0, 1, 2, 3, 4]\n",
      "0 Apple\n",
      "1 grapes\n",
      "2 banana\n"
     ]
    }
   ],
   "source": [
    "# range returns a list of values\n",
    "# range(n) will return a list of values from 0 to n-1\n",
    "print range(5)\n",
    "for i in range(len(fruits)):\n",
    "    print i,fruits[i]\n",
    "    #in this case , len() will give you the lenth of the fruits which is 3"
   ]
  },
  {
   "cell_type": "code",
   "execution_count": 32,
   "metadata": {
    "collapsed": false,
    "deletable": true,
    "editable": true
   },
   "outputs": [
    {
     "name": "stdout",
     "output_type": "stream",
     "text": [
      "[0, 1, 2, 3, 4]\n",
      "0 Apple\n",
      "1 grapes\n",
      "2 banana\n"
     ]
    }
   ],
   "source": [
    "# range returns a list of values\n",
    "# range(n) will return a list of values from 0 to n-1\n",
    "print range(5)\n",
    "fruits=['Apple','grapes','banana']\n",
    "for i in range(len(fruits)):\n",
    "    print i,fruits[i]\n",
    "    if i=='grapes':\n",
    "        print i()\n",
    "    \n",
    "    #in this case , len() will give you the lenth of the fruits which is 3"
   ]
  },
  {
   "cell_type": "code",
   "execution_count": 33,
   "metadata": {
    "collapsed": false,
    "deletable": true,
    "editable": true
   },
   "outputs": [
    {
     "name": "stdout",
     "output_type": "stream",
     "text": [
      "[0, 1, 2, 3, 4]\n",
      "0 Apple\n",
      "1 grapes\n",
      "2 banana\n"
     ]
    }
   ],
   "source": [
    "# range returns a list of values\n",
    "# range(n) will return a list of values from 0 to n-1\n",
    "print range(5)\n",
    "\n",
    "for i in range(len(fruits)):\n",
    "    print i,fruits[i]\n",
    "    "
   ]
  },
  {
   "cell_type": "code",
   "execution_count": 35,
   "metadata": {
    "collapsed": false,
    "deletable": true,
    "editable": true
   },
   "outputs": [
    {
     "name": "stdout",
     "output_type": "stream",
     "text": [
      "[2, 3, 4, 5, 6, 7, 8]\n"
     ]
    }
   ],
   "source": [
    "# range(n1,n2) will return a list from n1 to n2-1\n",
    "print range(2,9)"
   ]
  },
  {
   "cell_type": "code",
   "execution_count": null,
   "metadata": {
    "collapsed": false,
    "deletable": true,
    "editable": true
   },
   "outputs": [],
   "source": [
    "# range(n1,n2,incr) will return a list from n1 to n2-1 in steps of incr\n",
    "print range(2,9,3)"
   ]
  },
  {
   "cell_type": "code",
   "execution_count": null,
   "metadata": {
    "collapsed": false,
    "deletable": true,
    "editable": true
   },
   "outputs": [],
   "source": [
    "# xrange creates an object with an iterator that returns the value on \n",
    "# demand. The demand is in the loop\n",
    "for i in xrange(len(fruits)):\n",
    "    print i, fruits[i]"
   ]
  },
  {
   "cell_type": "code",
   "execution_count": null,
   "metadata": {
    "collapsed": true,
    "deletable": true,
    "editable": true
   },
   "outputs": [],
   "source": []
  },
  {
   "cell_type": "code",
   "execution_count": 26,
   "metadata": {
    "collapsed": false,
    "deletable": true,
    "editable": true
   },
   "outputs": [
    {
     "name": "stdout",
     "output_type": "stream",
     "text": [
      "I love my country1\n",
      "\n",
      "frogs\n",
      "bogs\n",
      "\n",
      "logs     lots\n",
      "\n",
      "\n",
      "\n",
      "lots\n",
      "I love my country\n"
     ]
    }
   ],
   "source": [
    "# f is a filehandler\n",
    "f = open('python_list.txt')\n",
    "# readlines reads one line at a time from the file\n",
    "# Syntax filehandle.readlines()\n",
    "for line in f.readlines():\n",
    "    print line.strip() \n",
    "    # strip removes newline, carriage return, space etc at the beginning and at the end of the line\n",
    "f.close()"
   ]
  },
  {
   "cell_type": "code",
   "execution_count": 37,
   "metadata": {
    "collapsed": false,
    "deletable": true,
    "editable": true
   },
   "outputs": [
    {
     "name": "stdout",
     "output_type": "stream",
     "text": [
      "1\n",
      "2\n"
     ]
    }
   ],
   "source": [
    "with open('python_list.txt') as fh:\n",
    "    count =0\n",
    "    for line in fh.xreadlines():\n",
    "        for character in line:\n",
    "            if character.isupper():\n",
    "                count += 1\n",
    "                print count"
   ]
  },
  {
   "cell_type": "code",
   "execution_count": 38,
   "metadata": {
    "collapsed": false,
    "deletable": true,
    "editable": true
   },
   "outputs": [
    {
     "name": "stdout",
     "output_type": "stream",
     "text": [
      "I love my country1\n",
      "frogs\n",
      "bogs\n",
      "logs     lots\n",
      "lots\n",
      "I love my country\n"
     ]
    }
   ],
   "source": [
    "# f is a filehandler\n",
    "f = open('python_list.txt')\n",
    "# readlines reads one line at a time from the file\n",
    "# Syntax filehandle.readlines()\n",
    "for line in f.readlines():\n",
    "    cleanedline = line.strip() \n",
    "    if cleanedline:\n",
    "        print cleanedline\n",
    "    # strip removes newline, carriage return, space etc at the beginning and at the end of the line\n",
    "f.close()"
   ]
  },
  {
   "cell_type": "code",
   "execution_count": null,
   "metadata": {
    "collapsed": false,
    "deletable": true,
    "editable": true
   },
   "outputs": [],
   "source": [
    "'the    life  is    good   '.strip(' ')#strip works at the end and in the begnning only"
   ]
  },
  {
   "cell_type": "code",
   "execution_count": null,
   "metadata": {
    "collapsed": false,
    "deletable": true,
    "editable": true
   },
   "outputs": [],
   "source": [
    "';the    life  is    good   '.strip(';')"
   ]
  },
  {
   "cell_type": "code",
   "execution_count": null,
   "metadata": {
    "collapsed": false,
    "deletable": true,
    "editable": true
   },
   "outputs": [],
   "source": [
    "';the    life  is    good   '.strip(';')\n"
   ]
  },
  {
   "cell_type": "code",
   "execution_count": 39,
   "metadata": {
    "collapsed": false,
    "deletable": true,
    "editable": true
   },
   "outputs": [
    {
     "name": "stdout",
     "output_type": "stream",
     "text": [
      "first fruit 1 grapes\n",
      "second fruit 2 banana\n"
     ]
    }
   ],
   "source": [
    "for i in range(len(fruits)):\n",
    "   if i == 1:\n",
    "        print \"first fruit\",i, fruits[i]\n",
    "   elif i == 2:\n",
    "        print \"second fruit\",i, fruits[i] \n",
    "   elif i == 3:\n",
    "        pass "
   ]
  },
  {
   "cell_type": "code",
   "execution_count": 40,
   "metadata": {
    "collapsed": false,
    "deletable": true,
    "editable": true
   },
   "outputs": [
    {
     "name": "stdout",
     "output_type": "stream",
     "text": [
      "[0, 1, 2, 3, 4]\n"
     ]
    }
   ],
   "source": [
    "a = range(5)\n",
    "print a"
   ]
  },
  {
   "cell_type": "code",
   "execution_count": 41,
   "metadata": {
    "collapsed": false,
    "deletable": true,
    "editable": true
   },
   "outputs": [
    {
     "name": "stdout",
     "output_type": "stream",
     "text": [
      "0\n",
      "1\n",
      "2\n",
      "3\n",
      "4\n"
     ]
    }
   ],
   "source": [
    "a = range(5)\n",
    "for i in a:\n",
    "    print i"
   ]
  },
  {
   "cell_type": "code",
   "execution_count": 42,
   "metadata": {
    "collapsed": false,
    "deletable": true,
    "editable": true
   },
   "outputs": [
    {
     "name": "stdout",
     "output_type": "stream",
     "text": [
      "0\n",
      "1\n",
      "2\n",
      "3\n",
      "4\n"
     ]
    }
   ],
   "source": [
    "a = range(5)\n",
    "count = 0\n",
    "# Syntax of While\n",
    "# while something is true:\n",
    "#     execute statement(s) that are under this block \n",
    "while True:\n",
    "    print a[count]\n",
    "    count = count+1\n",
    "    if count == len(a):\n",
    "        break # this statement breaks out of the loop"
   ]
  },
  {
   "cell_type": "code",
   "execution_count": null,
   "metadata": {
    "collapsed": false,
    "deletable": true,
    "editable": true
   },
   "outputs": [],
   "source": [
    "for n in range(22, 30):\n",
    "    n = 20\n",
    "    if n % 3 == 0:\n",
    "        print n, 'is the first multiple of 3'\n",
    "        break\n",
    "    else:\n",
    "        print n, 'is not a multiple of 3'"
   ]
  },
  {
   "cell_type": "code",
   "execution_count": null,
   "metadata": {
    "collapsed": false,
    "deletable": true,
    "editable": true
   },
   "outputs": [],
   "source": [
    "for n in range(22, 30):\n",
    "    if n % 4 == 0:\n",
    "        print n, 'is a multiple of 4'\n",
    "        continue\n",
    "        print 'after'\n",
    "    else:\n",
    "        print n, 'is not a multiple of 4'"
   ]
  },
  {
   "cell_type": "code",
   "execution_count": null,
   "metadata": {
    "collapsed": false,
    "deletable": true,
    "editable": true
   },
   "outputs": [],
   "source": [
    "a = 1\n",
    "for i in range(5):\n",
    "    a *= (i+1)#a=a*(i+1)\n",
    "print a,i"
   ]
  },
  {
   "cell_type": "code",
   "execution_count": 46,
   "metadata": {
    "collapsed": false,
    "deletable": true,
    "editable": true
   },
   "outputs": [
    {
     "ename": "NameError",
     "evalue": "name 'item' is not defined",
     "output_type": "error",
     "traceback": [
      "\u001b[0;31m\u001b[0m",
      "\u001b[0;31mNameError\u001b[0mTraceback (most recent call last)",
      "\u001b[0;32m<ipython-input-46-ea13cdfd1393>\u001b[0m in \u001b[0;36m<module>\u001b[0;34m()\u001b[0m\n\u001b[1;32m      2\u001b[0m     \u001b[0;32mpass\u001b[0m \u001b[0;31m# this statement will do nothing\u001b[0m\u001b[0;34m\u001b[0m\u001b[0m\n\u001b[1;32m      3\u001b[0m \u001b[0;34m\u001b[0m\u001b[0m\n\u001b[0;32m----> 4\u001b[0;31m \u001b[0;32mprint\u001b[0m \u001b[0mitem\u001b[0m \u001b[0;31m# Will give NameError. Why? #item is not the list it is value in a list\u001b[0m\u001b[0;34m\u001b[0m\u001b[0m\n\u001b[0m",
      "\u001b[0;31mNameError\u001b[0m: name 'item' is not defined"
     ]
    }
   ],
   "source": [
    "for item in []:\n",
    "    pass # this statement will do nothing  \n",
    "\n",
    "print item # Will give NameError. Why? #item is not the list it is value in a list"
   ]
  },
  {
   "cell_type": "code",
   "execution_count": 47,
   "metadata": {
    "collapsed": false,
    "deletable": true,
    "editable": true
   },
   "outputs": [
    {
     "ename": "NameError",
     "evalue": "name 'item' is not defined",
     "output_type": "error",
     "traceback": [
      "\u001b[0;31m\u001b[0m",
      "\u001b[0;31mNameError\u001b[0mTraceback (most recent call last)",
      "\u001b[0;32m<ipython-input-47-60e36dd882b8>\u001b[0m in \u001b[0;36m<module>\u001b[0;34m()\u001b[0m\n\u001b[1;32m      2\u001b[0m     \u001b[0;32mpass\u001b[0m \u001b[0;31m# this statement will do nothing\u001b[0m\u001b[0;34m\u001b[0m\u001b[0m\n\u001b[1;32m      3\u001b[0m \u001b[0;34m\u001b[0m\u001b[0m\n\u001b[0;32m----> 4\u001b[0;31m \u001b[0;32mprint\u001b[0m \u001b[0mitem\u001b[0m \u001b[0;31m# the last value of loop leaks out\u001b[0m\u001b[0;34m\u001b[0m\u001b[0m\n\u001b[0m",
      "\u001b[0;31mNameError\u001b[0m: name 'item' is not defined"
     ]
    }
   ],
   "source": [
    "for item in []:\n",
    "    pass # this statement will do nothing  \n",
    "\n",
    "print item # the last value of loop leaks out"
   ]
  },
  {
   "cell_type": "code",
   "execution_count": 48,
   "metadata": {
    "collapsed": false,
    "deletable": true,
    "editable": true
   },
   "outputs": [
    {
     "name": "stdout",
     "output_type": "stream",
     "text": [
      "1\n"
     ]
    }
   ],
   "source": [
    "for item in [1]:\n",
    "    pass \n",
    "print item"
   ]
  },
  {
   "cell_type": "code",
   "execution_count": 49,
   "metadata": {
    "collapsed": false,
    "deletable": true,
    "editable": true
   },
   "outputs": [
    {
     "name": "stdout",
     "output_type": "stream",
     "text": [
      "[1, 3, 6, -2, -1, 5, 8]\n"
     ]
    }
   ],
   "source": [
    "some_list = [1, 3, 6, -2, -1,5, 8]\n",
    "print some_list"
   ]
  },
  {
   "cell_type": "code",
   "execution_count": null,
   "metadata": {
    "collapsed": false,
    "deletable": true,
    "editable": true
   },
   "outputs": [],
   "source": [
    "for items in some_list:\n",
    "    if items < 0:\n",
    "        # we are iterating through some_list until we hit the first negative number\n",
    "        print items\n",
    "        break"
   ]
  },
  {
   "cell_type": "code",
   "execution_count": null,
   "metadata": {
    "collapsed": false,
    "deletable": true,
    "editable": true
   },
   "outputs": [
    {
     "name": "stdout",
     "output_type": "stream",
     "text": [
      "please enter a name:divya\n",
      "('u entered :', 'divya')\n"
     ]
    }
   ],
   "source": [
    "'''\n",
    "Inclass activity:\n",
    "Write a code that will take name from the user until the user decides to \n",
    "quit by entering q or Q. Also perform a check to see whether the user \n",
    "entered anything. If the user didn't enter anything, ask them to \n",
    "enter a name. \n",
    "'''\n",
    "\n",
    "while True:\n",
    "    urname =raw_input('please enter a name:')\n",
    "    if urname == 'q' or urname == 'Q':\n",
    "        print \"you choose to exit\"\n",
    "        break\n",
    "    elif urname==' ':\n",
    "        print(\"please enter a valid name\")\n",
    "    else:\n",
    "        print(\"u entered :\",urname)\n",
    "                    \n"
   ]
  },
  {
   "cell_type": "code",
   "execution_count": null,
   "metadata": {
    "collapsed": true,
    "deletable": true,
    "editable": true
   },
   "outputs": [],
   "source": []
  },
  {
   "cell_type": "code",
   "execution_count": null,
   "metadata": {
    "collapsed": true,
    "deletable": true,
    "editable": true
   },
   "outputs": [],
   "source": []
  }
 ],
 "metadata": {
  "kernelspec": {
   "display_name": "Python 2",
   "language": "python",
   "name": "python2"
  },
  "language_info": {
   "codemirror_mode": {
    "name": "ipython",
    "version": 2
   },
   "file_extension": ".py",
   "mimetype": "text/x-python",
   "name": "python",
   "nbconvert_exporter": "python",
   "pygments_lexer": "ipython2",
   "version": "2.7.13"
  }
 },
 "nbformat": 4,
 "nbformat_minor": 0
}
