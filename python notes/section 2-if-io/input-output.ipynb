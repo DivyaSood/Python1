{
 "cells": [
  {
   "cell_type": "code",
   "execution_count": 7,
   "metadata": {
    "collapsed": false,
    "deletable": true,
    "editable": true
   },
   "outputs": [
    {
     "data": {
      "text/plain": [
       "'\\nInput and output functions\\n\\n1. stdout using print\\n2. formatted printing\\n3. stdin using \\n\\n'"
      ]
     },
     "execution_count": 7,
     "metadata": {},
     "output_type": "execute_result"
    }
   ],
   "source": [
    "'''\n",
    "Input and output functions\n",
    "\n",
    "1. stdout using print\n",
    "2. formatted printing\n",
    "3. stdin using \n",
    "\n",
    "'''"
   ]
  },
  {
   "cell_type": "code",
   "execution_count": 1,
   "metadata": {
    "collapsed": false,
    "deletable": true,
    "editable": true
   },
   "outputs": [
    {
     "name": "stdout",
     "output_type": "stream",
     "text": [
      "[1, 2, 3]\n"
     ]
    }
   ],
   "source": [
    "list =[1,2,3,]\n",
    "print list"
   ]
  },
  {
   "cell_type": "code",
   "execution_count": 8,
   "metadata": {
    "collapsed": false,
    "deletable": true,
    "editable": true
   },
   "outputs": [
    {
     "name": "stdout",
     "output_type": "stream",
     "text": [
      "4\n"
     ]
    }
   ],
   "source": [
    "a = 4\n",
    "print a # a simple print statement "
   ]
  },
  {
   "cell_type": "code",
   "execution_count": 9,
   "metadata": {
    "collapsed": false,
    "deletable": true,
    "editable": true
   },
   "outputs": [
    {
     "name": "stdout",
     "output_type": "stream",
     "text": [
      "the value of a is:  4\n"
     ]
    }
   ],
   "source": [
    "print 'the value of a is: ',a \n",
    "#note that there is no %d inside the string so we don't have % before a"
   ]
  },
  {
   "cell_type": "code",
   "execution_count": 10,
   "metadata": {
    "collapsed": false,
    "deletable": true,
    "editable": true
   },
   "outputs": [
    {
     "name": "stdout",
     "output_type": "stream",
     "text": [
      "the value of a is 4\n"
     ]
    }
   ],
   "source": [
    "print 'the value of a is %d' %a\n",
    "#note that since there is %d inside the string, so we have % before a"
   ]
  },
  {
   "cell_type": "code",
   "execution_count": 4,
   "metadata": {
    "collapsed": false,
    "deletable": true,
    "editable": true
   },
   "outputs": [
    {
     "data": {
      "text/plain": [
       "'0000000314'"
      ]
     },
     "execution_count": 4,
     "metadata": {},
     "output_type": "execute_result"
    }
   ],
   "source": [
    "# number.zfill(n) will put zeros so that the \n",
    "# total number of digits in the number is n \n",
    "# if the number has a negative in front then the negative sign \n",
    "# is also accounted for.\n",
    "'314'.zfill(10)\n"
   ]
  },
  {
   "cell_type": "code",
   "execution_count": 12,
   "metadata": {
    "collapsed": false,
    "deletable": true,
    "editable": true
   },
   "outputs": [
    {
     "name": "stdout",
     "output_type": "stream",
     "text": [
      "-000003.14\n"
     ]
    }
   ],
   "source": [
    "print'-3.14'.zfill(10)"
   ]
  },
  {
   "cell_type": "code",
   "execution_count": 13,
   "metadata": {
    "collapsed": false,
    "deletable": true,
    "editable": true
   },
   "outputs": [
    {
     "name": "stdout",
     "output_type": "stream",
     "text": [
      "san jose and santa clara\n"
     ]
    }
   ],
   "source": [
    "# formatted printing\n",
    "print '{0} and {1}'.format('san jose','santa clara')"
   ]
  },
  {
   "cell_type": "code",
   "execution_count": 16,
   "metadata": {
    "collapsed": false,
    "deletable": true,
    "editable": true
   },
   "outputs": [
    {
     "name": "stdout",
     "output_type": "stream",
     "text": [
      "Himanshu and divya\n"
     ]
    }
   ],
   "source": [
    "print '{1} and {0}' .format('divya', 'Himanshu')"
   ]
  },
  {
   "cell_type": "code",
   "execution_count": 9,
   "metadata": {
    "collapsed": false,
    "deletable": true,
    "editable": true
   },
   "outputs": [
    {
     "name": "stdout",
     "output_type": "stream",
     "text": [
      "a and b\n"
     ]
    }
   ],
   "source": [
    "a= 'sanjose'\n",
    "b= 'santaclara'\n",
    "print '{0} and {1}'.format('a','b')"
   ]
  },
  {
   "cell_type": "code",
   "execution_count": 17,
   "metadata": {
    "collapsed": false,
    "deletable": true,
    "editable": true
   },
   "outputs": [
    {
     "name": "stdout",
     "output_type": "stream",
     "text": [
      "san jose and sunnywale\n"
     ]
    }
   ],
   "source": [
    " print '{0} and {1}'.format('san jose','sunnywale') # fails as we need to provide two values"
   ]
  },
  {
   "cell_type": "code",
   "execution_count": 16,
   "metadata": {
    "collapsed": false,
    "deletable": true,
    "editable": true
   },
   "outputs": [
    {
     "name": "stdout",
     "output_type": "stream",
     "text": [
      "san jose\n"
     ]
    }
   ],
   "source": [
    " print '{0}'.format('san jose','santa clara') \n",
    "# the first value in the list will be printed"
   ]
  },
  {
   "cell_type": "code",
   "execution_count": 17,
   "metadata": {
    "collapsed": false,
    "deletable": true,
    "editable": true
   },
   "outputs": [
    {
     "name": "stdout",
     "output_type": "stream",
     "text": [
      "San jose and Sacramento\n"
     ]
    }
   ],
   "source": [
    " print '{nearcity} and {farcity}'.format(farcity='Sacramento',nearcity='San jose')"
   ]
  },
  {
   "cell_type": "code",
   "execution_count": 4,
   "metadata": {
    "collapsed": false,
    "deletable": true,
    "editable": true
   },
   "outputs": [
    {
     "name": "stdout",
     "output_type": "stream",
     "text": [
      "PI = 3.142\n"
     ]
    }
   ],
   "source": [
    "import math \n",
    "print 'PI = %0.3f'%(math.pi) # The () is optional for one input"
   ]
  },
  {
   "cell_type": "code",
   "execution_count": 21,
   "metadata": {
    "collapsed": false,
    "deletable": true,
    "editable": true
   },
   "outputs": [
    {
     "name": "stdout",
     "output_type": "stream",
     "text": [
      "a =3\n"
     ]
    }
   ],
   "source": [
    "a=3.76\n",
    "print 'a =%d'%a#print only the integer value"
   ]
  },
  {
   "cell_type": "code",
   "execution_count": 10,
   "metadata": {
    "collapsed": false
   },
   "outputs": [
    {
     "name": "stdout",
     "output_type": "stream",
     "text": [
      "a=5 ,b=8.8 ,c=8\n"
     ]
    }
   ],
   "source": [
    "a=4.65\n",
    "b=8.78\n",
    "c=7.90\n",
    "print 'a=%0.f ,b=%0.1f ,c=%0.f'%(a,b,c)"
   ]
  },
  {
   "cell_type": "code",
   "execution_count": 4,
   "metadata": {
    "collapsed": false,
    "deletable": true,
    "editable": true
   },
   "outputs": [
    {
     "name": "stdout",
     "output_type": "stream",
     "text": [
      "a = 5 3\n"
     ]
    }
   ],
   "source": [
    "a = 5\n",
    "b = 3.25\n",
    "print 'a = %d %d' %(a,b)"
   ]
  },
  {
   "cell_type": "code",
   "execution_count": 11,
   "metadata": {
    "collapsed": false,
    "deletable": true,
    "editable": true
   },
   "outputs": [
    {
     "name": "stdout",
     "output_type": "stream",
     "text": [
      "a = 5 b = 3.25 c = 5.6\n"
     ]
    }
   ],
   "source": [
    "a = 5\n",
    "b = 3.25\n",
    "c = '5.6'#c is a string\n",
    "print 'a = %d b = %0.2f c = %0s' %(a,b,c)"
   ]
  },
  {
   "cell_type": "code",
   "execution_count": null,
   "metadata": {
    "collapsed": true,
    "deletable": true,
    "editable": true
   },
   "outputs": [],
   "source": []
  },
  {
   "cell_type": "code",
   "execution_count": 22,
   "metadata": {
    "collapsed": false,
    "deletable": true,
    "editable": true
   },
   "outputs": [
    {
     "data": {
      "text/plain": [
       "float"
      ]
     },
     "execution_count": 22,
     "metadata": {},
     "output_type": "execute_result"
    }
   ],
   "source": [
    "a = 5.0\n",
    "type(a)"
   ]
  },
  {
   "cell_type": "code",
   "execution_count": 5,
   "metadata": {
    "collapsed": false,
    "deletable": true,
    "editable": true
   },
   "outputs": [
    {
     "data": {
      "text/plain": [
       "int"
      ]
     },
     "execution_count": 5,
     "metadata": {},
     "output_type": "execute_result"
    }
   ],
   "source": [
    "b =3\n",
    "type(b)"
   ]
  },
  {
   "cell_type": "code",
   "execution_count": 46,
   "metadata": {
    "collapsed": false,
    "deletable": true,
    "editable": true
   },
   "outputs": [
    {
     "name": "stdout",
     "output_type": "stream",
     "text": [
      "value of x is 4 and value of y is 16...\n"
     ]
    }
   ],
   "source": [
    "x=2*2\n",
    "y=4*4\n",
    "print 'value of x is '  + repr(x)+ ' and value of y is '+ repr(y)+'...'"
   ]
  },
  {
   "cell_type": "code",
   "execution_count": 68,
   "metadata": {
    "collapsed": false,
    "deletable": true,
    "editable": true
   },
   "outputs": [
    {
     "name": "stdout",
     "output_type": "stream",
     "text": [
      " 1     1      1      1\n",
      " 2     4      8     16\n",
      " 3     9     27     81\n",
      " 4    16     64    256\n"
     ]
    }
   ],
   "source": [
    "for x in range(1,5): #tables of squres and cubes\n",
    "    print '{0:2d}   {1:3d}   {2:4d}  {3:5d}'.format(x,x*x,x*x*x,x*x*x*x)"
   ]
  },
  {
   "cell_type": "code",
   "execution_count": 72,
   "metadata": {
    "collapsed": false,
    "deletable": true,
    "editable": true
   },
   "outputs": [
    {
     "data": {
      "text/plain": [
       "'00000000000000000000000000000000000000000000000000000000000000000000000000000000000000000002.9086785'"
      ]
     },
     "execution_count": 72,
     "metadata": {},
     "output_type": "execute_result"
    }
   ],
   "source": [
    "'00000000002.9086785'.zfill(100)"
   ]
  },
  {
   "cell_type": "code",
   "execution_count": 82,
   "metadata": {
    "collapsed": false,
    "deletable": true,
    "editable": true
   },
   "outputs": [
    {
     "name": "stdout",
     "output_type": "stream",
     "text": [
      "The value of PI is 3.142\n"
     ]
    }
   ],
   "source": [
    "import math\n",
    "print 'The value of PI is {0:.03f}'.format(math.pi)"
   ]
  },
  {
   "cell_type": "code",
   "execution_count": 73,
   "metadata": {
    "collapsed": false,
    "deletable": true,
    "editable": true
   },
   "outputs": [
    {
     "name": "stdout",
     "output_type": "stream",
     "text": [
      "1  1   1    1\n",
      "2  4   8   16\n",
      "3  9  27   81\n",
      "4 16  64  256\n"
     ]
    }
   ],
   "source": [
    "for x in range(1,5):\n",
    "    print repr(x).rjust(1), repr(x*x).rjust(2), repr(x*x*x).rjust(3), repr(x*x*x*x).rjust(4)"
   ]
  },
  {
   "cell_type": "code",
   "execution_count": 6,
   "metadata": {
    "collapsed": false,
    "deletable": true,
    "editable": true
   },
   "outputs": [
    {
     "name": "stdout",
     "output_type": "stream",
     "text": [
      "<open file 'python_list.txt', mode 'r' at 0x1048aef60>\n",
      "dogs00000011111111\r\n",
      "\n",
      "\r\n",
      "\n",
      "  frogs\r\n",
      "\n",
      "                      bogs\r\n",
      "\n",
      "\r\n",
      "\n",
      "     logs     lots\r\n",
      "\n",
      "\r\n",
      "\n",
      "\r\n",
      "\n",
      "\r\n",
      "\n",
      "lots\r\n",
      "\n"
     ]
    }
   ],
   "source": [
    "f = open('python_list.txt')\n",
    "print f\n",
    "for line in f.readlines():\n",
    "    print line.strip(\"10\")\n",
    "f.close()"
   ]
  },
  {
   "cell_type": "code",
   "execution_count": 107,
   "metadata": {
    "collapsed": false,
    "deletable": true,
    "editable": true
   },
   "outputs": [
    {
     "name": "stdout",
     "output_type": "stream",
     "text": [
      "<open file 'python_list.txt', mode 'r+' at 0x1048b29c0>\n",
      "dogs00000011111111\r\n",
      "\n",
      "\r\n",
      "\n",
      "  frogs\r\n",
      "\n",
      "                      bogs\r\n",
      "\n",
      "\r\n",
      "\n",
      "     logs     lots\r\n",
      "\n",
      "\r\n",
      "\n",
      "\r\n",
      "\n",
      "\r\n",
      "\n",
      "lots\r\n",
      "\n"
     ]
    }
   ],
   "source": [
    "f= open('python_list.txt','r+')\n",
    "print f\n",
    "for line in f.readlines():\n",
    "    print line"
   ]
  },
  {
   "cell_type": "code",
   "execution_count": 116,
   "metadata": {
    "collapsed": false,
    "deletable": true,
    "editable": true
   },
   "outputs": [
    {
     "name": "stdout",
     "output_type": "stream",
     "text": [
      "<open file 'python_list.txt', mode 'r+' at 0x1048b29c0>\n",
      "I love my country1\r\n",
      "\n",
      "\r\n",
      "\n",
      "  frogs\r\n",
      "\n",
      "                      bogs\r\n",
      "\n",
      "\r\n",
      "\n",
      "     logs     lots\r\n",
      "\n",
      "\r\n",
      "\n",
      "\r\n",
      "\n",
      "\r\n",
      "\n",
      "lots\r\n",
      "\n",
      "<open file 'python_list.txt', mode 'r+' at 0x1048b29c0>\n"
     ]
    }
   ],
   "source": [
    "# Try change the path of the file()\n",
    "f = open('python_list.txt','r+')\n",
    "print f\n",
    "for line in f.readlines():\n",
    "    print line\n",
    "f.write('I love my country')\n",
    "print f\n",
    "f.close()"
   ]
  },
  {
   "cell_type": "code",
   "execution_count": 12,
   "metadata": {
    "collapsed": false
   },
   "outputs": [
    {
     "name": "stdout",
     "output_type": "stream",
     "text": [
      "<open file 'python_list.txt', mode 'r' at 0x10464ff60>\n",
      "I love my country1\r\n",
      "\n",
      "\r\n",
      "\n",
      "  frogs\r\n",
      "\n",
      "                      bogs\r\n",
      "\n",
      "\r\n",
      "\n",
      "     logs     lots\r\n",
      "\n",
      "\r\n",
      "\n",
      "\r\n",
      "\n",
      "\r\n",
      "\n",
      "lots\r\n",
      "\n",
      "I love my country\n"
     ]
    }
   ],
   "source": [
    "f=open('python_list.txt','r')\n",
    "print f\n",
    "for line in f.readlines():\n",
    "    print line"
   ]
  },
  {
   "cell_type": "code",
   "execution_count": 25,
   "metadata": {
    "collapsed": false,
    "deletable": true,
    "editable": true
   },
   "outputs": [
    {
     "name": "stdout",
     "output_type": "stream",
     "text": [
      "Enter a name : divya\n",
      "divya\n"
     ]
    }
   ],
   "source": [
    "'''\n",
    "raw_input() gets input from the command line.\n",
    "In this example, we are getting the input from the user and assigning it \n",
    "to variable s.\n",
    "'''\n",
    "s = raw_input('Enter a name : ')\n",
    "print s"
   ]
  },
  {
   "cell_type": "code",
   "execution_count": 26,
   "metadata": {
    "collapsed": false,
    "deletable": true,
    "editable": true
   },
   "outputs": [
    {
     "name": "stdout",
     "output_type": "stream",
     "text": [
      "Enter a name : divya\n",
      "divya <type 'str'>\n"
     ]
    }
   ],
   "source": [
    "'''\n",
    "raw_input() gets input from the command line.\n",
    "In this example, we are getting the input from the user and assigning it \n",
    "to variable s.\n",
    "'''\n",
    "s = raw_input('Enter a name : ')\n",
    "print s, type(s)"
   ]
  },
  {
   "cell_type": "code",
   "execution_count": 13,
   "metadata": {
    "collapsed": false,
    "deletable": true,
    "editable": true
   },
   "outputs": [
    {
     "name": "stdout",
     "output_type": "stream",
     "text": [
      "Enter a height. :1234\n",
      "1234 <type 'str'>\n"
     ]
    }
   ],
   "source": [
    "'''\n",
    "raw_input() gets input from the command line.\n",
    "In this example, we are getting the input from the user and assigning it \n",
    "to variable s.\n",
    "'''\n",
    "s = raw_input('Enter a height. :' )\n",
    "print s, type(s)"
   ]
  },
  {
   "cell_type": "code",
   "execution_count": null,
   "metadata": {
    "collapsed": true,
    "deletable": true,
    "editable": true
   },
   "outputs": [],
   "source": [
    "'''\n",
    "In-class activity: Ask the user to input an integer.\n",
    "Print the value and its type. If type is not integer, type cast it to integer\n",
    "'''"
   ]
  },
  {
   "cell_type": "code",
   "execution_count": 14,
   "metadata": {
    "collapsed": false,
    "deletable": true,
    "editable": true
   },
   "outputs": [
    {
     "name": "stdout",
     "output_type": "stream",
     "text": [
      "Please enter an integerabc\n"
     ]
    },
    {
     "ename": "ValueError",
     "evalue": "invalid literal for int() with base 10: 'abc'",
     "output_type": "error",
     "traceback": [
      "\u001b[0;31m\u001b[0m",
      "\u001b[0;31mValueError\u001b[0mTraceback (most recent call last)",
      "\u001b[0;32m<ipython-input-14-e820bc67a02c>\u001b[0m in \u001b[0;36m<module>\u001b[0;34m()\u001b[0m\n\u001b[0;32m----> 1\u001b[0;31m \u001b[0mvalue\u001b[0m \u001b[0;34m=\u001b[0m\u001b[0mint\u001b[0m\u001b[0;34m(\u001b[0m\u001b[0mraw_input\u001b[0m\u001b[0;34m(\u001b[0m\u001b[0;34m'Please enter an integer'\u001b[0m\u001b[0;34m)\u001b[0m\u001b[0;34m)\u001b[0m\u001b[0;34m\u001b[0m\u001b[0m\n\u001b[0m\u001b[1;32m      2\u001b[0m \u001b[0;32mprint\u001b[0m \u001b[0mvalue\u001b[0m\u001b[0;34m,\u001b[0m \u001b[0mtype\u001b[0m\u001b[0;34m(\u001b[0m\u001b[0mvalue\u001b[0m\u001b[0;34m)\u001b[0m\u001b[0;34m\u001b[0m\u001b[0m\n",
      "\u001b[0;31mValueError\u001b[0m: invalid literal for int() with base 10: 'abc'"
     ]
    }
   ],
   "source": [
    "value =int(raw_input('Please enter an integer'))\n",
    "print value, type(value)"
   ]
  },
  {
   "cell_type": "code",
   "execution_count": 28,
   "metadata": {
    "collapsed": false,
    "deletable": true,
    "editable": true
   },
   "outputs": [
    {
     "name": "stdout",
     "output_type": "stream",
     "text": [
      "please enter an integer1234\n",
      "1234 <type 'int'>\n"
     ]
    }
   ],
   "source": [
    "int1 = int(raw_input('please enter an integer'))\n",
    "print int1, type(int1)"
   ]
  },
  {
   "cell_type": "code",
   "execution_count": 110,
   "metadata": {
    "collapsed": false,
    "deletable": true,
    "editable": true
   },
   "outputs": [
    {
     "name": "stdout",
     "output_type": "stream",
     "text": [
      "please enter an integer123\n"
     ]
    },
    {
     "ename": "TypeError",
     "evalue": "'int' object is not callable",
     "output_type": "error",
     "traceback": [
      "\u001b[0;31m\u001b[0m",
      "\u001b[0;31mTypeError\u001b[0mTraceback (most recent call last)",
      "\u001b[0;32m<ipython-input-110-e84a6012bd71>\u001b[0m in \u001b[0;36m<module>\u001b[0;34m()\u001b[0m\n\u001b[1;32m      1\u001b[0m \u001b[0mint1\u001b[0m \u001b[0;34m=\u001b[0m \u001b[0mraw_input\u001b[0m\u001b[0;34m(\u001b[0m\u001b[0;34m'please enter an integer'\u001b[0m\u001b[0;34m)\u001b[0m\u001b[0;34m\u001b[0m\u001b[0m\n\u001b[1;32m      2\u001b[0m \u001b[0;31m#since we know int1 will be of type string\u001b[0m\u001b[0;34m\u001b[0m\u001b[0;34m\u001b[0m\u001b[0m\n\u001b[0;32m----> 3\u001b[0;31m \u001b[0mint1\u001b[0m \u001b[0;34m=\u001b[0m \u001b[0mint\u001b[0m\u001b[0;34m(\u001b[0m\u001b[0mint1\u001b[0m\u001b[0;34m)\u001b[0m\u001b[0;34m\u001b[0m\u001b[0m\n\u001b[0m\u001b[1;32m      4\u001b[0m \u001b[0;32mprint\u001b[0m \u001b[0mint1\u001b[0m\u001b[0;34m\u001b[0m\u001b[0m\n\u001b[1;32m      5\u001b[0m \u001b[0;32mprint\u001b[0m \u001b[0mtype\u001b[0m\u001b[0;34m(\u001b[0m\u001b[0mint1\u001b[0m\u001b[0;34m)\u001b[0m\u001b[0;34m\u001b[0m\u001b[0m\n",
      "\u001b[0;31mTypeError\u001b[0m: 'int' object is not callable"
     ]
    }
   ],
   "source": [
    "int1 = raw_input('please enter an integer')\n",
    "#since we know int1 will be of type string\n",
    "int1 = int(int1)\n",
    "print int1\n",
    "print type(int1)"
   ]
  },
  {
   "cell_type": "code",
   "execution_count": 111,
   "metadata": {
    "collapsed": false,
    "deletable": true,
    "editable": true
   },
   "outputs": [
    {
     "name": "stdout",
     "output_type": "stream",
     "text": [
      "123\n",
      "<type 'str'>\n",
      "175\n"
     ]
    }
   ],
   "source": [
    "print int1; print type(int1); print 175"
   ]
  },
  {
   "cell_type": "code",
   "execution_count": 31,
   "metadata": {
    "collapsed": false,
    "deletable": true,
    "editable": true
   },
   "outputs": [
    {
     "name": "stdout",
     "output_type": "stream",
     "text": [
      "r2\n"
     ]
    }
   ],
   "source": [
    "a = 'r'\n",
    "b = str(2)\n",
    "print a+b#string concatenation"
   ]
  },
  {
   "cell_type": "code",
   "execution_count": 32,
   "metadata": {
    "collapsed": false,
    "deletable": true,
    "editable": true
   },
   "outputs": [
    {
     "name": "stdout",
     "output_type": "stream",
     "text": [
      "r 2\n"
     ]
    }
   ],
   "source": [
    "a = 'r'\n",
    "b = str(2)\n",
    "print a,b"
   ]
  },
  {
   "cell_type": "code",
   "execution_count": null,
   "metadata": {
    "collapsed": false,
    "deletable": true,
    "editable": true
   },
   "outputs": [],
   "source": [
    "'''\n",
    "Inclass activity: Can you insert a space between r and 2? If yes, then implement it. \n",
    "'''\n"
   ]
  },
  {
   "cell_type": "code",
   "execution_count": 33,
   "metadata": {
    "collapsed": false,
    "deletable": true,
    "editable": true
   },
   "outputs": [
    {
     "name": "stdout",
     "output_type": "stream",
     "text": [
      "r 2\n"
     ]
    }
   ],
   "source": [
    "a= 'r'\n",
    "b= str(2)\n",
    "print a,b"
   ]
  },
  {
   "cell_type": "code",
   "execution_count": 7,
   "metadata": {
    "collapsed": false,
    "deletable": true,
    "editable": true
   },
   "outputs": [
    {
     "name": "stdout",
     "output_type": "stream",
     "text": [
      "abc\n",
      "xyz \n",
      "i234\n",
      "divya\n",
      "himanshu\n",
      "\n"
     ]
    }
   ],
   "source": [
    "'''\n",
    "Inclass activity: Create a txt file and write names of 10 states and close the file. Then open the file\n",
    "and print each list\n",
    "'''\n",
    "f=open('C:\\Users\\hello\\Desktop\\div.txt','w')\n",
    "f.write (\"abc\\n\")\n",
    "f.write(\"xyz \\n\")\n",
    "f.write(\"i234\\n\")\n",
    "f.write(\"divya\\n\")\n",
    "f.write(\"himanshu\\n\")\n",
    "f.close()\n",
    "e=open('C:\\Users\\hello\\Desktop\\div.txt','r')\n",
    "print e.read()\n"
   ]
  },
  {
   "cell_type": "code",
   "execution_count": 17,
   "metadata": {
    "collapsed": false
   },
   "outputs": [
    {
     "name": "stdout",
     "output_type": "stream",
     "text": [
      "hello world\n",
      "Divya\n",
      "Himanshu\n",
      "\n"
     ]
    }
   ],
   "source": [
    "f=open('new_file.txt','w')\n",
    "f.write(\"hello world\\n\")\n",
    "f.write(\"Divya\\n\")\n",
    "f.write(\"Himanshu\\n\")\n",
    "f.close\n",
    "#print f\n",
    "e=open('new_file.txt','r')\n",
    "print e.read()"
   ]
  },
  {
   "cell_type": "code",
   "execution_count": null,
   "metadata": {
    "collapsed": true
   },
   "outputs": [],
   "source": [
    "f=open('new_file.txt','a')\n",
    "f.write(\"Love\\n\")\n",
    "f.write(\"married\\n\")\n",
    "f.close\n",
    "e=open(new_fi)"
   ]
  },
  {
   "cell_type": "code",
   "execution_count": 117,
   "metadata": {
    "collapsed": false,
    "deletable": true,
    "editable": true
   },
   "outputs": [
    {
     "name": "stdout",
     "output_type": "stream",
     "text": [
      "abc\n",
      "Ifg\n",
      "\n"
     ]
    }
   ],
   "source": [
    "f=open('Desktop\\DH.txt','w')\n",
    "f.write ('abc\\n')\n",
    "f.write('Ifg\\n')\n",
    "f.close()\n",
    "e=open('Desktop\\DH.txt','r')\n",
    "print e.read()"
   ]
  },
  {
   "cell_type": "code",
   "execution_count": 24,
   "metadata": {
    "collapsed": false
   },
   "outputs": [
    {
     "name": "stdout",
     "output_type": "stream",
     "text": [
      "DivyaLovesHimanshu\n"
     ]
    }
   ],
   "source": [
    "a=\"Divya\"\n",
    "b=  \"Loves\"\n",
    "c=    \"Himanshu\"\n",
    "\n",
    "print a  +  b  +  c"
   ]
  },
  {
   "cell_type": "code",
   "execution_count": 8,
   "metadata": {
    "collapsed": false,
    "deletable": true,
    "editable": true
   },
   "outputs": [
    {
     "name": "stdout",
     "output_type": "stream",
     "text": [
      "yes\n",
      "love \n",
      "hero\n",
      "ektha\n",
      "kapish\n",
      "Rakesh\n",
      "\n"
     ]
    }
   ],
   "source": [
    "f=open('C:\\Users\\hello\\Desktop\\newterminal.txt','w')\n",
    "f.write (\"yes\\n\")\n",
    "f.write(\"love \\n\")\n",
    "f.write(\"hero\\n\")\n",
    "f.write(\"ektha\\n\")\n",
    "f.write(\"kapish\\n\")\n",
    "f.write(\"Rakesh\\n\")\n",
    "f.close()\n",
    "e=open('C:\\Users\\hello\\Desktop\\newterminal.txt','r')\n",
    "print e.read()"
   ]
  },
  {
   "cell_type": "code",
   "execution_count": 11,
   "metadata": {
    "collapsed": false,
    "deletable": true,
    "editable": true
   },
   "outputs": [
    {
     "name": "stdout",
     "output_type": "stream",
     "text": [
      "himanshu\n",
      "divya \n",
      "ektha\n",
      "kapish\n",
      "rakesh\n",
      "\n"
     ]
    }
   ],
   "source": [
    "f=open('C:\\Users\\hello\\Desktop\\helloworld.txt','w')\n",
    "f.write (\"himanshu\\n\")\n",
    "f.write(\"divya \\n\")\n",
    "f.write(\"ektha\\n\")\n",
    "f.write(\"kapish\\n\")\n",
    "f.write(\"rakesh\\n\")\n",
    "f.close()\n",
    "e=open('C:\\Users\\hello\\Desktop\\helloworld.txt','r')\n",
    "print e.read()"
   ]
  },
  {
   "cell_type": "code",
   "execution_count": 118,
   "metadata": {
    "collapsed": false,
    "deletable": true,
    "editable": true
   },
   "outputs": [
    {
     "name": "stdout",
     "output_type": "stream",
     "text": [
      "himanshu\n",
      "divya \n",
      "ektha\n",
      "kapish\n",
      "rakesh\n",
      "i love my family\n",
      "means world to me\n",
      "i love my family\n",
      "means world to me\n",
      "\n"
     ]
    }
   ],
   "source": [
    "f=open('C:\\Users\\hello\\Desktop\\helloworld.txt','a')\n",
    "f.write(\"i love my family\\n\")\n",
    "f.write(\"means world to me\\n\")\n",
    "#f.write (\"himanshu\\n\")\n",
    "#f.write(\"divya \\n\")\n",
    "#f.write(\"ektha\\n\")\n",
    "#f.write(\"kapish\\n\")\n",
    "#f.write(\"rakesh\\n\")\n",
    "f.close()\n",
    "e=open('C:\\Users\\hello\\Desktop\\helloworld.txt','r')\n",
    "print e.read()"
   ]
  },
  {
   "cell_type": "code",
   "execution_count": 35,
   "metadata": {
    "collapsed": false,
    "deletable": true,
    "editable": true
   },
   "outputs": [
    {
     "name": "stdout",
     "output_type": "stream",
     "text": [
      "abc\n",
      "xyz \n",
      "i234\n",
      "divya\n",
      "himanshu\n",
      "anil\n",
      "pajam\n",
      "\n"
     ]
    }
   ],
   "source": [
    "f=open('C:\\Users\\hello\\Desktop\\div.txt','a')#to make changes to exsiting file use append\n",
    "f.write(\"anil\\n\")\n",
    "f.write(\"pajam\\n\")\n",
    "f.close()\n",
    "e=open('C:\\Users\\hello\\Desktop\\div.txt','r')\n",
    "print e.read()"
   ]
  },
  {
   "cell_type": "code",
   "execution_count": null,
   "metadata": {
    "collapsed": true,
    "deletable": true,
    "editable": true
   },
   "outputs": [],
   "source": []
  },
  {
   "cell_type": "code",
   "execution_count": null,
   "metadata": {
    "collapsed": true,
    "deletable": true,
    "editable": true
   },
   "outputs": [],
   "source": []
  }
 ],
 "metadata": {
  "kernelspec": {
   "display_name": "Python 2",
   "language": "python",
   "name": "python2"
  },
  "language_info": {
   "codemirror_mode": {
    "name": "ipython",
    "version": 2
   },
   "file_extension": ".py",
   "mimetype": "text/x-python",
   "name": "python",
   "nbconvert_exporter": "python",
   "pygments_lexer": "ipython2",
   "version": "2.7.13"
  }
 },
 "nbformat": 4,
 "nbformat_minor": 0
}
