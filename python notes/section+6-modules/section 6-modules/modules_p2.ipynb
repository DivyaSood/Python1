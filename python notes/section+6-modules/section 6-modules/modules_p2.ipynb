{
 "cells": [
  {
   "cell_type": "code",
   "execution_count": null,
   "metadata": {
    "collapsed": false,
    "deletable": true,
    "editable": true
   },
   "outputs": [],
   "source": [
    "'''\n",
    "http://pymotw.com/2/random/\n",
    "http://www.pythonforbeginners.com/random/how-to-use-the-random-module-in-python\n",
    "'''"
   ]
  },
  {
   "cell_type": "code",
   "execution_count": 8,
   "metadata": {
    "collapsed": false,
    "deletable": true,
    "editable": true
   },
   "outputs": [
    {
     "name": "stdout",
     "output_type": "stream",
     "text": [
      "0.42261569007\n"
     ]
    }
   ],
   "source": [
    "import random\n",
    "# Generate a random floating point value\n",
    "print random.random()"
   ]
  },
  {
   "cell_type": "code",
   "execution_count": 10,
   "metadata": {
    "collapsed": false,
    "deletable": true,
    "editable": true
   },
   "outputs": [
    {
     "name": "stdout",
     "output_type": "stream",
     "text": [
      "0.57140259469\n"
     ]
    }
   ],
   "source": [
    "# seed will ensure that the random number generation process is the same at \n",
    "# every run. This is done to make sure that the number generated is \n",
    "# independent of the machine on which the code is run\n",
    "import random\n",
    "random.seed(10)\n",
    "print random.random()"
   ]
  },
  {
   "cell_type": "code",
   "execution_count": 12,
   "metadata": {
    "collapsed": false,
    "deletable": true,
    "editable": true
   },
   "outputs": [
    {
     "data": {
      "text/plain": [
       "6"
      ]
     },
     "execution_count": 12,
     "metadata": {},
     "output_type": "execute_result"
    }
   ],
   "source": [
    "# random.randint(low, high = None, size = None)\n",
    "# both low value and high value are inclusive\n",
    "# Generate a random integer value\n",
    "import random\n",
    "random.randint(1,10)\n",
    "\n"
   ]
  },
  {
   "cell_type": "code",
   "execution_count": 15,
   "metadata": {
    "collapsed": false,
    "deletable": true,
    "editable": true
   },
   "outputs": [
    {
     "data": {
      "text/plain": [
       "8"
      ]
     },
     "execution_count": 15,
     "metadata": {},
     "output_type": "execute_result"
    }
   ],
   "source": [
    "# random.randrange ([start,] stop [,step])\n",
    "# start value is inclusive\n",
    "# stop value is exclusive\n",
    "# step size is optional \n",
    "random.randrange(0, 10,2)"
   ]
  },
  {
   "cell_type": "code",
   "execution_count": 16,
   "metadata": {
    "collapsed": false,
    "deletable": true,
    "editable": true
   },
   "outputs": [
    {
     "data": {
      "text/plain": [
       "6"
      ]
     },
     "execution_count": 16,
     "metadata": {},
     "output_type": "execute_result"
    }
   ],
   "source": [
    "# Generate a random integer value between 0 and 10 in steps of 2.\n",
    "random.randrange(0, 10, 2)"
   ]
  },
  {
   "cell_type": "code",
   "execution_count": 18,
   "metadata": {
    "collapsed": false,
    "deletable": true,
    "editable": true
   },
   "outputs": [
    {
     "name": "stdout",
     "output_type": "stream",
     "text": [
      "30\n"
     ]
    }
   ],
   "source": [
    "a = [1,2,30,5]\n",
    "# Pick a random value from the list\n",
    "print random.choice(a)"
   ]
  },
  {
   "cell_type": "code",
   "execution_count": null,
   "metadata": {
    "collapsed": true,
    "deletable": true,
    "editable": true
   },
   "outputs": [],
   "source": [
    "'''\n",
    "In-class activity: Take five numbers from the user and make it into a\n",
    "list. Randomly select a number from the list. Write a function to compute\n",
    "2 power that number. And show the result to the user. \n",
    "'''"
   ]
  },
  {
   "cell_type": "code",
   "execution_count": 20,
   "metadata": {
    "collapsed": false,
    "deletable": true,
    "editable": true
   },
   "outputs": [
    {
     "name": "stdout",
     "output_type": "stream",
     "text": [
      "enter a number3\n",
      "enter a number3\n",
      "enter a number2\n",
      "enter a number4\n",
      "enter a number5\n",
      "3\n",
      "8\n"
     ]
    }
   ],
   "source": [
    "def pow2(x):\n",
    "    return 2**x\n",
    "a=[]\n",
    "for i in range(5):\n",
    "    b=int(raw_input(\"enter a number\"))\n",
    "    a.append(b)\n",
    "import random\n",
    "x=random.choice(a)\n",
    "print x\n",
    "print pow2(x)\n"
   ]
  },
  {
   "cell_type": "code",
   "execution_count": 21,
   "metadata": {
    "collapsed": false,
    "deletable": true,
    "editable": true
   },
   "outputs": [
    {
     "data": {
      "text/plain": [
       "1518081532.535449"
      ]
     },
     "execution_count": 21,
     "metadata": {},
     "output_type": "execute_result"
    }
   ],
   "source": [
    "# TIME MODULE - provides various time-related functions.\n",
    "import time\n",
    "# time.time returns the time in seconds since the epoch, \n",
    "# i.e., the point where the time starts which is 1 January 1970 for unix\n",
    "# Windows uses the same start time\n",
    "time.time()"
   ]
  },
  {
   "cell_type": "code",
   "execution_count": 22,
   "metadata": {
    "collapsed": false,
    "deletable": true,
    "editable": true
   },
   "outputs": [
    {
     "data": {
      "text/plain": [
       "94.54038"
      ]
     },
     "execution_count": 22,
     "metadata": {},
     "output_type": "execute_result"
    }
   ],
   "source": [
    "# On Windows and Unix, it returns the wall-clock time expressed in seconds \n",
    "# elapsed since the first call to this function. It is useful for timing \n",
    "# operations\n",
    "time.clock()"
   ]
  },
  {
   "cell_type": "code",
   "execution_count": 23,
   "metadata": {
    "collapsed": false,
    "deletable": true,
    "editable": true
   },
   "outputs": [
    {
     "data": {
      "text/plain": [
       "11.361433000000005"
      ]
     },
     "execution_count": 23,
     "metadata": {},
     "output_type": "execute_result"
    }
   ],
   "source": [
    "# If you want to find out how much time a process takes then you can note \n",
    "# the clock time at the start of the process and then note the clock time \n",
    "# after the process and take the difference of clock time. \n",
    "# Note down starting time\n",
    "t1 = time.clock()\n",
    "# Perform a long process\n",
    "c = []\n",
    "for i in xrange(10000000):\n",
    "    c.append(i)\n",
    "# Note down end time \n",
    "t2 = time.clock()\n",
    "\n",
    "# Difference is the time taken to complete the long process\n",
    "t2-t1"
   ]
  },
  {
   "cell_type": "code",
   "execution_count": 24,
   "metadata": {
    "collapsed": false,
    "deletable": true,
    "editable": true
   },
   "outputs": [
    {
     "data": {
      "text/plain": [
       "0.30201999999999884"
      ]
     },
     "execution_count": 24,
     "metadata": {},
     "output_type": "execute_result"
    }
   ],
   "source": [
    "t1 = time.clock()\n",
    "# Perform a long process\n",
    "c = [i for i in xrange(1000000)]\n",
    "\n",
    "# Note down end time \n",
    "t2 = time.clock()\n",
    "\n",
    "# Difference is the time taken to complete the long process\n",
    "t2-t1"
   ]
  },
  {
   "cell_type": "code",
   "execution_count": 30,
   "metadata": {
    "collapsed": false,
    "deletable": true,
    "editable": true
   },
   "outputs": [
    {
     "data": {
      "text/plain": [
       "'\\nDATETIME module contains functions and classes for working with dates and \\ntimes, separatley and together\\nhttp://pymotw.com/2/datetime/index.html#module-datetime\\n'"
      ]
     },
     "execution_count": 30,
     "metadata": {},
     "output_type": "execute_result"
    }
   ],
   "source": [
    "'''\n",
    "DATETIME module contains functions and classes for working with dates and \n",
    "times, separatley and together\n",
    "http://pymotw.com/2/datetime/index.html#module-datetime\n",
    "'''"
   ]
  },
  {
   "cell_type": "code",
   "execution_count": 26,
   "metadata": {
    "collapsed": false,
    "deletable": true,
    "editable": true
   },
   "outputs": [
    {
     "name": "stdout",
     "output_type": "stream",
     "text": [
      "08:30:00\n"
     ]
    }
   ],
   "source": [
    "import datetime\n",
    "# Create a Python time object hour=8, minute=30, seconds = 0\n",
    "t = datetime.time(8,30,0)\n",
    "print t"
   ]
  },
  {
   "cell_type": "code",
   "execution_count": 27,
   "metadata": {
    "collapsed": false,
    "deletable": true,
    "editable": true
   },
   "outputs": [
    {
     "name": "stdout",
     "output_type": "stream",
     "text": [
      "2012-02-12\n"
     ]
    }
   ],
   "source": [
    "# Create a Python date object year = 2012, month = 02 and day = 12\n",
    "print datetime.date(2012,02,12)"
   ]
  },
  {
   "cell_type": "code",
   "execution_count": 28,
   "metadata": {
    "collapsed": false,
    "deletable": true,
    "editable": true
   },
   "outputs": [
    {
     "name": "stdout",
     "output_type": "stream",
     "text": [
      "2018-02-08\n"
     ]
    }
   ],
   "source": [
    "# Print current date\n",
    "print datetime.date.today()"
   ]
  },
  {
   "cell_type": "code",
   "execution_count": 39,
   "metadata": {
    "collapsed": false,
    "deletable": true,
    "editable": true
   },
   "outputs": [
    {
     "name": "stdout",
     "output_type": "stream",
     "text": [
      "2016-08-08 2016-08-09\n"
     ]
    }
   ],
   "source": [
    "td = datetime.date.today() # Todays date\n",
    "tomd = datetime.date.today()+datetime.timedelta(days=1) # Tomorrows date\n",
    "print td,tomd"
   ]
  },
  {
   "cell_type": "code",
   "execution_count": 29,
   "metadata": {
    "collapsed": false,
    "deletable": true,
    "editable": true
   },
   "outputs": [
    {
     "name": "stdout",
     "output_type": "stream",
     "text": [
      "2018-02-08 01:21:07.677329\n"
     ]
    }
   ],
   "source": [
    "# If you want both date and time\n",
    "today = datetime.datetime.today()\n",
    "print today # ISO style printing"
   ]
  },
  {
   "cell_type": "code",
   "execution_count": null,
   "metadata": {
    "collapsed": false,
    "deletable": true,
    "editable": true
   },
   "outputs": [],
   "source": [
    "'''\n",
    "In class acivity\n",
    "Power ball machine creator\n",
    "\n",
    "A power ball needs a list of 6 numbers.\n",
    "The first 5 numbers have value between 1 and 59.\n",
    "The last number also called power ball number will be between 1 and 35\n",
    "\n",
    "Write a Python program to create this list with 6 numbers. Modify the code\n",
    "so that it is seeded by the current date. \n",
    "'''"
   ]
  },
  {
   "cell_type": "code",
   "execution_count": 32,
   "metadata": {
    "collapsed": false,
    "deletable": true,
    "editable": true
   },
   "outputs": [
    {
     "name": "stdout",
     "output_type": "stream",
     "text": [
      "[52, 9, 39, 10, 57]\n",
      "[52, 9, 39, 10, 57, 6]\n"
     ]
    }
   ],
   "source": [
    "import random\n",
    "import datetime\n",
    "td = datetime.date.today()\n",
    "random.seed(today)\n",
    "\n",
    "a=[]\n",
    "for i in range(5):\n",
    "    a.append(random.randint(1,59))\n",
    "print a\n",
    "powerball=a\n",
    "powerball.append(random.randint(1,35))\n",
    "print powerball\n"
   ]
  },
  {
   "cell_type": "code",
   "execution_count": 52,
   "metadata": {
    "collapsed": false,
    "deletable": true,
    "editable": true
   },
   "outputs": [
    {
     "data": {
      "text/plain": [
       "'\\nURLLIB2 module provides an updated API for using internet resources \\nidentified by URLs.\\nhttp://pymotw.com/2/urllib2/\\n'"
      ]
     },
     "execution_count": 52,
     "metadata": {},
     "output_type": "execute_result"
    }
   ],
   "source": [
    "'''\n",
    "URLLIB2 module provides an updated API for using internet resources \n",
    "identified by URLs.\n",
    "http://pymotw.com/2/urllib2/\n",
    "'''"
   ]
  },
  {
   "cell_type": "code",
   "execution_count": 33,
   "metadata": {
    "collapsed": false,
    "deletable": true,
    "editable": true
   },
   "outputs": [
    {
     "name": "stdout",
     "output_type": "stream",
     "text": [
      "Date: Thu, 08 Feb 2018 09:23:09 GMT\r\n",
      "Expires: -1\r\n",
      "Cache-Control: private, max-age=0\r\n",
      "Content-Type: text/html; charset=ISO-8859-1\r\n",
      "P3P: CP=\"This is not a P3P policy! See g.co/p3phelp for more info.\"\r\n",
      "Server: gws\r\n",
      "X-XSS-Protection: 1; mode=block\r\n",
      "X-Frame-Options: SAMEORIGIN\r\n",
      "Set-Cookie: 1P_JAR=2018-02-08-09; expires=Sat, 10-Mar-2018 09:23:09 GMT; path=/; domain=.google.com\r\n",
      "Set-Cookie: NID=123=VtUA0LoEN-mFYwJWNZ4dIN7pd5KymKkDBuhpcrcfxEOqcQlGePk60ZqdQxqZ96CPtOXj-yMpcvXd2f9VbrQI13j-9Ykno8tJUaZNTvbEGWagSixGdVznx7nOhoANWIh8; expires=Fri, 10-Aug-2018 09:23:09 GMT; path=/; domain=.google.com; HttpOnly\r\n",
      "Accept-Ranges: none\r\n",
      "Vary: Accept-Encoding\r\n",
      "Connection: close\r\n",
      "\n"
     ]
    }
   ],
   "source": [
    "import urllib2\n",
    "# Perform a GET method operation\n",
    "response = urllib2.urlopen('http://www.google.com')\n",
    "print response.info()"
   ]
  },
  {
   "cell_type": "code",
   "execution_count": 59,
   "metadata": {
    "collapsed": false,
    "deletable": true,
    "editable": true
   },
   "outputs": [
    {
     "data": {
      "text/plain": [
       "['__doc__',\n",
       " '__init__',\n",
       " '__iter__',\n",
       " '__module__',\n",
       " '__repr__',\n",
       " 'close',\n",
       " 'code',\n",
       " 'fileno',\n",
       " 'fp',\n",
       " 'getcode',\n",
       " 'geturl',\n",
       " 'headers',\n",
       " 'info',\n",
       " 'msg',\n",
       " 'next',\n",
       " 'read',\n",
       " 'readline',\n",
       " 'readlines',\n",
       " 'url']"
      ]
     },
     "execution_count": 59,
     "metadata": {},
     "output_type": "execute_result"
    }
   ],
   "source": [
    "# Get a list of functions that are associated with the response object\n",
    "dir(response) "
   ]
  },
  {
   "cell_type": "code",
   "execution_count": 60,
   "metadata": {
    "collapsed": false,
    "deletable": true,
    "editable": true
   },
   "outputs": [
    {
     "name": "stdout",
     "output_type": "stream",
     "text": [
      "<!doctype html><html itemscope=\"\" itemtype=\"http://schema.org/WebPage\" lang=\"en\"><head><meta content=\"Search the world's information, including webpages, images, videos and more. Google has many special features to help you find exactly what you're looking for.\" name=\"description\"><meta content=\"noodp\" name=\"robots\"><meta content=\"text/html; charset=UTF-8\" http-equiv=\"Content-Type\"><meta content=\"/logos/doodles/2016/2016-doodle-fruit-games-day-4-5657433650233344-hp.gif\" itemprop=\"image\"><meta content=\"Check out the 2016 Doodle Fruit Games at g.co/fruit #GoogleDoodle\" property=\"og:description\"><meta content=\"http://www.google.com/logos/doodles/2016/2016-doodle-fruit-games-day-4-5657433650233344-thp.png\" property=\"og:image\"><meta content=\"656\" property=\"og:image:width\"><meta content=\"225\" property=\"og:image:height\"><title>Google</title><script>(function(){window.google={kEI:'4j-pV-fhBte4jwOo9qmIBA',kEXPI:'750221,750254,1351078,1351312,1351596,3700271,3700389,4029815,4031109,4032677,4036509,4036527,4038012,4039268,4043492,4045839,4048347,4052304,4061155,4062702,4063131,4063879,4063929,4064702,4065787,4065793,4065873,4066195,4066654,4066707,4067175,4067342,4067860,4067926,4068550,4068832,4068850,4069148,4069458,4069732,4069839,4069840,4069847,4069904,4070127,4070230,4070241,4070453,4070502,4070598,4071049,4071229,4071422,4071577,4071606,4071824,4071842,4072130,4072212,4072216,4072289,4072622,4072674,4072682,4072777,4073418,4073484,4073491,4073873,4073877,4073887,4074539,4074560,8300272,8502184,8503585,8504892,8505150,8505152,8505677,8505796,8505836,8505870,8506166,10200083',authuser:0,kscs:'c9c918f0_24'};google.kHL='en';})();(function(){google.lc=[];google.li=0;google.getEI=function(a){for(var b;a&&(!a.getAttribute||!(b=a.getAttribute(\"eid\")));)a=a.parentNode;return b||google.kEI};google.getLEI=function(a){for(var b=null;a&&(!a.getAttribute||!(b=a.getAttribute(\"leid\")));)a=a.parentNode;return b};google.https=function(){return\"https:\"==window.location.protocol};google.ml=function(){return null};google.wl=function(a,b){try{google.ml(Error(a),!1,b)}catch(c){}};google.time=function(){return(new Date).getTime()};google.log=function(a,b,c,e,g){a=google.logUrl(a,b,c,e,g);if(\"\"!=a){b=new Image;var d=google.lc,f=google.li;d[f]=b;b.onerror=b.onload=b.onabort=function(){delete d[f]};window.google&&window.google.vel&&window.google.vel.lu&&window.google.vel.lu(a);b.src=a;google.li=f+1}};google.logUrl=function(a,b,c,e,g){var d=\"\",f=google.ls||\"\";if(!c&&-1==b.search(\"&ei=\")){var h=google.getEI(e),d=\"&ei=\"+h;-1==b.search(\"&lei=\")&&((e=google.getLEI(e))?d+=\"&lei=\"+e:h!=google.kEI&&(d+=\"&lei=\"+google.kEI))}a=c||\"/\"+(g||\"gen_204\")+\"?atyp=i&ct=\"+a+\"&cad=\"+b+d+f+\"&zx=\"+google.time();/^http:/i.test(a)&&google.https()&&(google.ml(Error(\"a\"),!1,{src:a,glmm:1}),a=\"\");return a};google.y={};google.x=function(a,b){google.y[a.id]=[a,b];return!1};google.load=function(a,b,c){google.x({id:a+k++},function(){google.load(a,b,c)})};var k=0;})();var _gjwl=location;function _gjuc(){var a=_gjwl.href.indexOf(\"#\");if(0<=a&&(a=_gjwl.href.substring(a),0<a.indexOf(\"&q=\")||0<=a.indexOf(\"#q=\"))&&(a=a.substring(1),-1==a.indexOf(\"#\"))){for(var d=0;d<a.length;){var b=d;\"&\"==a.charAt(b)&&++b;var c=a.indexOf(\"&\",b);-1==c&&(c=a.length);b=a.substring(b,c);if(0==b.indexOf(\"fp=\"))a=a.substring(0,d)+a.substring(c,a.length),c=d;else if(\"cad=h\"==b)return 0;d=c}_gjwl.href=\"/search?\"+a+\"&cad=h\";return 1}return 0}\n",
      "function _gjh(){!_gjuc()&&window.google&&google.x&&google.x({id:\"GJH\"},function(){google.nav&&google.nav.gjh&&google.nav.gjh()})};window._gjh&&_gjh();</script><style>#gbar,#guser{font-size:13px;padding-top:1px !important;}#gbar{height:22px}#guser{padding-bottom:7px !important;text-align:right}.gbh,.gbd{border-top:1px solid #c9d7f1;font-size:1px}.gbh{height:0;position:absolute;top:24px;width:100%}@media all{.gb1{height:22px;margin-right:.5em;vertical-align:top}#gbar{float:left}}a.gb1,a.gb4{text-decoration:underline !important}a.gb1,a.gb4{color:#00c !important}.gbi .gb4{color:#dd8e27 !important}.gbf .gb4{color:#900 !important}\n",
      "</style><style>body,td,a,p,.h{font-family:arial,sans-serif}body{margin:0;overflow-y:scroll}#gog{padding:3px 8px 0}td{line-height:.8em}.gac_m td{line-height:17px}form{margin-bottom:20px}.h{color:#36c}.q{color:#00c}.ts td{padding:0}.ts{border-collapse:collapse}em{font-weight:bold;font-style:normal}.lst{height:25px;width:496px}.gsfi,.lst{font:18px arial,sans-serif}.gsfs{font:17px arial,sans-serif}.ds{display:inline-box;display:inline-block;margin:3px 0 4px;margin-left:4px}input{font-family:inherit}a.gb1,a.gb2,a.gb3,a.gb4{color:#11c !important}body{background:#fff;color:black}a{color:#11c;text-decoration:none}a:hover,a:active{text-decoration:underline}.fl a{color:#36c}a:visited{color:#551a8b}a.gb1,a.gb4{text-decoration:underline}a.gb3:hover{text-decoration:none}#ghead a.gb2:hover{color:#fff !important}.sblc{padding-top:5px}.sblc a{display:block;margin:2px 0;margin-left:13px;font-size:11px}.lsbb{background:#eee;border:solid 1px;border-color:#ccc #999 #999 #ccc;height:30px}.lsbb{display:block}.ftl,#fll a{display:inline-block;margin:0 12px}.lsb{background:url(/images/nav_logo229.png) 0 -261px repeat-x;border:none;color:#000;cursor:pointer;height:30px;margin:0;outline:0;font:15px arial,sans-serif;vertical-align:top}.lsb:active{background:#ccc}.lst:focus{outline:none}</style><script></script><link href=\"/images/branding/product/ico/googleg_lodp.ico\" rel=\"shortcut icon\"></head><body bgcolor=\"#fff\"><script>(function(){var src='/images/nav_logo229.png';var iesg=false;document.body.onload = function(){window.n && window.n();if (document.images){new Image().src=src;}\n",
      "if (!iesg){document.f&&document.f.q.focus();document.gbqf&&document.gbqf.q.focus();}\n",
      "}\n",
      "})();</script><div id=\"mngb\">    <div id=gbar><nobr><b class=gb1>Search</b> <a class=gb1 href=\"http://www.google.com/imghp?hl=en&tab=wi\">Images</a> <a class=gb1 href=\"http://maps.google.com/maps?hl=en&tab=wl\">Maps</a> <a class=gb1 href=\"https://play.google.com/?hl=en&tab=w8\">Play</a> <a class=gb1 href=\"http://www.youtube.com/?tab=w1\">YouTube</a> <a class=gb1 href=\"http://news.google.com/nwshp?hl=en&tab=wn\">News</a> <a class=gb1 href=\"https://mail.google.com/mail/?tab=wm\">Gmail</a> <a class=gb1 href=\"https://drive.google.com/?tab=wo\">Drive</a> <a class=gb1 style=\"text-decoration:none\" href=\"https://www.google.com/intl/en/options/\"><u>More</u> &raquo;</a></nobr></div><div id=guser width=100%><nobr><span id=gbn class=gbi></span><span id=gbf class=gbf></span><span id=gbe></span><a href=\"http://www.google.com/history/optout?hl=en\" class=gb4>Web History</a> | <a  href=\"/preferences?hl=en\" class=gb4>Settings</a> | <a target=_top id=gb_70 href=\"https://accounts.google.com/ServiceLogin?hl=en&passive=true&continue=http://www.google.com/\" class=gb4>Sign in</a></nobr></div><div class=gbh style=left:0></div><div class=gbh style=right:0></div>    </div><center><br clear=\"all\" id=\"lgpd\"><div id=\"lga\"><a href=\"/search?site=&amp;ie=UTF-8&amp;q=Olympics&amp;oi=ddle&amp;ct=2016-doodle-fruit-games-day-4-5657433650233344-hp&amp;hl=en&amp;sa=X&amp;ved=0ahUKEwjn2p_YpLPOAhVX3GMKHSh7CkEQPQgD\"><img alt=\"Day 4 of the 2016 Doodle Fruit Games! Find out more at g.co/fruit\" border=\"0\" height=\"225\" src=\"/logos/doodles/2016/2016-doodle-fruit-games-day-4-5657433650233344-hp.gif\" title=\"Day 4 of the 2016 Doodle Fruit Games! Find out more at g.co/fruit\" width=\"656\" id=\"hplogo\" onload=\"window.lol&&lol()\"><br></a><br></div><form action=\"/search\" name=\"f\"><table cellpadding=\"0\" cellspacing=\"0\"><tr valign=\"top\"><td width=\"25%\">&nbsp;</td><td align=\"center\" nowrap=\"\"><input name=\"ie\" value=\"ISO-8859-1\" type=\"hidden\"><input value=\"en\" name=\"hl\" type=\"hidden\"><input name=\"source\" type=\"hidden\" value=\"hp\"><input name=\"biw\" type=\"hidden\"><input name=\"bih\" type=\"hidden\"><div class=\"ds\" style=\"height:32px;margin:4px 0\"><input style=\"color:#000;margin:0;padding:5px 8px 0 6px;vertical-align:top\" autocomplete=\"off\" class=\"lst\" value=\"\" title=\"Google Search\" maxlength=\"2048\" name=\"q\" size=\"57\"></div><br style=\"line-height:0\"><span class=\"ds\"><span class=\"lsbb\"><input class=\"lsb\" value=\"Google Search\" name=\"btnG\" type=\"submit\"></span></span><span class=\"ds\"><span class=\"lsbb\"><input class=\"lsb\" value=\"I'm Feeling Lucky\" name=\"btnI\" onclick=\"if(this.form.q.value)this.checked=1; else top.location='/doodles/'\" type=\"submit\"></span></span></td><td class=\"fl sblc\" align=\"left\" nowrap=\"\" width=\"25%\"><a href=\"/advanced_search?hl=en&amp;authuser=0\">Advanced search</a><a href=\"/language_tools?hl=en&amp;authuser=0\">Language tools</a></td></tr></table><input id=\"gbv\" name=\"gbv\" type=\"hidden\" value=\"1\"></form><div id=\"gac_scont\"></div><div style=\"font-size:83%;min-height:3.5em\"><br></div><span id=\"footer\"><div style=\"font-size:10pt\"><div style=\"margin:19px auto;text-align:center\" id=\"fll\"><a href=\"/intl/en/ads/\">Advertising�Programs</a><a href=\"/services/\">Business Solutions</a><a href=\"https://plus.google.com/116899029375914044550\" rel=\"publisher\">+Google</a><a href=\"/intl/en/about.html\">About Google</a></div></div><p style=\"color:#767676;font-size:8pt\">&copy; 2016 - <a href=\"/intl/en/policies/privacy/\">Privacy</a> - <a href=\"/intl/en/policies/terms/\">Terms</a></p></span></center><script>(function(){window.google.cdo={height:0,width:0};(function(){var a=window.innerWidth,b=window.innerHeight;if(!a||!b)var c=window.document,d=\"CSS1Compat\"==c.compatMode?c.documentElement:c.body,a=d.clientWidth,b=d.clientHeight;a&&b&&(a!=google.cdo.width||b!=google.cdo.height)&&google.log(\"\",\"\",\"/client_204?&atyp=i&biw=\"+a+\"&bih=\"+b+\"&ei=\"+google.kEI);})();})();</script><div id=\"xjsd\"></div><div id=\"xjsi\"><script>(function(){function c(b){window.setTimeout(function(){var a=document.createElement(\"script\");a.src=b;document.getElementById(\"xjsd\").appendChild(a)},0)}google.dljp=function(b,a){google.xjsu=b;c(a)};google.dlj=c;})();(function(){window.google.xjsrm=[];})();if(google.y)google.y.first=[];if(!google.xjs){window._=window._||{};window._._DumpException=function(e){throw e};if(google.timers&&google.timers.load.t){google.timers.load.t.xjsls=new Date().getTime();}google.dljp('/xjs/_/js/k\\x3dxjs.hp.en_US.JT1ulvC1cTo.O/m\\x3dsb_he,d/am\\x3dBA/rt\\x3dj/d\\x3d1/t\\x3dzcms/rs\\x3dACT90oFKXvnhumTzXI-Ratc6zPLdx2_y4g','/xjs/_/js/k\\x3dxjs.hp.en_US.JT1ulvC1cTo.O/m\\x3dsb_he,d/am\\x3dBA/rt\\x3dj/d\\x3d1/t\\x3dzcms/rs\\x3dACT90oFKXvnhumTzXI-Ratc6zPLdx2_y4g');google.xjs=1;}google.pmc={\"csies\":{},\"sb_he\":{\"agen\":true,\"cgen\":true,\"client\":\"heirloom-hp\",\"dh\":true,\"dhqt\":true,\"ds\":\"\",\"fl\":true,\"host\":\"google.com\",\"isbh\":28,\"jam\":0,\"jsonp\":true,\"msgs\":{\"cibl\":\"Clear Search\",\"dym\":\"Did you mean:\",\"lcky\":\"I\\u0026#39;m Feeling Lucky\",\"lml\":\"Learn more\",\"oskt\":\"Input tools\",\"psrc\":\"This search was removed from your \\u003Ca href=\\\"/history\\\"\\u003EWeb History\\u003C/a\\u003E\",\"psrl\":\"Remove\",\"sbit\":\"Search by image\",\"srch\":\"Google Search\"},\"nds\":true,\"ovr\":{},\"pq\":\"\",\"refpd\":true,\"rfs\":[],\"scd\":10,\"sce\":5,\"stok\":\"MP6tcqIxWVpBDTEZ6Dc3QZVreys\"},\"d\":{},\"THXm/A\":{}};google.y.first.push(function(){google.loadAll(['csies'].concat(google.xjsrm||[]));if(google.med){google.med('init');google.initHistory();google.med('history');}});if(google.j&&google.j.en&&google.j.xi){window.setTimeout(google.j.xi,0);}\n",
      "</script></div></body></html>\n"
     ]
    }
   ],
   "source": [
    "for lines in response.readlines():\n",
    "    print lines.strip()"
   ]
  },
  {
   "cell_type": "code",
   "execution_count": null,
   "metadata": {
    "collapsed": false,
    "deletable": true,
    "editable": true
   },
   "outputs": [],
   "source": [
    "'''\n",
    "UUID \n",
    "\n",
    "http://pymotw.com/2/uuid/index.html#module-uuid defined UUID as a system for \n",
    "creating universally unique identifiers for resources in a way that does not \n",
    "require a central registrar. UUID values are 128 bits long and “can guarantee \n",
    "uniqueness across space and time”. They are useful for identifiers for \n",
    "documents, hosts, application clients, and other situations where a unique \n",
    "value is necessary. The RFC is specifically geared toward creating a \n",
    "Uniform Resource Name namespace.\n",
    "\n",
    "The idea is similar to GUID used in Windows programming.\n",
    "\n",
    "The following video (https://www.youtube.com/watch?v=ugqu10JV7dk) traces the\n",
    "history of Python in the words of Python creator, Guido van Rossum. The \n",
    "unique identifier similar to one in the url can be \n",
    "created using UUID.\n",
    "'''"
   ]
  },
  {
   "cell_type": "code",
   "execution_count": 34,
   "metadata": {
    "collapsed": false,
    "deletable": true,
    "editable": true
   },
   "outputs": [
    {
     "name": "stdout",
     "output_type": "stream",
     "text": [
      "216273106258886\n"
     ]
    }
   ],
   "source": [
    "# getnode() to retrieve the MAC value on a given system:\n",
    "import uuid\n",
    "print uuid.getnode()"
   ]
  },
  {
   "cell_type": "code",
   "execution_count": 35,
   "metadata": {
    "collapsed": false,
    "deletable": true,
    "editable": true
   },
   "outputs": [
    {
     "data": {
      "text/plain": [
       "UUID('365dba1e-0d13-11e8-8a11-c4b301ac4bc6')"
      ]
     },
     "execution_count": 35,
     "metadata": {},
     "output_type": "execute_result"
    }
   ],
   "source": [
    "# To generate uuid based on the host MAC address,\n",
    "uuid.uuid1()"
   ]
  },
  {
   "cell_type": "code",
   "execution_count": 63,
   "metadata": {
    "collapsed": false,
    "deletable": true,
    "editable": true
   },
   "outputs": [
    {
     "data": {
      "text/plain": [
       "UUID('10d5b153-85bb-4c19-a85a-7ae0a43ca35c')"
      ]
     },
     "execution_count": 63,
     "metadata": {},
     "output_type": "execute_result"
    }
   ],
   "source": [
    "# Generates an uuid based on random number\n",
    "uuid.uuid4() "
   ]
  },
  {
   "cell_type": "code",
   "execution_count": 64,
   "metadata": {
    "collapsed": false,
    "deletable": true,
    "editable": true
   },
   "outputs": [
    {
     "name": "stdout",
     "output_type": "stream",
     "text": [
      "c15b854b-d571-336b-bc00-a6e0fcaa42d1\n",
      "71a0e1b9-54e2-5288-aabf-a417c1856bc5\n"
     ]
    }
   ],
   "source": [
    "somerandomstring = 'kdf98234hj23j4y234uy324u234'\n",
    "print uuid.uuid3(uuid.NAMESPACE_DNS,somerandomstring) # MD5 based hashing\n",
    "print uuid.uuid5(uuid.NAMESPACE_DNS,somerandomstring) # SHA-1 based hashings"
   ]
  },
  {
   "cell_type": "code",
   "execution_count": 1,
   "metadata": {
    "collapsed": false,
    "deletable": true,
    "editable": true
   },
   "outputs": [],
   "source": [
    "# http://matplotlib.org/examples/index.html\n",
    "\n",
    "import matplotlib.pyplot as plt\n",
    "import numpy as np\n",
    "x = np.random.randn(1000)\n",
    "y = np.random.randn(1000) + 5\n",
    "\n",
    "# normal distribution center at x=0 and y=5\n",
    "plt.hist2d(x, y, bins=40)\n",
    "plt.show()"
   ]
  },
  {
   "cell_type": "code",
   "execution_count": 2,
   "metadata": {
    "collapsed": false,
    "deletable": true,
    "editable": true
   },
   "outputs": [],
   "source": [
    "#import matplotlib libary\n",
    "import matplotlib.pyplot as plt\n",
    "\n",
    "\n",
    "#define some data\n",
    "x = [1,2,3,4]\n",
    "y = [20, 21, 20.5, 20.8]\n",
    "\n",
    "#plot data\n",
    "plt.plot(x, y)\n",
    "\n",
    "#show plot\n",
    "plt.show()"
   ]
  },
  {
   "cell_type": "code",
   "execution_count": 3,
   "metadata": {
    "collapsed": false,
    "deletable": true,
    "editable": true
   },
   "outputs": [
    {
     "data": {
      "image/png": "[encoded data removed]",
      "text/plain": [
       "<matplotlib.figure.Figure at 0x1d999bf50>"
      ]
     },
     "metadata": {},
     "output_type": "display_data"
    },
    {
     "data": {
      "image/png": "[encoded data removed]",
      "text/plain": [
       "<matplotlib.figure.Figure at 0x1d5fbf7d0>"
      ]
     },
     "metadata": {},
     "output_type": "display_data"
    }
   ],
   "source": [
    "import numpy as np\n",
    "import matplotlib.pyplot as plt\n",
    "import matplotlib.animation as animation\n",
    "\n",
    "\n",
    "def update_line(num, data, line):\n",
    "    line.set_data(data[..., :num])\n",
    "    return line,\n",
    "\n",
    "fig1 = plt.figure()\n",
    "\n",
    "data = np.random.rand(2, 25)\n",
    "l, = plt.plot([], [], 'r-')\n",
    "plt.xlim(0, 1)\n",
    "plt.ylim(0, 1)\n",
    "plt.xlabel('x')\n",
    "plt.title('test')\n",
    "line_ani = animation.FuncAnimation(fig1, update_line, 25, fargs=(data, l),\n",
    "                                   interval=50, blit=True)\n",
    "#line_ani.save('lines.mp4')\n",
    "\n",
    "fig2 = plt.figure()\n",
    "\n",
    "x = np.arange(-9, 10)\n",
    "y = np.arange(-9, 10).reshape(-1, 1)\n",
    "base = np.hypot(x, y)\n",
    "ims = []\n",
    "for add in np.arange(15):\n",
    "    ims.append((plt.pcolor(x, y, base + add, norm=plt.Normalize(0, 30)),))\n",
    "\n",
    "im_ani = animation.ArtistAnimation(fig2, ims, interval=50, repeat_delay=3000,\n",
    "                                   blit=True)\n",
    "#im_ani.save('im.mp4', metadata={'artist':'Guido'})\n",
    "\n",
    "plt.show()"
   ]
  },
  {
   "cell_type": "code",
   "execution_count": 5,
   "metadata": {
    "collapsed": false,
    "deletable": true,
    "editable": true
   },
   "outputs": [
    {
     "name": "stdout",
     "output_type": "stream",
     "text": [
      "Buyers:  ['Carson Busses', 'Earl E. Byrd', 'Patty Cakes', 'Derri Anne Connecticut', 'Moe Dess', 'Leda Doggslife', 'Dan Druff', 'Al Fresco', 'Ido Hoe', 'Howie Kisses', 'Len Lease', 'Phil Meup', 'Ira Pent', 'Ben D. Rules', 'Ave Sectomy', 'Gary Shattire', 'Bobbi Soks', 'Sheila Takya', 'Rose Tattoo', 'Moe Tell']\n",
      "Prices:  ['$29.95', '$8.37', '$15.26', '$19.25', '$19.25', '$13.99', '$31.57', '$8.49', '$14.47', '$15.86', '$11.11', '$15.98', '$16.27', '$7.50', '$50.85', '$14.26', '$5.68', '$15.00', '$114.07', '$10.09']\n"
     ]
    }
   ],
   "source": [
    "# web scraping example \n",
    "\n",
    "from lxml import html\n",
    "import requests\n",
    "\n",
    "page = requests.get('http://econpy.pythonanywhere.com/ex/001.html')\n",
    "tree = html.fromstring(page.content)\n",
    "\n",
    "#This will create a list of buyers:\n",
    "buyers = tree.xpath('//div[@title=\"buyer-name\"]/text()')\n",
    "#This will create a list of prices\n",
    "prices = tree.xpath('//span[@class=\"item-price\"]/text()')\n",
    "\n",
    "print 'Buyers: ', buyers\n",
    "print 'Prices: ', prices"
   ]
  },
  {
   "cell_type": "code",
   "execution_count": null,
   "metadata": {
    "collapsed": true,
    "deletable": true,
    "editable": true
   },
   "outputs": [],
   "source": [
    "'''\n",
    "In-class activity: For the first ten thousand positive integers, \n",
    "find the sin(x) for each value with list comprehension and without \n",
    "list comprehension. Using the time module, compute \n",
    "the time taken by the each method. \n",
    "'''"
   ]
  },
  {
   "cell_type": "code",
   "execution_count": 7,
   "metadata": {
    "collapsed": false,
    "deletable": true,
    "editable": true
   },
   "outputs": [
    {
     "name": "stdout",
     "output_type": "stream",
     "text": [
      "value by list comprehension 0.899922\n",
      "time taken by list comprehension 21.0288190842\n"
     ]
    }
   ],
   "source": [
    "import time\n",
    "import math\n",
    "from math import *\n",
    "#without list comprehension\n",
    "t1 = time.clock()\n",
    "c = []\n",
    "for i in xrange(10000):\n",
    "    a=math.sin(i)\n",
    "    c.append(a)\n",
    "t2 = time.clock()\n",
    "print \"value by list comprehension\",(t2-t1)\n",
    "#with list comprehension\n",
    "t1 = time.time()\n",
    "c = []\n",
    "for i in xrange(10000):\n",
    "    a=[sin(i) for i in range(10000)]\n",
    "    c.append(a)\n",
    "t2 = time.time()\n",
    "print \"time taken by list comprehension\",(t2-t1)\n"
   ]
  },
  {
   "cell_type": "code",
   "execution_count": null,
   "metadata": {
    "collapsed": true,
    "deletable": true,
    "editable": true
   },
   "outputs": [],
   "source": []
  }
 ],
 "metadata": {
  "kernelspec": {
   "display_name": "Python 2",
   "language": "python",
   "name": "python2"
  },
  "language_info": {
   "codemirror_mode": {
    "name": "ipython",
    "version": 2
   },
   "file_extension": ".py",
   "mimetype": "text/x-python",
   "name": "python",
   "nbconvert_exporter": "python",
   "pygments_lexer": "ipython2",
   "version": "2.7.13"
  }
 },
 "nbformat": 4,
 "nbformat_minor": 0
}
