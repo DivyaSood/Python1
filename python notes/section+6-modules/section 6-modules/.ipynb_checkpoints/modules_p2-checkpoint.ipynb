{
 "cells": [
  {
   "cell_type": "code",
   "execution_count": null,
   "metadata": {
    "collapsed": false
   },
   "outputs": [],
   "source": [
    "'''\n",
    "http://pymotw.com/2/random/\n",
    "http://www.pythonforbeginners.com/random/how-to-use-the-random-module-in-python\n",
    "'''"
   ]
  },
  {
   "cell_type": "code",
   "execution_count": 5,
   "metadata": {
    "collapsed": false
   },
   "outputs": [
    {
     "name": "stdout",
     "output_type": "stream",
     "text": [
      "0.255069025739\n"
     ]
    }
   ],
   "source": [
    "import random\n",
    "# Generate a random floating point value\n",
    "print random.random()"
   ]
  },
  {
   "cell_type": "code",
   "execution_count": 9,
   "metadata": {
    "collapsed": false
   },
   "outputs": [
    {
     "name": "stdout",
     "output_type": "stream",
     "text": [
      "0.57140259469\n"
     ]
    }
   ],
   "source": [
    "# seed will ensure that the random number generation process is the same at \n",
    "# every run. This is done to make sure that the number generated is \n",
    "# independent of the machine on which the code is run\n",
    "random.seed(10)\n",
    "print random.random()"
   ]
  },
  {
   "cell_type": "code",
   "execution_count": 7,
   "metadata": {
    "collapsed": false
   },
   "outputs": [
    {
     "data": {
      "text/plain": [
       "5"
      ]
     },
     "execution_count": 7,
     "metadata": {},
     "output_type": "execute_result"
    }
   ],
   "source": [
    "# random.randint(low, high = None, size = None)\n",
    "# both low value and high value are inclusive\n",
    "# Generate a random integer value\n",
    "random.randint(1,10)"
   ]
  },
  {
   "cell_type": "code",
   "execution_count": 17,
   "metadata": {
    "collapsed": false
   },
   "outputs": [
    {
     "data": {
      "text/plain": [
       "4"
      ]
     },
     "execution_count": 17,
     "metadata": {},
     "output_type": "execute_result"
    }
   ],
   "source": [
    "# random.randrange ([start,] stop [,step])\n",
    "# start value is inclusive\n",
    "# stop value is exclusive\n",
    "# step size is optional \n",
    "random.randrange(0, 10,2)"
   ]
  },
  {
   "cell_type": "code",
   "execution_count": 16,
   "metadata": {
    "collapsed": false
   },
   "outputs": [
    {
     "data": {
      "text/plain": [
       "0"
      ]
     },
     "execution_count": 16,
     "metadata": {},
     "output_type": "execute_result"
    }
   ],
   "source": [
    "# Generate a random integer value between 0 and 10 in steps of 2.\n",
    "random.randrange(0, 10, 2)"
   ]
  },
  {
   "cell_type": "code",
   "execution_count": null,
   "metadata": {
    "collapsed": false
   },
   "outputs": [],
   "source": [
    "a = [1,2,30,5]\n",
    "# Pick a random value from the list\n",
    "print random.choice(a)"
   ]
  },
  {
   "cell_type": "code",
   "execution_count": null,
   "metadata": {
    "collapsed": true
   },
   "outputs": [],
   "source": [
    "'''\n",
    "In-class activity: Take five numbers from the user and make it into a\n",
    "list. Randomly select a number from the list. Write a function to compute\n",
    "2 power that number. And show the result to the user. \n",
    "'''"
   ]
  },
  {
   "cell_type": "code",
   "execution_count": 22,
   "metadata": {
    "collapsed": false
   },
   "outputs": [
    {
     "name": "stdout",
     "output_type": "stream",
     "text": [
      "enter a number1\n",
      "enter a number2\n",
      "enter a number3\n",
      "enter a number3\n",
      "enter a number4\n",
      "2\n",
      "4\n"
     ]
    }
   ],
   "source": [
    "def pow2(x):\n",
    "    return 2**x\n",
    "a=[]\n",
    "for i in range(5):\n",
    "    b=int(raw_input(\"enter a number\"))\n",
    "    a.append(b)\n",
    "import random\n",
    "x=random.choice(a)\n",
    "print x\n",
    "print pow2(x)\n"
   ]
  },
  {
   "cell_type": "code",
   "execution_count": 23,
   "metadata": {
    "collapsed": false
   },
   "outputs": [
    {
     "data": {
      "text/plain": [
       "1470708172.556"
      ]
     },
     "execution_count": 23,
     "metadata": {},
     "output_type": "execute_result"
    }
   ],
   "source": [
    "# TIME MODULE - provides various time-related functions.\n",
    "import time\n",
    "# time.time returns the time in seconds since the epoch, \n",
    "# i.e., the point where the time starts which is 1 January 1970 for unix\n",
    "# Windows uses the same start time\n",
    "time.time()"
   ]
  },
  {
   "cell_type": "code",
   "execution_count": 26,
   "metadata": {
    "collapsed": false
   },
   "outputs": [
    {
     "data": {
      "text/plain": [
       "33.88359591287622"
      ]
     },
     "execution_count": 26,
     "metadata": {},
     "output_type": "execute_result"
    }
   ],
   "source": [
    "# On Windows and Unix, it returns the wall-clock time expressed in seconds \n",
    "# elapsed since the first call to this function. It is useful for timing \n",
    "# operations\n",
    "time.clock()"
   ]
  },
  {
   "cell_type": "code",
   "execution_count": 28,
   "metadata": {
    "collapsed": false
   },
   "outputs": [
    {
     "data": {
      "text/plain": [
       "2.281821501787931"
      ]
     },
     "execution_count": 28,
     "metadata": {},
     "output_type": "execute_result"
    }
   ],
   "source": [
    "# If you want to find out how much time a process takes then you can note \n",
    "# the clock time at the start of the process and then note the clock time \n",
    "# after the process and take the difference of clock time. \n",
    "# Note down starting time\n",
    "t1 = time.clock()\n",
    "# Perform a long process\n",
    "c = []\n",
    "for i in xrange(10000000):\n",
    "    c.append(i)\n",
    "# Note down end time \n",
    "t2 = time.clock()\n",
    "\n",
    "# Difference is the time taken to complete the long process\n",
    "t2-t1"
   ]
  },
  {
   "cell_type": "code",
   "execution_count": 35,
   "metadata": {
    "collapsed": false
   },
   "outputs": [
    {
     "data": {
      "text/plain": [
       "0.11840112278733272"
      ]
     },
     "execution_count": 35,
     "metadata": {},
     "output_type": "execute_result"
    }
   ],
   "source": [
    "t1 = time.clock()\n",
    "# Perform a long process\n",
    "c = [i for i in xrange(1000000)]\n",
    "\n",
    "# Note down end time \n",
    "t2 = time.clock()\n",
    "\n",
    "# Difference is the time taken to complete the long process\n",
    "t2-t1"
   ]
  },
  {
   "cell_type": "code",
   "execution_count": 30,
   "metadata": {
    "collapsed": false
   },
   "outputs": [
    {
     "data": {
      "text/plain": [
       "'\\nDATETIME module contains functions and classes for working with dates and \\ntimes, separatley and together\\nhttp://pymotw.com/2/datetime/index.html#module-datetime\\n'"
      ]
     },
     "execution_count": 30,
     "metadata": {},
     "output_type": "execute_result"
    }
   ],
   "source": [
    "'''\n",
    "DATETIME module contains functions and classes for working with dates and \n",
    "times, separatley and together\n",
    "http://pymotw.com/2/datetime/index.html#module-datetime\n",
    "'''"
   ]
  },
  {
   "cell_type": "code",
   "execution_count": 36,
   "metadata": {
    "collapsed": false
   },
   "outputs": [
    {
     "name": "stdout",
     "output_type": "stream",
     "text": [
      "08:30:00\n"
     ]
    }
   ],
   "source": [
    "import datetime\n",
    "# Create a Python time object hour=8, minute=30, seconds = 0\n",
    "t = datetime.time(8,30,0)\n",
    "print t"
   ]
  },
  {
   "cell_type": "code",
   "execution_count": 37,
   "metadata": {
    "collapsed": false
   },
   "outputs": [
    {
     "name": "stdout",
     "output_type": "stream",
     "text": [
      "2012-02-12\n"
     ]
    }
   ],
   "source": [
    "# Create a Python date object year = 2012, month = 02 and day = 12\n",
    "print datetime.date(2012,02,12)"
   ]
  },
  {
   "cell_type": "code",
   "execution_count": 38,
   "metadata": {
    "collapsed": false
   },
   "outputs": [
    {
     "name": "stdout",
     "output_type": "stream",
     "text": [
      "2016-08-08\n"
     ]
    }
   ],
   "source": [
    "# Print current date\n",
    "print datetime.date.today()"
   ]
  },
  {
   "cell_type": "code",
   "execution_count": 39,
   "metadata": {
    "collapsed": false
   },
   "outputs": [
    {
     "name": "stdout",
     "output_type": "stream",
     "text": [
      "2016-08-08 2016-08-09\n"
     ]
    }
   ],
   "source": [
    "td = datetime.date.today() # Todays date\n",
    "tomd = datetime.date.today()+datetime.timedelta(days=1) # Tomorrows date\n",
    "print td,tomd"
   ]
  },
  {
   "cell_type": "code",
   "execution_count": 40,
   "metadata": {
    "collapsed": false
   },
   "outputs": [
    {
     "name": "stdout",
     "output_type": "stream",
     "text": [
      "2016-08-08 19:09:05.618000\n"
     ]
    }
   ],
   "source": [
    "# If you want both date and time\n",
    "today = datetime.datetime.today()\n",
    "print today # ISO style printing"
   ]
  },
  {
   "cell_type": "code",
   "execution_count": null,
   "metadata": {
    "collapsed": false
   },
   "outputs": [],
   "source": [
    "'''\n",
    "In class acivity\n",
    "Power ball machine creator\n",
    "\n",
    "A power ball needs a list of 6 numbers.\n",
    "The first 5 numbers have value between 1 and 59.\n",
    "The last number also called power ball number will be between 1 and 35\n",
    "\n",
    "Write a Python program to create this list with 6 numbers. Modify the code\n",
    "so that it is seeded by the current date. \n",
    "'''"
   ]
  },
  {
   "cell_type": "code",
   "execution_count": 57,
   "metadata": {
    "collapsed": false
   },
   "outputs": [
    {
     "name": "stdout",
     "output_type": "stream",
     "text": [
      "[14, 3, 9, 22, 29]\n",
      "[14, 3, 9, 22, 29, 13]\n"
     ]
    }
   ],
   "source": [
    "import random\n",
    "import datetime\n",
    "td = datetime.date.today()\n",
    "random.seed(today)\n",
    "\n",
    "a=[]\n",
    "for i in range(5):\n",
    "    a.append(random.randint(1,59))\n",
    "print a\n",
    "powerball=a\n",
    "powerball.append(random.randint(1,35))\n",
    "print powerball\n"
   ]
  },
  {
   "cell_type": "code",
   "execution_count": 52,
   "metadata": {
    "collapsed": false
   },
   "outputs": [
    {
     "data": {
      "text/plain": [
       "'\\nURLLIB2 module provides an updated API for using internet resources \\nidentified by URLs.\\nhttp://pymotw.com/2/urllib2/\\n'"
      ]
     },
     "execution_count": 52,
     "metadata": {},
     "output_type": "execute_result"
    }
   ],
   "source": [
    "'''\n",
    "URLLIB2 module provides an updated API for using internet resources \n",
    "identified by URLs.\n",
    "http://pymotw.com/2/urllib2/\n",
    "'''"
   ]
  },
  {
   "cell_type": "code",
   "execution_count": null,
   "metadata": {
    "collapsed": false
   },
   "outputs": [],
   "source": [
    "import urllib2\n",
    "# Perform a GET method operation\n",
    "response = urllib2.urlopen('http://www.google.com')\n",
    "print response.info()"
   ]
  },
  {
   "cell_type": "code",
   "execution_count": null,
   "metadata": {
    "collapsed": false
   },
   "outputs": [],
   "source": [
    "# Get a list of functions that are associated with the response object\n",
    "dir(response) "
   ]
  },
  {
   "cell_type": "code",
   "execution_count": null,
   "metadata": {
    "collapsed": false
   },
   "outputs": [],
   "source": [
    "for lines in response.readlines():\n",
    "    print lines.strip()"
   ]
  },
  {
   "cell_type": "code",
   "execution_count": null,
   "metadata": {
    "collapsed": false
   },
   "outputs": [],
   "source": [
    "'''\n",
    "UUID \n",
    "\n",
    "http://pymotw.com/2/uuid/index.html#module-uuid defined UUID as a system for \n",
    "creating universally unique identifiers for resources in a way that does not \n",
    "require a central registrar. UUID values are 128 bits long and “can guarantee \n",
    "uniqueness across space and time”. They are useful for identifiers for \n",
    "documents, hosts, application clients, and other situations where a unique \n",
    "value is necessary. The RFC is specifically geared toward creating a \n",
    "Uniform Resource Name namespace.\n",
    "\n",
    "The idea is similar to GUID used in Windows programming.\n",
    "\n",
    "The following video (https://www.youtube.com/watch?v=ugqu10JV7dk) traces the\n",
    "history of Python in the words of Python creator, Guido van Rossum. The \n",
    "unique identifier similar to one in the url can be \n",
    "created using UUID.\n",
    "'''"
   ]
  },
  {
   "cell_type": "code",
   "execution_count": null,
   "metadata": {
    "collapsed": false
   },
   "outputs": [],
   "source": [
    "# getnode() to retrieve the MAC value on a given system:\n",
    "import uuid\n",
    "uuid.getnode()"
   ]
  },
  {
   "cell_type": "code",
   "execution_count": null,
   "metadata": {
    "collapsed": false
   },
   "outputs": [],
   "source": [
    "# To generate uuid based on the host MAC address,\n",
    "uuid.uuid1()"
   ]
  },
  {
   "cell_type": "code",
   "execution_count": null,
   "metadata": {
    "collapsed": false
   },
   "outputs": [],
   "source": [
    "# Generates an uuid based on random number\n",
    "uuid.uuid4() "
   ]
  },
  {
   "cell_type": "code",
   "execution_count": null,
   "metadata": {
    "collapsed": false
   },
   "outputs": [],
   "source": [
    "somerandomstring = 'kdf98234hj23j4y234uy324u234'\n",
    "print uuid.uuid3(uuid.NAMESPACE_DNS,somerandomstring) # MD5 based hashing\n",
    "print uuid.uuid5(uuid.NAMESPACE_DNS,somerandomstring) # SHA-1 based hashings"
   ]
  },
  {
   "cell_type": "code",
   "execution_count": null,
   "metadata": {
    "collapsed": false
   },
   "outputs": [],
   "source": [
    "# http://matplotlib.org/examples/index.html\n",
    "\n",
    "import matplotlib.pyplot as plt\n",
    "import numpy as np\n",
    "x = np.random.randn(1000)\n",
    "y = np.random.randn(1000) + 5\n",
    "\n",
    "# normal distribution center at x=0 and y=5\n",
    "plt.hist2d(x, y, bins=40)\n",
    "plt.show()"
   ]
  },
  {
   "cell_type": "code",
   "execution_count": null,
   "metadata": {
    "collapsed": false
   },
   "outputs": [],
   "source": [
    "#import matplotlib libary\n",
    "import matplotlib.pyplot as plt\n",
    "\n",
    "\n",
    "#define some data\n",
    "x = [1,2,3,4]\n",
    "y = [20, 21, 20.5, 20.8]\n",
    "\n",
    "#plot data\n",
    "plt.plot(x, y)\n",
    "\n",
    "#show plot\n",
    "plt.show()"
   ]
  },
  {
   "cell_type": "code",
   "execution_count": null,
   "metadata": {
    "collapsed": false
   },
   "outputs": [],
   "source": [
    "# web scraping example \n",
    "\n",
    "from lxml import html\n",
    "import requests\n",
    "\n",
    "page = requests.get('http://econpy.pythonanywhere.com/ex/001.html')\n",
    "tree = html.fromstring(page.content)\n",
    "\n",
    "#This will create a list of buyers:\n",
    "buyers = tree.xpath('//div[@title=\"buyer-name\"]/text()')\n",
    "#This will create a list of prices\n",
    "prices = tree.xpath('//span[@class=\"item-price\"]/text()')\n",
    "\n",
    "print 'Buyers: ', buyers\n",
    "print 'Prices: ', prices"
   ]
  },
  {
   "cell_type": "code",
   "execution_count": null,
   "metadata": {
    "collapsed": true
   },
   "outputs": [],
   "source": [
    "'''\n",
    "In-class activity: For the first ten thousand positive integers, \n",
    "find the sin(x) for each value with list comprehension and without \n",
    "list comprehension. Using the time module, compute \n",
    "the time taken by the each method. \n",
    "'''"
   ]
  }
 ],
 "metadata": {
  "kernelspec": {
   "display_name": "Python 2",
   "language": "python",
   "name": "python2"
  },
  "language_info": {
   "codemirror_mode": {
    "name": "ipython",
    "version": 2
   },
   "file_extension": ".py",
   "mimetype": "text/x-python",
   "name": "python",
   "nbconvert_exporter": "python",
   "pygments_lexer": "ipython2",
   "version": "2.7.11"
  }
 },
 "nbformat": 4,
 "nbformat_minor": 0
}
