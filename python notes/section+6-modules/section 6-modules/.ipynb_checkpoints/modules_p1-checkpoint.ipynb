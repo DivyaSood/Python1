{
 "cells": [
  {
   "cell_type": "code",
   "execution_count": null,
   "metadata": {
    "collapsed": false
   },
   "outputs": [],
   "source": [
    "'''\n",
    "File IO\n",
    "1. using module os\n",
    "2. using module csv\n",
    "3. using module xlrd\n",
    "4. walking a directory and all its sub-directories\n",
    "5. creating custom modules\n",
    "'''"
   ]
  },
  {
   "cell_type": "code",
   "execution_count": 1,
   "metadata": {
    "collapsed": false
   },
   "outputs": [
    {
     "name": "stdout",
     "output_type": "stream",
     "text": [
      "['16', '3', '19', '5']\n",
      "['18', '2', '14', '1']\n",
      "['20', '1', '16', '3']\n",
      "['11', '1', '13', '1']\n",
      "['19', '4', '18', '3']\n",
      "['14', '2', '12', '1']\n",
      "['15', '3', '20', '4']\n",
      "['13', '2', '11', '2']\n",
      "['12', '3', '15', '2']\n",
      "['17', '4', '17', '3']\n"
     ]
    }
   ],
   "source": [
    "import csv\n",
    "with open('exgrade.csv', 'r') as fo:\n",
    "    alllines = csv.reader(fo,delimiter=',')\n",
    "    for lines in alllines:\n",
    "        print lines"
   ]
  },
  {
   "cell_type": "code",
   "execution_count": 6,
   "metadata": {
    "collapsed": false
   },
   "outputs": [],
   "source": [
    "import csv\n",
    "with open('newfile.csv', 'w') as a1:\n",
    "    a2 = csv.writer(a1)\n",
    "    lines = [['Zebra', 10], ['Giraffe', 15]]\n",
    "    a2.writerows(lines)\n"
   ]
  },
  {
   "cell_type": "code",
   "execution_count": 7,
   "metadata": {
    "collapsed": false
   },
   "outputs": [
    {
     "name": "stdout",
     "output_type": "stream",
     "text": [
      "['Zebra', '10']\n",
      "['Giraffe', '15']\n"
     ]
    }
   ],
   "source": [
    "import csv\n",
    "with open('newfile.csv', 'r') as fo:\n",
    "    alllines = csv.reader(fo,delimiter=',')\n",
    "    for lines in alllines:\n",
    "        print lines"
   ]
  },
  {
   "cell_type": "code",
   "execution_count": 8,
   "metadata": {
    "collapsed": false
   },
   "outputs": [
    {
     "name": "stdout",
     "output_type": "stream",
     "text": [
      "['Zebra', '10']\n",
      "['Giraffe', '15']\n"
     ]
    }
   ],
   "source": [
    "import csv\n",
    "with open('newfile.csv', 'r') as fo:\n",
    "    alllines = csv.reader(fo,delimiter=',')\n",
    "    for lines in alllines:\n",
    "        print lines"
   ]
  },
  {
   "cell_type": "code",
   "execution_count": null,
   "metadata": {
    "collapsed": false
   },
   "outputs": [],
   "source": [
    "'''\n",
    "XLRD \n",
    "http://www.python-excel.org/\n",
    "http://www.youlikeprogramming.com/2012/03/examples-reading-excel-xls-documents-using-pythons-xlrd/\n",
    "'''"
   ]
  },
  {
   "cell_type": "code",
   "execution_count": 10,
   "metadata": {
    "collapsed": false
   },
   "outputs": [
    {
     "name": "stdout",
     "output_type": "stream",
     "text": [
      "[u'Sheet1']\n"
     ]
    }
   ],
   "source": [
    "# Open an excel file and get all the sheet names\n",
    "import xlrd\n",
    "wb = xlrd.open_workbook('exgrade.xls')\n",
    "print wb.sheet_names()"
   ]
  },
  {
   "cell_type": "code",
   "execution_count": 11,
   "metadata": {
    "collapsed": false
   },
   "outputs": [
    {
     "name": "stdout",
     "output_type": "stream",
     "text": [
      "10\n"
     ]
    }
   ],
   "source": [
    "# In sheet 1, get the number of rows\n",
    "ws = wb.sheet_by_name('Sheet1')\n",
    "print ws.nrows"
   ]
  },
  {
   "cell_type": "code",
   "execution_count": 12,
   "metadata": {
    "collapsed": false
   },
   "outputs": [
    {
     "name": "stdout",
     "output_type": "stream",
     "text": [
      "[number:16.0, number:3.0, number:19.0, number:5.0]\n",
      "number:3.0\n"
     ]
    }
   ],
   "source": [
    "print ws.row(0) # Get the content of first row as a list\n",
    "print ws.row(0)[1] # Get the second element of the first row list "
   ]
  },
  {
   "cell_type": "code",
   "execution_count": 19,
   "metadata": {
    "collapsed": false
   },
   "outputs": [
    {
     "name": "stdout",
     "output_type": "stream",
     "text": [
      "0 ['Name', 'Number'] 2\n",
      "1 ['Adam', ' 10034'] 2\n",
      "2 ['Nitin', ' 10043'] 2\n",
      "3 ['Rob', ' 10134'] 2\n",
      "4 ['Sheela', ' 10045'] 2\n"
     ]
    }
   ],
   "source": [
    "# xlwt module is used to write into excel file.\n",
    "import xlwt\n",
    "workbook = xlwt.Workbook() \n",
    "sheet = workbook.add_sheet(\"Sheet 1\") \n",
    "\n",
    "#sheet.write(0, 0, 'Adam') # row, column, value\n",
    "\n",
    "g = [['Name', 'Number'],\n",
    "     ['Adam', ' 10034'],\n",
    "     ['Nitin', ' 10043'],\n",
    "     ['Rob', ' 10134'],\n",
    "     ['Sheela', ' 10045']]\n",
    "\n",
    "for i,v in enumerate(g):#it will give two things\n",
    "    print i, v, len(v)\n",
    "    if len(v) >= 2:\n",
    "        sheet.write(i,0,v[0])\n",
    "        sheet.write(i,1,v[1])\n",
    "        \n",
    "        \n",
    "workbook.save('Xcel1.xls')"
   ]
  },
  {
   "cell_type": "code",
   "execution_count": null,
   "metadata": {
    "collapsed": false
   },
   "outputs": [],
   "source": [
    "'''\n",
    "Writing to and reading from databases\n",
    "'''"
   ]
  },
  {
   "cell_type": "code",
   "execution_count": 15,
   "metadata": {
    "collapsed": false
   },
   "outputs": [
    {
     "name": "stdout",
     "output_type": "stream",
     "text": [
      "<sqlite3.Cursor object at 0x01A27DA0>\n",
      "(u'2006-02-05', u'SELL', u'RHAT', 50.0, 50.25)\n",
      "(u'2006-03-15', u'BUY', u'GOOG', 1000.0, 350.13)\n",
      "(u'2006-10-05', u'BUY', u'GOOG', 100000.0, 400.14)\n"
     ]
    }
   ],
   "source": [
    "import sqlite3\n",
    "\n",
    "# Create a connection to sqlite\n",
    "conn = sqlite3.connect('test3.db')\n",
    "\n",
    "# Open a cursor\n",
    "c = conn.cursor()\n",
    "\n",
    "# Execute any SQL statement\n",
    "# Create table named \"stocks\" if it does not already exist.\n",
    "c.execute(\"create table if not exists stocks (date text, trans text,symbol text, qty real, price real)\")#creating a table,it should be a string \n",
    "\n",
    "# Add entries\n",
    "c.execute(\"insert into stocks values ('2006-02-05','SELL','RHAT',50,50.25)\")\n",
    "c.execute(\"insert into stocks values ('2006-03-15','BUY','GOOG',1000,350.13)\")\n",
    "c.execute(\"insert into stocks values ('2006-10-05','BUY','GOOG',100000,400.14)\")\n",
    "conn.commit()\n",
    "\n",
    "# Query all the entries in the database\n",
    "alllines = c.execute(\"select * from stocks\")\n",
    "print alllines\n",
    "\n",
    "# Print it\n",
    "for lines in alllines:\n",
    "    print lines\n",
    "\n",
    "c.close()"
   ]
  },
  {
   "cell_type": "code",
   "execution_count": null,
   "metadata": {
    "collapsed": false
   },
   "outputs": [],
   "source": [
    "'''\n",
    "In-class activity - Create a database and call it 'UserSignUp.' In the database create a table called \n",
    "'FirstSignUp' with columns Name, Country, Date, Type. Date should contain information on first login date \n",
    "and type should be paid or free user. \n",
    "Add five entries. Then print out the rows. \n",
    "'''"
   ]
  },
  {
   "cell_type": "code",
   "execution_count": 4,
   "metadata": {
    "collapsed": false
   },
   "outputs": [
    {
     "ename": "OperationalError",
     "evalue": "table FirstSignUp has 5 columns but 2 values were supplied",
     "output_type": "error",
     "traceback": [
      "\u001b[1;31m---------------------------------------------------------------------------\u001b[0m",
      "\u001b[1;31mOperationalError\u001b[0m                          Traceback (most recent call last)",
      "\u001b[1;32m<ipython-input-4-a49f606e13de>\u001b[0m in \u001b[0;36m<module>\u001b[1;34m()\u001b[0m\n\u001b[0;32m      3\u001b[0m \u001b[0mc\u001b[0m\u001b[1;33m=\u001b[0m\u001b[0mconn\u001b[0m\u001b[1;33m.\u001b[0m\u001b[0mcursor\u001b[0m\u001b[1;33m(\u001b[0m\u001b[1;33m)\u001b[0m\u001b[1;33m\u001b[0m\u001b[0m\n\u001b[0;32m      4\u001b[0m \u001b[0mc\u001b[0m\u001b[1;33m.\u001b[0m\u001b[0mexecute\u001b[0m\u001b[1;33m(\u001b[0m\u001b[1;34m'''create table if not exists FirstSignUp(Name text,Country text)'''\u001b[0m\u001b[1;33m)\u001b[0m\u001b[1;33m\u001b[0m\u001b[0m\n\u001b[1;32m----> 5\u001b[1;33m \u001b[0mc\u001b[0m\u001b[1;33m.\u001b[0m\u001b[0mexecute\u001b[0m\u001b[1;33m(\u001b[0m\u001b[1;34m\"insert into FirstSignUp values ('Divya','India')\"\u001b[0m\u001b[1;33m)\u001b[0m\u001b[1;33m\u001b[0m\u001b[0m\n\u001b[0m\u001b[0;32m      6\u001b[0m \u001b[0mc\u001b[0m\u001b[1;33m.\u001b[0m\u001b[0mexecute\u001b[0m\u001b[1;33m(\u001b[0m\u001b[1;34m\"insert into FirstSignUp values ('Himanshu','California')\"\u001b[0m\u001b[1;33m)\u001b[0m\u001b[1;33m\u001b[0m\u001b[0m\n\u001b[0;32m      7\u001b[0m \u001b[0mc\u001b[0m\u001b[1;33m.\u001b[0m\u001b[0mexecute\u001b[0m\u001b[1;33m(\u001b[0m\u001b[1;34m\"insert into FirstSignUp values ('Ram','Europe')\"\u001b[0m\u001b[1;33m)\u001b[0m\u001b[1;33m\u001b[0m\u001b[0m\n",
      "\u001b[1;31mOperationalError\u001b[0m: table FirstSignUp has 5 columns but 2 values were supplied"
     ]
    }
   ],
   "source": [
    "import sqlite3\n",
    "conn=sqlite3.connect('UserSignUp')\n",
    "c=conn.cursor()\n",
    "c.execute('''create table if not exists FirstSignUp(Name text,Country text)''')\n",
    "c.execute(\"insert into FirstSignUp values ('Divya','India')\")\n",
    "c.execute(\"insert into FirstSignUp values ('Himanshu','California')\")\n",
    "c.execute(\"insert into FirstSignUp values ('Ram','Europe')\")\n",
    "conn.commit()\n",
    "alllines = c.execute(\"select * FirstSignUp\")\n",
    "print alllines\n",
    "for lines in alllines:\n",
    "    print lines\n",
    "c.close()"
   ]
  },
  {
   "cell_type": "code",
   "execution_count": 30,
   "metadata": {
    "collapsed": false
   },
   "outputs": [
    {
     "data": {
      "text/plain": [
       "'\\nDIRECTORY LISTING\\n'"
      ]
     },
     "execution_count": 30,
     "metadata": {},
     "output_type": "execute_result"
    }
   ],
   "source": [
    "'''\n",
    "DIRECTORY LISTING\n",
    "'''"
   ]
  },
  {
   "cell_type": "code",
   "execution_count": 31,
   "metadata": {
    "collapsed": false
   },
   "outputs": [
    {
     "name": "stdout",
     "output_type": "stream",
     "text": [
      "['.ipynb_checkpoints', 'exgrade.csv', 'exgrade.xls', 'modules_p1.ipynb', 'modules_p2.ipynb', 'myfolder', 'myfun.py', 'myfun.pyc', 'newfile.csv', 'python_list.txt', 'python_list1.txt', 'test.db', 'test3.db', 'UserSignUp', 'webscrapping_lxml.txt', 'Xcel1.xls']\n"
     ]
    }
   ],
   "source": [
    "import os\n",
    "print os.listdir(\".\")"
   ]
  },
  {
   "cell_type": "code",
   "execution_count": 40,
   "metadata": {
    "collapsed": false
   },
   "outputs": [
    {
     "name": "stdout",
     "output_type": "stream",
     "text": [
      "['exgrade.csv', 'exgrade.xls', 'modules_p1.ipynb', 'modules_p2.ipynb', 'myfun.py', 'myfun.pyc', 'newfile.csv', 'python_list.txt', 'python_list1.txt', 'test.db', 'test3.db', 'webscrapping_lxml.txt', 'Xcel1.xls']\n"
     ]
    }
   ],
   "source": [
    "import glob\n",
    "print glob.glob(\"*.*\")\n",
    "# glob.glob(_directory_name) will return all the files in a particular directory or folder"
   ]
  },
  {
   "cell_type": "code",
   "execution_count": 41,
   "metadata": {
    "collapsed": false
   },
   "outputs": [
    {
     "name": "stdout",
     "output_type": "stream",
     "text": [
      "['modules_p1.ipynb', 'modules_p2.ipynb']\n"
     ]
    }
   ],
   "source": [
    "print glob.glob(\"*.ipynb\")\n",
    "# in this example it will return all the ipython notebook files in the current directory"
   ]
  },
  {
   "cell_type": "code",
   "execution_count": 42,
   "metadata": {
    "collapsed": false
   },
   "outputs": [],
   "source": [
    "import os\n",
    "# os.walk returns three values - root, directories and files and they are passed to the variables\n",
    "# root, dirs and files respectively.\n",
    "for root, dirs, files in os.walk(\"sridevi/Desktop/\"):\n",
    "    # root, dirs, files\n",
    "    for file in files:\n",
    "        if file.endswith(\".py\"):\n",
    "             print os.path.join(root, file)"
   ]
  },
  {
   "cell_type": "code",
   "execution_count": 43,
   "metadata": {
    "collapsed": false
   },
   "outputs": [
    {
     "data": {
      "text/plain": [
       "'c:\\\\users\\\\hello\\\\downloads\\\\section+6-modules\\\\section 6-modules'"
      ]
     },
     "execution_count": 43,
     "metadata": {},
     "output_type": "execute_result"
    }
   ],
   "source": [
    "import os\n",
    "os.getcwd()\n"
   ]
  },
  {
   "cell_type": "code",
   "execution_count": 44,
   "metadata": {
    "collapsed": false
   },
   "outputs": [
    {
     "name": "stdout",
     "output_type": "stream",
     "text": [
      "0.707106781187\n"
     ]
    }
   ],
   "source": [
    "# Import all functions in a given module\n",
    "# You have to refer to the module name when \n",
    "# calling the function\n",
    "import math\n",
    "print math.sin(math.pi/4)\n"
   ]
  },
  {
   "cell_type": "code",
   "execution_count": 45,
   "metadata": {
    "collapsed": false
   },
   "outputs": [
    {
     "name": "stdout",
     "output_type": "stream",
     "text": [
      "0.707106781187\n"
     ]
    }
   ],
   "source": [
    "# Import all functions in a given module\n",
    "# You do not need to refer to the module name when \n",
    "# calling the function\n",
    "from math import *\n",
    "print sin(pi/4)\n"
   ]
  },
  {
   "cell_type": "code",
   "execution_count": 36,
   "metadata": {
    "collapsed": false
   },
   "outputs": [
    {
     "name": "stdout",
     "output_type": "stream",
     "text": [
      "0.707106781187\n"
     ]
    }
   ],
   "source": [
    "# Give a shortcut name to the module. \n",
    "# Especially true for modules with long names such as matplotlib\n",
    "import math as ma\n",
    "print ma.sin(ma.pi/4)"
   ]
  },
  {
   "cell_type": "code",
   "execution_count": 46,
   "metadata": {
    "collapsed": false
   },
   "outputs": [
    {
     "name": "stdout",
     "output_type": "stream",
     "text": [
      "0.707106781187\n"
     ]
    }
   ],
   "source": [
    "# Only import the necessary functions from a module\n",
    "# This is memory efficient\n",
    "from math import sin,pi\n",
    "print sin(pi/4)"
   ]
  },
  {
   "cell_type": "code",
   "execution_count": 47,
   "metadata": {
    "collapsed": false
   },
   "outputs": [
    {
     "name": "stdout",
     "output_type": "stream",
     "text": [
      "[ 1.  5.  8.  6.]\n",
      "[ 0.5  2.5  4.   3. ]\n"
     ]
    }
   ],
   "source": [
    "import numpy as np\n",
    "a = np.array([1,5,8,6], float)\n",
    "print a\n",
    "c = a/2\n",
    "print c"
   ]
  },
  {
   "cell_type": "code",
   "execution_count": 48,
   "metadata": {
    "collapsed": false
   },
   "outputs": [
    {
     "name": "stdout",
     "output_type": "stream",
     "text": [
      "20.0\n",
      "240.0\n",
      "1.0\n",
      "8.0\n"
     ]
    }
   ],
   "source": [
    "print a.sum()\n",
    "print a.prod()\n",
    "print a.min()\n",
    "print a.max()"
   ]
  },
  {
   "cell_type": "code",
   "execution_count": 49,
   "metadata": {
    "collapsed": false
   },
   "outputs": [
    {
     "name": "stdout",
     "output_type": "stream",
     "text": [
      "['C:\\\\Users\\\\hello\\\\AppData\\\\Local\\\\Enthought\\\\Canopy32\\\\User\\\\lib\\\\site-packages\\\\ipykernel\\\\__main__.py', '-f', 'C:\\\\Users\\\\hello\\\\AppData\\\\Roaming\\\\jupyter\\\\runtime\\\\kernel-e5139966-80ae-49e6-8efc-b9277f3c8cd6.json']\n"
     ]
    }
   ],
   "source": [
    "# Modules can also have variables associated with them in addition to functions.\n",
    "import sys\n",
    "print sys.argv\n"
   ]
  },
  {
   "cell_type": "code",
   "execution_count": 50,
   "metadata": {
    "collapsed": false
   },
   "outputs": [
    {
     "name": "stdout",
     "output_type": "stream",
     "text": [
      "['', 'C:\\\\Users\\\\hello\\\\AppData\\\\Local\\\\Enthought\\\\Canopy32\\\\User\\\\Scripts\\\\python27.zip', 'C:\\\\Users\\\\hello\\\\AppData\\\\Local\\\\Enthought\\\\Canopy32\\\\App\\\\appdata\\\\canopy-1.7.3.3335.win-x86\\\\DLLs', 'C:\\\\Users\\\\hello\\\\AppData\\\\Local\\\\Enthought\\\\Canopy32\\\\App\\\\appdata\\\\canopy-1.7.3.3335.win-x86\\\\lib', 'C:\\\\Users\\\\hello\\\\AppData\\\\Local\\\\Enthought\\\\Canopy32\\\\App\\\\appdata\\\\canopy-1.7.3.3335.win-x86\\\\lib\\\\plat-win', 'C:\\\\Users\\\\hello\\\\AppData\\\\Local\\\\Enthought\\\\Canopy32\\\\App\\\\appdata\\\\canopy-1.7.3.3335.win-x86\\\\lib\\\\lib-tk', 'C:\\\\Users\\\\hello\\\\AppData\\\\Local\\\\Enthought\\\\Canopy32\\\\App\\\\appdata\\\\canopy-1.7.3.3335.win-x86', 'C:\\\\Users\\\\hello\\\\AppData\\\\Local\\\\Enthought\\\\Canopy32\\\\User', 'C:\\\\Users\\\\hello\\\\AppData\\\\Local\\\\Enthought\\\\Canopy32\\\\User\\\\lib\\\\site-packages', 'C:\\\\Users\\\\hello\\\\AppData\\\\Local\\\\Enthought\\\\Canopy32\\\\User\\\\lib\\\\site-packages\\\\win32', 'C:\\\\Users\\\\hello\\\\AppData\\\\Local\\\\Enthought\\\\Canopy32\\\\User\\\\lib\\\\site-packages\\\\win32\\\\lib', 'C:\\\\Users\\\\hello\\\\AppData\\\\Local\\\\Enthought\\\\Canopy32\\\\User\\\\lib\\\\site-packages\\\\Pythonwin', 'C:\\\\Users\\\\hello\\\\AppData\\\\Local\\\\Enthought\\\\Canopy32\\\\App\\\\appdata', 'C:\\\\Users\\\\hello\\\\AppData\\\\Local\\\\Enthought\\\\Canopy32\\\\App\\\\appdata\\\\canopy-1.7.3.3335.win-x86\\\\lib\\\\site-packages', 'C:\\\\Users\\\\hello\\\\AppData\\\\Local\\\\Enthought\\\\Canopy32\\\\App\\\\appdata\\\\canopy-1.7.3.3335.win-x86\\\\lib\\\\site-packages\\\\win32', 'C:\\\\Users\\\\hello\\\\AppData\\\\Local\\\\Enthought\\\\Canopy32\\\\App\\\\appdata\\\\canopy-1.7.3.3335.win-x86\\\\lib\\\\site-packages\\\\win32\\\\lib', 'C:\\\\Users\\\\hello\\\\AppData\\\\Local\\\\Enthought\\\\Canopy32\\\\App\\\\appdata\\\\canopy-1.7.3.3335.win-x86\\\\lib\\\\site-packages\\\\Pythonwin', 'C:\\\\Users\\\\hello\\\\AppData\\\\Local\\\\Enthought\\\\Canopy32\\\\User\\\\lib\\\\site-packages\\\\IPython\\\\extensions', 'C:\\\\Users\\\\hello\\\\.ipython']\n",
      "win32\n",
      "2.7.11 | 32-bit | (default, Jun 11 2016, 11:34:14) [MSC v.1500 32 bit (Intel)]\n",
      "2.7\n"
     ]
    }
   ],
   "source": [
    "print sys.path\n",
    "print sys.platform\n",
    "print sys.version\n",
    "print sys.winver\n"
   ]
  },
  {
   "cell_type": "code",
   "execution_count": 1,
   "metadata": {
    "collapsed": false
   },
   "outputs": [
    {
     "ename": "WindowsError",
     "evalue": "[Error 2] The system cannot find the file specified",
     "output_type": "error",
     "traceback": [
      "\u001b[1;31m---------------------------------------------------------------------------\u001b[0m",
      "\u001b[1;31mWindowsError\u001b[0m                              Traceback (most recent call last)",
      "\u001b[1;32m<ipython-input-1-bb152a1635ba>\u001b[0m in \u001b[0;36m<module>\u001b[1;34m()\u001b[0m\n\u001b[0;32m     10\u001b[0m \u001b[1;33m\u001b[0m\u001b[0m\n\u001b[0;32m     11\u001b[0m \u001b[1;32mimport\u001b[0m \u001b[0msubprocess\u001b[0m\u001b[1;33m\u001b[0m\u001b[0m\n\u001b[1;32m---> 12\u001b[1;33m \u001b[0msp\u001b[0m \u001b[1;33m=\u001b[0m \u001b[0msubprocess\u001b[0m\u001b[1;33m.\u001b[0m\u001b[0mPopen\u001b[0m\u001b[1;33m(\u001b[0m\u001b[1;34m'ls'\u001b[0m\u001b[1;33m,\u001b[0m  \u001b[0mstdout\u001b[0m\u001b[1;33m=\u001b[0m\u001b[0msubprocess\u001b[0m\u001b[1;33m.\u001b[0m\u001b[0mPIPE\u001b[0m\u001b[1;33m)\u001b[0m\u001b[1;33m\u001b[0m\u001b[0m\n\u001b[0m\u001b[0;32m     13\u001b[0m \u001b[0ms\u001b[0m \u001b[1;33m=\u001b[0m \u001b[0msp\u001b[0m\u001b[1;33m.\u001b[0m\u001b[0mcommunicate\u001b[0m\u001b[1;33m(\u001b[0m\u001b[1;33m)\u001b[0m \u001b[1;31m# Returns a tuple (stdout,stderr)\u001b[0m\u001b[1;33m\u001b[0m\u001b[0m\n\u001b[0;32m     14\u001b[0m \u001b[1;32mprint\u001b[0m \u001b[0ms\u001b[0m\u001b[1;33m\u001b[0m\u001b[0m\n",
      "\u001b[1;32mC:\\Users\\hello\\AppData\\Local\\Enthought\\Canopy32\\App\\appdata\\canopy-1.7.3.3335.win-x86\\lib\\subprocess.pyc\u001b[0m in \u001b[0;36m__init__\u001b[1;34m(self, args, bufsize, executable, stdin, stdout, stderr, preexec_fn, close_fds, shell, cwd, env, universal_newlines, startupinfo, creationflags)\u001b[0m\n\u001b[0;32m    708\u001b[0m                                 \u001b[0mp2cread\u001b[0m\u001b[1;33m,\u001b[0m \u001b[0mp2cwrite\u001b[0m\u001b[1;33m,\u001b[0m\u001b[1;33m\u001b[0m\u001b[0m\n\u001b[0;32m    709\u001b[0m                                 \u001b[0mc2pread\u001b[0m\u001b[1;33m,\u001b[0m \u001b[0mc2pwrite\u001b[0m\u001b[1;33m,\u001b[0m\u001b[1;33m\u001b[0m\u001b[0m\n\u001b[1;32m--> 710\u001b[1;33m                                 errread, errwrite)\n\u001b[0m\u001b[0;32m    711\u001b[0m         \u001b[1;32mexcept\u001b[0m \u001b[0mException\u001b[0m\u001b[1;33m:\u001b[0m\u001b[1;33m\u001b[0m\u001b[0m\n\u001b[0;32m    712\u001b[0m             \u001b[1;31m# Preserve original exception in case os.close raises.\u001b[0m\u001b[1;33m\u001b[0m\u001b[1;33m\u001b[0m\u001b[0m\n",
      "\u001b[1;32mC:\\Users\\hello\\AppData\\Local\\Enthought\\Canopy32\\App\\appdata\\canopy-1.7.3.3335.win-x86\\lib\\subprocess.pyc\u001b[0m in \u001b[0;36m_execute_child\u001b[1;34m(self, args, executable, preexec_fn, close_fds, cwd, env, universal_newlines, startupinfo, creationflags, shell, to_close, p2cread, p2cwrite, c2pread, c2pwrite, errread, errwrite)\u001b[0m\n\u001b[0;32m    956\u001b[0m                                          \u001b[0menv\u001b[0m\u001b[1;33m,\u001b[0m\u001b[1;33m\u001b[0m\u001b[0m\n\u001b[0;32m    957\u001b[0m                                          \u001b[0mcwd\u001b[0m\u001b[1;33m,\u001b[0m\u001b[1;33m\u001b[0m\u001b[0m\n\u001b[1;32m--> 958\u001b[1;33m                                          startupinfo)\n\u001b[0m\u001b[0;32m    959\u001b[0m             \u001b[1;32mexcept\u001b[0m \u001b[0mpywintypes\u001b[0m\u001b[1;33m.\u001b[0m\u001b[0merror\u001b[0m\u001b[1;33m,\u001b[0m \u001b[0me\u001b[0m\u001b[1;33m:\u001b[0m\u001b[1;33m\u001b[0m\u001b[0m\n\u001b[0;32m    960\u001b[0m                 \u001b[1;31m# Translate pywintypes.error to WindowsError, which is\u001b[0m\u001b[1;33m\u001b[0m\u001b[1;33m\u001b[0m\u001b[0m\n",
      "\u001b[1;31mWindowsError\u001b[0m: [Error 2] The system cannot find the file specified"
     ]
    }
   ],
   "source": [
    "'''\n",
    "subprocess module is useful for making calls to the *nix operating system. \n",
    "It will throw an exception on Windows.\n",
    "You need to use the Popen function and pass the command\n",
    "Check documentation in https://docs.python.org/2/library/subprocess.html\n",
    "https://pymotw.com/2/subprocess/\n",
    "Note: This module can only be used on Mac or Linux. \n",
    "You can't run subprocess command on Windows.\n",
    "'''\n",
    "\n",
    "import subprocess\n",
    "sp = subprocess.Popen('ls',  stdout=subprocess.PIPE)\n",
    "s = sp.communicate() # Returns a tuple (stdout,stderr)\n",
    "print s\n",
    "\n",
    "# You can iterate through the tuple that is returned by the function\n",
    "for items in s:\n",
    "    print items\n",
    "\n",
    "'''\n",
    "Invoking the system shell with shell = True can be a security hazard if combined\n",
    "with untrusted input\n",
    "'''\n"
   ]
  },
  {
   "cell_type": "code",
   "execution_count": null,
   "metadata": {
    "collapsed": false
   },
   "outputs": [],
   "source": [
    "'''\n",
    "Creating your own modules\n",
    "'''\n"
   ]
  },
  {
   "cell_type": "code",
   "execution_count": 2,
   "metadata": {
    "collapsed": false
   },
   "outputs": [
    {
     "name": "stdout",
     "output_type": "stream",
     "text": [
      "5\n"
     ]
    }
   ],
   "source": [
    "# The file myfunc.py is in the same folder as this IPython notebook\n",
    "import myfun\n",
    "print myfun.increment(2,3)\n"
   ]
  },
  {
   "cell_type": "code",
   "execution_count": 2,
   "metadata": {
    "collapsed": false
   },
   "outputs": [
    {
     "name": "stdout",
     "output_type": "stream",
     "text": [
      "11\n"
     ]
    }
   ],
   "source": [
    "# The file myfunc1.py is in the folder \"myfolder\" which is \n",
    "# in the same location as this IPython notebook\n",
    "from myfolder import myfun1\n",
    "print myfun1.increment(10)\n"
   ]
  },
  {
   "cell_type": "code",
   "execution_count": 3,
   "metadata": {
    "collapsed": false
   },
   "outputs": [
    {
     "data": {
      "text/plain": [
       "17"
      ]
     },
     "execution_count": 3,
     "metadata": {},
     "output_type": "execute_result"
    }
   ],
   "source": [
    "import myfolder\n",
    "myfolder.myfun1.increment(16)\n"
   ]
  },
  {
   "cell_type": "code",
   "execution_count": 4,
   "metadata": {
    "collapsed": false
   },
   "outputs": [
    {
     "name": "stdout",
     "output_type": "stream",
     "text": [
      "23\n"
     ]
    }
   ],
   "source": [
    "import myfolder as mf\n",
    "print mf.myfun1.increment(20,3)\n"
   ]
  },
  {
   "cell_type": "code",
   "execution_count": null,
   "metadata": {
    "collapsed": false
   },
   "outputs": [],
   "source": [
    "'''\n",
    "In-class activity - create a folder and make it a Python importable folder. \n",
    "Write a program that returns a list of odd numbers from a given list and \n",
    "save it in that folder. Write a code in the iPython notebook that imports \n",
    "the folder and then make a function call and supply the list.\n",
    "'''"
   ]
  },
  {
   "cell_type": "code",
   "execution_count": null,
   "metadata": {
    "collapsed": false
   },
   "outputs": [],
   "source": []
  }
 ],
 "metadata": {
  "kernelspec": {
   "display_name": "Python 2",
   "language": "python",
   "name": "python2"
  },
  "language_info": {
   "codemirror_mode": {
    "name": "ipython",
    "version": 2
   },
   "file_extension": ".py",
   "mimetype": "text/x-python",
   "name": "python",
   "nbconvert_exporter": "python",
   "pygments_lexer": "ipython2",
   "version": "2.7.11"
  }
 },
 "nbformat": 4,
 "nbformat_minor": 0
}
