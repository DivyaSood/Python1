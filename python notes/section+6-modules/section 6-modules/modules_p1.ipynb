{
 "cells": [
  {
   "cell_type": "code",
   "execution_count": 10,
   "metadata": {
    "collapsed": false,
    "deletable": true,
    "editable": true
   },
   "outputs": [
    {
     "data": {
      "text/plain": [
       "'\\nFile IO\\n1. using module os\\n2. using module csv\\n3. using module xlrd\\n4. walking a directory and all its sub-directories\\n5. creating custom modules\\n'"
      ]
     },
     "execution_count": 10,
     "metadata": {},
     "output_type": "execute_result"
    }
   ],
   "source": [
    "'''\n",
    "File IO\n",
    "1. using module os\n",
    "2. using module csv\n",
    "3. using module xlrd\n",
    "4. walking a directory and all its sub-directories\n",
    "5. creating custom modules\n",
    "'''"
   ]
  },
  {
   "cell_type": "code",
   "execution_count": 1,
   "metadata": {
    "collapsed": false,
    "deletable": true,
    "editable": true
   },
   "outputs": [
    {
     "name": "stdout",
     "output_type": "stream",
     "text": [
      "['16', '3', '19', '5']\n",
      "['18', '2', '14', '1']\n",
      "['20', '1', '16', '3']\n",
      "['11', '1', '13', '1']\n",
      "['19', '4', '18', '3']\n",
      "['14', '2', '12', '1']\n",
      "['15', '3', '20', '4']\n",
      "['13', '2', '11', '2']\n",
      "['12', '3', '15', '2']\n",
      "['17', '4', '17', '3']\n"
     ]
    }
   ],
   "source": [
    "import csv\n",
    "with open('exgrade.csv', 'r') as fo:\n",
    "    alllines = csv.reader(fo,delimiter=',')\n",
    "    for lines in alllines:\n",
    "        print lines"
   ]
  },
  {
   "cell_type": "code",
   "execution_count": 4,
   "metadata": {
    "collapsed": false,
    "deletable": true,
    "editable": true
   },
   "outputs": [
    {
     "ename": "IOError",
     "evalue": "[Errno 13] Permission denied: 'newfile.csv'",
     "output_type": "error",
     "traceback": [
      "\u001b[1;31m---------------------------------------------------------------------------\u001b[0m",
      "\u001b[1;31mIOError\u001b[0m                                   Traceback (most recent call last)",
      "\u001b[1;32m<ipython-input-4-700c9674fde7>\u001b[0m in \u001b[0;36m<module>\u001b[1;34m()\u001b[0m\n\u001b[0;32m      1\u001b[0m \u001b[1;32mimport\u001b[0m \u001b[0mcsv\u001b[0m\u001b[1;33m\u001b[0m\u001b[0m\n\u001b[1;32m----> 2\u001b[1;33m \u001b[1;32mwith\u001b[0m \u001b[0mopen\u001b[0m\u001b[1;33m(\u001b[0m\u001b[1;34m'newfile.csv'\u001b[0m\u001b[1;33m,\u001b[0m \u001b[1;34m'w'\u001b[0m\u001b[1;33m)\u001b[0m \u001b[1;32mas\u001b[0m \u001b[0ma1\u001b[0m\u001b[1;33m:\u001b[0m\u001b[1;33m\u001b[0m\u001b[0m\n\u001b[0m\u001b[0;32m      3\u001b[0m     \u001b[0ma2\u001b[0m \u001b[1;33m=\u001b[0m \u001b[0mcsv\u001b[0m\u001b[1;33m.\u001b[0m\u001b[0mwriter\u001b[0m\u001b[1;33m(\u001b[0m\u001b[0ma1\u001b[0m\u001b[1;33m)\u001b[0m\u001b[1;33m\u001b[0m\u001b[0m\n\u001b[0;32m      4\u001b[0m     \u001b[0mlines\u001b[0m \u001b[1;33m=\u001b[0m \u001b[1;33m[\u001b[0m\u001b[1;33m[\u001b[0m\u001b[1;34m'Zebra'\u001b[0m\u001b[1;33m,\u001b[0m \u001b[1;36m10\u001b[0m\u001b[1;33m]\u001b[0m\u001b[1;33m,\u001b[0m \u001b[1;33m[\u001b[0m\u001b[1;34m'Giraffe'\u001b[0m\u001b[1;33m,\u001b[0m \u001b[1;36m15\u001b[0m\u001b[1;33m]\u001b[0m\u001b[1;33m]\u001b[0m\u001b[1;33m\u001b[0m\u001b[0m\n\u001b[0;32m      5\u001b[0m     \u001b[0ma2\u001b[0m\u001b[1;33m.\u001b[0m\u001b[0mwriterows\u001b[0m\u001b[1;33m(\u001b[0m\u001b[0mlines\u001b[0m\u001b[1;33m)\u001b[0m\u001b[1;33m\u001b[0m\u001b[0m\n",
      "\u001b[1;31mIOError\u001b[0m: [Errno 13] Permission denied: 'newfile.csv'"
     ]
    }
   ],
   "source": [
    "import csv\n",
    "with open('newfile.csv', 'w') as a1:\n",
    "    a2 = csv.writer(a1)\n",
    "    lines = [['Zebra', 10], ['Giraffe', 15]]\n",
    "    a2.writerows(lines)\n"
   ]
  },
  {
   "cell_type": "code",
   "execution_count": 5,
   "metadata": {
    "collapsed": false,
    "deletable": true,
    "editable": true
   },
   "outputs": [
    {
     "name": "stdout",
     "output_type": "stream",
     "text": [
      "['Zebra', '10']\n",
      "['', '']\n",
      "['Himanshu', '15']\n"
     ]
    }
   ],
   "source": [
    "import csv\n",
    "with open('newfile.csv', 'r') as fo:\n",
    "    alllines = csv.reader(fo,delimiter=',')\n",
    "    for lines in alllines:\n",
    "        print lines"
   ]
  },
  {
   "cell_type": "code",
   "execution_count": 6,
   "metadata": {
    "collapsed": false,
    "deletable": true,
    "editable": true
   },
   "outputs": [
    {
     "name": "stdout",
     "output_type": "stream",
     "text": [
      "['Zebra', '10']\n",
      "['', '']\n",
      "['Himanshu', '15']\n"
     ]
    }
   ],
   "source": [
    "import csv\n",
    "with open('newfile.csv', 'r') as fo:\n",
    "    alllines = csv.reader(fo,delimiter=',')\n",
    "    for lines in alllines:\n",
    "        print lines"
   ]
  },
  {
   "cell_type": "code",
   "execution_count": null,
   "metadata": {
    "collapsed": false,
    "deletable": true,
    "editable": true
   },
   "outputs": [],
   "source": [
    "'''\n",
    "XLRD \n",
    "http://www.python-excel.org/\n",
    "http://www.youlikeprogramming.com/2012/03/examples-reading-excel-xls-documents-using-pythons-xlrd/\n",
    "'''"
   ]
  },
  {
   "cell_type": "code",
   "execution_count": 7,
   "metadata": {
    "collapsed": false,
    "deletable": true,
    "editable": true
   },
   "outputs": [
    {
     "name": "stdout",
     "output_type": "stream",
     "text": [
      "[u'Sheet1']\n"
     ]
    }
   ],
   "source": [
    "# Open an excel file and get all the sheet names\n",
    "import xlrd\n",
    "wb = xlrd.open_workbook('exgrade.xls')\n",
    "print wb.sheet_names()"
   ]
  },
  {
   "cell_type": "code",
   "execution_count": 11,
   "metadata": {
    "collapsed": false,
    "deletable": true,
    "editable": true
   },
   "outputs": [
    {
     "name": "stdout",
     "output_type": "stream",
     "text": [
      "10\n"
     ]
    }
   ],
   "source": [
    "# In sheet 1, get the number of rows\n",
    "ws = wb.sheet_by_name('Sheet1')\n",
    "print ws.nrows"
   ]
  },
  {
   "cell_type": "code",
   "execution_count": 12,
   "metadata": {
    "collapsed": false,
    "deletable": true,
    "editable": true
   },
   "outputs": [
    {
     "name": "stdout",
     "output_type": "stream",
     "text": [
      "[number:16.0, number:3.0, number:19.0, number:5.0]\n",
      "number:3.0\n"
     ]
    }
   ],
   "source": [
    "print ws.row(0) # Get the content of first row as a list\n",
    "print ws.row(0)[1] # Get the second element of the first row list "
   ]
  },
  {
   "cell_type": "code",
   "execution_count": 19,
   "metadata": {
    "collapsed": false,
    "deletable": true,
    "editable": true
   },
   "outputs": [
    {
     "name": "stdout",
     "output_type": "stream",
     "text": [
      "0 ['Name', 'Number'] 2\n",
      "1 ['Adam', ' 10034'] 2\n",
      "2 ['Nitin', ' 10043'] 2\n",
      "3 ['Rob', ' 10134'] 2\n",
      "4 ['Sheela', ' 10045'] 2\n"
     ]
    }
   ],
   "source": [
    "# xlwt module is used to write into excel file.\n",
    "import xlwt\n",
    "workbook = xlwt.Workbook() \n",
    "sheet = workbook.add_sheet(\"Sheet 1\") \n",
    "\n",
    "#sheet.write(0, 0, 'Adam') # row, column, value\n",
    "\n",
    "g = [['Name', 'Number'],\n",
    "     ['Adam', ' 10034'],\n",
    "     ['Nitin', ' 10043'],\n",
    "     ['Rob', ' 10134'],\n",
    "     ['Sheela', ' 10045']]\n",
    "\n",
    "for i,v in enumerate(g):#it will give two things\n",
    "    print i, v, len(v)\n",
    "    if len(v) >= 2:\n",
    "        sheet.write(i,0,v[0])\n",
    "        sheet.write(i,1,v[1])\n",
    "        \n",
    "        \n",
    "workbook.save('Xcel1.xls')"
   ]
  },
  {
   "cell_type": "code",
   "execution_count": null,
   "metadata": {
    "collapsed": false,
    "deletable": true,
    "editable": true
   },
   "outputs": [],
   "source": [
    "'''\n",
    "Writing to and reading from databases\n",
    "'''"
   ]
  },
  {
   "cell_type": "code",
   "execution_count": 11,
   "metadata": {
    "collapsed": false,
    "deletable": true,
    "editable": true
   },
   "outputs": [
    {
     "name": "stdout",
     "output_type": "stream",
     "text": [
      "<sqlite3.Cursor object at 0x1047ca570>\n",
      "(u'2006-02-05', u'SELL', u'RHAT', 50.0, 50.25)\n",
      "(u'2006-03-15', u'BUY', u'GOOG', 1000.0, 350.13)\n",
      "(u'2006-10-05', u'BUY', u'GOOG', 100000.0, 400.14)\n",
      "(u'2006-02-05', u'SELL', u'RHAT', 50.0, 50.25)\n",
      "(u'2006-03-15', u'BUY', u'GOOG', 1000.0, 350.13)\n",
      "(u'2006-10-05', u'BUY', u'GOOG', 100000.0, 400.14)\n",
      "(u'2006-02-05', u'SELL', u'RHAT', 50.0, 50.25)\n",
      "(u'2006-03-15', u'BUY', u'GOOG', 1000.0, 350.13)\n",
      "(u'2006-10-05', u'BUY', u'GOOG', 100000.0, 400.14)\n"
     ]
    }
   ],
   "source": [
    "import sqlite3\n",
    "\n",
    "# Create a connection to sqlite\n",
    "conn = sqlite3.connect('test3.db')\n",
    "\n",
    "# Open a cursor\n",
    "c = conn.cursor()\n",
    "\n",
    "# Execute any SQL statement\n",
    "# Create table named \"stocks\" if it does not already exist.\n",
    "c.execute(\"create table if not exists stocks (date text, trans text,symbol text, qty real, price real)\")#creating a table,it should be a string \n",
    "\n",
    "# Add entries\n",
    "c.execute(\"insert into stocks values ('2006-02-05','SELL','RHAT',50,50.25)\")\n",
    "c.execute(\"insert into stocks values ('2006-03-15','BUY','GOOG',1000,350.13)\")\n",
    "c.execute(\"insert into stocks values ('2006-10-05','BUY','GOOG',100000,400.14)\")\n",
    "conn.commit()\n",
    "\n",
    "# Query all the entries in the database\n",
    "alllines = c.execute(\"select * from stocks\")\n",
    "print alllines\n",
    "\n",
    "# Print it\n",
    "for lines in alllines:\n",
    "    print lines\n",
    "\n",
    "c.close()"
   ]
  },
  {
   "cell_type": "code",
   "execution_count": null,
   "metadata": {
    "collapsed": false,
    "deletable": true,
    "editable": true
   },
   "outputs": [],
   "source": [
    "'''\n",
    "In-class activity - Create a database and call it 'UserSignUp.' In the database create a table called \n",
    "'FirstSignUp' with columns Name, Country, Date, Type. Date should contain information on first login date \n",
    "and type should be paid or free user. \n",
    "Add five entries. Then print out the rows. \n",
    "'''"
   ]
  },
  {
   "cell_type": "code",
   "execution_count": 12,
   "metadata": {
    "collapsed": false,
    "deletable": true,
    "editable": true
   },
   "outputs": [
    {
     "ename": "OperationalError",
     "evalue": "table FirstSignUp has 5 columns but 2 values were supplied",
     "output_type": "error",
     "traceback": [
      "\u001b[0;31m\u001b[0m",
      "\u001b[0;31mOperationalError\u001b[0mTraceback (most recent call last)",
      "\u001b[0;32m<ipython-input-12-a49f606e13de>\u001b[0m in \u001b[0;36m<module>\u001b[0;34m()\u001b[0m\n\u001b[1;32m      3\u001b[0m \u001b[0mc\u001b[0m\u001b[0;34m=\u001b[0m\u001b[0mconn\u001b[0m\u001b[0;34m.\u001b[0m\u001b[0mcursor\u001b[0m\u001b[0;34m(\u001b[0m\u001b[0;34m)\u001b[0m\u001b[0;34m\u001b[0m\u001b[0m\n\u001b[1;32m      4\u001b[0m \u001b[0mc\u001b[0m\u001b[0;34m.\u001b[0m\u001b[0mexecute\u001b[0m\u001b[0;34m(\u001b[0m\u001b[0;34m'''create table if not exists FirstSignUp(Name text,Country text)'''\u001b[0m\u001b[0;34m)\u001b[0m\u001b[0;34m\u001b[0m\u001b[0m\n\u001b[0;32m----> 5\u001b[0;31m \u001b[0mc\u001b[0m\u001b[0;34m.\u001b[0m\u001b[0mexecute\u001b[0m\u001b[0;34m(\u001b[0m\u001b[0;34m\"insert into FirstSignUp values ('Divya','India')\"\u001b[0m\u001b[0;34m)\u001b[0m\u001b[0;34m\u001b[0m\u001b[0m\n\u001b[0m\u001b[1;32m      6\u001b[0m \u001b[0mc\u001b[0m\u001b[0;34m.\u001b[0m\u001b[0mexecute\u001b[0m\u001b[0;34m(\u001b[0m\u001b[0;34m\"insert into FirstSignUp values ('Himanshu','California')\"\u001b[0m\u001b[0;34m)\u001b[0m\u001b[0;34m\u001b[0m\u001b[0m\n\u001b[1;32m      7\u001b[0m \u001b[0mc\u001b[0m\u001b[0;34m.\u001b[0m\u001b[0mexecute\u001b[0m\u001b[0;34m(\u001b[0m\u001b[0;34m\"insert into FirstSignUp values ('Ram','Europe')\"\u001b[0m\u001b[0;34m)\u001b[0m\u001b[0;34m\u001b[0m\u001b[0m\n",
      "\u001b[0;31mOperationalError\u001b[0m: table FirstSignUp has 5 columns but 2 values were supplied"
     ]
    }
   ],
   "source": [
    "import sqlite3\n",
    "conn=sqlite3.connect('UserSignUp')\n",
    "c=conn.cursor()\n",
    "c.execute('''create table if not exists FirstSignUp(Name text,Country text)''')\n",
    "c.execute(\"insert into FirstSignUp values ('Divya','India')\")\n",
    "c.execute(\"insert into FirstSignUp values ('Himanshu','California')\")\n",
    "c.execute(\"insert into FirstSignUp values ('Ram','Europe')\")\n",
    "conn.commit()\n",
    "alllines = c.execute(\"select * FirstSignUp\")\n",
    "print alllines\n",
    "for lines in alllines:\n",
    "    print lines\n",
    "c.close()"
   ]
  },
  {
   "cell_type": "code",
   "execution_count": 5,
   "metadata": {
    "collapsed": false,
    "deletable": true,
    "editable": true
   },
   "outputs": [
    {
     "data": {
      "text/plain": [
       "'\\nDIRECTORY LISTING\\n'"
      ]
     },
     "execution_count": 5,
     "metadata": {},
     "output_type": "execute_result"
    }
   ],
   "source": [
    "'''\n",
    "DIRECTORY LISTING\n",
    "'''"
   ]
  },
  {
   "cell_type": "code",
   "execution_count": 13,
   "metadata": {
    "collapsed": false,
    "deletable": true,
    "editable": true
   },
   "outputs": [
    {
     "name": "stdout",
     "output_type": "stream",
     "text": [
      "['.DS_Store', '.ipynb_checkpoints', 'exgrade.csv', 'exgrade.xls', 'modules_p1.ipynb', 'modules_p2.ipynb', 'myfolder', 'myfun.py', 'myfun.pyc', 'new odd.py', 'newfile.csv', 'newodd.py', 'newodd.pyc', 'python_list.txt', 'python_list1.txt', 'test.db', 'test3.db', 'UserSignUp', 'webscrapping_lxml.txt', 'Xcel1.xls']\n"
     ]
    }
   ],
   "source": [
    "import os\n",
    "print os.listdir(\".\")"
   ]
  },
  {
   "cell_type": "code",
   "execution_count": 14,
   "metadata": {
    "collapsed": false,
    "deletable": true,
    "editable": true
   },
   "outputs": [
    {
     "name": "stdout",
     "output_type": "stream",
     "text": [
      "['exgrade.csv', 'exgrade.xls', 'modules_p1.ipynb', 'modules_p2.ipynb', 'myfun.py', 'myfun.pyc', 'new odd.py', 'newfile.csv', 'newodd.py', 'newodd.pyc', 'python_list.txt', 'python_list1.txt', 'test.db', 'test3.db', 'webscrapping_lxml.txt', 'Xcel1.xls']\n"
     ]
    }
   ],
   "source": [
    "import glob\n",
    "print glob.glob(\"*.*\")\n",
    "# glob.glob(_directory_name) will return all the files in a particular directory or folder"
   ]
  },
  {
   "cell_type": "code",
   "execution_count": 15,
   "metadata": {
    "collapsed": false,
    "deletable": true,
    "editable": true
   },
   "outputs": [
    {
     "name": "stdout",
     "output_type": "stream",
     "text": [
      "['modules_p1.ipynb', 'modules_p2.ipynb']\n"
     ]
    }
   ],
   "source": [
    "print glob.glob(\"*.ipynb\")\n",
    "# in this example it will return all the ipython notebook files in the current directory"
   ]
  },
  {
   "cell_type": "code",
   "execution_count": 16,
   "metadata": {
    "collapsed": false,
    "deletable": true,
    "editable": true
   },
   "outputs": [],
   "source": [
    "import os\n",
    "# os.walk returns three values - root, directories and files and they are passed to the variables\n",
    "# root, dirs and files respectively.\n",
    "for root, dirs, files in os.walk(\"sridevi/Desktop/\"):\n",
    "    # root, dirs, files\n",
    "    for file in files:\n",
    "        if file.endswith(\".py\"):\n",
    "             print os.path.join(root, file)"
   ]
  },
  {
   "cell_type": "code",
   "execution_count": 17,
   "metadata": {
    "collapsed": false,
    "deletable": true,
    "editable": true
   },
   "outputs": [
    {
     "data": {
      "text/plain": [
       "'/Users/DivuHimmu/Desktop/PYTHON/python notes/section+6-modules/section 6-modules'"
      ]
     },
     "execution_count": 17,
     "metadata": {},
     "output_type": "execute_result"
    }
   ],
   "source": [
    "import os\n",
    "os.getcwd()\n"
   ]
  },
  {
   "cell_type": "code",
   "execution_count": 44,
   "metadata": {
    "collapsed": false,
    "deletable": true,
    "editable": true
   },
   "outputs": [
    {
     "name": "stdout",
     "output_type": "stream",
     "text": [
      "0.707106781187\n"
     ]
    }
   ],
   "source": [
    "# Import all functions in a given module\n",
    "# You have to refer to the module name when \n",
    "# calling the function\n",
    "import math\n",
    "print math.sin(math.pi/4)\n"
   ]
  },
  {
   "cell_type": "code",
   "execution_count": 45,
   "metadata": {
    "collapsed": false,
    "deletable": true,
    "editable": true
   },
   "outputs": [
    {
     "name": "stdout",
     "output_type": "stream",
     "text": [
      "0.707106781187\n"
     ]
    }
   ],
   "source": [
    "# Import all functions in a given module\n",
    "# You do not need to refer to the module name when \n",
    "# calling the function\n",
    "from math import *\n",
    "print sin(pi/4)\n"
   ]
  },
  {
   "cell_type": "code",
   "execution_count": 36,
   "metadata": {
    "collapsed": false,
    "deletable": true,
    "editable": true
   },
   "outputs": [
    {
     "name": "stdout",
     "output_type": "stream",
     "text": [
      "0.707106781187\n"
     ]
    }
   ],
   "source": [
    "# Give a shortcut name to the module. \n",
    "# Especially true for modules with long names such as matplotlib\n",
    "import math as ma\n",
    "print ma.sin(ma.pi/4)"
   ]
  },
  {
   "cell_type": "code",
   "execution_count": 46,
   "metadata": {
    "collapsed": false,
    "deletable": true,
    "editable": true
   },
   "outputs": [
    {
     "name": "stdout",
     "output_type": "stream",
     "text": [
      "0.707106781187\n"
     ]
    }
   ],
   "source": [
    "# Only import the necessary functions from a module\n",
    "# This is memory efficient\n",
    "from math import sin,pi\n",
    "print sin(pi/4)"
   ]
  },
  {
   "cell_type": "code",
   "execution_count": 47,
   "metadata": {
    "collapsed": false,
    "deletable": true,
    "editable": true
   },
   "outputs": [
    {
     "name": "stdout",
     "output_type": "stream",
     "text": [
      "[ 1.  5.  8.  6.]\n",
      "[ 0.5  2.5  4.   3. ]\n"
     ]
    }
   ],
   "source": [
    "import numpy as np\n",
    "a = np.array([1,5,8,6], float)\n",
    "print a\n",
    "c = a/2\n",
    "print c"
   ]
  },
  {
   "cell_type": "code",
   "execution_count": 48,
   "metadata": {
    "collapsed": false,
    "deletable": true,
    "editable": true
   },
   "outputs": [
    {
     "name": "stdout",
     "output_type": "stream",
     "text": [
      "20.0\n",
      "240.0\n",
      "1.0\n",
      "8.0\n"
     ]
    }
   ],
   "source": [
    "print a.sum()\n",
    "print a.prod()\n",
    "print a.min()\n",
    "print a.max()"
   ]
  },
  {
   "cell_type": "code",
   "execution_count": 19,
   "metadata": {
    "collapsed": false,
    "deletable": true,
    "editable": true
   },
   "outputs": [
    {
     "name": "stdout",
     "output_type": "stream",
     "text": [
      "['/Users/DivuHimmu/Library/Enthought/Canopy/edm/envs/User/lib/python2.7/site-packages/ipykernel/__main__.py', '-f', '/Users/DivuHimmu/Library/Jupyter/runtime/kernel-f9119998-e0bb-4ec4-a55e-6729a32af9e6.json']\n"
     ]
    }
   ],
   "source": [
    "# Modules can also have variables associated with them in addition to functions.\n",
    "import sys\n",
    "print sys.argv\n"
   ]
  },
  {
   "cell_type": "code",
   "execution_count": 20,
   "metadata": {
    "collapsed": false,
    "deletable": true,
    "editable": true
   },
   "outputs": [
    {
     "name": "stdout",
     "output_type": "stream",
     "text": [
      "['', '/Users/DivuHimmu/Library/Enthought/Canopy/edm/envs/User/lib/python27.zip', '/Users/DivuHimmu/Library/Enthought/Canopy/edm/envs/User/lib/python2.7', '/Users/DivuHimmu/Library/Enthought/Canopy/edm/envs/User/lib/python2.7/plat-darwin', '/Users/DivuHimmu/Library/Enthought/Canopy/edm/envs/User/lib/python2.7/plat-mac', '/Users/DivuHimmu/Library/Enthought/Canopy/edm/envs/User/lib/python2.7/plat-mac/lib-scriptpackages', '/Users/DivuHimmu/Library/Enthought/Canopy/edm/envs/User/lib/python2.7/lib-tk', '/Users/DivuHimmu/Library/Enthought/Canopy/edm/envs/User/lib/python2.7/lib-old', '/Users/DivuHimmu/Library/Enthought/Canopy/edm/envs/User/lib/python2.7/lib-dynload', '/Users/DivuHimmu/Library/Enthought/Canopy/edm/envs/User/lib/python2.7/site-packages', '/Users/DivuHimmu/Library/Enthought/Canopy/edm/envs/User/lib/python2.7/site-packages/IPython/extensions', '/Users/DivuHimmu/.ipython']\n",
      "darwin\n",
      "2.7.13 |Enthought, Inc. (x86_64)| (default, Mar  2 2017, 08:20:50) \n",
      "[GCC 4.2.1 Compatible Apple LLVM 6.0 (clang-600.0.57)]\n"
     ]
    },
    {
     "ename": "AttributeError",
     "evalue": "'module' object has no attribute 'winver'",
     "output_type": "error",
     "traceback": [
      "\u001b[0;31m\u001b[0m",
      "\u001b[0;31mAttributeError\u001b[0mTraceback (most recent call last)",
      "\u001b[0;32m<ipython-input-20-e18d12bee514>\u001b[0m in \u001b[0;36m<module>\u001b[0;34m()\u001b[0m\n\u001b[1;32m      2\u001b[0m \u001b[0;32mprint\u001b[0m \u001b[0msys\u001b[0m\u001b[0;34m.\u001b[0m\u001b[0mplatform\u001b[0m\u001b[0;34m\u001b[0m\u001b[0m\n\u001b[1;32m      3\u001b[0m \u001b[0;32mprint\u001b[0m \u001b[0msys\u001b[0m\u001b[0;34m.\u001b[0m\u001b[0mversion\u001b[0m\u001b[0;34m\u001b[0m\u001b[0m\n\u001b[0;32m----> 4\u001b[0;31m \u001b[0;32mprint\u001b[0m \u001b[0msys\u001b[0m\u001b[0;34m.\u001b[0m\u001b[0mwinver\u001b[0m\u001b[0;34m\u001b[0m\u001b[0m\n\u001b[0m",
      "\u001b[0;31mAttributeError\u001b[0m: 'module' object has no attribute 'winver'"
     ]
    }
   ],
   "source": [
    "print sys.path\n",
    "print sys.platform\n",
    "print sys.version\n",
    "print sys.winver\n"
   ]
  },
  {
   "cell_type": "code",
   "execution_count": 21,
   "metadata": {
    "collapsed": false,
    "deletable": true,
    "editable": true
   },
   "outputs": [
    {
     "name": "stdout",
     "output_type": "stream",
     "text": [
      "('UserSignUp\\nXcel1.xls\\nexgrade.csv\\nexgrade.xls\\nmodules_p1.ipynb\\nmodules_p2.ipynb\\nmyfolder\\nmyfun.py\\nmyfun.pyc\\nnew odd.py\\nnewfile.csv\\nnewodd.py\\nnewodd.pyc\\npython_list.txt\\npython_list1.txt\\ntest.db\\ntest3.db\\nwebscrapping_lxml.txt\\n', None)\n",
      "UserSignUp\n",
      "Xcel1.xls\n",
      "exgrade.csv\n",
      "exgrade.xls\n",
      "modules_p1.ipynb\n",
      "modules_p2.ipynb\n",
      "myfolder\n",
      "myfun.py\n",
      "myfun.pyc\n",
      "new odd.py\n",
      "newfile.csv\n",
      "newodd.py\n",
      "newodd.pyc\n",
      "python_list.txt\n",
      "python_list1.txt\n",
      "test.db\n",
      "test3.db\n",
      "webscrapping_lxml.txt\n",
      "\n",
      "None\n"
     ]
    },
    {
     "data": {
      "text/plain": [
       "'\\nInvoking the system shell with shell = True can be a security hazard if combined\\nwith untrusted input\\n'"
      ]
     },
     "execution_count": 21,
     "metadata": {},
     "output_type": "execute_result"
    }
   ],
   "source": [
    "'''\n",
    "subprocess module is useful for making calls to the *nix operating system. \n",
    "It will throw an exception on Windows.\n",
    "You need to use the Popen function and pass the command\n",
    "Check documentation in https://docs.python.org/2/library/subprocess.html\n",
    "https://pymotw.com/2/subprocess/\n",
    "Note: This module can only be used on Mac or Linux. \n",
    "You can't run subprocess command on Windows.\n",
    "'''\n",
    "\n",
    "import subprocess\n",
    "sp = subprocess.Popen('ls',  stdout=subprocess.PIPE)\n",
    "s = sp.communicate() # Returns a tuple (stdout,stderr)\n",
    "print s\n",
    "\n",
    "# You can iterate through the tuple that is returned by the function\n",
    "for items in s:\n",
    "    print items\n",
    "\n",
    "'''\n",
    "Invoking the system shell with shell = True can be a security hazard if combined\n",
    "with untrusted input\n",
    "'''\n"
   ]
  },
  {
   "cell_type": "code",
   "execution_count": null,
   "metadata": {
    "collapsed": false,
    "deletable": true,
    "editable": true
   },
   "outputs": [],
   "source": [
    "'''\n",
    "Creating your own modules\n",
    "'''\n"
   ]
  },
  {
   "cell_type": "code",
   "execution_count": 2,
   "metadata": {
    "collapsed": false,
    "deletable": true,
    "editable": true
   },
   "outputs": [
    {
     "name": "stdout",
     "output_type": "stream",
     "text": [
      "5\n"
     ]
    }
   ],
   "source": [
    "# The file myfunc.py is in the same folder as this IPython notebook\n",
    "import myfun\n",
    "print myfun.increment(2,3)\n"
   ]
  },
  {
   "cell_type": "code",
   "execution_count": 2,
   "metadata": {
    "collapsed": false,
    "deletable": true,
    "editable": true
   },
   "outputs": [
    {
     "name": "stdout",
     "output_type": "stream",
     "text": [
      "11\n"
     ]
    }
   ],
   "source": [
    "# The file myfunc1.py is in the folder \"myfolder\" which is \n",
    "# in the same location as this IPython notebook\n",
    "from myfolder import myfun1\n",
    "print myfun1.increment(10)\n"
   ]
  },
  {
   "cell_type": "code",
   "execution_count": 3,
   "metadata": {
    "collapsed": false,
    "deletable": true,
    "editable": true
   },
   "outputs": [
    {
     "data": {
      "text/plain": [
       "17"
      ]
     },
     "execution_count": 3,
     "metadata": {},
     "output_type": "execute_result"
    }
   ],
   "source": [
    "import myfolder\n",
    "myfolder.myfun1.increment(16)\n"
   ]
  },
  {
   "cell_type": "code",
   "execution_count": 4,
   "metadata": {
    "collapsed": false,
    "deletable": true,
    "editable": true
   },
   "outputs": [
    {
     "name": "stdout",
     "output_type": "stream",
     "text": [
      "23\n"
     ]
    }
   ],
   "source": [
    "import myfolder as mf\n",
    "print mf.myfun1.increment(20,3)\n"
   ]
  },
  {
   "cell_type": "code",
   "execution_count": null,
   "metadata": {
    "collapsed": false,
    "deletable": true,
    "editable": true
   },
   "outputs": [],
   "source": [
    "'''\n",
    "In-class activity - create a folder and make it a Python importable folder. \n",
    "Write a program that returns a list of odd numbers from a given list and \n",
    "save it in that folder. Write a code in the iPython notebook that imports \n",
    "the folder and then make a function call and supply the list.\n",
    "'''"
   ]
  },
  {
   "cell_type": "code",
   "execution_count": 22,
   "metadata": {
    "collapsed": false,
    "deletable": true,
    "editable": true
   },
   "outputs": [
    {
     "name": "stdout",
     "output_type": "stream",
     "text": [
      "[17, 19, 25]\n"
     ]
    }
   ],
   "source": [
    "def oddnumbers(a):\n",
    "    b=[i for i in a if i%2 !=0]\n",
    "    return b\n",
    "a=[12,17,19,24,25]\n",
    "print oddnumbers(a)"
   ]
  },
  {
   "cell_type": "code",
   "execution_count": 23,
   "metadata": {
    "collapsed": false,
    "deletable": true,
    "editable": true
   },
   "outputs": [
    {
     "ename": "SyntaxError",
     "evalue": "invalid syntax (<ipython-input-23-35802dc160e4>, line 2)",
     "output_type": "error",
     "traceback": [
      "\u001b[0;36m  File \u001b[0;32m\"<ipython-input-23-35802dc160e4>\"\u001b[0;36m, line \u001b[0;32m2\u001b[0m\n\u001b[0;31m    a=[13,18,23]newodd.oddnumbers(a)\u001b[0m\n\u001b[0m                     ^\u001b[0m\n\u001b[0;31mSyntaxError\u001b[0m\u001b[0;31m:\u001b[0m invalid syntax\n"
     ]
    }
   ],
   "source": [
    "import newodd\n",
    "a=[13,18,23]newodd.oddnumbers(a) "
   ]
  },
  {
   "cell_type": "code",
   "execution_count": null,
   "metadata": {
    "collapsed": true,
    "deletable": true,
    "editable": true
   },
   "outputs": [],
   "source": []
  }
 ],
 "metadata": {
  "kernelspec": {
   "display_name": "Python 2",
   "language": "python",
   "name": "python2"
  },
  "language_info": {
   "codemirror_mode": {
    "name": "ipython",
    "version": 2
   },
   "file_extension": ".py",
   "mimetype": "text/x-python",
   "name": "python",
   "nbconvert_exporter": "python",
   "pygments_lexer": "ipython2",
   "version": "2.7.13"
  }
 },
 "nbformat": 4,
 "nbformat_minor": 0
}
