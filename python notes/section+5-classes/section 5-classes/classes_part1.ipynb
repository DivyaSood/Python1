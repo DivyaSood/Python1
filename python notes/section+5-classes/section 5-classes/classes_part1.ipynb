{
 "cells": [
  {
   "cell_type": "code",
   "execution_count": null,
   "metadata": {
    "collapsed": false,
    "deletable": true,
    "editable": true
   },
   "outputs": [],
   "source": [
    "'''\n",
    "OOPS\n",
    "1. class and class variable and methods\n",
    "2. parent and derived classes by inheritance\n",
    "3. has-a vs is-a relationship\n",
    "'''"
   ]
  },
  {
   "cell_type": "code",
   "execution_count": null,
   "metadata": {
    "collapsed": true,
    "deletable": true,
    "editable": true
   },
   "outputs": [],
   "source": [
    "'''\n",
    "Class : In object-oriented programming, a class is an extensible \n",
    "program-code-template for creating objects, providing initial values for \n",
    "state (member variables) and implementations of behavior \n",
    "(member functions or methods)  - Wikipedia\n",
    "The class is the definition of the functionality that is programmed. \n",
    "\n",
    "Object :  The programmer has to create an instance of the class known as\n",
    "object/instance in order to use the functionality. The member variables \n",
    "specific to the object/instance are called instance variables. \n",
    "The members variables that are accessible across various instances of \n",
    "a class are called class variables. \n",
    "\n",
    "To keep syntax simple, Python's classes implements functionality as \n",
    "needed to perform the task. It has all functionality that you find in \n",
    "object-oriented programming systems (OOPS) such as inheritance \n",
    "(from single and multiple base classes), method over-riding etc. \n",
    "Unlike C++, programmer does not have to explicitily destroy objects.  \n",
    "They are removed dynamically by the Garbage Collector.\n",
    "\n",
    "All class members are public by default. Private variables are created by \n",
    "using __ such as __filename.  \n",
    "\n",
    "One can also create a \"C\" style struct that contains only values but \n",
    "no function\n",
    "\n",
    "In this section, we will learn various terminologies are Class, \n",
    "Class variable, Data member, function overloading, instance variable, \n",
    "inheritance, instance, method, object, operator overloading\n",
    "\n",
    "http://www.tutorialspoint.com/python/python_classes_objects.htm\n",
    "\n",
    "http://www.jeffknupp.com/blog/2014/06/18/improve-your-python-python\n",
    "-classes-and-object-oriented-programming/\n",
    "'''"
   ]
  },
  {
   "cell_type": "code",
   "execution_count": null,
   "metadata": {
    "collapsed": true,
    "deletable": true,
    "editable": true
   },
   "outputs": [],
   "source": [
    "'''\n",
    "Class: A user-defined prototype for an object that defines a set of \n",
    "attributes that characterize any object of the class. \n",
    "The attributes are data members (class variables and instance variables) \n",
    "and methods, accessed via dot notation.\n",
    "\n",
    "Class variable: A variable that is shared by all instances of a class. \n",
    "Class variables are defined within a class but outside any of the \n",
    "class's methods. Class variables are not used as frequently as \n",
    "instance variables are.\n",
    "\n",
    "Instance variable: A variable that is defined inside a method and \n",
    "belongs only to the current instance of a class.\n",
    "\n",
    "Inheritance: The transfer of the characteristics of a class to other \n",
    "classes that are derived from it.\n",
    "\n",
    "Instance: An individual object of a certain class. An object obj \n",
    "that belongs to a class Circle, for example, is an instance of the \n",
    "class Circle.\n",
    "\n",
    "Instantiation: The creation of an instance of a class.\n",
    "\n",
    "Object: A unique instance of a data structure that's defined by its class. An object \n",
    "comprises both data members (class variables and instance variables) and methods.\n",
    "\n",
    "Operator overloading: The assignment of more than one function to a particular operator.\n",
    "'''"
   ]
  },
  {
   "cell_type": "code",
   "execution_count": null,
   "metadata": {
    "collapsed": false,
    "deletable": true,
    "editable": true
   },
   "outputs": [],
   "source": [
    "'''\n",
    "Syntax for class\n",
    "class class_name:\n",
    "    define all the methods and instance variables\n",
    "'''    \n",
    "# A function inside a class is called a method.\n",
    "# A class can have many methods and many instance/class variables \n",
    "# or attributes"
   ]
  },
  {
   "cell_type": "code",
   "execution_count": 3,
   "metadata": {
    "collapsed": false,
    "deletable": true,
    "editable": true
   },
   "outputs": [
    {
     "name": "stdout",
     "output_type": "stream",
     "text": [
      "Customer name Leo and balance 2500.00 \n"
     ]
    }
   ],
   "source": [
    "'''\n",
    "Variables such as name and balance are usable by more than one methods. \n",
    "Their values are also specific to that instance.\n",
    "Hence they need to be instance variable.\n",
    "'''\n",
    "class Customer:\n",
    "    \n",
    "    '''The attributes for this class are name and balance '''\n",
    "    \n",
    "    def __init__(self,name):\n",
    "        self.name = name\n",
    "        self.balance = 0.0\n",
    "        \n",
    "    # you must explicitly list self as the first argument for each method\n",
    "    # including __init__ method\n",
    "    \n",
    "    # set_balance is a method\n",
    "    def set_balance(self, balance=0.0):\n",
    "        self.balance = balance\n",
    "        \n",
    "    # withdraw is a method    \n",
    "    def withdraw(self, amount):\n",
    "        self.balance -=amount\n",
    "        return self.balance\n",
    "    \n",
    "    # deposit is a method\n",
    "    def deposit(self, amount):\n",
    "        self.balance +=amount\n",
    "        return self.balance\n",
    "        \n",
    "# creating an instance of the class named Customer  \n",
    "b = Customer(\"Leo\")  \n",
    "b.set_balance(1000) # calling set_balance method and passing a value\n",
    "b.withdraw(500) # calling withdraw method and passing a value\n",
    "b.deposit(2000) # calling deposit method and passing a value\n",
    "print \"Customer name %s and balance %0.2f \"%(b.name, b.balance)"
   ]
  },
  {
   "cell_type": "code",
   "execution_count": null,
   "metadata": {
    "collapsed": true,
    "deletable": true,
    "editable": true
   },
   "outputs": [],
   "source": [
    "'''\n",
    "__init__ method is called immediately after an instance of the \n",
    "class is created. \n",
    "'''"
   ]
  },
  {
   "cell_type": "code",
   "execution_count": null,
   "metadata": {
    "collapsed": true,
    "deletable": true,
    "editable": true
   },
   "outputs": [],
   "source": [
    "'''\n",
    "Method overloading: The assignment of more than one behavior \n",
    "to a particular method. The operation performed varies by the types \n",
    "of objects or arguments involved.\n",
    "'''"
   ]
  },
  {
   "cell_type": "code",
   "execution_count": 4,
   "metadata": {
    "collapsed": false,
    "deletable": true,
    "editable": true
   },
   "outputs": [
    {
     "name": "stdout",
     "output_type": "stream",
     "text": [
      "Customer name Leo and balance 11500.00 \n",
      "Customer name Euler and balance 5000.00 \n"
     ]
    }
   ],
   "source": [
    "# A class with multiple initalizers\n",
    "class Customer:\n",
    "    def __init__(self,name,balance=None):\n",
    "        self.name = name\n",
    "        if balance is None:\n",
    "            balance = 0.0\n",
    "        self.balance = balance \n",
    "        \n",
    "    def set_balance(self, balance=0.0):\n",
    "        self.balance = balance\n",
    "        \n",
    "    def withdraw(self, amount):\n",
    "        self.balance -=amount\n",
    "        return self.balance\n",
    "    \n",
    "    def deposit(self, amount):\n",
    "        self.balance +=amount\n",
    "        return self.balance\n",
    "        \n",
    "\n",
    "# creating an instance of the class named Customer. The instance is called b.\n",
    "b = Customer(\"Leo\",10000) \n",
    "b.withdraw(500) # calling withdraw method and passing a value\n",
    "b.deposit(2000) # calling deposit method and passing a value\n",
    "print \"Customer name %s and balance %0.2f \"%(b.name, b.balance)\n",
    "\n",
    "# Try calling \n",
    "b = Customer(\"Euler\",5000)\n",
    "print \"Customer name %s and balance %0.2f \"%(b.name, b.balance)"
   ]
  },
  {
   "cell_type": "code",
   "execution_count": null,
   "metadata": {
    "collapsed": false,
    "deletable": true,
    "editable": true
   },
   "outputs": [],
   "source": [
    "''' \n",
    "Note: In the above example we show that a class can have multiple init \n",
    "methods. This shows method overloading. As a good practice just have \n",
    "one __init__ method per class. \n",
    "'''"
   ]
  },
  {
   "cell_type": "code",
   "execution_count": 3,
   "metadata": {
    "collapsed": false,
    "deletable": true,
    "editable": true
   },
   "outputs": [
    {
     "name": "stdout",
     "output_type": "stream",
     "text": [
      "Customer name John and balance 7550.00 \n"
     ]
    }
   ],
   "source": [
    "# creating another object for class Customer\n",
    "c = Customer(\"John\")\n",
    "c.set_balance(7200)\n",
    "c.withdraw(325)\n",
    "c.deposit(675)\n",
    "print \"Customer name %s and balance %0.2f \"%(c.name, c.balance)"
   ]
  },
  {
   "cell_type": "code",
   "execution_count": 5,
   "metadata": {
    "collapsed": false,
    "deletable": true,
    "editable": true
   },
   "outputs": [
    {
     "name": "stdout",
     "output_type": "stream",
     "text": [
      "2500\n"
     ]
    }
   ],
   "source": [
    "''' Private Instance Variables '''\n",
    "\n",
    "class Customer:    \n",
    "    def __init__(self,name):\n",
    "        self.name = name\n",
    "        self.__balance = 0.0 \n",
    "        # __ (double underscore) before the instance variable will \n",
    "        # make the variable private for the class\n",
    "    \n",
    "    def set_balance(self, balance=0.0):\n",
    "        self.__balance = balance\n",
    "        \n",
    "    def withdraw(self, amount):\n",
    "        self.__balance -=amount\n",
    "        return self.__balance\n",
    "    \n",
    "    def deposit(self, amount):\n",
    "        self.__balance +=amount\n",
    "        return self.__balance\n",
    "        \n",
    "    def get_balance(self):\n",
    "        return self.__balance\n",
    "    \n",
    "b = Customer(\"Leo\")  \n",
    "b.set_balance(1000)\n",
    "b.withdraw(500)\n",
    "b.deposit(2000)\n",
    "print b.get_balance()\n",
    "#print b.__balance \n",
    "# this will fail with an attribute error as the \n",
    "# variable/attribute __balance is private to the class"
   ]
  },
  {
   "cell_type": "code",
   "execution_count": null,
   "metadata": {
    "collapsed": true,
    "deletable": true,
    "editable": true
   },
   "outputs": [],
   "source": [
    "'''\n",
    "In-class activity - To the Customer class, add a method \n",
    "called promotion. Ask the user if they want to know about promtional offers.\n",
    "Depending on their choice, show them the offer or say thank you.\n",
    "'''"
   ]
  },
  {
   "cell_type": "code",
   "execution_count": null,
   "metadata": {
    "collapsed": true,
    "deletable": true,
    "editable": true
   },
   "outputs": [],
   "source": [
    "'''\n",
    "Things to remember when you are defining a class:\n",
    "1) class class_name:\n",
    "2) it is ideal to have an __init__ method with attributes.\n",
    "3) self should be the first attribute in all the methods, \n",
    "   including __init__\n",
    "4) in the __init__ method assign the instance attributes to \n",
    "   self.attribute_name. Use self.attribute_name for all subsequent \n",
    "   operations.\n",
    "'''"
   ]
  },
  {
   "cell_type": "code",
   "execution_count": null,
   "metadata": {
    "collapsed": false,
    "deletable": true,
    "editable": true
   },
   "outputs": [],
   "source": [
    "''' PRIVATE METHODS '''"
   ]
  },
  {
   "cell_type": "code",
   "execution_count": 6,
   "metadata": {
    "collapsed": false,
    "deletable": true,
    "editable": true
   },
   "outputs": [
    {
     "name": "stdout",
     "output_type": "stream",
     "text": [
      "Inside public method\n"
     ]
    }
   ],
   "source": [
    "class PubPrivateClass:\n",
    "    def publicmethod(self):\n",
    "        print \"Inside public method\"\n",
    "        \n",
    "    # To create a private method, prefix __ (double underscore) to the \n",
    "    # method name\n",
    "    def __privatemethod(self):\n",
    "        print \"Inside private method\"\n",
    "        \n",
    "p = PubPrivateClass()\n",
    "p.publicmethod() # this will work\n",
    "#p.__privatemethod() \n",
    "# this will not work as we are calling a private method"
   ]
  },
  {
   "cell_type": "code",
   "execution_count": null,
   "metadata": {
    "collapsed": false,
    "deletable": true,
    "editable": true
   },
   "outputs": [],
   "source": [
    "dir(PubPrivateClass) \n",
    "'''\n",
    "The dir method gives a list of all the methods in a class including \n",
    "private methods (albeit with a weird naming convention).\n",
    "'''"
   ]
  },
  {
   "cell_type": "code",
   "execution_count": null,
   "metadata": {
    "collapsed": false,
    "deletable": true,
    "editable": true
   },
   "outputs": [],
   "source": [
    "'''\n",
    "The following construct will allow us to call a private method. \n",
    "However, do not use this construct. This is for educational use only.\n",
    "Python private method are hence not truly private.\n",
    "'''\n",
    "p._PubPrivateClass__privatemethod()"
   ]
  },
  {
   "cell_type": "code",
   "execution_count": 7,
   "metadata": {
    "collapsed": false,
    "deletable": true,
    "editable": true
   },
   "outputs": [
    {
     "name": "stdout",
     "output_type": "stream",
     "text": [
      "Inside public method\n"
     ]
    },
    {
     "data": {
      "text/plain": [
       "10"
      ]
     },
     "execution_count": 7,
     "metadata": {},
     "output_type": "execute_result"
    }
   ],
   "source": [
    "# We can use instance variables inside the private method just \n",
    "# as you would for public methods\n",
    "class PubPrivateClass(object):\n",
    "    def publicmethod(self):\n",
    "        print \"Inside public method\"\n",
    "        self.somevar = 10\n",
    "        \n",
    "    def __privatemethod(self):\n",
    "        self.somevar = 20\n",
    "        print \"Inside private method\"\n",
    "        \n",
    "p = PubPrivateClass()\n",
    "p.publicmethod() \n",
    "p.somevar"
   ]
  },
  {
   "cell_type": "code",
   "execution_count": 8,
   "metadata": {
    "collapsed": false,
    "deletable": true,
    "editable": true
   },
   "outputs": [
    {
     "name": "stdout",
     "output_type": "stream",
     "text": [
      "Inside public method\n",
      "somevar value before calling private method  10\n",
      "Inside private method\n"
     ]
    },
    {
     "data": {
      "text/plain": [
       "20"
      ]
     },
     "execution_count": 8,
     "metadata": {},
     "output_type": "execute_result"
    }
   ],
   "source": [
    "'''\n",
    "If we cannot call the private method, how do we use it?\n",
    "Private methods have to be called in a public method inside a class \n",
    "definition. For example in this case, we are calling __private method \n",
    "inside public method\n",
    "'''\n",
    "class PubPrivateClass(object):\n",
    "    def publicmethod(self):\n",
    "        print \"Inside public method\"\n",
    "        self.somevar = 10\n",
    "        print \"somevar value before calling private method \",self.somevar\n",
    "        self.__privatemethod()\n",
    "        \n",
    "    # To create a private method, prefix __ (double underscore) to the \n",
    "    # method name\n",
    "    def __privatemethod(self):\n",
    "        print \"Inside private method\"\n",
    "        self.somevar = 20\n",
    "        \n",
    "p = PubPrivateClass()\n",
    "p.publicmethod() \n",
    "p.somevar"
   ]
  },
  {
   "cell_type": "code",
   "execution_count": null,
   "metadata": {
    "collapsed": false,
    "deletable": true,
    "editable": true
   },
   "outputs": [],
   "source": [
    "'''\n",
    "Read more at \n",
    "http://stackoverflow.com/questions/70528/why-are-pythons-private-\n",
    "methods-not-actually-private\n",
    "\n",
    "http://effbot.org/pyfaq/tutor-how-do-i-make-public-and-private-attributes-\n",
    "and-methods-in-my-classes.htm\n",
    "'''"
   ]
  },
  {
   "cell_type": "code",
   "execution_count": null,
   "metadata": {
    "collapsed": false,
    "deletable": true,
    "editable": true
   },
   "outputs": [],
   "source": [
    "''' \n",
    "Class variable: A variable that is shared by all \n",
    "instances of a class. Class variables are defined within a class but \n",
    "outside any of the class's methods. Class variables are not used as \n",
    "frequently as instance variables are.\n",
    "'''\n",
    "class Employee:\n",
    "    empCount = 0 #Class variable. No self. prefix\n",
    "    className = 'Employee' #Class variable. No self. prefix\n",
    "    def __init__(self, name, salary):\n",
    "        self.name = name\n",
    "        self.salary = salary\n",
    "        Employee.empCount +=1\n",
    "        \n",
    "    def displayCount(self):\n",
    "        print \"Total Employee %d\" %Employee.empCount\n",
    "    \n",
    "    def displayEmployee(self):\n",
    "        print \"Name:   \", self.name,  \", Salary:   \", self.salary\n",
    "        \n",
    "emp1 = Employee(\"Tara\", 20000)\n",
    "emp2 = Employee(\"Zeera\", 7000)\n",
    "emp3 = Employee(\"Cara\", 5000)\n",
    "emp4 = Employee(\"John\",4000)\n",
    "emp2.displayEmployee()\n",
    "emp2.displayCount()\n",
    "#print \"Total Employee %d\" % Employee.empCount\n",
    "\n",
    "if(emp2.className == 'Employee'):\n",
    "    print \"I have a Employee class\""
   ]
  },
  {
   "cell_type": "code",
   "execution_count": null,
   "metadata": {
    "collapsed": false,
    "deletable": true,
    "editable": true
   },
   "outputs": [],
   "source": [
    "# we can add, remove or modify attributes of classes and objects\n",
    "emp1.age = 26\n",
    "emp1.displayEmployee()\n",
    "print emp1.age"
   ]
  },
  {
   "cell_type": "code",
   "execution_count": null,
   "metadata": {
    "collapsed": false,
    "deletable": true,
    "editable": true
   },
   "outputs": [],
   "source": [
    "# Example of documentation in a class\n",
    "class SaveWater:\n",
    "    ''' This is a documentation of SaveWater'''    \n",
    "    def __init__(self,statename):\n",
    "        self.statename = statename\n",
    "        if self.statename.lower() == \"california\":\n",
    "            print \"Use less water!\"\n",
    "        else:\n",
    "            print \"Still use less water!\"\n",
    "        \n",
    "statename = raw_input(\"Please enter name of your state \")\n",
    "s = SaveWater(statename)"
   ]
  },
  {
   "cell_type": "code",
   "execution_count": null,
   "metadata": {
    "collapsed": false,
    "deletable": true,
    "editable": true
   },
   "outputs": [],
   "source": [
    "s.__doc__"
   ]
  },
  {
   "cell_type": "code",
   "execution_count": 9,
   "metadata": {
    "collapsed": false,
    "deletable": true,
    "editable": true
   },
   "outputs": [
    {
     "name": "stdout",
     "output_type": "stream",
     "text": [
      "<__main__.Person instance at 0x10485e9e0>\n",
      "Leo Euler 95117 123-45-6789\n",
      "{'ssn': '123-45-6789', 'name': 'Leo Euler', 'zipcode': '95117'}\n"
     ]
    }
   ],
   "source": [
    "''' C style struct that has class variables but no methods '''\n",
    "\n",
    "class Person:\n",
    "    pass\n",
    "\n",
    "# Create an instance of Person class.  This is called object\n",
    "leo = Person()\n",
    "# we are giving class attributes here and there are no methods\n",
    "leo.name = 'Leo Euler' \n",
    "leo.zipcode = '95117'\n",
    "leo.ssn = '123-45-6789'\n",
    "\n",
    "print leo\n",
    "print leo.name, leo.zipcode, leo.ssn\n",
    "print leo.__dict__"
   ]
  },
  {
   "cell_type": "code",
   "execution_count": null,
   "metadata": {
    "collapsed": false,
    "deletable": true,
    "editable": true
   },
   "outputs": [],
   "source": [
    "'''\n",
    "Built-in class attributes:\n",
    "\n",
    "__dict__ : Dictionary containing the class's namespace.\n",
    "\n",
    "__doc__ : Class documentation string or None if undefined.\n",
    "\n",
    "__name__: Class name.\n",
    "\n",
    "__module__: Module name in which the class is defined. This attribute is \n",
    "\"__main__\" in interactive mode.\n",
    "\n",
    "__bases__ : A possibly empty tuple containing the base classes, in the \n",
    "order of their occurrence in the base class list.\n",
    "'''"
   ]
  },
  {
   "cell_type": "code",
   "execution_count": 14,
   "metadata": {
    "collapsed": false,
    "deletable": true,
    "editable": true
   },
   "outputs": [
    {
     "name": "stdout",
     "output_type": "stream",
     "text": [
      "Ravi\n",
      "<__main__.Class1 instance at 0x10485e248> <type 'instance'>\n"
     ]
    },
    {
     "data": {
      "text/plain": [
       "({'name': 'Ravi'}, None, 'Class1', '__main__', ())"
      ]
     },
     "execution_count": 14,
     "metadata": {},
     "output_type": "execute_result"
    }
   ],
   "source": [
    "class Class1:  \n",
    "    def __init__(self,name):\n",
    "        self.name = name\n",
    "    def listname(self):\n",
    "        return self.name\n",
    "    def setname(self,name):\n",
    "        self.name = name\n",
    "\n",
    "obj1 = Class1('Ravi')\n",
    "print obj1.listname()\n",
    "print obj1,type(obj1)\n",
    "\n",
    "obj1.__dict__,Class1.__doc__,Class1.__name__,Class1.__module__,Class1.__bases__"
   ]
  },
  {
   "cell_type": "code",
   "execution_count": null,
   "metadata": {
    "collapsed": false,
    "deletable": true,
    "editable": true
   },
   "outputs": [],
   "source": [
    "hasattr(obj1, 'name')    # Returns true if 'name' attribute exists\n",
    "print getattr(obj1, 'name')    # Returns value of 'name' attribute\n",
    "print obj1.name\n",
    "setattr(obj1, 'name', 'Robbie') # Set attribute 'name' to Robbie\n",
    "obj1.name = 'Robbie'\n",
    "print obj1.name"
   ]
  },
  {
   "cell_type": "code",
   "execution_count": null,
   "metadata": {
    "collapsed": false,
    "deletable": true,
    "editable": true
   },
   "outputs": [],
   "source": [
    "'''\n",
    "CLASS INHERITANCE - \n",
    "The transfer of the characteristics of a class to other classes that are \n",
    "derived from it.\n",
    "'''"
   ]
  },
  {
   "cell_type": "code",
   "execution_count": null,
   "metadata": {
    "collapsed": false,
    "deletable": true,
    "editable": true
   },
   "outputs": [],
   "source": [
    "# example of an inherited class\n",
    "class Animal:\n",
    "    def say_something(self):\n",
    "        return \"I'm an animal!\"\n",
    "    \n",
    "# child class or derived class\n",
    "# Cat is the child class that is inheriting from the parent class called\n",
    "# Animal. In the child class, say_something method overrides the behavior \n",
    "# of the say_something of the parent class. This is called method overriding. \n",
    "\n",
    "class Cat(Animal):\n",
    "    def say_something(self):\n",
    "        return \"Meow\"\n",
    "    \n",
    "class Dog(Animal):\n",
    "    def say_something(self):\n",
    "        return \"Bow-wow\"\n",
    "    \n",
    "a = Animal()\n",
    "print a.say_something()\n",
    "d = Dog()\n",
    "print d.say_something()\n",
    "c = Cat()\n",
    "print c.say_something()"
   ]
  },
  {
   "cell_type": "code",
   "execution_count": null,
   "metadata": {
    "collapsed": false,
    "deletable": true,
    "editable": true
   },
   "outputs": [],
   "source": [
    "'''\n",
    "Sometime you will have to call both the child class method and also the\n",
    "parent class (also called super class) method. You can do so using \n",
    "super method\n",
    "'''\n",
    "\n",
    "class Animal(object): \n",
    "    def say_something(self):\n",
    "        return \"I'm an animal!\"\n",
    "    \n",
    "#child class or derived class\n",
    "class Cat(Animal):\n",
    "    def say_something(self):\n",
    "        # super(child_class_name,self).methodname()\n",
    "        # here methodname() should be the method that \n",
    "        # you want to call from the parent class\n",
    "        s = super(Cat,self).say_something()\n",
    "        return \"%s - %s\" %(s, \"Meow\")\n",
    "    \n",
    "class Dog(Animal):\n",
    "    def say_something(self):\n",
    "        s = super(Dog,self).say_something()\n",
    "        return \"%s - %s\" %(s, \"Bow-wow\")\n",
    "c = Cat()\n",
    "print c.say_something()\n",
    "d = Dog()\n",
    "print d.say_something()"
   ]
  },
  {
   "cell_type": "code",
   "execution_count": null,
   "metadata": {
    "collapsed": false,
    "deletable": true,
    "editable": true
   },
   "outputs": [],
   "source": [
    "print Dog.__bases__ # Prints the list of base classes"
   ]
  },
  {
   "cell_type": "code",
   "execution_count": null,
   "metadata": {
    "collapsed": false,
    "deletable": true,
    "editable": true
   },
   "outputs": [],
   "source": [
    "'''\n",
    "Deleting objects.\n",
    "Deletion happens via Garbage collection.  One can also delete objects \n",
    "and its variables using __del__ method.\n",
    "'''"
   ]
  },
  {
   "cell_type": "code",
   "execution_count": null,
   "metadata": {
    "collapsed": false,
    "deletable": true,
    "editable": true
   },
   "outputs": [],
   "source": [
    "class Class1:  \n",
    "    def __init__(self,name):\n",
    "        self.name = name\n",
    "    def listname(self):\n",
    "        return self.name\n",
    "    # the following method is executed during object deletion \n",
    "    def __del__(self):\n",
    "        print self.name,\"destroyed\"\n",
    "obj1 = Class1('Darth Vader')\n",
    "'''\n",
    "There are two ways to delete an object.  You do not have to use either.\n",
    "Instead let Python do garbage collection.\n",
    "'''\n",
    "# first method\n",
    "del obj1\n",
    "obj1.name\n",
    "# second method\n",
    "#obj1 =  None\n",
    "#print obj1"
   ]
  },
  {
   "cell_type": "code",
   "execution_count": 10,
   "metadata": {
    "collapsed": false,
    "deletable": true,
    "editable": true
   },
   "outputs": [
    {
     "name": "stdout",
     "output_type": "stream",
     "text": [
      "The name is Darth Vader \n",
      "Darth Vader destroyed\n"
     ]
    }
   ],
   "source": [
    "class Class1:  \n",
    "    def __init__(self,name):\n",
    "        self.name = name # this is a instance variable\n",
    "    def listname(self):\n",
    "        return self.name\n",
    "    def __del__(self):\n",
    "        print self.name,\"destroyed\"\n",
    "    # in the following method, a string is returned whenever the print \n",
    "    # is called with the object as input\n",
    "    def __str__(self):\n",
    "        return \"The name is %s \" %self.name\n",
    "    \n",
    "obj1 = Class1('Darth Vader')\n",
    "# This will call __str__ method, thus enabling a pretty printing of object\n",
    "print obj1 \n",
    "del obj1"
   ]
  },
  {
   "cell_type": "code",
   "execution_count": null,
   "metadata": {
    "collapsed": false,
    "deletable": true,
    "editable": true
   },
   "outputs": [],
   "source": [
    "'''\n",
    "Note: __del__ and __str__ are special methods that are defined by Python. \n",
    "Hence, they have a double underscore before and after del and str \n",
    "respectively.\n",
    "'''"
   ]
  },
  {
   "cell_type": "code",
   "execution_count": null,
   "metadata": {
    "collapsed": false,
    "deletable": true,
    "editable": true
   },
   "outputs": [],
   "source": [
    "# The name attribute in this class is a class variable.  \n",
    "# We will use this as a super class for the next cell.\n",
    "class Animal:\n",
    "    name = 'Animal'\n",
    "    def eat(self):\n",
    "        print \"Animal eating\"\n",
    "    def drink(self):\n",
    "        print 'Animal drinking'\n",
    "a = Animal()        \n",
    "b = Animal()\n",
    "print a.name, b.name"
   ]
  },
  {
   "cell_type": "code",
   "execution_count": 11,
   "metadata": {
    "collapsed": false,
    "deletable": true,
    "editable": true
   },
   "outputs": [
    {
     "name": "stdout",
     "output_type": "stream",
     "text": [
      "Latest method - Animal Dog drinking: \n",
      "Latest method - Animal Cow drinking: \n"
     ]
    }
   ],
   "source": [
    "# Function overloading in the same class. \n",
    "# Only the last method definition is used.\n",
    "class Animal:\n",
    "    name = 'Animal'\n",
    "    def eat(self):\n",
    "        print \"Animal eating\"\n",
    "      \n",
    "    def drink(self,name):\n",
    "        print 'Animal %s drinking'%(name)\n",
    "        \n",
    "    def drink(self, name = 'Dog'):\n",
    "        print 'Latest method - Animal %s drinking: '%(name)\n",
    "\n",
    "        \n",
    "a = Animal()        \n",
    "a.drink()\n",
    "b = Animal()\n",
    "b.drink('Cow')"
   ]
  },
  {
   "cell_type": "code",
   "execution_count": 12,
   "metadata": {
    "collapsed": false,
    "deletable": true,
    "editable": true
   },
   "outputs": [
    {
     "name": "stdout",
     "output_type": "stream",
     "text": [
      "Dog eating\n",
      "Dog\n",
      "Animal drinking\n"
     ]
    }
   ],
   "source": [
    "# Function overloading between child and parent class.\n",
    "class Animal:\n",
    "    name = 'Animal' # class variable\n",
    "    def eat(self):\n",
    "        print \"Animal eating\"\n",
    "    def drink(self):\n",
    "        print 'Animal drinking'\n",
    "        \n",
    "class Dog(Animal):\n",
    "    name = 'Dog' # class variable\n",
    "    def eat(self): \n",
    "        print \"Dog eating\"\n",
    "        \n",
    "d = Dog()\n",
    "d.eat()\n",
    "print d.name\n",
    "d.drink()"
   ]
  },
  {
   "cell_type": "code",
   "execution_count": 13,
   "metadata": {
    "collapsed": false,
    "deletable": true,
    "editable": true
   },
   "outputs": [
    {
     "name": "stdout",
     "output_type": "stream",
     "text": [
      "Dog eating\n",
      "Dog\n",
      "Animal drinking\n",
      "Dog drinking\n"
     ]
    }
   ],
   "source": [
    "# Method overloading\n",
    "class Animal:\n",
    "    name = 'Animal' # class variable\n",
    "    def eat(self):\n",
    "        print \"Animal eating\"\n",
    "    def drink(self):\n",
    "        print 'Animal drinking'\n",
    "        \n",
    "class Dog(Animal):\n",
    "    name = 'Dog' # class variable\n",
    "    def eat(self): \n",
    "        print \"Dog eating\"\n",
    "    def drink1(self):\n",
    "        print 'Dog drinking'\n",
    "    \n",
    "        \n",
    "d = Dog()\n",
    "d.eat()\n",
    "print d.name\n",
    "d.drink()\n",
    "d.drink1()"
   ]
  },
  {
   "cell_type": "code",
   "execution_count": 15,
   "metadata": {
    "collapsed": false,
    "deletable": true,
    "editable": true
   },
   "outputs": [
    {
     "name": "stdout",
     "output_type": "stream",
     "text": [
      "Dog eating\n",
      "Organism\n",
      "Organism drinking\n"
     ]
    }
   ],
   "source": [
    "# multiple inheritance.  A child can have multiple parent.\n",
    "class Organism:\n",
    "    name = 'Organism'\n",
    "    def eat(self):\n",
    "        print 'Organism eating'\n",
    "    def drink(self):\n",
    "        print 'Organism drinking'\n",
    "        \n",
    "class Animal:\n",
    "    name = 'Animal'\n",
    "    def eat(self):        \n",
    "        print \"Animal eating\"\n",
    "           \n",
    "class Dog(Organism,Animal):\n",
    "    #name = 'Dog'\n",
    "    def eat(self):\n",
    "        print \"Dog eating\"\n",
    "        \n",
    "d = Dog()\n",
    "d.eat()\n",
    "print d.name\n",
    "d.drink()"
   ]
  },
  {
   "cell_type": "code",
   "execution_count": 16,
   "metadata": {
    "collapsed": false,
    "deletable": true,
    "editable": true
   },
   "outputs": [
    {
     "name": "stdout",
     "output_type": "stream",
     "text": [
      "Dog eating\n",
      "Dog\n",
      "Animal drinking\n"
     ]
    }
   ],
   "source": [
    "# multiple inheritance\n",
    "class Organism:\n",
    "    name = 'Organism'\n",
    "    def eat(self):\n",
    "        print 'Organism eating'\n",
    "    def drink(self):\n",
    "        print 'Organism drinking'\n",
    "        \n",
    "class Animal:\n",
    "    name = 'Animal'\n",
    "    def eat(self):        \n",
    "        print \"Animal eating\"\n",
    "    def drink(self):\n",
    "        print 'Animal drinking'\n",
    " \n",
    "'''\n",
    "When two parents have same method(s) then the method in the left most \n",
    "parent of the child class will be executed.\n",
    "'''\n",
    "\n",
    "class Dog(Animal,Organism):\n",
    "    name = 'Dog'\n",
    "    def eat(self):\n",
    "        print \"Dog eating\"\n",
    "        \n",
    "d = Dog()\n",
    "d.eat()\n",
    "print d.name\n",
    "d.drink()"
   ]
  },
  {
   "cell_type": "code",
   "execution_count": null,
   "metadata": {
    "collapsed": false,
    "deletable": true,
    "editable": true
   },
   "outputs": [],
   "source": [
    "'''\n",
    "http://stackoverflow.com/questions/3277367/how-does-pythons-super-work-with\n",
    "-multiple-inheritance\n",
    "\n",
    "http://en.wikipedia.org/wiki/Multiple_inheritance#The_diamond_problem\n",
    "''' \n",
    "class Organism(object):\n",
    "    name = 'Organism'\n",
    "    def eat(self):\n",
    "        print 'Organism eating'\n",
    "        \n",
    "class Animal(object):\n",
    "    name = 'Animal'\n",
    "    def eat(self):        \n",
    "        print \"Animal eating\"\n",
    "    def drink(self):\n",
    "        print 'Animal drinking'\n",
    "        \n",
    "\n",
    "class Dog(Organism,Animal):\n",
    "    name = 'Dog'\n",
    "    def eat(self):\n",
    "        # Only the first super class eat function is called\n",
    "        super(Dog,self).eat()\n",
    "        print \"Dog eating\"\n",
    "d = Dog()\n",
    "d.eat()"
   ]
  },
  {
   "cell_type": "code",
   "execution_count": null,
   "metadata": {
    "collapsed": false,
    "deletable": true,
    "editable": true
   },
   "outputs": [],
   "source": [
    "'''\n",
    "In-class activity: \n",
    "\n",
    "Create a class that takes name and age as input. If the person's age is \n",
    "greater than 18 then you should print that they are eligible to create \n",
    "a login otherwise you print that they can't create a login. Implement \n",
    "a method called compage to compare age with 18. Implement another \n",
    "method called printpermission to print the output of comparison. \n",
    "'''"
   ]
  }
 ],
 "metadata": {
  "kernelspec": {
   "display_name": "Python 2",
   "language": "python",
   "name": "python2"
  },
  "language_info": {
   "codemirror_mode": {
    "name": "ipython",
    "version": 2
   },
   "file_extension": ".py",
   "mimetype": "text/x-python",
   "name": "python",
   "nbconvert_exporter": "python",
   "pygments_lexer": "ipython2",
   "version": "2.7.13"
  }
 },
 "nbformat": 4,
 "nbformat_minor": 0
}
