{
 "cells": [
  {
   "cell_type": "code",
   "execution_count": null,
   "metadata": {
    "collapsed": false
   },
   "outputs": [],
   "source": [
    "'''\n",
    "Itertools\n",
    "https://docs.python.org/2/library/itertools.html\n",
    "http://pymotw.com/2/itertools/\n",
    "'''"
   ]
  },
  {
   "cell_type": "code",
   "execution_count": null,
   "metadata": {
    "collapsed": false
   },
   "outputs": [],
   "source": [
    "from itertools import *\n",
    "list1 = [1,2,3,4,5,6]\n",
    "list2 = ['a','b','c','d','f','g']\n",
    "# chain() function takes several iterators as arguments and returns a single \n",
    "# iterator that produces the contents of all of them as though they came \n",
    "# from a single sequence\n",
    "print chain(list1,list2)\n",
    "\n",
    "for v in chain(list1,list2): \n",
    "    print v"
   ]
  },
  {
   "cell_type": "code",
   "execution_count": null,
   "metadata": {
    "collapsed": false
   },
   "outputs": [],
   "source": [
    "# izip() function takes several iterators and combines their elements into tuples.\n",
    "for v in izip(list1,list2):\n",
    "    print v"
   ]
  },
  {
   "cell_type": "code",
   "execution_count": null,
   "metadata": {
    "collapsed": false
   },
   "outputs": [],
   "source": [
    "list3 = ['e','o']\n",
    "for v in izip(list1,list3):\n",
    "    print v"
   ]
  },
  {
   "cell_type": "code",
   "execution_count": null,
   "metadata": {
    "collapsed": false
   },
   "outputs": [],
   "source": [
    "# allows us to combine two lists\n",
    "c = izip(list1,list2)\n",
    "# here c is an iterator\n",
    "print c\n",
    "for v in c:\n",
    "    print v"
   ]
  },
  {
   "cell_type": "code",
   "execution_count": null,
   "metadata": {
    "collapsed": false
   },
   "outputs": [],
   "source": [
    "# islice() function returns an iterator which returns slected items from the \n",
    "# input iterator based on index. We are slicing through list2 and want to \n",
    "# stop when we hit the second item.\n",
    "for v in islice(list2, 2): \n",
    "    print v"
   ]
  },
  {
   "cell_type": "code",
   "execution_count": null,
   "metadata": {
    "collapsed": false
   },
   "outputs": [],
   "source": [
    "for v in islice(list2, 2, 4): \n",
    "    print v"
   ]
  },
  {
   "cell_type": "code",
   "execution_count": null,
   "metadata": {
    "collapsed": false
   },
   "outputs": [],
   "source": [
    "# tee(list,number) function returns several independent iterators \n",
    "# (default number is 2) based on a single original input. In the following \n",
    "# example we use tee function to create two copies of b.\n",
    "t1,t2 = tee(list2)\n",
    "\n",
    "print t1,t2\n",
    "for v in t1:\n",
    "    print v\n",
    "for v in t2:\n",
    "    print v"
   ]
  },
  {
   "cell_type": "code",
   "execution_count": null,
   "metadata": {
    "collapsed": false
   },
   "outputs": [],
   "source": [
    "# Creates three copies of list2\n",
    "t1,t2,t3 = tee(list2,3) \n",
    "# for two copies you don't need to specify number of copies\n",
    "print t1,t2,t3\n",
    "for v in t1:\n",
    "    print v\n",
    "for v in t3:\n",
    "    print v"
   ]
  },
  {
   "cell_type": "code",
   "execution_count": null,
   "metadata": {
    "collapsed": false
   },
   "outputs": [],
   "source": [
    "# imap() function assigns elements from the input iterator(s) to a mapping \n",
    "# function and returns the results.\n",
    "for v in imap(lambda x:2*x, list1):\n",
    "    print v"
   ]
  },
  {
   "cell_type": "code",
   "execution_count": null,
   "metadata": {
    "collapsed": false
   },
   "outputs": [],
   "source": [
    "# starmap function is similar to imap, but instead of constructing a tuple \n",
    "# from multiple iterators, it splits up the terms in a single iterator and \n",
    "# assigns them as arguments to the mapping function that uses the * operation.\n",
    "c = [(0, 5), (1, 6), (2, 7), (3, 8), (4, 9)]\n",
    "for i in starmap(lambda x,y:(x, y, x*y),c ):\n",
    "    print  i"
   ]
  },
  {
   "cell_type": "code",
   "execution_count": null,
   "metadata": {
    "collapsed": false
   },
   "outputs": [],
   "source": [
    "# ifilter() returns an iterator that works similar to the filter()\n",
    "def checkeven(x):\n",
    "    print 'Checking:', x\n",
    "    return (x%2==0)\n",
    "\n",
    "for i in ifilter(checkeven, [ -2, 1, 2, 5, 8, -10 ]):\n",
    "    print 'Even number:', i"
   ]
  },
  {
   "cell_type": "code",
   "execution_count": null,
   "metadata": {
    "collapsed": false
   },
   "outputs": [],
   "source": [
    "student_tuples = [\n",
    "        ('john', 'B', 15),\n",
    "        ('jane', 'A', 12),\n",
    "        ('dave', 'C', 10),]"
   ]
  },
  {
   "cell_type": "code",
   "execution_count": null,
   "metadata": {
    "collapsed": false
   },
   "outputs": [],
   "source": [
    "from operator import itemgetter\n",
    "\n",
    "print sorted(student_tuples, key=itemgetter(0))\n",
    "print sorted(student_tuples, key=itemgetter(1))\n",
    "print sorted(student_tuples, key=itemgetter(2))"
   ]
  },
  {
   "cell_type": "code",
   "execution_count": null,
   "metadata": {
    "collapsed": false
   },
   "outputs": [],
   "source": [
    "sorted(student_tuples, key=itemgetter(1,2))"
   ]
  },
  {
   "cell_type": "code",
   "execution_count": null,
   "metadata": {
    "collapsed": false
   },
   "outputs": [],
   "source": [
    "# Grouping data\n",
    "# groupby() function returns an iterator that produces sets of values grouped \n",
    "# by a common key.\n",
    "\n",
    "from operator import itemgetter\n",
    "\n",
    "d = dict(a=1, b=2, e=1, d=2, c=1, g=2, f=3)\n",
    "for items in d.iteritems():\n",
    "    print items\n",
    "# itemgetter(1) - value in the dictionary\n",
    "# itemgetter(0) - key in the dictionary\n",
    "di = sorted(d.iteritems(), key=itemgetter(1),reverse=True)\n",
    "print di"
   ]
  },
  {
   "cell_type": "code",
   "execution_count": null,
   "metadata": {
    "collapsed": false
   },
   "outputs": [],
   "source": [
    "a = iter([1,2,3])\n",
    "print a.next()\n",
    "print a.next()\n",
    "print a.next()\n",
    "#print a.next() # Uncomment this "
   ]
  },
  {
   "cell_type": "code",
   "execution_count": null,
   "metadata": {
    "collapsed": false
   },
   "outputs": [],
   "source": [
    "'''\n",
    "Creating generators - so far we have see functions that return a single value. \n",
    "But sometimes we might want functions that yield a series of values. In an \n",
    "ordinary function, a return statement will return the control of execution \n",
    "to the point where the function was called. An yield statement means that \n",
    "the transfer of control is temporary and voluntary, and our function expects \n",
    "to regain it in the future.\n",
    "http://www.jeffknupp.com/blog/2013/04/07/improve-your-python-yield-and-\n",
    "generators-explained/\n",
    "'''"
   ]
  },
  {
   "cell_type": "code",
   "execution_count": null,
   "metadata": {
    "collapsed": false
   },
   "outputs": [],
   "source": [
    "# Example of a simple generator\n",
    "def simple_generator():\n",
    "    yield 1\n",
    "    yield 2\n",
    "    yield 3\n",
    "    \n",
    "\n",
    "for item in simple_generator():\n",
    "    print item"
   ]
  },
  {
   "cell_type": "code",
   "execution_count": null,
   "metadata": {
    "collapsed": false
   },
   "outputs": [],
   "source": [
    "# One way to pass values to myiter\n",
    "def myiter():\n",
    "    for i in xrange(5):\n",
    "        yield i*i*i\n",
    "        \n",
    "for items in myiter():\n",
    "    print items"
   ]
  },
  {
   "cell_type": "code",
   "execution_count": null,
   "metadata": {
    "collapsed": false
   },
   "outputs": [],
   "source": [
    "# another way to pass values to myiter\n",
    "def myiter(iters):\n",
    "    for i in iters:\n",
    "        yield i*i*i   \n",
    "        \n",
    "for items in myiter(xrange(5)):\n",
    "    print items"
   ]
  },
  {
   "cell_type": "code",
   "execution_count": null,
   "metadata": {
    "collapsed": false
   },
   "outputs": [],
   "source": [
    "def myiter(iters):\n",
    "    for i in iters:\n",
    "        print \"before \",i\n",
    "        yield i*i*i\n",
    "        # Statements after yield is executed\n",
    "        print \"after \",i\n",
    "        j = i+21\n",
    "        yield j\n",
    "        \n",
    "for items in myiter(xrange(2)):\n",
    "    print \"inside for-loop\",items"
   ]
  },
  {
   "cell_type": "code",
   "execution_count": null,
   "metadata": {
    "collapsed": false
   },
   "outputs": [],
   "source": [
    "# A more useful generator - Fibonacci numbers generator\n",
    "def fibonacci():\n",
    "    a, b = 0, 1\n",
    "    while True:\n",
    "        yield a\n",
    "        a, b = b, a + b\n",
    "\n",
    "f = fibonacci()\n",
    "\n",
    "counter = 0\n",
    "for x in f:\n",
    "    print x,\n",
    "    counter += 1\n",
    "    if (counter > 15): \n",
    "        break \n",
    "print   "
   ]
  },
  {
   "cell_type": "code",
   "execution_count": null,
   "metadata": {
    "collapsed": false
   },
   "outputs": [],
   "source": [
    "# Generator expressions are high performance, memory efficient generalization \n",
    "# of list comprehensions and generators."
   ]
  },
  {
   "cell_type": "code",
   "execution_count": null,
   "metadata": {
    "collapsed": false
   },
   "outputs": [],
   "source": [
    "gen = (x*x for x in range(1,16))\n",
    "print gen"
   ]
  },
  {
   "cell_type": "code",
   "execution_count": null,
   "metadata": {
    "collapsed": false
   },
   "outputs": [],
   "source": [
    "for i in gen:\n",
    "    print i,"
   ]
  },
  {
   "cell_type": "code",
   "execution_count": 4,
   "metadata": {
    "collapsed": false
   },
   "outputs": [
    {
     "name": "stdout",
     "output_type": "stream",
     "text": [
      "(50, 50)\n",
      "(150, 50)\n",
      "(150, 150)\n",
      "(50, 150)\n"
     ]
    }
   ],
   "source": [
    "class Rect():\n",
    "\n",
    "    def __init__(self, x, y, width, height):\n",
    "        self.l_top  = (x, y)\n",
    "        self.r_top  = (x+width, y)\n",
    "        self.r_bot  = (x+width, y+height)\n",
    "        self.l_bot  = (x, y+height)\n",
    "\n",
    "    def __iter__(self):\n",
    "        yield self.l_top\n",
    "        yield self.l_bot\n",
    "        yield self.r_top\n",
    "        yield self.r_bot\n",
    "        \n",
    "myrect = Rect(50,50,100,100)\n",
    "for corner in myrect:\n",
    "    print(corner)"
   ]
  },
  {
   "cell_type": "code",
   "execution_count": null,
   "metadata": {
    "collapsed": false
   },
   "outputs": [],
   "source": [
    "'''\n",
    "In-class activity for itertools\n",
    "\n",
    "You are given a dictionary dict1 = {1:'a',2:'c',3:'d'}\n",
    "You need to convert this into an iterator with multiple tuples \n",
    "in it and print \n",
    "(1, 'a')\n",
    "(2, 'c')\n",
    "(3, 'd')\n",
    "'''"
   ]
  },
  {
   "cell_type": "code",
   "execution_count": null,
   "metadata": {
    "collapsed": false
   },
   "outputs": [],
   "source": []
  }
 ],
 "metadata": {
  "kernelspec": {
   "display_name": "Python 2",
   "language": "python",
   "name": "python2"
  },
  "language_info": {
   "codemirror_mode": {
    "name": "ipython",
    "version": 2
   },
   "file_extension": ".py",
   "mimetype": "text/x-python",
   "name": "python",
   "nbconvert_exporter": "python",
   "pygments_lexer": "ipython2",
   "version": "2.7.9"
  }
 },
 "nbformat": 4,
 "nbformat_minor": 0
}
