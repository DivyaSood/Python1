{
 "cells": [
  {
   "cell_type": "code",
   "execution_count": 5,
   "metadata": {
    "collapsed": false
   },
   "outputs": [
    {
     "name": "stdout",
     "output_type": "stream",
     "text": [
      "The year is  1947\n",
      "The year is  2001\n",
      "The year is  2008\n"
     ]
    }
   ],
   "source": [
    "# extracting year from a text file using regex\n",
    "import re\n",
    "pattern = re.compile(\"(\\d+)\")\n",
    "\n",
    "for i, line in enumerate(open('modify.txt')):\n",
    "   #print i, line, re.finditer(pattern, line)\n",
    "   for m in re.finditer(pattern, line):\n",
    "       year = m.group(1)\n",
    "       print  'The year is ', year"
   ]
  },
  {
   "cell_type": "code",
   "execution_count": 6,
   "metadata": {
    "collapsed": false
   },
   "outputs": [
    {
     "name": "stdout",
     "output_type": "stream",
     "text": [
      "{'status': '200', 'request': 'GET /history/apollo/ HTTP/1.0', 'host': '199.72.81.55', 'user': '-', 'time': '01/Jul/1995:00:00:01 -0400', 'size': '6245'}\n",
      "{'status': '200', 'request': 'GET /shuttle/countdown/ HTTP/1.0', 'host': 'unicomp6.unicomp.net', 'user': '-', 'time': '01/Jul/1995:00:00:06 -0400', 'size': '3985'}\n",
      "{'status': '200', 'request': 'GET /shuttle/missions/sts-73/mission-sts-73.html HTTP/1.0', 'host': '199.120.110.21', 'user': '-', 'time': '01/Jul/1995:00:00:09 -0400', 'size': '4085'}\n",
      "{'status': '304', 'request': 'GET /shuttle/countdown/liftoff.html HTTP/1.0', 'host': 'burger.letters.com', 'user': '-', 'time': '01/Jul/1995:00:00:11 -0400', 'size': '0'}\n",
      "{'status': '200', 'request': 'GET /shuttle/missions/sts-73/sts-73-patch-small.gif HTTP/1.0', 'host': '199.120.110.21', 'user': '-', 'time': '01/Jul/1995:00:00:11 -0400', 'size': '4179'}\n",
      "{'status': '304', 'request': 'GET /images/NASA-logosmall.gif HTTP/1.0', 'host': 'burger.letters.com', 'user': '-', 'time': '01/Jul/1995:00:00:12 -0400', 'size': '0'}\n",
      "{'status': '200', 'request': 'GET /shuttle/countdown/video/livevideo.gif HTTP/1.0', 'host': 'burger.letters.com', 'user': '-', 'time': '01/Jul/1995:00:00:12 -0400', 'size': '0'}\n",
      "{'status': '200', 'request': 'GET /shuttle/countdown/countdown.html HTTP/1.0', 'host': '205.212.115.106', 'user': '-', 'time': '01/Jul/1995:00:00:12 -0400', 'size': '3985'}\n",
      "{'status': '200', 'request': 'GET /shuttle/countdown/ HTTP/1.0', 'host': 'd104.aa.net', 'user': '-', 'time': '01/Jul/1995:00:00:13 -0400', 'size': '3985'}\n",
      "{'status': '200', 'request': 'GET / HTTP/1.0', 'host': '129.94.144.152', 'user': '-', 'time': '01/Jul/1995:00:00:13 -0400', 'size': '7074'}\n",
      "{'status': '200', 'request': 'GET /shuttle/countdown/count.gif HTTP/1.0', 'host': 'unicomp6.unicomp.net', 'user': '-', 'time': '01/Jul/1995:00:00:14 -0400', 'size': '40310'}\n",
      "{'status': '200', 'request': 'GET /images/NASA-logosmall.gif HTTP/1.0', 'host': 'unicomp6.unicomp.net', 'user': '-', 'time': '01/Jul/1995:00:00:14 -0400', 'size': '786'}\n",
      "{'status': '200', 'request': 'GET /images/KSC-logosmall.gif HTTP/1.0', 'host': 'unicomp6.unicomp.net', 'user': '-', 'time': '01/Jul/1995:00:00:14 -0400', 'size': '1204'}\n",
      "{'status': '200', 'request': 'GET /shuttle/countdown/count.gif HTTP/1.0', 'host': 'd104.aa.net', 'user': '-', 'time': '01/Jul/1995:00:00:15 -0400', 'size': '40310'}\n",
      "{'status': '200', 'request': 'GET /images/NASA-logosmall.gif HTTP/1.0', 'host': 'd104.aa.net', 'user': '-', 'time': '01/Jul/1995:00:00:15 -0400', 'size': '786'}\n",
      "{'status': '200', 'request': 'GET /images/KSC-logosmall.gif HTTP/1.0', 'host': 'd104.aa.net', 'user': '-', 'time': '01/Jul/1995:00:00:15 -0400', 'size': '1204'}\n",
      "{'status': '304', 'request': 'GET /images/ksclogo-medium.gif HTTP/1.0', 'host': '129.94.144.152', 'user': '-', 'time': '01/Jul/1995:00:00:17 -0400', 'size': '0'}\n",
      "{'status': '200', 'request': 'GET /images/launch-logo.gif HTTP/1.0', 'host': '199.120.110.21', 'user': '-', 'time': '01/Jul/1995:00:00:17 -0400', 'size': '1713'}\n",
      "{'status': '200', 'request': 'GET /facts/about_ksc.html HTTP/1.0', 'host': 'ppptky391.asahi-net.or.jp', 'user': '-', 'time': '01/Jul/1995:00:00:18 -0400', 'size': '3977'}\n",
      "{'status': '200', 'request': 'GET /shuttle/missions/sts-71/images/KSC-95EC-0916.jpg HTTP/1.0', 'host': 'net-1-141.eden.com', 'user': '-', 'time': '01/Jul/1995:00:00:19 -0400', 'size': '34029'}\n",
      "{'status': '200', 'request': 'GET /images/launchpalms-small.gif HTTP/1.0', 'host': 'ppptky391.asahi-net.or.jp', 'user': '-', 'time': '01/Jul/1995:00:00:19 -0400', 'size': '11473'}\n",
      "{'status': '200', 'request': 'GET /shuttle/countdown/ HTTP/1.0', 'host': '205.189.154.54', 'user': '-', 'time': '01/Jul/1995:00:00:24 -0400', 'size': '3985'}\n",
      "{'status': '200', 'request': 'GET /shuttle/missions/51-l/mission-51-l.html HTTP/1.0', 'host': 'waters-gw.starway.net.au', 'user': '-', 'time': '01/Jul/1995:00:00:25 -0400', 'size': '6723'}\n",
      "{'status': '200', 'request': 'GET / HTTP/1.0', 'host': 'ppp-mia-30.shadow.net', 'user': '-', 'time': '01/Jul/1995:00:00:27 -0400', 'size': '7074'}\n",
      "{'status': '200', 'request': 'GET /shuttle/countdown/count.gif HTTP/1.0', 'host': '205.189.154.54', 'user': '-', 'time': '01/Jul/1995:00:00:29 -0400', 'size': '40310'}\n",
      "{'status': '200', 'request': 'GET /shuttle/missions/sts-71/sts-71-patch-small.gif HTTP/1.0', 'host': 'alyssa.prodigy.com', 'user': '-', 'time': '01/Jul/1995:00:00:33 -0400', 'size': '12054'}\n",
      "{'status': '200', 'request': 'GET /images/ksclogo-medium.gif HTTP/1.0', 'host': 'ppp-mia-30.shadow.net', 'user': '-', 'time': '01/Jul/1995:00:00:35 -0400', 'size': '5866'}\n",
      "{'status': '200', 'request': 'GET /shuttle/missions/sts-71/images/KSC-95EC-0613.jpg HTTP/1.0', 'host': 'dial22.lloyd.com', 'user': '-', 'time': '01/Jul/1995:00:00:37 -0400', 'size': '61716'}\n",
      "{'status': '200', 'request': 'GET /history/apollo/apollo-13/images/70HC314.GIF HTTP/1.0', 'host': 'smyth-pc.moorecap.com', 'user': '-', 'time': '01/Jul/1995:00:00:38 -0400', 'size': '101267'}\n",
      "{'status': '200', 'request': 'GET /images/NASA-logosmall.gif HTTP/1.0', 'host': '205.189.154.54', 'user': '-', 'time': '01/Jul/1995:00:00:40 -0400', 'size': '786'}\n",
      "{'status': '200', 'request': 'GET /shuttle/countdown/ HTTP/1.0', 'host': 'ix-orl2-01.ix.netcom.com', 'user': '-', 'time': '01/Jul/1995:00:00:41 -0400', 'size': '3985'}\n",
      "{'status': '200', 'request': 'GET /images/NASA-logosmall.gif HTTP/1.0', 'host': 'ppp-mia-30.shadow.net', 'user': '-', 'time': '01/Jul/1995:00:00:41 -0400', 'size': '786'}\n",
      "{'status': '200', 'request': 'GET /images/MOSAIC-logosmall.gif HTTP/1.0', 'host': 'ppp-mia-30.shadow.net', 'user': '-', 'time': '01/Jul/1995:00:00:41 -0400', 'size': '363'}\n",
      "{'status': '200', 'request': 'GET /images/KSC-logosmall.gif HTTP/1.0', 'host': '205.189.154.54', 'user': '-', 'time': '01/Jul/1995:00:00:41 -0400', 'size': '1204'}\n",
      "{'status': '200', 'request': 'GET /images/USA-logosmall.gif HTTP/1.0', 'host': 'ppp-mia-30.shadow.net', 'user': '-', 'time': '01/Jul/1995:00:00:41 -0400', 'size': '234'}\n",
      "{'status': '200', 'request': 'GET /images/WORLD-logosmall.gif HTTP/1.0', 'host': 'ppp-mia-30.shadow.net', 'user': '-', 'time': '01/Jul/1995:00:00:43 -0400', 'size': '669'}\n",
      "{'status': '200', 'request': 'GET /shuttle/countdown/count.gif HTTP/1.0', 'host': 'ix-orl2-01.ix.netcom.com', 'user': '-', 'time': '01/Jul/1995:00:00:44 -0400', 'size': '40310'}\n",
      "{'status': '200', 'request': 'GET /shuttle/missions/sts-71/mission-sts-71.html HTTP/1.0', 'host': 'gayle-gaston.tenet.edu', 'user': '-', 'time': '01/Jul/1995:00:00:50 -0400', 'size': '12040'}\n",
      "{'status': '200', 'request': 'GET /shuttle/missions/sts-71/sts-71-patch-small.gif HTTP/1.0', 'host': 'piweba3y.prodigy.com', 'user': '-', 'time': '01/Jul/1995:00:00:54 -0400', 'size': '12054'}\n",
      "{'status': '200', 'request': 'GET /shuttle/missions/sts-71/movies/sts-71-mir-dock-2.mpg HTTP/1.0', 'host': 'scheyer.clark.net', 'user': '-', 'time': '01/Jul/1995:00:00:58 -0400', 'size': '49152'}\n",
      "{'status': '200', 'request': 'GET /shuttle/missions/sts-71/images/KSC-95EC-0882.jpg HTTP/1.0', 'host': 'ppp-nyc-3-1.ios.com', 'user': '-', 'time': '01/Jul/1995:00:00:59 -0400', 'size': '77163'}\n",
      "{'status': '200', 'request': 'GET /history/ HTTP/1.0', 'host': '199.72.81.55', 'user': '-', 'time': '01/Jul/1995:00:00:59 -0400', 'size': '1382'}\n",
      "{'status': '200', 'request': 'GET /software/winvn/winvn.html HTTP/1.0', 'host': 'port26.annex2.nwlink.com', 'user': '-', 'time': '01/Jul/1995:00:01:02 -0400', 'size': '9867'}\n",
      "{'status': '200', 'request': 'GET /software/winvn/winvn.gif HTTP/1.0', 'host': 'port26.annex2.nwlink.com', 'user': '-', 'time': '01/Jul/1995:00:01:04 -0400', 'size': '25218'}\n",
      "{'status': '200', 'request': 'GET /images/construct.gif HTTP/1.0', 'host': 'port26.annex2.nwlink.com', 'user': '-', 'time': '01/Jul/1995:00:01:04 -0400', 'size': '1414'}\n",
      "{'status': '200', 'request': 'GET /software/winvn/bluemarb.gif HTTP/1.0', 'host': 'port26.annex2.nwlink.com', 'user': '-', 'time': '01/Jul/1995:00:01:04 -0400', 'size': '4441'}\n",
      "{'status': '200', 'request': 'GET /shuttle/technology/images/srb_16-small.gif HTTP/1.0', 'host': 'dd14-012.compuserve.com', 'user': '-', 'time': '01/Jul/1995:00:01:05 -0400', 'size': '42732'}\n",
      "{'status': '302', 'request': 'GET /cgi-bin/imagemap/countdown?99,176 HTTP/1.0', 'host': '205.189.154.54', 'user': '-', 'time': '01/Jul/1995:00:01:06 -0400', 'size': '110'}\n",
      "{'status': '200', 'request': 'GET /shuttle/missions/sts-71/images/images.html HTTP/1.0', 'host': '205.189.154.54', 'user': '-', 'time': '01/Jul/1995:00:01:08 -0400', 'size': '7634'}\n",
      "{'status': '200', 'request': 'GET /shuttle/countdown/ HTTP/1.0', 'host': 'www-a1.proxy.aol.com', 'user': '-', 'time': '01/Jul/1995:00:01:09 -0400', 'size': '3985'}\n",
      "['200', '200', '200', '304', '200', '304', '200', '200', '200', '200', '200', '200', '200', '200', '200', '200', '304', '200', '200', '200', '200', '200', '200', '200', '200', '200', '200', '200', '200', '200', '200', '200', '200', '200', '200', '200', '200', '200', '200', '200', '200', '200', '200', '200', '200', '200', '200', '302', '200', '200']\n"
     ]
    }
   ],
   "source": [
    "# extracting data from a text file using regex\n",
    "import re\n",
    "\n",
    "parts = [\n",
    "    r'(?P<host>\\S+)',                   # host %h\n",
    "    r'\\S+',                             # indent %l (unused)\n",
    "    r'(?P<user>\\S+)',                   # user %u\n",
    "    r'\\[(?P<time>.+)\\]',                # time %t\n",
    "    r'\"(?P<request>.+)\"',               # request \"%r\"\n",
    "    r'(?P<status>[0-9]+)',              # status %>s\n",
    "    r'(?P<size>\\S+)',                   # size %b (careful, can be '-')\n",
    "]\n",
    "pattern = re.compile(r'\\s+'.join(parts)+r'\\s*\\Z')\n",
    "status1 = []\n",
    "\n",
    "fo = open(\"apache50log.txt\")\n",
    "for line in fo.readlines():\n",
    "    m = pattern.match(line)\n",
    "    res = m.groupdict()\n",
    "    print res\n",
    "    status1.append(res['status'])\n",
    "\n",
    "print status1\n",
    "statusdict = {}"
   ]
  },
  {
   "cell_type": "code",
   "execution_count": null,
   "metadata": {
    "collapsed": true
   },
   "outputs": [],
   "source": [
    "'''\n",
    "From the above example,create a dictionary with host as the key and request from it as value.\n",
    "'''"
   ]
  },
  {
   "cell_type": "code",
   "execution_count": null,
   "metadata": {
    "collapsed": true
   },
   "outputs": [],
   "source": []
  }
 ],
 "metadata": {
  "kernelspec": {
   "display_name": "Python 2",
   "language": "python",
   "name": "python2"
  },
  "language_info": {
   "codemirror_mode": {
    "name": "ipython",
    "version": 2
   },
   "file_extension": ".py",
   "mimetype": "text/x-python",
   "name": "python",
   "nbconvert_exporter": "python",
   "pygments_lexer": "ipython2",
   "version": "2.7.11"
  }
 },
 "nbformat": 4,
 "nbformat_minor": 0
}
