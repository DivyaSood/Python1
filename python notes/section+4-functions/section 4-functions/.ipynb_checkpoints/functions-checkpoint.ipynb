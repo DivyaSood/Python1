{
 "cells": [
  {
   "cell_type": "code",
   "execution_count": 1,
   "metadata": {
    "collapsed": false
   },
   "outputs": [
    {
     "data": {
      "text/plain": [
       "'\\nFunctions\\n1. Arguments and outputs\\n2. default argument\\n3. keyword based arguments\\n\\nSyntax for function\\ndef name_of_the_function(list of arguments):\\n    statements that need to be executed\\n    return value\\n'"
      ]
     },
     "execution_count": 1,
     "metadata": {},
     "output_type": "execute_result"
    }
   ],
   "source": [
    "'''\n",
    "Functions\n",
    "1. Arguments and outputs\n",
    "2. default argument\n",
    "3. keyword based arguments\n",
    "\n",
    "Syntax for function\n",
    "def name_of_the_function(list of arguments):\n",
    "    statements that need to be executed\n",
    "    return value\n",
    "'''"
   ]
  },
  {
   "cell_type": "code",
   "execution_count": 1,
   "metadata": {
    "collapsed": false
   },
   "outputs": [
    {
     "name": "stdout",
     "output_type": "stream",
     "text": [
      "the increment value is : 21\n",
      "21\n"
     ]
    }
   ],
   "source": [
    "def increment(a):\n",
    "    b = a+1\n",
    "    print 'the increment value is : %d' %b\n",
    "    return b\n",
    "\n",
    "print increment(20) # calling the function and passing a required argument. "
   ]
  },
  {
   "cell_type": "code",
   "execution_count": 5,
   "metadata": {
    "collapsed": false
   },
   "outputs": [
    {
     "name": "stdout",
     "output_type": "stream",
     "text": [
      "the increment value is : 21\n",
      "21\n"
     ]
    },
    {
     "ename": "NameError",
     "evalue": "name 'b' is not defined",
     "output_type": "error",
     "traceback": [
      "\u001b[1;31m---------------------------------------------------------------------------\u001b[0m",
      "\u001b[1;31mNameError\u001b[0m                                 Traceback (most recent call last)",
      "\u001b[1;32m<ipython-input-5-22c97ad3929e>\u001b[0m in \u001b[0;36m<module>\u001b[1;34m()\u001b[0m\n\u001b[0;32m      6\u001b[0m \u001b[1;33m\u001b[0m\u001b[0m\n\u001b[0;32m      7\u001b[0m \u001b[1;32mprint\u001b[0m \u001b[0mincrement\u001b[0m\u001b[1;33m(\u001b[0m\u001b[1;36m20\u001b[0m\u001b[1;33m)\u001b[0m \u001b[1;31m# calling the function and passing a required argument.\u001b[0m\u001b[1;33m\u001b[0m\u001b[0m\n\u001b[1;32m----> 8\u001b[1;33m \u001b[1;32mprint\u001b[0m \u001b[0mb\u001b[0m\u001b[1;33m\u001b[0m\u001b[0m\n\u001b[0m\u001b[0;32m      9\u001b[0m '''\n\u001b[0;32m     10\u001b[0m \u001b[0mThe\u001b[0m \u001b[0mvariable\u001b[0m \u001b[0mb\u001b[0m \u001b[0mdoes\u001b[0m \u001b[1;32mnot\u001b[0m \u001b[0mexist\u001b[0m \u001b[0moutside\u001b[0m \u001b[0mthe\u001b[0m \u001b[0mfunction\u001b[0m\u001b[1;33m.\u001b[0m\u001b[1;33m\u001b[0m\u001b[0m\n",
      "\u001b[1;31mNameError\u001b[0m: name 'b' is not defined"
     ]
    }
   ],
   "source": [
    "# Scope of variables is local to the function. \n",
    "def increment(a):\n",
    "    b = a+1\n",
    "    print 'the increment value is : %d' %b\n",
    "    return b\n",
    "\n",
    "print increment(20) # calling the function and passing a required argument. \n",
    "print b \n",
    "'''\n",
    "The variable b does not exist outside the function.  \n",
    "So we will get NameError exception.\n",
    "'''"
   ]
  },
  {
   "cell_type": "code",
   "execution_count": 7,
   "metadata": {
    "collapsed": false
   },
   "outputs": [
    {
     "name": "stdout",
     "output_type": "stream",
     "text": [
      "The value of a is: 10\n",
      "The value of incr is: 10\n",
      "30\n"
     ]
    }
   ],
   "source": [
    "# A function can take multiple inputs\n",
    "def increment(a,incr):\n",
    "    c = a+incr\n",
    "    print 'The value of a is: %d' %a\n",
    "    print 'The value of incr is: %d' %incr\n",
    "    return c+incr\n",
    "\n",
    "print increment(10,10) # calling the function and passing two required arguments. \n",
    "# 10 will be assigned to a and \n",
    "# 3 will be assigned to incr. So these are called positional arguments. "
   ]
  },
  {
   "cell_type": "code",
   "execution_count": 9,
   "metadata": {
    "collapsed": false
   },
   "outputs": [
    {
     "name": "stdout",
     "output_type": "stream",
     "text": [
      "(13, 10, 3)\n"
     ]
    }
   ],
   "source": [
    "def increment(a,incr):\n",
    "    c = a+incr\n",
    "    return c,a,incr\n",
    "    # returning multiple values as a tuple\n",
    "print increment(10,3)"
   ]
  },
  {
   "cell_type": "code",
   "execution_count": 10,
   "metadata": {
    "collapsed": false
   },
   "outputs": [
    {
     "name": "stdout",
     "output_type": "stream",
     "text": [
      "(13, 10, 3)\n"
     ]
    }
   ],
   "source": [
    "def increment(a,incr):\n",
    "    c = a+incr\n",
    "    return c,a,incr\n",
    "    # returning multiple values as a tuple\n",
    "d= increment(10,3)\n",
    "print d"
   ]
  },
  {
   "cell_type": "code",
   "execution_count": 11,
   "metadata": {
    "collapsed": false
   },
   "outputs": [
    {
     "name": "stdout",
     "output_type": "stream",
     "text": [
      "4\n",
      "7\n"
     ]
    }
   ],
   "source": [
    "# Specifying default values\n",
    "def increment(a,incr=1):\n",
    "    a = a+incr\n",
    "    return a\n",
    "\n",
    "print increment(3) # for this the incr will default to 1\n",
    "print increment(3,4) \n",
    "# here the incr is assigned a value of 4 which overrides the default value"
   ]
  },
  {
   "cell_type": "code",
   "execution_count": 12,
   "metadata": {
    "collapsed": false
   },
   "outputs": [
    {
     "name": "stdout",
     "output_type": "stream",
     "text": [
      "the value of a is :6\n",
      "8\n"
     ]
    }
   ],
   "source": [
    "def increment(a=4,incr1=1):\n",
    "    print 'the value of a is :%d' %a\n",
    "    a = a+incr1\n",
    "    return a\n",
    "\n",
    "print increment(a=6,incr1=2) # 2 keyword arguments "
   ]
  },
  {
   "cell_type": "code",
   "execution_count": 13,
   "metadata": {
    "collapsed": false
   },
   "outputs": [
    {
     "name": "stdout",
     "output_type": "stream",
     "text": [
      "the value of a is :3\n",
      "5\n"
     ]
    }
   ],
   "source": [
    "print increment(incr1=2,a=3)\n",
    "# Unlike positional arguments, order is not important for keyword arguments. "
   ]
  },
  {
   "cell_type": "code",
   "execution_count": 14,
   "metadata": {
    "collapsed": false
   },
   "outputs": [
    {
     "name": "stdout",
     "output_type": "stream",
     "text": [
      "the value of a is :10\n",
      "15\n"
     ]
    }
   ],
   "source": [
    "print increment(10,incr1=5) #if you assign a value for a keyword argument \n",
    "# then other arguments to its right should also be assigned values."
   ]
  },
  {
   "cell_type": "code",
   "execution_count": 15,
   "metadata": {
    "collapsed": false
   },
   "outputs": [
    {
     "ename": "SyntaxError",
     "evalue": "non-keyword arg after keyword arg (<ipython-input-15-c94119bfccf7>, line 1)",
     "output_type": "error",
     "traceback": [
      "\u001b[1;36m  File \u001b[1;32m\"<ipython-input-15-c94119bfccf7>\"\u001b[1;36m, line \u001b[1;32m1\u001b[0m\n\u001b[1;33m    print increment(a=10,5) # This will generate a Syntax error\u001b[0m\n\u001b[1;31mSyntaxError\u001b[0m\u001b[1;31m:\u001b[0m non-keyword arg after keyword arg\n"
     ]
    }
   ],
   "source": [
    "print increment(a=10,5) # This will generate a Syntax error"
   ]
  },
  {
   "cell_type": "code",
   "execution_count": 16,
   "metadata": {
    "collapsed": false
   },
   "outputs": [
    {
     "name": "stdout",
     "output_type": "stream",
     "text": [
      "the value of a is :5\n",
      "7\n"
     ]
    }
   ],
   "source": [
    "print increment(5,incr1=2) \n",
    "# if you assign a value for a keyword argument \n",
    "# then other keyword arguments to its right should also be assigned values. "
   ]
  },
  {
   "cell_type": "code",
   "execution_count": 18,
   "metadata": {
    "collapsed": false
   },
   "outputs": [
    {
     "name": "stdout",
     "output_type": "stream",
     "text": [
      "<function increment at 0x033A95F0>\n"
     ]
    }
   ],
   "source": [
    "type(increment)\n",
    "print increment"
   ]
  },
  {
   "cell_type": "code",
   "execution_count": null,
   "metadata": {
    "collapsed": false
   },
   "outputs": [],
   "source": [
    "# Pass by value or pass by reference\n",
    "# http://stackoverflow.com/questions/986006/how-do-i-pass-a-variable-by-reference"
   ]
  },
  {
   "cell_type": "markdown",
   "metadata": {},
   "source": [
    "<img src=\"http://i.stack.imgur.com/hKDcu.png\">"
   ]
  },
  {
   "cell_type": "code",
   "execution_count": 3,
   "metadata": {
    "collapsed": false
   },
   "outputs": [
    {
     "name": "stdout",
     "output_type": "stream",
     "text": [
      "a =  4\n",
      "b =  2\n"
     ]
    }
   ],
   "source": [
    "def myfunc(a):# a is an int\n",
    "    a = a*2\n",
    "    print \"a = \", a\n",
    "    return a\n",
    "b = 2\n",
    "myfunc(b)\n",
    "print \"b = \", b"
   ]
  },
  {
   "cell_type": "code",
   "execution_count": 4,
   "metadata": {
    "collapsed": false
   },
   "outputs": [
    {
     "name": "stdout",
     "output_type": "stream",
     "text": [
      "a =  (4, 5, 6)\n",
      "b =  (1, 2, 3)\n"
     ]
    }
   ],
   "source": [
    "def myfunc(a):# a is a TUPLE that is completely replaced\n",
    "    a = (4, 5, 6,)\n",
    "    print \"a = \", a\n",
    "    return a\n",
    "b = (1,2,3)\n",
    "myfunc(b)\n",
    "print \"b = \", b"
   ]
  },
  {
   "cell_type": "code",
   "execution_count": 5,
   "metadata": {
    "collapsed": false
   },
   "outputs": [
    {
     "name": "stdout",
     "output_type": "stream",
     "text": [
      "a =  [4, 5, 6]\n",
      "b =  [1, 2, 3]\n"
     ]
    }
   ],
   "source": [
    "def myfunc(a):# a is a list that is completely replaced\n",
    "    a = [4,5,6]\n",
    "    print \"a = \", a\n",
    "    return a\n",
    "b = [1,2,3]\n",
    "myfunc(b)\n",
    "print \"b = \", b"
   ]
  },
  {
   "cell_type": "code",
   "execution_count": 6,
   "metadata": {
    "collapsed": false
   },
   "outputs": [
    {
     "name": "stdout",
     "output_type": "stream",
     "text": [
      "a =  [1, 2, 3, 4]\n",
      "b =  [1, 2, 3, 4]\n"
     ]
    }
   ],
   "source": [
    "def myfunc(a):# a is a LIST that is modified inline\n",
    "    a.append(4)\n",
    "    print \"a = \", a\n",
    "    return a\n",
    "b = [1,2,3]\n",
    "myfunc(b)\n",
    "print \"b = \", b"
   ]
  },
  {
   "cell_type": "code",
   "execution_count": null,
   "metadata": {
    "collapsed": false
   },
   "outputs": [],
   "source": [
    "def myfunc(a):# a is a LIST that is modified inline\n",
    "    a = a[:] \n",
    "    # Creating a deepcopy will solve the problem of pass by reference\n",
    "    a.append(4)\n",
    "    print \"a = \", a\n",
    "    return a\n",
    "b = [1,2,3]\n",
    "myfunc(b)\n",
    "print \"b = \", b"
   ]
  },
  {
   "cell_type": "code",
   "execution_count": null,
   "metadata": {
    "collapsed": false
   },
   "outputs": [],
   "source": [
    "'''\n",
    "In-class activity\n",
    "\n",
    "Create a function called squared which takes a list called mylist and \n",
    "returns another list where the elements are square of mylist. Also write \n",
    "another function that takes mylist and returns a dictionary where the key \n",
    "is the input and the value is the square of the input. \n",
    "'''\n",
    "mylist = [2, -7, 10]"
   ]
  },
  {
   "cell_type": "code",
   "execution_count": null,
   "metadata": {
    "collapsed": false
   },
   "outputs": [],
   "source": [
    "# args and kwargs helps to supply variable number of arguments to a \n",
    "# function. Inside the function, args is of type tuple.\n",
    "def take1(*args):\n",
    "    print args, type(args)\n",
    "    for i in args:\n",
    "        print i\n",
    "     \n",
    "take1(-10)\n",
    "take1(1,2,3)"
   ]
  },
  {
   "cell_type": "code",
   "execution_count": 8,
   "metadata": {
    "collapsed": false
   },
   "outputs": [
    {
     "name": "stdout",
     "output_type": "stream",
     "text": [
      "{'a': 'abe'} <type 'dict'>\n",
      "{'a': 'abe', 'b': 'cab'} <type 'dict'>\n"
     ]
    }
   ],
   "source": [
    "# kwargs is a dictionary, with the dictionary key being the variable \n",
    "# name and dictionary value is the value of that variable\n",
    "def utake(**kwargs):\n",
    "    print kwargs, type(kwargs)\n",
    "    \n",
    "utake(a = 'abe')\n",
    "utake(a = 'abe', b ='cab')"
   ]
  },
  {
   "cell_type": "code",
   "execution_count": 9,
   "metadata": {
    "collapsed": false
   },
   "outputs": [
    {
     "name": "stdout",
     "output_type": "stream",
     "text": [
      "a 7\n",
      "c 3\n",
      "b -5\n",
      "d -10\n"
     ]
    }
   ],
   "source": [
    "def ptab(**kwargs):\n",
    "    # since kwargs is a dictionary, we can iterate using items() function. \n",
    "    for key, value in kwargs.items():\n",
    "        print key, value\n",
    "\n",
    "ptab(a = 7, b = -5, c = 3, d = -10)"
   ]
  },
  {
   "cell_type": "code",
   "execution_count": null,
   "metadata": {
    "collapsed": false
   },
   "outputs": [],
   "source": [
    "'''\n",
    "In-class activity: define a function that takes a word and prints characters from the word. \n",
    "Call the function and pass a word.\n",
    "'''\n"
   ]
  },
  {
   "cell_type": "code",
   "execution_count": null,
   "metadata": {
    "collapsed": true
   },
   "outputs": [],
   "source": [
    "'''\n",
    "In-class activity: define a function that converts Fahrenheit into Celsius. The formula is \n",
    "C = (F - 32)*(5/9). Use sys in the code and pass the value when running the program from the \n",
    "command line (if Windows) or terminal (if MAC).\n",
    "'''\n"
   ]
  },
  {
   "cell_type": "code",
   "execution_count": 1,
   "metadata": {
    "collapsed": false
   },
   "outputs": [
    {
     "name": "stdout",
     "output_type": "stream",
     "text": [
      "Enter a temperature in Fahrenheit: 65\n",
      "Temperature: 65 Fahrenheit =  18.3333333333  C\n"
     ]
    }
   ],
   "source": [
    "Fahrenheit = int(raw_input(\"Enter a temperature in Fahrenheit: \"))\n",
    "\n",
    "Celsius = (Fahrenheit - 32) * 5.0/9.0\n",
    "\n",
    "print \"Temperature:\", Fahrenheit, \"Fahrenheit = \", Celsius, \" C\""
   ]
  },
  {
   "cell_type": "code",
   "execution_count": null,
   "metadata": {
    "collapsed": true
   },
   "outputs": [],
   "source": [
    "'''Simple Interest Formula , A = p*(1+(r*t/100) where p is the principal amount,\n",
    "r is the rate of interest and t is time in years and A is the total amount after t years.  \n",
    "Get p, r and t values from the user and compute A.\n",
    "\n",
    " \n",
    "\n"
   ]
  },
  {
   "cell_type": "code",
   "execution_count": null,
   "metadata": {
    "collapsed": true
   },
   "outputs": [],
   "source": [
    "def simple_interest():\n",
    "    principle=int(raw_input(\"enter the value of p\"))\n",
    "    rate=int(raw_input(\"enter the value of r\"))\n",
    "    time=int(raw_input(\"enter the the value of t\"))\n",
    "    "
   ]
  },
  {
   "cell_type": "code",
   "execution_count": null,
   "metadata": {
    "collapsed": false
   },
   "outputs": [],
   "source": [
    "\n",
    "p= (raw_input(\"enter the value of principle = \"))\n",
    "if type(p)==int:\n",
    "  print p\n",
    "else:\n",
    "    print(raw_input(\"re-enter integer\")\n",
    "\n",
    "r = (raw_input(\"enter the value of rate = \"))\n",
    "\n",
    "t = (raw_input(\"enter the value of time(years) = \"))\n",
    "Amount=p*(1+(r*t/100))\n",
    "print Amount\n",
    "    "
   ]
  },
  {
   "cell_type": "code",
   "execution_count": null,
   "metadata": {
    "collapsed": false
   },
   "outputs": [],
   "source": [
    "print \"all amounts should be in dollars!\"\n",
    "\n",
    "while True:\n",
    "P=int(raw_input(\"enter Principal:\"))\n",
    "r=int(raw_input(\"enter Percentage of interest rate:\"))\n",
    "t=int(raw_input(\"enter Time(in years):\"))\n",
    "I=P*t*(r/100)\n",
    "            print \"Interest is\", I,\"dollars\"\n",
    "    #amount=p+I\n",
    "    #print amont"
   ]
  },
  {
   "cell_type": "code",
   "execution_count": null,
   "metadata": {
    "collapsed": false
   },
   "outputs": [],
   "source": [
    "P=float(raw_input(\"enter Principal:\"))\n",
    "\ti=float(raw_input(\"enter Percentage of interest rate:\"))\n",
    "\tt=float(raw_input(\"enter Time(in years):\"))\n",
    "\tI=P*t*(i/100)\n",
    "\tprint \"Interest is\", I,\"dollars\""
   ]
  },
  {
   "cell_type": "code",
   "execution_count": null,
   "metadata": {
    "collapsed": true
   },
   "outputs": [],
   "source": []
  }
 ],
 "metadata": {
  "kernelspec": {
   "display_name": "Python 2",
   "language": "python",
   "name": "python2"
  },
  "language_info": {
   "codemirror_mode": {
    "name": "ipython",
    "version": 2
   },
   "file_extension": ".py",
   "mimetype": "text/x-python",
   "name": "python",
   "nbconvert_exporter": "python",
   "pygments_lexer": "ipython2",
   "version": "2.7.11"
  }
 },
 "nbformat": 4,
 "nbformat_minor": 0
}
