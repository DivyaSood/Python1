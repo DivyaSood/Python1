{
 "cells": [
  {
   "cell_type": "code",
   "execution_count": 1,
   "metadata": {
    "collapsed": false,
    "deletable": true,
    "editable": true
   },
   "outputs": [
    {
     "data": {
      "text/plain": [
       "'\\nError checks and other storing methods\\n1. try-except example of integer divison by zero \\n2. Pickle\\n3. Shelve \\n'"
      ]
     },
     "execution_count": 1,
     "metadata": {},
     "output_type": "execute_result"
    }
   ],
   "source": [
    "'''\n",
    "Error checks and other storing methods\n",
    "1. try-except example of integer divison by zero \n",
    "2. Pickle\n",
    "3. Shelve \n",
    "'''"
   ]
  },
  {
   "cell_type": "code",
   "execution_count": null,
   "metadata": {
    "collapsed": false,
    "deletable": true,
    "editable": true
   },
   "outputs": [],
   "source": [
    "'''\n",
    "An exception is raised when a program has an error. Error handling is used to take care of \n",
    "exceptions so that when there is no exception then the program runs smoothly and in case \n",
    "of an error, the error handler can fix the problem or handle it so that the program can \n",
    "be continued. \n",
    "\n",
    "TRY-EXCEPT is a construct that handles exceptions.\n",
    "\n",
    "http://www.python-course.eu/exception_handling.php\n",
    "\n",
    "List of Python error messages can be found at\n",
    "https://docs.python.org/2/library/exceptions.html\n",
    "'''"
   ]
  },
  {
   "cell_type": "code",
   "execution_count": 1,
   "metadata": {
    "collapsed": false,
    "deletable": true,
    "editable": true
   },
   "outputs": [
    {
     "ename": "ZeroDivisionError",
     "evalue": "integer division or modulo by zero",
     "output_type": "error",
     "traceback": [
      "\u001b[1;31m---------------------------------------------------------------------------\u001b[0m",
      "\u001b[1;31mZeroDivisionError\u001b[0m                         Traceback (most recent call last)",
      "\u001b[1;32m<ipython-input-1-44fce0738465>\u001b[0m in \u001b[0;36m<module>\u001b[1;34m()\u001b[0m\n\u001b[0;32m      1\u001b[0m \u001b[0ma\u001b[0m \u001b[1;33m=\u001b[0m \u001b[1;36m10\u001b[0m\u001b[1;33m\u001b[0m\u001b[0m\n\u001b[0;32m      2\u001b[0m \u001b[0mb\u001b[0m \u001b[1;33m=\u001b[0m \u001b[1;36m0\u001b[0m\u001b[1;33m\u001b[0m\u001b[0m\n\u001b[1;32m----> 3\u001b[1;33m \u001b[0mc\u001b[0m \u001b[1;33m=\u001b[0m \u001b[0ma\u001b[0m\u001b[1;33m/\u001b[0m\u001b[0mb\u001b[0m\u001b[1;33m\u001b[0m\u001b[0m\n\u001b[0m\u001b[0;32m      4\u001b[0m \u001b[1;32mprint\u001b[0m \u001b[0mc\u001b[0m\u001b[1;33m\u001b[0m\u001b[0m\n",
      "\u001b[1;31mZeroDivisionError\u001b[0m: integer division or modulo by zero"
     ]
    }
   ],
   "source": [
    "a = 10\n",
    "b = 0\n",
    "c = a/b\n",
    "print c"
   ]
  },
  {
   "cell_type": "code",
   "execution_count": 7,
   "metadata": {
    "collapsed": false,
    "deletable": true,
    "editable": true
   },
   "outputs": [
    {
     "name": "stdout",
     "output_type": "stream",
     "text": [
      "3.33333333333\n"
     ]
    }
   ],
   "source": [
    "a = 10.0\n",
    "b = 3\n",
    "try:\n",
    "    c = a/b\n",
    "except ZeroDivisionError:\n",
    "    c = a\n",
    "\n",
    "# Instead of quitting after encountering the ZeroDivisionError, in this case we are \n",
    "# assigning a new value to c so that the program can continue.\n",
    "print c\n",
    "    "
   ]
  },
  {
   "cell_type": "code",
   "execution_count": null,
   "metadata": {
    "collapsed": true,
    "deletable": true,
    "editable": true
   },
   "outputs": [],
   "source": []
  },
  {
   "cell_type": "code",
   "execution_count": 8,
   "metadata": {
    "collapsed": false,
    "deletable": true,
    "editable": true
   },
   "outputs": [
    {
     "name": "stdout",
     "output_type": "stream",
     "text": [
      "92384 <type 'int'>\n"
     ]
    }
   ],
   "source": [
    "a = int('92384')\n",
    "print a, type(a)\n",
    "# since the string can't be converted to an int, ValueError exception is raised"
   ]
  },
  {
   "cell_type": "code",
   "execution_count": 10,
   "metadata": {
    "collapsed": false,
    "deletable": true,
    "editable": true
   },
   "outputs": [
    {
     "name": "stdout",
     "output_type": "stream",
     "text": [
      "The error message is - Not a number.\n",
      "The error message is - Cannot divide by zero.\n",
      "out of error\n"
     ]
    }
   ],
   "source": [
    "try:\n",
    "    a = int('92384g')\n",
    "    b = 0\n",
    "    c = a/b\n",
    "except:\n",
    "    print 'The error message is - Not a number.'\n",
    "    print 'The error message is - Cannot divide by zero.'\n",
    "    print \"out of error\""
   ]
  },
  {
   "cell_type": "code",
   "execution_count": 11,
   "metadata": {
    "collapsed": false,
    "deletable": true,
    "editable": true
   },
   "outputs": [
    {
     "name": "stdout",
     "output_type": "stream",
     "text": [
      "Not a number.  The error message is invalid literal for int() with base 10: '92384g'\n"
     ]
    }
   ],
   "source": [
    "try:\n",
    "    a = int('92384g')\n",
    "    b = 12\n",
    "    c = 0\n",
    "    d = b/c\n",
    "except ValueError as v:\n",
    "    print 'Not a number.  The error message is',v\n",
    "except ZeroDivisionError as z:\n",
    "    print 'Cannot divide by zero.  The error message is',z\n",
    "    "
   ]
  },
  {
   "cell_type": "code",
   "execution_count": 14,
   "metadata": {
    "collapsed": false,
    "deletable": true,
    "editable": true
   },
   "outputs": [
    {
     "name": "stdout",
     "output_type": "stream",
     "text": [
      "Not a number.  The error message is invalid literal for int() with base 10: '92384g'\n",
      "Cannot divide by zero.  The error message is integer division or modulo by zero\n"
     ]
    }
   ],
   "source": [
    "try:\n",
    "    a = int('92384g')\n",
    "except ValueError as v:\n",
    "    print 'Not a number.  The error message is',v\n",
    "    \n",
    "b = 12\n",
    "c = 0\n",
    "try:   \n",
    "    d = b/c\n",
    "except ZeroDivisionError as z:\n",
    "    print 'Cannot divide by zero.  The error message is',z"
   ]
  },
  {
   "cell_type": "code",
   "execution_count": 17,
   "metadata": {
    "collapsed": true,
    "deletable": true,
    "editable": true
   },
   "outputs": [],
   "source": [
    "try:\n",
    "    a = int('92384')\n",
    "except ValueError as v:\n",
    "    print 'Not a number.  The error message is',v\n",
    "    \n",
    "b = 12\n",
    "c = 2\n",
    "try:   \n",
    "    d = b/c\n",
    "except ZeroDivisionError as z:\n",
    "    print 'Cannot divide by zero.  The error message is',z\n",
    "    print a\n",
    "    print d"
   ]
  },
  {
   "cell_type": "code",
   "execution_count": 8,
   "metadata": {
    "collapsed": false,
    "deletable": true,
    "editable": true
   },
   "outputs": [
    {
     "name": "stdout",
     "output_type": "stream",
     "text": [
      "is a number\n",
      "i am all done\n"
     ]
    }
   ],
   "source": [
    "'''\n",
    "try-except-else: the else clause has to placed after all the exceptions and else clause \n",
    "will be executed when the try clause doesn't raise any exceptions\n",
    "\n",
    "syntax\n",
    "\n",
    "try:\n",
    "    execute try statements\n",
    "    \n",
    "except exception1:\n",
    "    If there is exception1, then execute this block\n",
    "\n",
    "except exception2:\n",
    "    If there is exception2, then execute this block\n",
    "    \n",
    "else:\n",
    "    If there is no exception, then execute this block\n",
    "'''\n",
    "\n",
    "try:\n",
    "    a = int('92')\n",
    "except ValueError:\n",
    "    a = 10\n",
    "    print 'a is not a number. Gave a new value = ', a\n",
    "else:\n",
    "    print 'is a number'\n",
    "finally:\n",
    "    print \"i am all done\"\n",
    "    "
   ]
  },
  {
   "cell_type": "code",
   "execution_count": null,
   "metadata": {
    "collapsed": false,
    "deletable": true,
    "editable": true
   },
   "outputs": [],
   "source": [
    "''' \n",
    "To enforce clean-up or termination clauses there is try-finally or try-except-finally. \n",
    "Finally clause will be executed no matter whether an exception occurs or not.\n",
    "\n",
    "syntax\n",
    "\n",
    "try:\n",
    "    execute statements\n",
    "    \n",
    "    if an exception occurs, then this may be skipped\n",
    "    \n",
    "except e1:\n",
    "    statement to execute if there is an exception\n",
    "    \n",
    "finally:\n",
    "    this will always be executed\n",
    "\n",
    "'''"
   ]
  },
  {
   "cell_type": "code",
   "execution_count": 9,
   "metadata": {
    "collapsed": false,
    "deletable": true,
    "editable": true
   },
   "outputs": [
    {
     "name": "stdout",
     "output_type": "stream",
     "text": [
      "File not found.\n",
      "There is no file by this name.\n"
     ]
    }
   ],
   "source": [
    "try:\n",
    "    f = open(\"test1.txt\",\"r\")\n",
    "    f.write(\"name, age, address\")\n",
    "    \n",
    "except IOError:\n",
    "    print \"File not found.\"\n",
    "    \n",
    "finally:\n",
    "    print \"There is no file by this name.\""
   ]
  },
  {
   "cell_type": "code",
   "execution_count": null,
   "metadata": {
    "collapsed": false,
    "deletable": true,
    "editable": true
   },
   "outputs": [],
   "source": [
    "'''\n",
    "Note - the major difference between else clause and finally clause is that else clause \n",
    "will get executed only when no exceptions are raised. Whereas finally clause gets \n",
    "executed no matter whether an exception is raised or not. \n",
    "'''"
   ]
  },
  {
   "cell_type": "code",
   "execution_count": 10,
   "metadata": {
    "collapsed": false,
    "deletable": true,
    "editable": true
   },
   "outputs": [
    {
     "name": "stdout",
     "output_type": "stream",
     "text": [
      "10\n"
     ]
    }
   ],
   "source": [
    "a = 10\n",
    "b = 0\n",
    "try:\n",
    "    c = a/b\n",
    "except ZeroDivisionError:\n",
    "    c = a\n",
    "finally:\n",
    "    print c"
   ]
  },
  {
   "cell_type": "code",
   "execution_count": 16,
   "metadata": {
    "collapsed": false,
    "deletable": true,
    "editable": true
   },
   "outputs": [
    {
     "name": "stdout",
     "output_type": "stream",
     "text": [
      "Too Large\n"
     ]
    }
   ],
   "source": [
    "#  Raising custom exceptions\n",
    "# Stored in one file\n",
    "class TooSmallError(Exception):\n",
    "    pass\n",
    "\n",
    "class TooLargeError(Exception):\n",
    "    pass\n",
    "\n",
    "def checkval(val,limit):\n",
    "    if val < limit:\n",
    "        raise TooSmallError\n",
    "    else:\n",
    "        raise TooLargeError\n",
    "        \n",
    "# Stored in another file\n",
    "limit = 100\n",
    "try:\n",
    "    a = 150\n",
    "    checkval(a,limit)\n",
    "except TooSmallError:\n",
    "    print \"Too Small\"\n",
    "except TooLargeError:\n",
    "    print \"Too Large\"    "
   ]
  },
  {
   "cell_type": "code",
   "execution_count": 46,
   "metadata": {
    "collapsed": false,
    "deletable": true,
    "editable": true
   },
   "outputs": [
    {
     "name": "stdout",
     "output_type": "stream",
     "text": [
      "Too Small\n"
     ]
    }
   ],
   "source": [
    "#  Raising custom exceptions\n",
    "# Stored in one file\n",
    "class TooSmallError(Exception):\n",
    "    pass\n",
    "\n",
    "class TooLargeError(Exception):\n",
    "    pass\n",
    "\n",
    "def checkval(val):\n",
    "    if val < 5:\n",
    "        raise TooSmallError\n",
    "    elif val > 25:\n",
    "        raise TooLargeError\n",
    "        \n",
    "# Stored in another file\n",
    "\n",
    "try:\n",
    "    a = 4\n",
    "    checkval(a)\n",
    "except TooSmallError:\n",
    "    print \"Too Small\"\n",
    "except TooLargeError:\n",
    "    print \"Too Large\"    "
   ]
  },
  {
   "cell_type": "code",
   "execution_count": null,
   "metadata": {
    "collapsed": true,
    "deletable": true,
    "editable": true
   },
   "outputs": [],
   "source": [
    "'''Compute 2^x where x is the user input. x should be greater than or equal to 5 and\n",
    "less than or equal to 25. If the user input is not an integer then\n",
    "raise an exception. Create custom exceptions and raise if\n",
    "x is less than 5 and greater than 25.\n",
    "Then add the digits of 2^x. For example if user inputs 6, then find 2^6 = 64, so the sum of the digits is\n",
    "6 + 4 = 10.'''\n",
    "\n"
   ]
  },
  {
   "cell_type": "code",
   "execution_count": 52,
   "metadata": {
    "collapsed": false,
    "deletable": true,
    "editable": true
   },
   "outputs": [
    {
     "name": "stdout",
     "output_type": "stream",
     "text": [
      "enter a the value of x= ii\n",
      "x is not an integer\n"
     ]
    }
   ],
   "source": [
    "# power of 2 function\n",
    "def pow2(x):\n",
    "    return 2 ** x\n",
    "\n",
    "# sum of digits function\n",
    "def sum_digits(a):\n",
    "    s=0\n",
    "    while(a > 0):\n",
    "        s += a % 10\n",
    "        a //= 10\n",
    "    return s\n",
    "\n",
    "#raising custom exception\n",
    "class LessThan5(Exception):\n",
    "    pass\n",
    "\n",
    "class GreaterThan25(Exception):\n",
    "    pass\n",
    "\n",
    "def checkval(val):\n",
    "    if val < 5:\n",
    "        raise LessThan5\n",
    "    elif val > 25:\n",
    "        raise GreaterThan25\n",
    "    \n",
    "\n",
    "#start of main code \n",
    "#raising an exception\n",
    "try:\n",
    "    x=[]\n",
    "    x=int(raw_input(\"enter a the value of x= \"))\n",
    "    checkval(x)\n",
    "except ValueError:\n",
    "    print \"x is not an integer\"\n",
    "except LessThan5:\n",
    "    print \"enter value >= 5 \"\n",
    "except GreaterThan25:\n",
    "    print \"enter value <= 25 \"    \n",
    "else:\n",
    "    print \"x is an integer\"\n",
    "    print x\n",
    "    power = pow2(x)\n",
    "    print power\n",
    "    print sum_digits(power)\n",
    "    \n",
    "\n",
    "\n",
    "\n",
    "\n",
    "        \n",
    "\n"
   ]
  },
  {
   "cell_type": "code",
   "execution_count": null,
   "metadata": {
    "collapsed": true,
    "deletable": true,
    "editable": true
   },
   "outputs": [],
   "source": [
    "You are given a string\n",
    "\n",
    "\n",
    "WWWWWWWWWWWWBWWWWWWWWWWWWBBBWWWWWWWWWWWWWWWWWWWWWWWWBWWWWWWWWWWWWWW.\n",
    "\n",
    "This string has 67 characters. You need to write a Python program with a function called getcompressedstring to\n",
    "convert this string to 12W1B12W3B24W1B14W. The new string is created\n",
    "by calculating the number of times a character appears consecutively and\n",
    "\n",
    "placing the character next to it. The new string only needs 18 characters,\n",
    "thus compressing the original string by 73%.\n",
    "\n",
    " "
   ]
  },
  {
   "cell_type": "code",
   "execution_count": 2,
   "metadata": {
    "collapsed": false,
    "deletable": true,
    "editable": true
   },
   "outputs": [
    {
     "name": "stdout",
     "output_type": "stream",
     "text": [
      "12\n",
      "1\n",
      "12\n",
      "3\n",
      "24\n",
      "1\n",
      "14\n"
     ]
    }
   ],
   "source": [
    "# function to compress string\n",
    "\n",
    "\n",
    "#def getcompressedstring:\n",
    "    \n",
    "# main code\n",
    "s = \"WWWWWWWWWWWWBWWWWWWWWWWWWBBBWWWWWWWWWWWWWWWWWWWWWWWWBWWWWWWWWWWWWWW\" \n",
    "val = 0\n",
    "firstChar = s[0]\n",
    "for i in range(1,len(s)):\n",
    "    \n",
    "    nextChar = s[i]\n",
    "    \n",
    "    if firstChar == nextChar :\n",
    "        val += 1\n",
    "\n",
    "    else :\n",
    "        val += 1\n",
    "        print val\n",
    "        val = 0\n",
    "        firstChar = nextChar\n",
    "        \n",
    "\n",
    "val+=1\n",
    "\n",
    "print val"
   ]
  },
  {
   "cell_type": "code",
   "execution_count": 65,
   "metadata": {
    "collapsed": false,
    "deletable": true,
    "editable": true
   },
   "outputs": [
    {
     "data": {
      "text/plain": [
       "'\\nA pickle converts Python objects to bytes that can be stored or transmitted (not secure). \\nThe CPickle module implemented using C is faster than pickle that is implemented using \\nPython. Pickle can handle unicode objects. A \\xe2\\x80\\x9cshelf\\xe2\\x80\\x9d is a persistent, dictionary-like \\nobject. Check out the following links to learn more \\nhttps://freepythontips.wordpress.com/2013/08/02/what-is-pickle-in-python/\\n'"
      ]
     },
     "execution_count": 65,
     "metadata": {},
     "output_type": "execute_result"
    }
   ],
   "source": [
    "'''\n",
    "A pickle converts Python objects to bytes that can be stored or transmitted (not secure). \n",
    "The CPickle module implemented using C is faster than pickle that is implemented using \n",
    "Python. Pickle can handle unicode objects. A “shelf” is a persistent, dictionary-like \n",
    "object. Check out the following links to learn more \n",
    "https://freepythontips.wordpress.com/2013/08/02/what-is-pickle-in-python/\n",
    "'''"
   ]
  },
  {
   "cell_type": "code",
   "execution_count": 3,
   "metadata": {
    "collapsed": false,
    "deletable": true,
    "editable": true
   },
   "outputs": [],
   "source": [
    "try:\n",
    "   import cPickle as pickle\n",
    "except:\n",
    "   import pickle"
   ]
  },
  {
   "cell_type": "code",
   "execution_count": 4,
   "metadata": {
    "collapsed": false,
    "deletable": true,
    "editable": true
   },
   "outputs": [
    {
     "name": "stdout",
     "output_type": "stream",
     "text": [
      "Read values are: [{'a': '1', 'c': 3, 'b': 2}]\n",
      "{'e': 5, 'd': 4}\n"
     ]
    }
   ],
   "source": [
    "d1 = [ { 'a':'1', 'b':2, 'c':3 } ]\n",
    "d2 = {'d':4,'e':5}\n",
    "\n",
    "f = open('pickle.ck','wb')#extension dosenot matter. W mean to write in binary form.\n",
    "pickle.dump(d1,f) # this command dumps d1 into the file pickle.ck\n",
    "pickle.dump(d2,f) # this command dumps d2 into the file pickle.ck\n",
    "f.close()\n",
    "\n",
    "f = open('pickle.ck','rb')\n",
    "nd1 = pickle.load(f)\n",
    "nd2 = pickle.load(f)\n",
    "f.close()\n",
    "\n",
    "print 'Read values are:',\n",
    "print nd1\n",
    "print nd2"
   ]
  },
  {
   "cell_type": "code",
   "execution_count": 5,
   "metadata": {
    "collapsed": false,
    "deletable": true,
    "editable": true
   },
   "outputs": [
    {
     "name": "stdout",
     "output_type": "stream",
     "text": [
      "[{'a': '1', 'c': 3, 'b': 2}]\n",
      "{'e': 5, 'd': 4}\n"
     ]
    }
   ],
   "source": [
    "f = open('pickle.ck','rb')\n",
    "n1 = pickle.load(f)\n",
    "print n1\n",
    "n2 = pickle.load(f)\n",
    "print n2\n",
    "# We have read all the information that needs to be read.  This will \n",
    "# give an error \n",
    "#n3 = pickle.load(f) \n",
    "f.close()"
   ]
  },
  {
   "cell_type": "code",
   "execution_count": 6,
   "metadata": {
    "collapsed": false,
    "deletable": true,
    "editable": true
   },
   "outputs": [],
   "source": [
    "t1 = (-2,4,10,)\n",
    "f = open('pickle.ck','wb')\n",
    "pickle.dump(t1,f)"
   ]
  },
  {
   "cell_type": "code",
   "execution_count": 7,
   "metadata": {
    "collapsed": false,
    "deletable": true,
    "editable": true
   },
   "outputs": [
    {
     "name": "stdout",
     "output_type": "stream",
     "text": [
      "(-2, 4, 10)\n"
     ]
    }
   ],
   "source": [
    "f = open('pickle.ck','rb')\n",
    "nt1 = pickle.load(f)\n",
    "print nt1"
   ]
  },
  {
   "cell_type": "code",
   "execution_count": null,
   "metadata": {
    "collapsed": true,
    "deletable": true,
    "editable": true
   },
   "outputs": [],
   "source": [
    "'''\n",
    "In-class activity on pickle - create a class called studentcourse. The \n",
    "class has to take the information: student name, year in college \n",
    "(freshman, sophomore, junior or senior) and two courses. Create two instances of a class. \n",
    "Now store the information \n",
    "in a pickle file. The open the pickle file and print the contents. \n",
    "'''"
   ]
  },
  {
   "cell_type": "code",
   "execution_count": 8,
   "metadata": {
    "collapsed": false,
    "deletable": true,
    "editable": true
   },
   "outputs": [
    {
     "name": "stdout",
     "output_type": "stream",
     "text": [
      "ben senior maths chem\n",
      "chu junior geo bio\n"
     ]
    }
   ],
   "source": [
    "try:\n",
    "    import cpickle as pickle\n",
    "except:\n",
    "    import pickle\n",
    "class studentcourse:\n",
    "    def __init__(self,name,year,course1,course2):\n",
    "        self.name=name\n",
    "        self.year=year\n",
    "        self.course1=course1\n",
    "        self.course2=course2\n",
    "s1=studentcourse(\"ben\",\"senior\",\"maths\",\"chem\")\n",
    "s2=studentcourse(\"chu\",\"junior\",\"geo\",\"bio\")\n",
    "f=open(\"pickle.rv\",\"wb\")\n",
    "pickle.dump(s1,f)\n",
    "pickle.dump(s2,f)\n",
    "f.close()\n",
    "f = open('pickle.rv','rb')\n",
    "n1 = pickle.load(f)\n",
    "n2 = pickle.load(f)\n",
    "f.close()\n",
    "print n1.name,n1.year,n1.course1,n1.course2\n",
    "print n2.name,n2.year,n2.course1,n2.course2\n"
   ]
  },
  {
   "cell_type": "code",
   "execution_count": null,
   "metadata": {
    "collapsed": false,
    "deletable": true,
    "editable": true
   },
   "outputs": [],
   "source": [
    "'''\n",
    "Shelve module can be used to store and retrieve Python objects easily.\n",
    "Shelve uses anydbm to store the data. Check out the following link \n",
    "for more information.\n",
    "http://pymotw.com/2/shelve/\n",
    "'''"
   ]
  },
  {
   "cell_type": "code",
   "execution_count": 9,
   "metadata": {
    "collapsed": false,
    "deletable": true,
    "editable": true
   },
   "outputs": [
    {
     "name": "stdout",
     "output_type": "stream",
     "text": [
      "{'f1': [{'a': '1', 'c': 3, 'b': 2}], 'second': ['apple', 'mango', 'pineapple'], 'first': {'a': '1', 'c': 3, 'b': 2}}\n"
     ]
    }
   ],
   "source": [
    "import shelve\n",
    "md = { 'a':'1', 'b':2, 'c':3 }\n",
    "mlist = ['apple', 'mango', 'pineapple']\n",
    "s = shelve.open('fruit.sv') # opens the shelve\n",
    "try:\n",
    "    s['first'] = md\n",
    "    s['second'] = mlist\n",
    "finally:\n",
    "    print s\n",
    "    s.close()"
   ]
  },
  {
   "cell_type": "code",
   "execution_count": 10,
   "metadata": {
    "collapsed": false,
    "deletable": true,
    "editable": true
   },
   "outputs": [
    {
     "name": "stdout",
     "output_type": "stream",
     "text": [
      "{'a': '1', 'c': 3, 'b': 2}\n"
     ]
    }
   ],
   "source": [
    "import shelve\n",
    "s = shelve.open('fruit.sv','r')\n",
    "try:\n",
    "    nd = s['first']\n",
    "finally:\n",
    "    s.close()\n",
    "print nd"
   ]
  },
  {
   "cell_type": "code",
   "execution_count": 11,
   "metadata": {
    "collapsed": false,
    "deletable": true,
    "editable": true
   },
   "outputs": [],
   "source": [
    "import shelve\n",
    "md1 = [ { 'a':'1', 'b':2, 'c':3 } ]\n",
    "# Write back uses in-memory cache. All items in cache are written to the shelve \n",
    "# when it is closed.\n",
    "s = shelve.open('fruit.sv',writeback=True)\n",
    "try:\n",
    "    s['f1'] = md1\n",
    "finally:\n",
    "    s.close()"
   ]
  },
  {
   "cell_type": "code",
   "execution_count": 12,
   "metadata": {
    "collapsed": false,
    "deletable": true,
    "editable": true
   },
   "outputs": [
    {
     "name": "stdout",
     "output_type": "stream",
     "text": [
      "['apple', 'mango', 'pineapple']\n"
     ]
    }
   ],
   "source": [
    "import shelve\n",
    "s = shelve.open('fruit.sv')\n",
    "if 'second' in s: # we are checking if the key second exists\n",
    "    print s['second']"
   ]
  },
  {
   "cell_type": "code",
   "execution_count": 10,
   "metadata": {
    "collapsed": false,
    "deletable": true,
    "editable": true
   },
   "outputs": [
    {
     "name": "stdout",
     "output_type": "stream",
     "text": [
      "[{'a': '1', 'c': 3, 'b': 2}]\n"
     ]
    }
   ],
   "source": [
    "import shelve\n",
    "s = shelve.open('fruit.sv')\n",
    "if 'f1' in s: # we are checking if the key f1 exists\n",
    "    print s['f1']"
   ]
  },
  {
   "cell_type": "code",
   "execution_count": null,
   "metadata": {
    "collapsed": false,
    "deletable": true,
    "editable": true
   },
   "outputs": [],
   "source": [
    "'''\n",
    "Note - the major difference between pickle and shelve is that pickle \n",
    "stores the objects one at a time and objects can only be retrieved in \n",
    "the order they were written. Whereas objects in shelve can be \n",
    "accessed in any order. \n",
    "'''"
   ]
  },
  {
   "cell_type": "code",
   "execution_count": null,
   "metadata": {
    "collapsed": false,
    "deletable": true,
    "editable": true
   },
   "outputs": [],
   "source": [
    "'''\n",
    "In-class activity for custom exception\n",
    "\n",
    "You should ask user to input coefficients of a quadratic as a tuple. \n",
    "Then you check to see if the first coefficient is zero. If it is, \n",
    "then you should raise a custom exception. So you should write a \n",
    "custom exception class called CoeffZeroError. \n",
    "'''"
   ]
  }
 ],
 "metadata": {
  "kernelspec": {
   "display_name": "Python 2",
   "language": "python",
   "name": "python2"
  },
  "language_info": {
   "codemirror_mode": {
    "name": "ipython",
    "version": 2
   },
   "file_extension": ".py",
   "mimetype": "text/x-python",
   "name": "python",
   "nbconvert_exporter": "python",
   "pygments_lexer": "ipython2",
   "version": "2.7.13"
  }
 },
 "nbformat": 4,
 "nbformat_minor": 0
}
