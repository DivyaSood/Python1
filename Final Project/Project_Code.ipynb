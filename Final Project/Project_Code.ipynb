{
 "cells": [
  {
   "cell_type": "code",
   "execution_count": null,
   "metadata": {
    "collapsed": true,
    "deletable": true,
    "editable": true
   },
   "outputs": [],
   "source": [
    "# importing of Python Modules Required\n",
    "import csv\n",
    "import matplotlib.pyplot as plt\n",
    "#%matplotlib inline    \n",
    "import numpy as np\n",
    "from sklearn import linear_model\n",
    "import re\n",
    "#function\n",
    "def predict_price(Matrix1,y,lst8,subplotInstance,titleInstance):\n",
    "    lm=linear_model.LinearRegression()\n",
    "    plt.subplot(2,1,subplotInstance)\n",
    "    lm.fit(Matrix1,y)\n",
    "    x_test=[[0],[200],[341],[365]]\n",
    "    y_predict=lm.predict(x_test)\n",
    "    x_test2=[[365]]\n",
    "    y_predict2=lm.predict(x_test2)\n",
    "    print \"Predited value after 4 years in \" +  titleInstance ,y_predict2\n",
    "    plt.scatter(lst8,y,color='blue')\n",
    "    plt.plot(x_test,y_predict,color='red',linewidth=1.5)\n",
    "    plt.title('House price for ' +  titleInstance)\n",
    "    plt.ylabel('House prices($)')\n",
    "#Main Code\n",
    "lst1=[]\n",
    "lst2=[]\n",
    "lst3=[]\n",
    "input_file=csv.DictReader(open(\"HousepricesinCalifornia2.csv\"))\n",
    "for line in input_file:\n",
    "    lst1.append(line['Alameda'])\n",
    "    lst2.append(line['Mon-Yr'])\n",
    "    lst3.append(line['Butte'])\n",
    "#print \"House prices in Alameda=\",lst1\n",
    "#print \"House price in Butte=\",lst3\n",
    "#use of regular expression\n",
    "lst5 = [re.sub(\"[a-zA-Z$,]\", \"\", elem) for elem in lst1] #removing of all the variables and special chracters\n",
    "lst6 = [re.sub(\"[a-zA-Z$,]\", \"\", elem) for elem in lst3] #removing of all the variables and special chracters\n",
    "print \"Formated List of Prices in Alameda = \",lst5 \n",
    "\n",
    "print \"Formated List Pf Prices In Butte = \",lst6\n",
    "\n",
    "y1=np.array(lst5).astype(np.float)\n",
    "y2=np.array(lst6).astype(np.float)\n",
    "#print y1,y2\n",
    "\n",
    "#use of list comprehension\n",
    "lst7=[x for x in range (len(lst2))]\n",
    "#print \"month-yr of Alameda\",lst7\n",
    "lst8=[lst7]\n",
    "print \"Month-Year varriation on x-axis for both counties\",lst8\n",
    "\n",
    "x1= np.asarray(lst8)\n",
    "#print x1\n",
    "\n",
    "Matrix1=np.matrix.transpose(x1)\n",
    "#print \"value of Matrix1= \",Matrix1\n",
    "#call function to predict future price\n",
    "predict_price(Matrix1,y1,lst8,1, 'Alameda')\n",
    "predict_price(Matrix1,y2,lst8,2, 'Butte')\n",
    "plt.xlabel('Mon-yr(1990-2016)')\n",
    "plt.show()\n"
   ]
  },
  {
   "cell_type": "code",
   "execution_count": null,
   "metadata": {
    "collapsed": true,
    "deletable": true,
    "editable": true
   },
   "outputs": [],
   "source": []
  }
 ],
 "metadata": {
  "kernelspec": {
   "display_name": "Python 2",
   "language": "python",
   "name": "python2"
  },
  "language_info": {
   "codemirror_mode": {
    "name": "ipython",
    "version": 2
   },
   "file_extension": ".py",
   "mimetype": "text/x-python",
   "name": "python",
   "nbconvert_exporter": "python",
   "pygments_lexer": "ipython2",
   "version": "2.7.13"
  }
 },
 "nbformat": 4,
 "nbformat_minor": 0
}
