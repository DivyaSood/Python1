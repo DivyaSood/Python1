{
 "cells": [
  {
   "cell_type": "code",
   "execution_count": 34,
   "metadata": {
    "collapsed": false
   },
   "outputs": [
    {
     "name": "stdout",
     "output_type": "stream",
     "text": [
      "['A,B,C,D']\n",
      "['16,3,19,5']\n",
      "['18,2,14,1']\n",
      "['20,1,16,3']\n",
      "['11,1,13,1']\n",
      "['19,4,18,3']\n",
      "['14,2,12,1']\n",
      "['15,3,20,4']\n",
      "['13,2,11,2']\n",
      "['12,3,15,2']\n",
      "['17,4,17,3']\n"
     ]
    },
    {
     "ename": "AttributeError",
     "evalue": "'module' object has no attribute 'load_exgrade'",
     "output_type": "error",
     "traceback": [
      "\u001b[1;31m---------------------------------------------------------------------------\u001b[0m",
      "\u001b[1;31mAttributeError\u001b[0m                            Traceback (most recent call last)",
      "\u001b[1;32m<ipython-input-34-ecc58836e2fe>\u001b[0m in \u001b[0;36m<module>\u001b[1;34m()\u001b[0m\n\u001b[0;32m      9\u001b[0m         \u001b[1;32mprint\u001b[0m \u001b[0mrow\u001b[0m\u001b[1;33m\u001b[0m\u001b[0m\n\u001b[0;32m     10\u001b[0m \u001b[1;32mfrom\u001b[0m \u001b[0msklearn\u001b[0m \u001b[1;32mimport\u001b[0m \u001b[0mdatasets\u001b[0m\u001b[1;33m\u001b[0m\u001b[0m\n\u001b[1;32m---> 11\u001b[1;33m \u001b[0mexgrade\u001b[0m\u001b[1;33m=\u001b[0m \u001b[0mdatasets\u001b[0m\u001b[1;33m.\u001b[0m\u001b[0mload_exgrade\u001b[0m\u001b[1;33m(\u001b[0m\u001b[1;33m)\u001b[0m\u001b[1;33m\u001b[0m\u001b[0m\n\u001b[0m\u001b[0;32m     12\u001b[0m \u001b[1;33m\u001b[0m\u001b[0m\n\u001b[0;32m     13\u001b[0m \u001b[1;32mprint\u001b[0m \u001b[0mexgrade\u001b[0m\u001b[1;33m\u001b[0m\u001b[0m\n",
      "\u001b[1;31mAttributeError\u001b[0m: 'module' object has no attribute 'load_exgrade'"
     ]
    }
   ],
   "source": [
    "import numpy as np\n",
    "import csv\n",
    "import scipy.stats as stats\n",
    "import matplotlib.pyplot as plt\n",
    "import sklearn\n",
    "with open(\"exgrade.csv\", 'rb') as f:\n",
    "    alllines = csv.reader(f,delimiter=';')\n",
    "    for row in alllines:\n",
    "        print row \n",
    "from sklearn import datasets\n",
    "exgrade= datasets.load_exgrade()\n",
    "\n",
    "print exgrade"
   ]
  },
  {
   "cell_type": "code",
   "execution_count": 14,
   "metadata": {
    "collapsed": false
   },
   "outputs": [
    {
     "ename": "NameError",
     "evalue": "name 'exgrade' is not defined",
     "output_type": "error",
     "traceback": [
      "\u001b[1;31m---------------------------------------------------------------------------\u001b[0m",
      "\u001b[1;31mNameError\u001b[0m                                 Traceback (most recent call last)",
      "\u001b[1;32m<ipython-input-14-1e1636c39c99>\u001b[0m in \u001b[0;36m<module>\u001b[1;34m()\u001b[0m\n\u001b[0;32m      1\u001b[0m \u001b[1;32mimport\u001b[0m \u001b[0mcsv\u001b[0m\u001b[1;33m\u001b[0m\u001b[0m\n\u001b[0;32m      2\u001b[0m \u001b[1;32mwith\u001b[0m \u001b[0mopen\u001b[0m\u001b[1;33m(\u001b[0m\u001b[1;34m'exgrade.csv'\u001b[0m\u001b[1;33m,\u001b[0m\u001b[1;34m'r'\u001b[0m\u001b[1;33m)\u001b[0m \u001b[1;32mas\u001b[0m \u001b[0mcsvfile\u001b[0m\u001b[1;33m:\u001b[0m\u001b[1;33m\u001b[0m\u001b[0m\n\u001b[1;32m----> 3\u001b[1;33m          \u001b[0mreader\u001b[0m \u001b[1;33m=\u001b[0m \u001b[0mcsv\u001b[0m\u001b[1;33m.\u001b[0m\u001b[0mDictReader\u001b[0m\u001b[1;33m(\u001b[0m\u001b[0mexgrade\u001b[0m\u001b[1;33m.\u001b[0m\u001b[0mcsv\u001b[0m\u001b[1;33m)\u001b[0m\u001b[1;33m\u001b[0m\u001b[0m\n\u001b[0m\u001b[0;32m      4\u001b[0m \u001b[1;32mfor\u001b[0m \u001b[0mrow\u001b[0m \u001b[1;32min\u001b[0m \u001b[0mreader\u001b[0m\u001b[1;33m:\u001b[0m\u001b[1;33m\u001b[0m\u001b[0m\n\u001b[0;32m      5\u001b[0m         \u001b[1;32mprint\u001b[0m\u001b[1;33m(\u001b[0m\u001b[0mrow\u001b[0m\u001b[1;33m[\u001b[0m\u001b[1;34m'first_name'\u001b[0m\u001b[1;33m]\u001b[0m\u001b[1;33m,\u001b[0m \u001b[0mrow\u001b[0m\u001b[1;33m[\u001b[0m\u001b[1;34m'last_name'\u001b[0m\u001b[1;33m]\u001b[0m\u001b[1;33m)\u001b[0m\u001b[1;33m\u001b[0m\u001b[0m\n",
      "\u001b[1;31mNameError\u001b[0m: name 'exgrade' is not defined"
     ]
    }
   ],
   "source": [
    "import csv\n",
    "with open('exgrade.csv','r') as csvfile:\n",
    "         reader = csv.DictReader(exgrade.csv)\n",
    "for row in reader:        \n",
    "        print(row['first_name'], row['last_name'])\n"
   ]
  },
  {
   "cell_type": "code",
   "execution_count": 2,
   "metadata": {
    "collapsed": false
   },
   "outputs": [
    {
     "ename": "NameError",
     "evalue": "name 'exgrade' is not defined",
     "output_type": "error",
     "traceback": [
      "\u001b[1;31m---------------------------------------------------------------------------\u001b[0m",
      "\u001b[1;31mNameError\u001b[0m                                 Traceback (most recent call last)",
      "\u001b[1;32m<ipython-input-2-0f1891a8d0a0>\u001b[0m in \u001b[0;36m<module>\u001b[1;34m()\u001b[0m\n\u001b[0;32m      1\u001b[0m \u001b[0mf\u001b[0m \u001b[1;33m=\u001b[0m \u001b[0mopen\u001b[0m\u001b[1;33m(\u001b[0m\u001b[1;34m\"exgrade.csv\"\u001b[0m\u001b[1;33m,\u001b[0m \u001b[1;34m\"rU\"\u001b[0m\u001b[1;33m)\u001b[0m\u001b[1;33m\u001b[0m\u001b[0m\n\u001b[1;32m----> 2\u001b[1;33m \u001b[0mreader\u001b[0m \u001b[1;33m=\u001b[0m \u001b[0mexgrade\u001b[0m\u001b[1;33m.\u001b[0m\u001b[0mcsv\u001b[0m\u001b[1;33m.\u001b[0m\u001b[0mreader\u001b[0m\u001b[1;33m(\u001b[0m\u001b[0mf\u001b[0m\u001b[1;33m)\u001b[0m\u001b[1;33m\u001b[0m\u001b[0m\n\u001b[0m\u001b[0;32m      3\u001b[0m \u001b[0mdata\u001b[0m \u001b[1;33m=\u001b[0m \u001b[1;33m[\u001b[0m\u001b[0mrow\u001b[0m \u001b[1;32mfor\u001b[0m \u001b[0mrow\u001b[0m \u001b[1;32min\u001b[0m \u001b[0mreader\u001b[0m\u001b[1;33m]\u001b[0m \u001b[1;31m#This only works if you have enough memory to do so\u001b[0m\u001b[1;33m\u001b[0m\u001b[0m\n\u001b[0;32m      4\u001b[0m set_highest_ten = set(row[32] for row in sorted(\n\u001b[0;32m      5\u001b[0m                                       data, key = lambda x: x[32], reverse = True)[0:10])\n",
      "\u001b[1;31mNameError\u001b[0m: name 'exgrade' is not defined"
     ]
    }
   ],
   "source": [
    "f = open(\"exgrade.csv\", \"rU\")\n",
    "reader = exgrade.csv.reader(f)\n",
    "data = [row for row in reader] #This only works if you have enough memory to do so\n",
    "set_highest_ten = set(row[32] for row in sorted(\n",
    "                                      data, key = lambda x: x[32], reverse = True)[0:10])\n",
    "d = dict((row[10], (row[11], row[8], row[32])) for row in data\n",
    "                                                       if row[32] in set_highest_ten)"
   ]
  },
  {
   "cell_type": "code",
   "execution_count": 1,
   "metadata": {
    "collapsed": false
   },
   "outputs": [
    {
     "name": "stdout",
     "output_type": "stream",
     "text": [
      "1: ['A', 'B', 'C', 'D']\n",
      "2: ['16', '3', '19', '5']\n",
      "3: ['18', '2', '14', '1']\n",
      "4: ['20', '1', '16', '3']\n",
      "5: ['11', '1', '13', '1']\n",
      "6: ['19', '4', '18', '3']\n",
      "7: ['14', '2', '12', '1']\n",
      "8: ['15', '3', '20', '4']\n",
      "9: ['13', '2', '11', '2']\n",
      "10: ['12', '3', '15', '2']\n",
      "11: ['17', '4', '17', '3']\n"
     ]
    }
   ],
   "source": [
    "import csv\n",
    "reader = csv.reader( open( 'exgrade.csv', 'rb'), delimiter=',' )\n",
    "#Iterate over each row\n",
    "for idx,row in enumerate(reader):\n",
    "    print \"%s: %s\"%(idx+1,row)"
   ]
  },
  {
   "cell_type": "code",
   "execution_count": 6,
   "metadata": {
    "collapsed": false
   },
   "outputs": [
    {
     "name": "stderr",
     "output_type": "stream",
     "text": [
      "C:\\Users\\hello\\AppData\\Local\\Enthought\\Canopy32\\User\\lib\\site-packages\\sklearn\\utils\\validation.py:386: DeprecationWarning: Passing 1d arrays as data is deprecated in 0.17 and willraise ValueError in 0.19. Reshape your data either using X.reshape(-1, 1) if your data has a single feature or X.reshape(1, -1) if it contains a single sample.\n",
      "  DeprecationWarning)\n",
      "C:\\Users\\hello\\AppData\\Local\\Enthought\\Canopy32\\User\\lib\\site-packages\\sklearn\\utils\\validation.py:386: DeprecationWarning: Passing 1d arrays as data is deprecated in 0.17 and willraise ValueError in 0.19. Reshape your data either using X.reshape(-1, 1) if your data has a single feature or X.reshape(1, -1) if it contains a single sample.\n",
      "  DeprecationWarning)\n"
     ]
    }
   ],
   "source": [
    "from sklearn.linear_model import LinearRegression\n",
    "\n",
    "X = [5]  # put your dates in here\n",
    "y = [7]  # put your kwh in here\n",
    "\n",
    "model = LinearRegression()\n",
    "model.fit(X, y)\n",
    "\n",
    "X_predict = [2]  # put the dates of which you want to predict kwh here\n",
    "y_predict = model.predict(X_predict)"
   ]
  },
  {
   "cell_type": "code",
   "execution_count": 3,
   "metadata": {
    "collapsed": false
   },
   "outputs": [
    {
     "data": {
      "text/plain": [
       "[<matplotlib.lines.Line2D at 0x6203450>,\n",
       " <matplotlib.lines.Line2D at 0x62033f0>]"
      ]
     },
     "execution_count": 3,
     "metadata": {},
     "output_type": "execute_result"
    }
   ],
   "source": [
    "import numpy as np\n",
    "import matplotlib.pyplot as plt\n",
    "\n",
    "x = [1,2,3,4]\n",
    "y = [3,5,7,10] # 10, not 9, so the fit isn't perfect\n",
    "\n",
    "fit = np.polyfit(x,y,1)\n",
    "fit_fn = np.poly1d(fit) \n",
    "# fit_fn is now a function which takes in x and returns an estimate for y\n",
    "\n",
    "plt.plot(x,y, 'yo', x, fit_fn(x), '--k')\n",
    "#plt.xlim(0, 5)\n",
    "#plt.ylim(0, 12)"
   ]
  },
  {
   "cell_type": "code",
   "execution_count": 17,
   "metadata": {
    "collapsed": false
   },
   "outputs": [
    {
     "name": "stdout",
     "output_type": "stream",
     "text": [
      " 1. A,B,C,D\n",
      " 2. 16,3,19,5\n",
      " 3. 18,2,14,1\n",
      " 4. 20,1,16,3\n",
      " 5. 11,1,13,1\n",
      " 6. 19,4,18,3\n",
      " 7. 14,2,12,1\n",
      " 8. 15,3,20,4\n",
      " 9. 13,2,11,2\n",
      "10. 12,3,15,2\n",
      "11. 17,4,17,3\n",
      "-----------------\n",
      "['A', 'B', 'C', 'D']\n",
      "['16', '3', '19', '5']\n",
      "['18', '2', '14', '1']\n",
      "['20', '1', '16', '3']\n",
      "['11', '1', '13', '1']\n",
      "['19', '4', '18', '3']\n",
      "['14', '2', '12', '1']\n",
      "['15', '3', '20', '4']\n",
      "['13', '2', '11', '2']\n",
      "['12', '3', '15', '2']\n",
      "['17', '4', '17', '3']\n"
     ]
    }
   ],
   "source": [
    "# It is a good idea to store the filename into a variable.\n",
    "# The variable can later become a function argument when the\n",
    "# code is converted to a function body.\n",
    "filename = 'exgrade.csv'\n",
    "\n",
    "# Using the newer with construct to close the file automatically.\n",
    "with open(filename) as f:\n",
    "    data = f.readlines()\n",
    "\n",
    "# Or using the older approach and closing the filea explicitly.\n",
    "# Here the data is re-read again, do not use both ;)\n",
    "f = open(filename)\n",
    "data = f.readlines()\n",
    "f.close()\n",
    "\n",
    "\n",
    "# The data is of the list type.  The Python list type is actually\n",
    "# a dynamic array. The lines contain also the \\n; hence the .rstrip()\n",
    "for n, line in enumerate(data, 1):\n",
    "    print '{:2}.'.format(n), line.rstrip()\n",
    "\n",
    "print '-----------------'\n",
    "\n",
    "# You can later iterate through the list for other purpose, for\n",
    "# example to read them via the csv.reader.\n",
    "import csv\n",
    "\n",
    "reader = csv.reader(data)\n",
    "for row in reader:\n",
    "    print row"
   ]
  },
  {
   "cell_type": "code",
   "execution_count": null,
   "metadata": {
    "collapsed": true
   },
   "outputs": [],
   "source": []
  }
 ],
 "metadata": {
  "kernelspec": {
   "display_name": "Python 2",
   "language": "python",
   "name": "python2"
  },
  "language_info": {
   "codemirror_mode": {
    "name": "ipython",
    "version": 2
   },
   "file_extension": ".py",
   "mimetype": "text/x-python",
   "name": "python",
   "nbconvert_exporter": "python",
   "pygments_lexer": "ipython2",
   "version": "2.7.11"
  }
 },
 "nbformat": 4,
 "nbformat_minor": 0
}
